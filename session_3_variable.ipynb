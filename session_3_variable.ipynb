{
 "cells": [
  {
   "cell_type": "markdown",
   "id": "bfaaed3c-5e9e-4d44-b3a6-7057dae512a9",
   "metadata": {},
   "source": [
    "# Variables"
   ]
  },
  {
   "cell_type": "markdown",
   "id": "e65d8131-a7de-4c33-8749-49e1bd198786",
   "metadata": {},
   "source": [
    "- Variables are used to store the data \n",
    "\n",
    "- The Data can be change\n",
    "\n",
    "- This vairables can be use to manipuate python code"
   ]
  },
  {
   "cell_type": "code",
   "execution_count": 1,
   "id": "7a24d893-4f4b-4263-9f25-bce6dd95202c",
   "metadata": {},
   "outputs": [
    {
     "data": {
      "text/plain": [
       "100"
      ]
     },
     "execution_count": 1,
     "metadata": {},
     "output_type": "execute_result"
    }
   ],
   "source": [
    "number = 100\n",
    "# 100 is stored in a variable called as number\n",
    "number"
   ]
  },
  {
   "cell_type": "code",
   "execution_count": 3,
   "id": "f35ada2f-0c32-4f05-9bdf-2e4cca194e25",
   "metadata": {},
   "outputs": [
    {
     "data": {
      "text/plain": [
       "200"
      ]
     },
     "execution_count": 3,
     "metadata": {},
     "output_type": "execute_result"
    }
   ],
   "source": [
    "NUMBER = 200\n",
    "NUMBER"
   ]
  },
  {
   "cell_type": "code",
   "execution_count": 4,
   "id": "e4c4d8cc-783c-47f8-8627-cb55df9fd69b",
   "metadata": {},
   "outputs": [
    {
     "data": {
      "text/plain": [
       "300"
      ]
     },
     "execution_count": 4,
     "metadata": {},
     "output_type": "execute_result"
    }
   ],
   "source": [
    "NUMber =300\n",
    "NUMber"
   ]
  },
  {
   "cell_type": "code",
   "execution_count": 5,
   "id": "f1dddb66-c9c9-4584-8d89-f73f686b8c46",
   "metadata": {},
   "outputs": [
    {
     "data": {
      "text/plain": [
       "(100, 200, 300)"
      ]
     },
     "execution_count": 5,
     "metadata": {},
     "output_type": "execute_result"
    }
   ],
   "source": [
    "number, NUMBER, NUMber"
   ]
  },
  {
   "cell_type": "code",
   "execution_count": 4,
   "id": "a9d6b7d8-b87b-4739-81bf-937233941ee7",
   "metadata": {},
   "outputs": [
    {
     "data": {
      "text/plain": [
       "400"
      ]
     },
     "execution_count": 4,
     "metadata": {},
     "output_type": "execute_result"
    }
   ],
   "source": [
    "number123 = 400\n",
    "number123"
   ]
  },
  {
   "cell_type": "code",
   "execution_count": 5,
   "id": "42bfacab-42ea-426a-ba70-1603811bb4e7",
   "metadata": {},
   "outputs": [
    {
     "ename": "SyntaxError",
     "evalue": "invalid decimal literal (1181908654.py, line 1)",
     "output_type": "error",
     "traceback": [
      "\u001b[1;36m  Cell \u001b[1;32mIn[5], line 1\u001b[1;36m\u001b[0m\n\u001b[1;33m    123number=500\u001b[0m\n\u001b[1;37m      ^\u001b[0m\n\u001b[1;31mSyntaxError\u001b[0m\u001b[1;31m:\u001b[0m invalid decimal literal\n"
     ]
    }
   ],
   "source": [
    "123number=500\n",
    "123number"
   ]
  },
  {
   "cell_type": "code",
   "execution_count": 6,
   "id": "5496674d-dc44-482c-b882-4a644f523ec7",
   "metadata": {},
   "outputs": [
    {
     "data": {
      "text/plain": [
       "400"
      ]
     },
     "execution_count": 6,
     "metadata": {},
     "output_type": "execute_result"
    }
   ],
   "source": [
    "# type first two letter enter tab\n",
    "\n",
    "number \n",
    "number123"
   ]
  },
  {
   "cell_type": "markdown",
   "id": "e8f76bcc-8867-49f7-9237-22968051376a",
   "metadata": {},
   "source": [
    "**Note**:\n",
    "\n",
    "  - Variables generally in black color\n",
    "\n",
    "  - Green color should not be a variables\n",
    "\n",
    "  - numbers as suffix can work\n",
    "\n",
    "  - number as prefix fail"
   ]
  },
  {
   "cell_type": "code",
   "execution_count": 10,
   "id": "5e8b741d-25bf-4d5d-8c3d-6c3fc996641c",
   "metadata": {},
   "outputs": [
    {
     "ename": "SyntaxError",
     "evalue": "invalid syntax (988349833.py, line 1)",
     "output_type": "error",
     "traceback": [
      "\u001b[1;36m  Cell \u001b[1;32mIn[10], line 1\u001b[1;36m\u001b[0m\n\u001b[1;33m    number$=600\u001b[0m\n\u001b[1;37m          ^\u001b[0m\n\u001b[1;31mSyntaxError\u001b[0m\u001b[1;31m:\u001b[0m invalid syntax\n"
     ]
    }
   ],
   "source": [
    "number$=600\n",
    "number$"
   ]
  },
  {
   "cell_type": "markdown",
   "id": "5c7bbaaa-c427-4cb8-885a-e6df93f3452d",
   "metadata": {},
   "source": [
    " - SPL CHARCATERS DOES NOT ALLOWED"
   ]
  },
  {
   "cell_type": "code",
   "execution_count": 11,
   "id": "5c53c312-6da9-47d5-8b09-2efd18bb40d3",
   "metadata": {},
   "outputs": [
    {
     "ename": "SyntaxError",
     "evalue": "invalid syntax (206056068.py, line 1)",
     "output_type": "error",
     "traceback": [
      "\u001b[1;36m  Cell \u001b[1;32mIn[11], line 1\u001b[1;36m\u001b[0m\n\u001b[1;33m    NUMBER ONE =200\u001b[0m\n\u001b[1;37m           ^\u001b[0m\n\u001b[1;31mSyntaxError\u001b[0m\u001b[1;31m:\u001b[0m invalid syntax\n"
     ]
    }
   ],
   "source": [
    "NUMBER ONE =200\n",
    "NUMBER ONE"
   ]
  },
  {
   "cell_type": "code",
   "execution_count": 12,
   "id": "2acb8b00-442d-46ca-84fb-617a93237cd3",
   "metadata": {},
   "outputs": [
    {
     "data": {
      "text/plain": [
       "300"
      ]
     },
     "execution_count": 12,
     "metadata": {},
     "output_type": "execute_result"
    }
   ],
   "source": [
    "number_one=300\n",
    "number_one"
   ]
  },
  {
   "cell_type": "markdown",
   "id": "a56156af-a658-4835-8b04-3c11c3feaabd",
   "metadata": {},
   "source": [
    "- underscore can use as variable"
   ]
  },
  {
   "cell_type": "markdown",
   "id": "969ab4c4-cd58-4bf4-94d9-2ac48def1251",
   "metadata": {},
   "source": [
    "numberone\n",
    "number_one"
   ]
  },
  {
   "cell_type": "code",
   "execution_count": 1,
   "id": "59b1affd-d7cd-459f-a76a-c86c207a7b6a",
   "metadata": {},
   "outputs": [
    {
     "data": {
      "text/plain": [
       "1000"
      ]
     },
     "execution_count": 1,
     "metadata": {},
     "output_type": "execute_result"
    }
   ],
   "source": [
    "_ = 1000\n",
    "_"
   ]
  }
 ],
 "metadata": {
  "kernelspec": {
   "display_name": "Python 3 (ipykernel)",
   "language": "python",
   "name": "python3"
  },
  "language_info": {
   "codemirror_mode": {
    "name": "ipython",
    "version": 3
   },
   "file_extension": ".py",
   "mimetype": "text/x-python",
   "name": "python",
   "nbconvert_exporter": "python",
   "pygments_lexer": "ipython3",
   "version": "3.12.7"
  }
 },
 "nbformat": 4,
 "nbformat_minor": 5
}
