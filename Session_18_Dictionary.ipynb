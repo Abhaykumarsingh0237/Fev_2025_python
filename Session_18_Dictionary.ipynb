{
 "cells": [
  {
   "cell_type": "code",
   "execution_count": 2,
   "id": "d017e4b0-050f-4083-940e-6b387c457c9c",
   "metadata": {},
   "outputs": [
    {
     "name": "stdout",
     "output_type": "stream",
     "text": [
      "Ramesh age is 20\n",
      "suresh age is 25\n",
      "sathish age is 30\n"
     ]
    }
   ],
   "source": [
    "names=['Ramesh','suresh','sathish']\n",
    "age=[20,25,30]\n",
    "# Ramesh age is 20\n",
    "# suresh age is 25\n",
    "for i in range(len(names)):\n",
    "    print(f\"{names[i]} age is {age[i]}\")"
   ]
  },
  {
   "cell_type": "markdown",
   "id": "caea0b7d-67e8-447e-babb-6980a5d6d698",
   "metadata": {},
   "source": [
    "## Zip"
   ]
  },
  {
   "cell_type": "code",
   "execution_count": 3,
   "id": "e55a949f-2e90-4785-a7f1-e29815ee5643",
   "metadata": {},
   "outputs": [
    {
     "name": "stdout",
     "output_type": "stream",
     "text": [
      "('Ramesh', 20)\n",
      "('suresh', 25)\n",
      "('sathish', 30)\n"
     ]
    }
   ],
   "source": [
    "names=['Ramesh','suresh','sathish']\n",
    "age=[20,25,30]\n",
    "for i in zip(names,age):\n",
    "    print(i)"
   ]
  },
  {
   "cell_type": "code",
   "execution_count": 3,
   "id": "3d7cc369-4761-4373-82c3-f0235f43f618",
   "metadata": {},
   "outputs": [
    {
     "name": "stdout",
     "output_type": "stream",
     "text": [
      "Ramesh 20 delhi\n",
      "Ramesh age is 20 address in delhi\n",
      "suresh 25 kanpur\n",
      "suresh age is 25 address in kanpur\n",
      "sathish 30 nagpur\n",
      "sathish age is 30 address in nagpur\n"
     ]
    }
   ],
   "source": [
    "names=['Ramesh','suresh','sathish']\n",
    "age=[20,25,30]\n",
    "address=['delhi', 'kanpur','nagpur']\n",
    "for i,j,k in zip(names,age,address):\n",
    "    print(i,j,k)\n",
    "    print(f\"{i} age is {j} address in {k}\")"
   ]
  },
  {
   "cell_type": "code",
   "execution_count": 6,
   "id": "32515aaa-74bc-4d80-b9f0-2b3c1b178821",
   "metadata": {},
   "outputs": [
    {
     "name": "stdout",
     "output_type": "stream",
     "text": [
      "['Ramesh', 'suresh', 'sathish'] [20, 25, 30]\n"
     ]
    }
   ],
   "source": [
    "names=['Ramesh','suresh','sathish']\n",
    "age=[20,25,30]\n",
    "print(names,age)"
   ]
  },
  {
   "cell_type": "markdown",
   "id": "d287059c-949f-47e9-9d24-b4c3f74606fe",
   "metadata": {},
   "source": [
    "**dictionary**\n",
    "\n",
    "- in above example names and age both are together \n",
    "- when both are together we can pair them \n",
    "- this can happen using dictionary\n",
    "- dictionary is calles as **key-value** pair\n",
    "- it represents with curly braces : **{key:value}**\n",
    "- ramesh and 20 years both are pair: {'ramesh':20}"
   ]
  },
  {
   "cell_type": "code",
   "execution_count": 5,
   "id": "77053a07-43f8-4e6c-bf87-66f9504cf007",
   "metadata": {},
   "outputs": [
    {
     "data": {
      "text/plain": [
       "{'Ramesh': 20, 'suresh': 25, 'sathsh': 30}"
      ]
     },
     "execution_count": 5,
     "metadata": {},
     "output_type": "execute_result"
    }
   ],
   "source": [
    "d1={'Ramesh':20 ,'suresh':25, 'sathsh':30}\n",
    "d1"
   ]
  },
  {
   "cell_type": "code",
   "execution_count": 7,
   "id": "9021cad2-72cb-42c9-adfe-721fe1e4463e",
   "metadata": {},
   "outputs": [
    {
     "data": {
      "text/plain": [
       "{20: 'ramesh', 25: 'suresh', 30: 'sathish'}"
      ]
     },
     "execution_count": 7,
     "metadata": {},
     "output_type": "execute_result"
    }
   ],
   "source": [
    "d2={20:'ramesh',25:'suresh',30:'sathish'}\n",
    "d2"
   ]
  },
  {
   "cell_type": "code",
   "execution_count": null,
   "id": "a9de37b3-5a11-4b85-94cd-6fa5be9799ea",
   "metadata": {},
   "outputs": [],
   "source": [
    "# start your imaginzation make a dictionary with many ways"
   ]
  },
  {
   "cell_type": "code",
   "execution_count": 10,
   "id": "fb084ee8-0848-4bda-8ef8-4731465eaab3",
   "metadata": {},
   "outputs": [
    {
     "data": {
      "text/plain": [
       "{'ramesh': 30}"
      ]
     },
     "execution_count": 10,
     "metadata": {},
     "output_type": "execute_result"
    }
   ],
   "source": [
    "d5={'ramesh': 20, 'ramesh':30}\n",
    "d5\n",
    "# lested value  are printed\n",
    "# dictionary kind database"
   ]
  },
  {
   "cell_type": "code",
   "execution_count": 2,
   "id": "70c93569-6718-4e03-bd01-3cdb435551be",
   "metadata": {},
   "outputs": [
    {
     "data": {
      "text/plain": [
       "{'ramesh': 20}"
      ]
     },
     "execution_count": 2,
     "metadata": {},
     "output_type": "execute_result"
    }
   ],
   "source": [
    "# dictionary kind database\n",
    "d5={'ramesh': 20, 'ramesh':20}\n",
    "d5"
   ]
  },
  {
   "cell_type": "code",
   "execution_count": 13,
   "id": "60435f77-c76f-45eb-bca5-c62ccf2e99d8",
   "metadata": {},
   "outputs": [
    {
     "data": {
      "text/plain": [
       "{'suresh': 20, 'ramesh': 20}"
      ]
     },
     "execution_count": 13,
     "metadata": {},
     "output_type": "execute_result"
    }
   ],
   "source": [
    "# dictionary doesnot allow duplicates\n",
    "d6={'suresh': 20, 'ramesh':20}\n",
    "d6"
   ]
  },
  {
   "cell_type": "code",
   "execution_count": 15,
   "id": "a613bd63-fe19-494e-a043-ed099c2a1267",
   "metadata": {},
   "outputs": [
    {
     "data": {
      "text/plain": [
       "{'suresh': 20, 'ramesh': 20}"
      ]
     },
     "execution_count": 15,
     "metadata": {},
     "output_type": "execute_result"
    }
   ],
   "source": [
    "# key can not duplicates but value can be  duplicates \n",
    "\n",
    "d7={'suresh': 20, 'ramesh':20}\n",
    "d7"
   ]
  },
  {
   "cell_type": "code",
   "execution_count": 4,
   "id": "89456687-4302-470f-bda6-1c574bb8cadc",
   "metadata": {},
   "outputs": [
    {
     "data": {
      "text/plain": [
       "{20: 'suresh'}"
      ]
     },
     "execution_count": 4,
     "metadata": {},
     "output_type": "execute_result"
    }
   ],
   "source": [
    "d8={20:'ramesh',20:'suresh'}\n",
    "d8"
   ]
  },
  {
   "cell_type": "code",
   "execution_count": 17,
   "id": "935774f2-bbda-4193-a90d-f8975e0bde71",
   "metadata": {},
   "outputs": [
    {
     "data": {
      "text/plain": [
       "{True: 'true'}"
      ]
     },
     "execution_count": 17,
     "metadata": {},
     "output_type": "execute_result"
    }
   ],
   "source": [
    "d9= {True :'true'}\n",
    "d9"
   ]
  },
  {
   "cell_type": "code",
   "execution_count": 18,
   "id": "4d15b27f-931d-472c-b314-c246c08916cf",
   "metadata": {},
   "outputs": [
    {
     "data": {
      "text/plain": [
       "{'fruites': ['Apple', 'banana']}"
      ]
     },
     "execution_count": 18,
     "metadata": {},
     "output_type": "execute_result"
    }
   ],
   "source": [
    "d10={'fruites': ['Apple','banana']}\n",
    "d10"
   ]
  },
  {
   "cell_type": "markdown",
   "id": "1bbaf197-4e67-4c4c-a8c6-31a5a73e2489",
   "metadata": {},
   "source": [
    "**list as key fails becuse list has a mutable behavivour**\n",
    "\n",
    "**tuple as keys works becuse tuple has immutable behaviour**\n",
    "    \n",
    "**in dictionary keys are very very important**\n",
    "    \n",
    "**keys does not  change so when we apply list is failin**"
   ]
  },
  {
   "cell_type": "code",
   "execution_count": 2,
   "id": "e8f36aba-19f3-4df5-8ef6-bd0d53deddbc",
   "metadata": {},
   "outputs": [
    {
     "data": {
      "text/plain": [
       "{'fruites': {'apple': 20}}"
      ]
     },
     "execution_count": 2,
     "metadata": {},
     "output_type": "execute_result"
    }
   ],
   "source": [
    "d14={'fruites': {'apple':20}}\n",
    "d14"
   ]
  },
  {
   "cell_type": "code",
   "execution_count": 3,
   "id": "5648b54e-0a9a-470c-a337-f13ac902e716",
   "metadata": {},
   "outputs": [
    {
     "ename": "TypeError",
     "evalue": "unhashable type: 'dict'",
     "output_type": "error",
     "traceback": [
      "\u001b[1;31m---------------------------------------------------------------------------\u001b[0m",
      "\u001b[1;31mTypeError\u001b[0m                                 Traceback (most recent call last)",
      "Cell \u001b[1;32mIn[3], line 1\u001b[0m\n\u001b[1;32m----> 1\u001b[0m d15\u001b[38;5;241m=\u001b[39m{{\u001b[38;5;124m'\u001b[39m\u001b[38;5;124mapple\u001b[39m\u001b[38;5;124m'\u001b[39m:\u001b[38;5;241m20\u001b[39m} :\u001b[38;5;124m'\u001b[39m\u001b[38;5;124mfruites\u001b[39m\u001b[38;5;124m'\u001b[39m}\n\u001b[0;32m      2\u001b[0m d15\n",
      "\u001b[1;31mTypeError\u001b[0m: unhashable type: 'dict'"
     ]
    }
   ],
   "source": [
    "d15={{'apple':20} :'fruites'}\n",
    "d15"
   ]
  },
  {
   "cell_type": "code",
   "execution_count": 8,
   "id": "85fe2a99-aad7-4f56-9d7e-716d32bab760",
   "metadata": {},
   "outputs": [],
   "source": [
    "dict1={'Apple':20,'Banana':30,'Cherry':50}\n",
    "dict2={'Apple':20,'apple':30}\n",
    "dict3={20:'Apple',30:'Banana',50:'Cherry'}\n",
    "\n",
    "# apply min max sum sorted reversed\n",
    "\n",
    "\n"
   ]
  },
  {
   "cell_type": "code",
   "execution_count": 9,
   "id": "987b1b1e-0f18-4084-b174-bfeaf020f8a5",
   "metadata": {},
   "outputs": [
    {
     "name": "stdout",
     "output_type": "stream",
     "text": [
      "Cherry\n",
      "Apple\n"
     ]
    }
   ],
   "source": [
    "print(max(dict1))\n",
    "print(min(dict1))"
   ]
  },
  {
   "cell_type": "code",
   "execution_count": 13,
   "id": "d56bd01f-e225-497b-a277-a74bd8a4c782",
   "metadata": {},
   "outputs": [
    {
     "ename": "TypeError",
     "evalue": "unsupported operand type(s) for +: 'int' and 'str'",
     "output_type": "error",
     "traceback": [
      "\u001b[1;31m---------------------------------------------------------------------------\u001b[0m",
      "\u001b[1;31mTypeError\u001b[0m                                 Traceback (most recent call last)",
      "Cell \u001b[1;32mIn[13], line 1\u001b[0m\n\u001b[1;32m----> 1\u001b[0m \u001b[38;5;28mprint\u001b[39m(\u001b[38;5;28msum\u001b[39m(dict1))\n",
      "\u001b[1;31mTypeError\u001b[0m: unsupported operand type(s) for +: 'int' and 'str'"
     ]
    }
   ],
   "source": [
    "print(sum(dict1))"
   ]
  },
  {
   "cell_type": "code",
   "execution_count": 16,
   "id": "0c93ab24-9d6a-4b50-b365-3c8d5aea4af3",
   "metadata": {},
   "outputs": [
    {
     "name": "stdout",
     "output_type": "stream",
     "text": [
      "['Apple', 'Banana', 'Cherry']\n"
     ]
    }
   ],
   "source": [
    "print(sorted(dict1))"
   ]
  },
  {
   "cell_type": "code",
   "execution_count": 21,
   "id": "66fc598b-18db-4498-8cd2-f1c4ce620591",
   "metadata": {},
   "outputs": [
    {
     "data": {
      "text/plain": [
       "['Cherry', 'Banana', 'Apple']"
      ]
     },
     "execution_count": 21,
     "metadata": {},
     "output_type": "execute_result"
    }
   ],
   "source": [
    "list(reversed(dict1))"
   ]
  },
  {
   "cell_type": "code",
   "execution_count": 10,
   "id": "21723082-ef63-4998-bc99-32c363d52dc6",
   "metadata": {},
   "outputs": [
    {
     "name": "stdout",
     "output_type": "stream",
     "text": [
      "apple\n",
      "Apple\n"
     ]
    }
   ],
   "source": [
    "print(max(dict2))\n",
    "print(min(dict2))"
   ]
  },
  {
   "cell_type": "code",
   "execution_count": 14,
   "id": "621aad57-d9b4-4aca-b3a9-53b680170fa2",
   "metadata": {},
   "outputs": [
    {
     "ename": "TypeError",
     "evalue": "unsupported operand type(s) for +: 'int' and 'str'",
     "output_type": "error",
     "traceback": [
      "\u001b[1;31m---------------------------------------------------------------------------\u001b[0m",
      "\u001b[1;31mTypeError\u001b[0m                                 Traceback (most recent call last)",
      "Cell \u001b[1;32mIn[14], line 1\u001b[0m\n\u001b[1;32m----> 1\u001b[0m \u001b[38;5;28mprint\u001b[39m(\u001b[38;5;28msum\u001b[39m(dict2))\n",
      "\u001b[1;31mTypeError\u001b[0m: unsupported operand type(s) for +: 'int' and 'str'"
     ]
    }
   ],
   "source": [
    "print(sum(dict2))"
   ]
  },
  {
   "cell_type": "code",
   "execution_count": 17,
   "id": "87f3140f-bca3-4af3-bd02-50920670f2a3",
   "metadata": {},
   "outputs": [
    {
     "name": "stdout",
     "output_type": "stream",
     "text": [
      "['Apple', 'apple']\n"
     ]
    }
   ],
   "source": [
    "print(sorted(dict2))"
   ]
  },
  {
   "cell_type": "code",
   "execution_count": 22,
   "id": "b920409b-fdb1-4b29-a709-71c93ce2677e",
   "metadata": {},
   "outputs": [
    {
     "data": {
      "text/plain": [
       "['apple', 'Apple']"
      ]
     },
     "execution_count": 22,
     "metadata": {},
     "output_type": "execute_result"
    }
   ],
   "source": [
    "list(reversed(dict2))"
   ]
  },
  {
   "cell_type": "code",
   "execution_count": 11,
   "id": "0e368f61-9188-4fa1-873b-03b7976abb3c",
   "metadata": {},
   "outputs": [
    {
     "name": "stdout",
     "output_type": "stream",
     "text": [
      "50\n",
      "20\n"
     ]
    }
   ],
   "source": [
    "print(max(dict3))\n",
    "print(min(dict3))"
   ]
  },
  {
   "cell_type": "code",
   "execution_count": 15,
   "id": "9484a177-6048-40cd-ab88-19f7cb9b2ea6",
   "metadata": {},
   "outputs": [
    {
     "name": "stdout",
     "output_type": "stream",
     "text": [
      "100\n"
     ]
    }
   ],
   "source": [
    "print(sum(dict3))"
   ]
  },
  {
   "cell_type": "code",
   "execution_count": 18,
   "id": "f7b4522f-4914-4266-899b-a15a6f34e09e",
   "metadata": {},
   "outputs": [
    {
     "name": "stdout",
     "output_type": "stream",
     "text": [
      "[20, 30, 50]\n"
     ]
    }
   ],
   "source": [
    "print(sorted(dict3))"
   ]
  },
  {
   "cell_type": "code",
   "execution_count": 23,
   "id": "732eebb2-5bdd-44b5-b7be-57f19bd2ac1a",
   "metadata": {},
   "outputs": [
    {
     "data": {
      "text/plain": [
       "[50, 30, 20]"
      ]
     },
     "execution_count": 23,
     "metadata": {},
     "output_type": "execute_result"
    }
   ],
   "source": [
    "list(reversed(dict3))"
   ]
  },
  {
   "cell_type": "code",
   "execution_count": 24,
   "id": "194f2891-c88e-46c8-9679-07c1674729c9",
   "metadata": {},
   "outputs": [
    {
     "data": {
      "text/plain": [
       "True"
      ]
     },
     "execution_count": 24,
     "metadata": {},
     "output_type": "execute_result"
    }
   ],
   "source": [
    "'Apple' in dict1 "
   ]
  },
  {
   "cell_type": "code",
   "execution_count": 25,
   "id": "901a75c9-f0a7-4d16-8548-0650ee9d9794",
   "metadata": {},
   "outputs": [
    {
     "data": {
      "text/plain": [
       "False"
      ]
     },
     "execution_count": 25,
     "metadata": {},
     "output_type": "execute_result"
    }
   ],
   "source": [
    "20 in dict1"
   ]
  },
  {
   "cell_type": "code",
   "execution_count": 26,
   "id": "840eb81b-c441-448e-87ab-4c469e35ee7b",
   "metadata": {},
   "outputs": [
    {
     "ename": "SyntaxError",
     "evalue": "illegal target for annotation (1635405859.py, line 1)",
     "output_type": "error",
     "traceback": [
      "\u001b[1;36m  Cell \u001b[1;32mIn[26], line 1\u001b[1;36m\u001b[0m\n\u001b[1;33m    'Apple':20 in dict1\u001b[0m\n\u001b[1;37m    ^\u001b[0m\n\u001b[1;31mSyntaxError\u001b[0m\u001b[1;31m:\u001b[0m illegal target for annotation\n"
     ]
    }
   ],
   "source": [
    "'Apple':20 in dict1"
   ]
  },
  {
   "cell_type": "code",
   "execution_count": 27,
   "id": "dd15b66f-7bf7-423c-9a89-26bf5edbcf67",
   "metadata": {},
   "outputs": [
    {
     "name": "stdout",
     "output_type": "stream",
     "text": [
      "Apple\n",
      "Banana\n",
      "Cherry\n"
     ]
    }
   ],
   "source": [
    "for i in dict1:\n",
    "    print(i)"
   ]
  },
  {
   "cell_type": "code",
   "execution_count": 30,
   "id": "228cf6d3-05a6-4bd9-9f0b-d41ac652820d",
   "metadata": {},
   "outputs": [
    {
     "name": "stdout",
     "output_type": "stream",
     "text": [
      "0\n",
      "1\n",
      "2\n"
     ]
    }
   ],
   "source": [
    "for i in range(len(dict1)):\n",
    "    print(i)"
   ]
  },
  {
   "cell_type": "markdown",
   "id": "1e33ee5d-219d-403b-9243-de1cf51c70e7",
   "metadata": {},
   "source": [
    "**index**"
   ]
  },
  {
   "cell_type": "code",
   "execution_count": 31,
   "id": "393ebe56-a6fc-427c-8354-893eb507b668",
   "metadata": {},
   "outputs": [
    {
     "data": {
      "text/plain": [
       "10"
      ]
     },
     "execution_count": 31,
     "metadata": {},
     "output_type": "execute_result"
    }
   ],
   "source": [
    "l1=[10,20,30]\n",
    "l1[0]"
   ]
  },
  {
   "cell_type": "code",
   "execution_count": 32,
   "id": "455c02b4-059d-4abd-beab-6482bd852527",
   "metadata": {},
   "outputs": [
    {
     "data": {
      "text/plain": [
       "'p'"
      ]
     },
     "execution_count": 32,
     "metadata": {},
     "output_type": "execute_result"
    }
   ],
   "source": [
    "str1='python'\n",
    "str1[0]"
   ]
  },
  {
   "cell_type": "code",
   "execution_count": 33,
   "id": "0825b425-657e-462e-ae57-f96777c1dd13",
   "metadata": {},
   "outputs": [
    {
     "ename": "KeyError",
     "evalue": "0",
     "output_type": "error",
     "traceback": [
      "\u001b[1;31m---------------------------------------------------------------------------\u001b[0m",
      "\u001b[1;31mKeyError\u001b[0m                                  Traceback (most recent call last)",
      "Cell \u001b[1;32mIn[33], line 2\u001b[0m\n\u001b[0;32m      1\u001b[0m dict1\u001b[38;5;241m=\u001b[39m{\u001b[38;5;124m'\u001b[39m\u001b[38;5;124mApple\u001b[39m\u001b[38;5;124m'\u001b[39m:\u001b[38;5;241m20\u001b[39m,\u001b[38;5;124m'\u001b[39m\u001b[38;5;124mBanana\u001b[39m\u001b[38;5;124m'\u001b[39m:\u001b[38;5;241m30\u001b[39m,\u001b[38;5;124m'\u001b[39m\u001b[38;5;124mChery\u001b[39m\u001b[38;5;124m'\u001b[39m:\u001b[38;5;241m40\u001b[39m}\n\u001b[1;32m----> 2\u001b[0m dict1[\u001b[38;5;241m0\u001b[39m]\n",
      "\u001b[1;31mKeyError\u001b[0m: 0"
     ]
    }
   ],
   "source": [
    "dict1={'Apple':20,'Banana':30,'Chery':40}\n",
    "dict1[0]"
   ]
  },
  {
   "cell_type": "markdown",
   "id": "a6e1292f-2d9d-4e88-8561-20f609210d52",
   "metadata": {},
   "source": [
    "**key error**"
   ]
  },
  {
   "cell_type": "code",
   "execution_count": 34,
   "id": "aee454fd-c206-43b8-9f28-16cc9a941933",
   "metadata": {},
   "outputs": [
    {
     "ename": "KeyError",
     "evalue": "1",
     "output_type": "error",
     "traceback": [
      "\u001b[1;31m---------------------------------------------------------------------------\u001b[0m",
      "\u001b[1;31mKeyError\u001b[0m                                  Traceback (most recent call last)",
      "Cell \u001b[1;32mIn[34], line 2\u001b[0m\n\u001b[0;32m      1\u001b[0m dict1\u001b[38;5;241m=\u001b[39m{\u001b[38;5;124m'\u001b[39m\u001b[38;5;124mApple\u001b[39m\u001b[38;5;124m'\u001b[39m:\u001b[38;5;241m20\u001b[39m,\u001b[38;5;124m'\u001b[39m\u001b[38;5;124mBanana\u001b[39m\u001b[38;5;124m'\u001b[39m:\u001b[38;5;241m30\u001b[39m,\u001b[38;5;124m'\u001b[39m\u001b[38;5;124mChery\u001b[39m\u001b[38;5;124m'\u001b[39m:\u001b[38;5;241m40\u001b[39m}\n\u001b[1;32m----> 2\u001b[0m dict1[\u001b[38;5;241m1\u001b[39m]\n",
      "\u001b[1;31mKeyError\u001b[0m: 1"
     ]
    }
   ],
   "source": [
    "dict1={'Apple':20,'Banana':30,'Chery':40}\n",
    "dict1[1]"
   ]
  },
  {
   "cell_type": "markdown",
   "id": "ba0377df-fded-4129-abfa-a894e2cfbd8c",
   "metadata": {},
   "source": [
    "**how to extract the values**\n",
    "- in dictionary we have a concept key : value pair\n",
    "- key are very important\n",
    "- in order to get the values we need to take key helps"
   ]
  },
  {
   "cell_type": "code",
   "execution_count": 38,
   "id": "9766ec20-9daf-4136-bc61-54e43f866339",
   "metadata": {},
   "outputs": [
    {
     "data": {
      "text/plain": [
       "20"
      ]
     },
     "execution_count": 38,
     "metadata": {},
     "output_type": "execute_result"
    }
   ],
   "source": [
    "dict1={'Apple':20,'Banana':30,'Chery':40}\n",
    "dict1['Apple']"
   ]
  },
  {
   "cell_type": "code",
   "execution_count": 37,
   "id": "df102f20-b503-498b-b940-ca284643df11",
   "metadata": {},
   "outputs": [
    {
     "data": {
      "text/plain": [
       "30"
      ]
     },
     "execution_count": 37,
     "metadata": {},
     "output_type": "execute_result"
    }
   ],
   "source": [
    "dict1={'Apple':20,'Banana':30,'Chery':40}\n",
    "dict1['Banana']\n"
   ]
  },
  {
   "cell_type": "code",
   "execution_count": 39,
   "id": "97ab4902-ad91-4ad5-9e44-8dfed2ae6269",
   "metadata": {},
   "outputs": [
    {
     "data": {
      "text/plain": [
       "40"
      ]
     },
     "execution_count": 39,
     "metadata": {},
     "output_type": "execute_result"
    }
   ],
   "source": [
    "dict1={'Apple':20,'Banana':30,'Chery':40}\n",
    "dict1['Chery']"
   ]
  },
  {
   "cell_type": "code",
   "execution_count": 41,
   "id": "5a231841-05c8-4bc8-9d68-41ee49fb68af",
   "metadata": {},
   "outputs": [
    {
     "name": "stdout",
     "output_type": "stream",
     "text": [
      "Apple 20\n",
      "Banana 30\n",
      "Chery 40\n"
     ]
    }
   ],
   "source": [
    "for i in dict1:\n",
    "    print(i,dict1[i])"
   ]
  },
  {
   "cell_type": "code",
   "execution_count": 48,
   "id": "db1fc7e2-49ab-4b26-bea6-16fa5ac889dd",
   "metadata": {},
   "outputs": [
    {
     "name": "stdout",
     "output_type": "stream",
     "text": [
      "Ramesh is age 20\n",
      "suresh is age 30\n",
      "sathish is age 40\n"
     ]
    }
   ],
   "source": [
    "# names=['Ramesh','suresh','sathish']\n",
    "# age=[20,25,30]\n",
    "\n",
    "names={'Ramesh':20,'suresh':30,'sathish':40}\n",
    "\n",
    "for i in names:\n",
    "    print(f\"{i} is age {names[i]}\")"
   ]
  },
  {
   "cell_type": "code",
   "execution_count": 50,
   "id": "103f1220-0a85-4a1a-84c0-f7af3d7d6878",
   "metadata": {},
   "outputs": [
    {
     "name": "stdout",
     "output_type": "stream",
     "text": [
      "Ramesh age is 20\n",
      "suresh age is 30\n",
      "sathish age is 40\n"
     ]
    }
   ],
   "source": [
    "names={'Ramesh':20,'suresh':30,'sathish':40}\n",
    "for key in names:\n",
    "    value=names[key]\n",
    "    print(f\"{key} age is {value}\")"
   ]
  },
  {
   "cell_type": "code",
   "execution_count": 55,
   "id": "c8b13e40-e06d-4058-92e4-55251d4b6c3d",
   "metadata": {},
   "outputs": [
    {
     "data": {
      "text/plain": [
       "'Cherry'"
      ]
     },
     "execution_count": 55,
     "metadata": {},
     "output_type": "execute_result"
    }
   ],
   "source": [
    "d={'Fruites':['Apple','Banana','Cherry']}\n",
    "# get Chery\n",
    "d['Fruites']\n",
    "d['Fruites'][2]"
   ]
  },
  {
   "cell_type": "code",
   "execution_count": 60,
   "id": "c1634fc7-8163-4bdc-bd3a-81d8194f61bb",
   "metadata": {},
   "outputs": [
    {
     "data": {
      "text/plain": [
       "'green'"
      ]
     },
     "execution_count": 60,
     "metadata": {},
     "output_type": "execute_result"
    }
   ],
   "source": [
    "d={'Fruites':{'Apple':['sweet','sour','green']}}\n",
    "d['Fruites']['Apple'][2]"
   ]
  },
  {
   "cell_type": "code",
   "execution_count": 68,
   "id": "ab306f9b-6b46-46d9-a2ad-6d3af53f7477",
   "metadata": {},
   "outputs": [
    {
     "data": {
      "text/plain": [
       "'green'"
      ]
     },
     "execution_count": 68,
     "metadata": {},
     "output_type": "execute_result"
    }
   ],
   "source": [
    "d={'Fruites':{'Apple':['sweet','sour','green']}}\n",
    "len(d['Fruites'])\n",
    "len(d['Fruites']['Apple'])\n",
    "d['Fruites']['Apple'][2]"
   ]
  },
  {
   "cell_type": "code",
   "execution_count": 71,
   "id": "93a4b3cb-1e17-4f4f-8c70-23d8002f69a9",
   "metadata": {},
   "outputs": [
    {
     "data": {
      "text/plain": [
       "50"
      ]
     },
     "execution_count": 71,
     "metadata": {},
     "output_type": "execute_result"
    }
   ],
   "source": [
    "d={'fruites':[{'cost':[50]}]}\n",
    "d['fruites'][0]['cost'][0]"
   ]
  },
  {
   "cell_type": "code",
   "execution_count": 78,
   "id": "fe1a009a-9e73-4c9e-af93-a518955254a5",
   "metadata": {},
   "outputs": [
    {
     "data": {
      "text/plain": [
       "50"
      ]
     },
     "execution_count": 78,
     "metadata": {},
     "output_type": "execute_result"
    }
   ],
   "source": [
    "d={'fruites':[{'cost':[50]}]}\n",
    "d['fruites']  # list \n",
    "d['fruites'][0] # dict\n",
    "d['fruites'][0]['cost'] # list\n",
    "d['fruites'][0]['cost'][0]"
   ]
  },
  {
   "cell_type": "code",
   "execution_count": 84,
   "id": "c548d114-bceb-444a-81ac-90ba2e9065f1",
   "metadata": {},
   "outputs": [
    {
     "data": {
      "text/plain": [
       "40"
      ]
     },
     "execution_count": 84,
     "metadata": {},
     "output_type": "execute_result"
    }
   ],
   "source": [
    "d={'fruites':['Apple'],'Cost':[{'1kg':[20,30,40],'2kg':None}]}\n",
    "d['Cost'][0]['1kg'][2]"
   ]
  },
  {
   "cell_type": "code",
   "execution_count": 88,
   "id": "b2ad1a8d-46be-4bec-a79d-4902dcb1b9b3",
   "metadata": {},
   "outputs": [],
   "source": [
    "d['Cost'][0]['2kg']"
   ]
  },
  {
   "cell_type": "code",
   "execution_count": 94,
   "id": "92357433-d289-460e-905f-d215c591774e",
   "metadata": {},
   "outputs": [
    {
     "data": {
      "text/plain": [
       "40"
      ]
     },
     "execution_count": 94,
     "metadata": {},
     "output_type": "execute_result"
    }
   ],
   "source": [
    "d={'fruites':['Apple'],'Cost':[{'1kg':[20,30,40],'2kg':None}]}\n",
    "len(d)\n",
    "len(d['Cost'])\n",
    "d['Cost'][0]['1kg'][2]"
   ]
  },
  {
   "cell_type": "code",
   "execution_count": 95,
   "id": "32ad5942-7774-4d79-a6c1-242b0eb7681c",
   "metadata": {},
   "outputs": [
    {
     "data": {
      "text/plain": [
       "{'fruites': {'orange': {'nagpur': {'MH': {'king': {'shivaji': {'shambaji'}}}}}}}"
      ]
     },
     "execution_count": 95,
     "metadata": {},
     "output_type": "execute_result"
    }
   ],
   "source": [
    "d={'fruites':{'orange':{'nagpur':{'MH':{'king':{'shivaji':{'shambaji'}}}}}}}\n",
    "d"
   ]
  },
  {
   "cell_type": "code",
   "execution_count": 96,
   "id": "7c970c09-1200-48fd-af56-0f67f6daa499",
   "metadata": {},
   "outputs": [
    {
     "data": {
      "text/plain": [
       "1"
      ]
     },
     "execution_count": 96,
     "metadata": {},
     "output_type": "execute_result"
    }
   ],
   "source": [
    "len(d)"
   ]
  },
  {
   "cell_type": "code",
   "execution_count": 110,
   "id": "f356ff74-eb5e-4cbb-92d5-ad3c935e6d3b",
   "metadata": {},
   "outputs": [
    {
     "data": {
      "text/plain": [
       "{'shambaji'}"
      ]
     },
     "execution_count": 110,
     "metadata": {},
     "output_type": "execute_result"
    }
   ],
   "source": [
    "d['fruites']['orange']['nagpur']['MH']['king']['shivaji']"
   ]
  },
  {
   "cell_type": "markdown",
   "id": "c5ea5203-b837-422c-b1ca-bde2b06b73a9",
   "metadata": {},
   "source": [
    "**how to create an empty dictionary**\n",
    "- now onwords foces on creation of empty list, string , and dictionary\n",
    "- we will take empty list will use append operation\n",
    "- we will take empty string will use conactenation\n",
    "- we will take empty dictionar will use key: value pair concept"
   ]
  },
  {
   "cell_type": "code",
   "execution_count": 112,
   "id": "621d398d-26bb-4a22-bb7b-b8197c631bc0",
   "metadata": {},
   "outputs": [
    {
     "data": {
      "text/plain": [
       "[10, 20]"
      ]
     },
     "execution_count": 112,
     "metadata": {},
     "output_type": "execute_result"
    }
   ],
   "source": [
    "# list\n",
    "l=[]\n",
    "l.append(10)\n",
    "l.append(20)\n",
    "l"
   ]
  },
  {
   "cell_type": "code",
   "execution_count": 113,
   "id": "9214793a-6973-45c9-995a-bd709e02986f",
   "metadata": {},
   "outputs": [
    {
     "data": {
      "text/plain": [
       "'py'"
      ]
     },
     "execution_count": 113,
     "metadata": {},
     "output_type": "execute_result"
    }
   ],
   "source": [
    "# strings\n",
    "s=''\n",
    "s=s+'p'\n",
    "s=s+'y'\n",
    "s"
   ]
  },
  {
   "cell_type": "code",
   "execution_count": 116,
   "id": "150b1ba6-5615-4f3a-b1d2-f89566ffb910",
   "metadata": {},
   "outputs": [
    {
     "data": {
      "text/plain": [
       "{'Ramesh': 30, 'Suresh': 25, 'Sathish': 30}"
      ]
     },
     "execution_count": 116,
     "metadata": {},
     "output_type": "execute_result"
    }
   ],
   "source": [
    "# dictionary\n",
    "d={}\n",
    "d['Ramesh']=30\n",
    "d['Suresh']=25\n",
    "d['Sathish']=30\n",
    "d\n",
    "\n",
    "# d[key]=value\n",
    "# d[i]=j"
   ]
  },
  {
   "cell_type": "code",
   "execution_count": 115,
   "id": "8869fd8a-534d-4701-bc1f-825b436fd394",
   "metadata": {},
   "outputs": [
    {
     "data": {
      "text/plain": [
       "{'Suresh': 30}"
      ]
     },
     "execution_count": 115,
     "metadata": {},
     "output_type": "execute_result"
    }
   ],
   "source": [
    "d={}\n",
    "d['Suresh']=30\n",
    "d"
   ]
  },
  {
   "cell_type": "markdown",
   "id": "4e2c31dc-52e5-4895-b06b-915ebefdc012",
   "metadata": {},
   "source": [
    "**How to convert list to dictionary**"
   ]
  },
  {
   "cell_type": "code",
   "execution_count": 122,
   "id": "d519a442-8211-4d3e-9078-9bea347f5aba",
   "metadata": {},
   "outputs": [
    {
     "data": {
      "text/plain": [
       "{'Ramesh': 20, 'Suresh': 25, 'Sathish': 30}"
      ]
     },
     "execution_count": 122,
     "metadata": {},
     "output_type": "execute_result"
    }
   ],
   "source": [
    "names=['Ramesh', 'Suresh', 'Sathish']    # i\n",
    "age=[20,25,30] # j\n",
    "dict1={}\n",
    "for i,j in zip(names,age):\n",
    "    dict1[i]=j\n",
    "dict1"
   ]
  },
  {
   "cell_type": "markdown",
   "id": "8496e815-5f09-410e-bd1a-0c1c1fe0d9b7",
   "metadata": {},
   "source": [
    "**dictionary comprehension**\n",
    "\n",
    "- for list comprehension we written everything inside list\n",
    "- for dict comprehension we should write everything inside dictionary"
   ]
  },
  {
   "cell_type": "code",
   "execution_count": null,
   "id": "7473fdb3-bd7b-47f5-ad62-10b4d4ce3858",
   "metadata": {},
   "outputs": [],
   "source": [
    "# list comprehension : [<output> <forloop>]\n",
    "# dict comprehension : {key: value <forloop>}"
   ]
  },
  {
   "cell_type": "code",
   "execution_count": 126,
   "id": "216fd6d7-c348-4d0c-b614-234fcf159bb3",
   "metadata": {},
   "outputs": [
    {
     "data": {
      "text/plain": [
       "{'Ramesh': 20, 'Suresh': 25, 'Sathish': 30}"
      ]
     },
     "execution_count": 126,
     "metadata": {},
     "output_type": "execute_result"
    }
   ],
   "source": [
    "dict1={i:j for i,j in zip(names,age)}\n",
    "dict1"
   ]
  },
  {
   "cell_type": "markdown",
   "id": "e805a9fe-1dff-4633-94c8-46b5c504cde1",
   "metadata": {},
   "source": [
    "**mutable - inmutable**\n",
    "\n",
    "- list are mutable\n",
    "- dict are also mutable\n",
    "- string immutable\n",
    "- tuple immutable\n",
    "- in dictionary we can change the value using keys\n",
    "- in dict we can change the value using keys"
   ]
  },
  {
   "cell_type": "code",
   "execution_count": 130,
   "id": "78cedb76-551b-4659-955b-77fb26bfe02f",
   "metadata": {},
   "outputs": [
    {
     "data": {
      "text/plain": [
       "{'Ramesh': 35, 'Suresh': 25, 'Sathish': 30}"
      ]
     },
     "execution_count": 130,
     "metadata": {},
     "output_type": "execute_result"
    }
   ],
   "source": [
    "d={'Ramesh': 20, 'Suresh': 25, 'Sathish': 30}\n",
    "d['Ramesh']=35\n",
    "d"
   ]
  },
  {
   "cell_type": "code",
   "execution_count": 131,
   "id": "e9f7c63c-9479-4672-9d33-d23faa183eeb",
   "metadata": {},
   "outputs": [
    {
     "data": {
      "text/plain": [
       "['__class__',\n",
       " '__class_getitem__',\n",
       " '__contains__',\n",
       " '__delattr__',\n",
       " '__delitem__',\n",
       " '__dir__',\n",
       " '__doc__',\n",
       " '__eq__',\n",
       " '__format__',\n",
       " '__ge__',\n",
       " '__getattribute__',\n",
       " '__getitem__',\n",
       " '__getstate__',\n",
       " '__gt__',\n",
       " '__hash__',\n",
       " '__init__',\n",
       " '__init_subclass__',\n",
       " '__ior__',\n",
       " '__iter__',\n",
       " '__le__',\n",
       " '__len__',\n",
       " '__lt__',\n",
       " '__ne__',\n",
       " '__new__',\n",
       " '__or__',\n",
       " '__reduce__',\n",
       " '__reduce_ex__',\n",
       " '__repr__',\n",
       " '__reversed__',\n",
       " '__ror__',\n",
       " '__setattr__',\n",
       " '__setitem__',\n",
       " '__sizeof__',\n",
       " '__str__',\n",
       " '__subclasshook__',\n",
       " 'clear',\n",
       " 'copy',\n",
       " 'fromkeys',\n",
       " 'get',\n",
       " 'items',\n",
       " 'keys',\n",
       " 'pop',\n",
       " 'popitem',\n",
       " 'setdefault',\n",
       " 'update',\n",
       " 'values']"
      ]
     },
     "execution_count": 131,
     "metadata": {},
     "output_type": "execute_result"
    }
   ],
   "source": [
    "dir({})"
   ]
  },
  {
   "cell_type": "markdown",
   "id": "66bc1f53-dd53-474f-b642-b76a856a5d29",
   "metadata": {},
   "source": [
    "- clear\n",
    "- copy\n",
    "- keys\n",
    "- values\n",
    "- items"
   ]
  },
  {
   "cell_type": "code",
   "execution_count": 1,
   "id": "b098029d-59da-4344-8e1d-ad296f5130fc",
   "metadata": {},
   "outputs": [
    {
     "name": "stdout",
     "output_type": "stream",
     "text": [
      "{}\n"
     ]
    }
   ],
   "source": [
    "# clear\n",
    "d={'Ramesh': 20, 'Suresh': 25, 'Sathish': 30}\n",
    "d.clear()\n",
    "print(d)"
   ]
  },
  {
   "cell_type": "code",
   "execution_count": 7,
   "id": "f5acf94f-0327-4297-b0d7-a7ab52de44ae",
   "metadata": {},
   "outputs": [
    {
     "data": {
      "text/plain": [
       "{'Ramesh': 20, 'Suresh': 25, 'Sathish': 30}"
      ]
     },
     "execution_count": 7,
     "metadata": {},
     "output_type": "execute_result"
    }
   ],
   "source": [
    "# copy\n",
    "d1={'Ramesh': 20, 'Suresh': 25, 'Sathish': 30}\n",
    "d2=d1.copy()\n",
    "d2"
   ]
  },
  {
   "cell_type": "code",
   "execution_count": 8,
   "id": "b695f3ae-9012-4df9-97a1-9145d71f35fc",
   "metadata": {},
   "outputs": [
    {
     "name": "stdout",
     "output_type": "stream",
     "text": [
      "Ramesh\n",
      "Suresh\n",
      "Sathish\n"
     ]
    }
   ],
   "source": [
    "# keys\n",
    "d1={'Ramesh': 20, 'Suresh': 25, 'Sathish': 30}\n",
    "for i in d1:\n",
    "    print(i)"
   ]
  },
  {
   "cell_type": "code",
   "execution_count": 9,
   "id": "6b0b9a44-6a63-45aa-90d7-156a202a7352",
   "metadata": {},
   "outputs": [
    {
     "name": "stdout",
     "output_type": "stream",
     "text": [
      "20\n",
      "25\n",
      "30\n"
     ]
    }
   ],
   "source": [
    "# values\n",
    "d1={'Ramesh': 20, 'Suresh': 25, 'Sathish': 30}\n",
    "for i in d1:\n",
    "    print(d1[i])"
   ]
  },
  {
   "cell_type": "code",
   "execution_count": 10,
   "id": "82c4ab1e-f2e8-460b-adb1-1347a99d89b8",
   "metadata": {},
   "outputs": [
    {
     "data": {
      "text/plain": [
       "dict_items([('Ramesh', 20), ('Suresh', 25), ('Sathish', 30)])"
      ]
     },
     "execution_count": 10,
     "metadata": {},
     "output_type": "execute_result"
    }
   ],
   "source": [
    "# items\n",
    "d1.items()"
   ]
  },
  {
   "cell_type": "code",
   "execution_count": 2,
   "id": "60f37273-f317-412e-9574-fcfee0332aa9",
   "metadata": {},
   "outputs": [
    {
     "ename": "NameError",
     "evalue": "name 'd1' is not defined",
     "output_type": "error",
     "traceback": [
      "\u001b[1;31m---------------------------------------------------------------------------\u001b[0m",
      "\u001b[1;31mNameError\u001b[0m                                 Traceback (most recent call last)",
      "Cell \u001b[1;32mIn[2], line 1\u001b[0m\n\u001b[1;32m----> 1\u001b[0m keys\u001b[38;5;241m=\u001b[39md1\u001b[38;5;241m.\u001b[39mkeys()\n",
      "\u001b[1;31mNameError\u001b[0m: name 'd1' is not defined"
     ]
    }
   ],
   "source": [
    "keys=d1.keys()"
   ]
  },
  {
   "cell_type": "code",
   "execution_count": 1,
   "id": "fd7fb4d5-1e74-44c5-a380-c23cb465b586",
   "metadata": {},
   "outputs": [
    {
     "ename": "NameError",
     "evalue": "name 'keys' is not defined",
     "output_type": "error",
     "traceback": [
      "\u001b[1;31m---------------------------------------------------------------------------\u001b[0m",
      "\u001b[1;31mNameError\u001b[0m                                 Traceback (most recent call last)",
      "Cell \u001b[1;32mIn[1], line 1\u001b[0m\n\u001b[1;32m----> 1\u001b[0m \u001b[38;5;28mtype\u001b[39m(keys)\n",
      "\u001b[1;31mNameError\u001b[0m: name 'keys' is not defined"
     ]
    }
   ],
   "source": [
    "type(keys)"
   ]
  },
  {
   "cell_type": "code",
   "execution_count": 12,
   "id": "c2792e96-69ac-4e36-b09c-07a9ad83ea8d",
   "metadata": {},
   "outputs": [
    {
     "data": {
      "text/plain": [
       "dict_values([20, 25, 30])"
      ]
     },
     "execution_count": 12,
     "metadata": {},
     "output_type": "execute_result"
    }
   ],
   "source": [
    "d1.values()"
   ]
  },
  {
   "cell_type": "code",
   "execution_count": 13,
   "id": "6bd6e7b1-063d-4ff6-922e-facd4d607fca",
   "metadata": {},
   "outputs": [],
   "source": [
    "d1.clear()"
   ]
  },
  {
   "cell_type": "code",
   "execution_count": 14,
   "id": "f7a0687f-61a5-4ac7-96f3-d40899ba1f40",
   "metadata": {},
   "outputs": [
    {
     "data": {
      "text/plain": [
       "{}"
      ]
     },
     "execution_count": 14,
     "metadata": {},
     "output_type": "execute_result"
    }
   ],
   "source": [
    "d1.copy()"
   ]
  },
  {
   "cell_type": "code",
   "execution_count": null,
   "id": "5c3f2c68-3e8e-48f2-98f2-6b9652a4f009",
   "metadata": {},
   "outputs": [],
   "source": [
    "d={Ramesh':20, 'Suresh}"
   ]
  },
  {
   "cell_type": "code",
   "execution_count": null,
   "id": "00815021-88c5-48f7-8e2a-6fe5d846216f",
   "metadata": {},
   "outputs": [],
   "source": []
  },
  {
   "cell_type": "code",
   "execution_count": null,
   "id": "212f69d1-10e7-448b-b511-f143313c8637",
   "metadata": {},
   "outputs": [],
   "source": []
  },
  {
   "cell_type": "code",
   "execution_count": null,
   "id": "9fd61bf5-e40a-4c00-9056-f9a1121dd3d7",
   "metadata": {},
   "outputs": [],
   "source": [
    "# i got mistaken im assuming this is list type\n",
    "keys.count('Ramesh')"
   ]
  },
  {
   "cell_type": "markdown",
   "id": "340bbb58-abc1-477f-844b-225d81455779",
   "metadata": {},
   "source": [
    "**Convert dictionary to list**\n",
    "- in order to convert dictionary to list\n",
    "- first we need to seperate keys and values\n",
    "- then apply list type casting"
   ]
  },
  {
   "cell_type": "code",
   "execution_count": 4,
   "id": "888f1369-78e3-4e52-8526-53f18728f2ef",
   "metadata": {},
   "outputs": [
    {
     "data": {
      "text/plain": [
       "['ramesh', 'suresh', 'sathish']"
      ]
     },
     "execution_count": 4,
     "metadata": {},
     "output_type": "execute_result"
    }
   ],
   "source": [
    "d={'ramesh':20, 'suresh':30, 'sathish':40}\n",
    "keys=d.keys()\n",
    "keys_list=list(keys)\n",
    "keys_list"
   ]
  },
  {
   "cell_type": "code",
   "execution_count": 5,
   "id": "e7ddfd14-1deb-470b-8a57-2d70a2bd23cd",
   "metadata": {},
   "outputs": [
    {
     "data": {
      "text/plain": [
       "[20, 30, 40]"
      ]
     },
     "execution_count": 5,
     "metadata": {},
     "output_type": "execute_result"
    }
   ],
   "source": [
    "d={'ramesh':20, 'suresh':30, 'sathish':40}\n",
    "values=d.values()\n",
    "values_list=list(values)\n",
    "values_list"
   ]
  },
  {
   "cell_type": "code",
   "execution_count": 6,
   "id": "fac83577-6d5d-40c7-a59c-22a87fc4dc50",
   "metadata": {},
   "outputs": [
    {
     "data": {
      "text/plain": [
       "[('ramesh', 20), ('suresh', 30), ('sathish', 40)]"
      ]
     },
     "execution_count": 6,
     "metadata": {},
     "output_type": "execute_result"
    }
   ],
   "source": [
    "d={'ramesh':20, 'suresh':30, 'sathish':40}\n",
    "items=d.items()\n",
    "items_list=list(items)\n",
    "items_list"
   ]
  },
  {
   "cell_type": "code",
   "execution_count": 7,
   "id": "7452bdfa-f605-4061-9523-cf25e53fcde9",
   "metadata": {},
   "outputs": [
    {
     "data": {
      "text/plain": [
       "(list, dict_keys)"
      ]
     },
     "execution_count": 7,
     "metadata": {},
     "output_type": "execute_result"
    }
   ],
   "source": [
    "type(keys_list),type(keys)"
   ]
  },
  {
   "cell_type": "code",
   "execution_count": 11,
   "id": "2d573583-97a6-4b5c-ac82-72ee1ff7eb9d",
   "metadata": {},
   "outputs": [
    {
     "data": {
      "text/plain": [
       "1"
      ]
     },
     "execution_count": 11,
     "metadata": {},
     "output_type": "execute_result"
    }
   ],
   "source": [
    "keys_list.count('ramesh')"
   ]
  },
  {
   "cell_type": "code",
   "execution_count": null,
   "id": "10c2667e-e111-4842-a050-3ad98aa1cd64",
   "metadata": {},
   "outputs": [],
   "source": [
    "list === string using join\n",
    "string === list using split\n",
    "list === dict  using zip\n",
    "dict === list   using typecasting"
   ]
  },
  {
   "cell_type": "code",
   "execution_count": 22,
   "id": "567e45cb-f947-4154-b947-6ed84c3f7097",
   "metadata": {},
   "outputs": [
    {
     "data": {
      "text/plain": [
       "{'Fname': ['virat', 'rohit', 'ms'],\n",
       " 'Sname': ['kohli', 'sharma', 'dhoni'],\n",
       " 'Cname': ['rcb', 'mi', 'csk']}"
      ]
     },
     "execution_count": 22,
     "metadata": {},
     "output_type": "execute_result"
    }
   ],
   "source": [
    "# input = 'virt.kohli@rcb.com;rohit.sharma@mi.com;ms.dhoni@csk.com'\n",
    "# output= {firstname': ['virat','rohit','ms'],\n",
    "#          'secondname':['kohli','sharma','dhoni']\n",
    "#            'companyname':['rcb','mi','csk']\n",
    "\n",
    "input='virat.kohli@rcb.com;rohit.sharma@mi.com;ms.dhoni@csk.com'\n",
    "\n",
    "l1=input.split(';')\n",
    "fname,sname,cname=[],[],[]\n",
    "d={}\n",
    "for i in l1:\n",
    "    first_dot=i.index('.')\n",
    "    second_dot=i.index('.',first_dot+1)\n",
    "    at_the_rate=i.index('@')\n",
    "    \n",
    "    fname.append(i[:first_dot])\n",
    "    sname.append(i[first_dot+1:at_the_rate])\n",
    "    cname.append(i[at_the_rate+1:second_dot])\n",
    "\n",
    "\n",
    "d['Fname']= fname\n",
    "d['Sname']= sname\n",
    "d['Cname']=cname\n",
    "d"
   ]
  },
  {
   "cell_type": "markdown",
   "id": "712a8e53-a801-4cdd-8c2e-b109f3ee2693",
   "metadata": {},
   "source": [
    "**pop popitem**"
   ]
  },
  {
   "cell_type": "code",
   "execution_count": 27,
   "id": "99050731-8d4d-4a50-b52e-76947796924f",
   "metadata": {},
   "outputs": [
    {
     "data": {
      "text/plain": [
       "20"
      ]
     },
     "execution_count": 27,
     "metadata": {},
     "output_type": "execute_result"
    }
   ],
   "source": [
    "# pop \n",
    "d={'ramesh':20, 'suresh':30, 'sathish':40}\n",
    "d.pop('ramesh')\n"
   ]
  },
  {
   "cell_type": "code",
   "execution_count": 30,
   "id": "bb01572e-b56b-4cd7-8a83-ab11e3fdab59",
   "metadata": {},
   "outputs": [
    {
     "data": {
      "text/plain": [
       "('sathish', 40)"
      ]
     },
     "execution_count": 30,
     "metadata": {},
     "output_type": "execute_result"
    }
   ],
   "source": [
    "# popitem\n",
    "d={'ramesh':20, 'suresh':30, 'sathish':40}\n",
    "d.popitem()\n"
   ]
  },
  {
   "cell_type": "code",
   "execution_count": 32,
   "id": "99255bec-6588-46c1-a75c-dd6b96916154",
   "metadata": {},
   "outputs": [
    {
     "data": {
      "text/plain": [
       "['suresh', 'sathish']"
      ]
     },
     "execution_count": 32,
     "metadata": {},
     "output_type": "execute_result"
    }
   ],
   "source": [
    "l1=['ramesh','suresh','sathish']\n",
    "l1.remove('ramesh')\n",
    "l1"
   ]
  },
  {
   "cell_type": "markdown",
   "id": "242fb803-c146-4634-80a5-1fe9ee004694",
   "metadata": {},
   "source": [
    "- **pop** i dict , similar analogy **remove** in list\n",
    "\n",
    "- **pop item** in dict , similar analogy **pop** in list"
   ]
  },
  {
   "cell_type": "markdown",
   "id": "430864ab-a60b-470c-95ad-45ef00f035c9",
   "metadata": {},
   "source": [
    "**get**"
   ]
  },
  {
   "cell_type": "code",
   "execution_count": 40,
   "id": "ec4bffd2-815d-4fb3-aae4-162784a82ab0",
   "metadata": {},
   "outputs": [
    {
     "data": {
      "text/plain": [
       "30"
      ]
     },
     "execution_count": 40,
     "metadata": {},
     "output_type": "execute_result"
    }
   ],
   "source": [
    "d={'ramesh':20, 'suresh':30, 'sathish':40}        # key as a index\n",
    "d.get('suresh')\n"
   ]
  },
  {
   "cell_type": "markdown",
   "id": "7caf273c-8219-4b83-a5f6-98cbe3fb956e",
   "metadata": {},
   "source": [
    "**update**\n",
    "\n",
    "- update is similar analogy list extend\n",
    "- take two dict and apply update method"
   ]
  },
  {
   "cell_type": "code",
   "execution_count": 45,
   "id": "914ac4da-d4a3-4bac-baac-722671dccf7f",
   "metadata": {},
   "outputs": [
    {
     "data": {
      "text/plain": [
       "{'ramesh': 20,\n",
       " 'suresh': 30,\n",
       " 'sathish': 40,\n",
       " 'pratik': 50,\n",
       " 'nilesh': 60,\n",
       " 'Abhay': 70}"
      ]
     },
     "execution_count": 45,
     "metadata": {},
     "output_type": "execute_result"
    }
   ],
   "source": [
    "d1={'ramesh':20, 'suresh':30, 'sathish':40}\n",
    "d2={'pratik':50, 'nilesh':60, 'Abhay':70}\n",
    "d1.update(d2)\n",
    "d1"
   ]
  },
  {
   "cell_type": "code",
   "execution_count": 49,
   "id": "32c76409-6f0d-4a22-9cbe-50ee4076dcd8",
   "metadata": {},
   "outputs": [
    {
     "data": {
      "text/plain": [
       "[1, 2, 3, 4, 5, 6, 7, 8]"
      ]
     },
     "execution_count": 49,
     "metadata": {},
     "output_type": "execute_result"
    }
   ],
   "source": [
    "l1=[1,2,3,4]\n",
    "l2=[5,6,7,8]\n",
    "l1.extend(l2)\n",
    "l1"
   ]
  },
  {
   "cell_type": "markdown",
   "id": "ca72c3fb-cceb-431e-862f-af6c2f7d1db9",
   "metadata": {},
   "source": [
    "- update in dict , similar analogy **list extend**"
   ]
  },
  {
   "cell_type": "markdown",
   "id": "f1ce0815-756b-4c93-b19e-2fc4d21762e5",
   "metadata": {},
   "source": [
    "**setdefailt**\n",
    "\n",
    "- suppose an already existed dictionary available\n",
    "- we can update the dict with new key:value pair"
   ]
  },
  {
   "cell_type": "code",
   "execution_count": 57,
   "id": "a2d2320a-60de-44b6-a597-333d951cde7f",
   "metadata": {},
   "outputs": [
    {
     "data": {
      "text/plain": [
       "{'ramesh': 20, 'suresh': 30, 'sathish': 40, 'manish': None, 'mahesh': 39}"
      ]
     },
     "execution_count": 57,
     "metadata": {},
     "output_type": "execute_result"
    }
   ],
   "source": [
    "d1={'ramesh':20, 'suresh':30, 'sathish':40}\n",
    "d1.setdefault('manish')\n",
    "d1.setdefault('mahesh',39)\n",
    "d1"
   ]
  },
  {
   "cell_type": "markdown",
   "id": "87d7c1be-8c7c-46a1-828e-1085a66144f9",
   "metadata": {},
   "source": [
    "- **setdefault** in dict , similar analogy **list append**\n",
    "- always rember dictionary is a key:value pair concept\n",
    "- it never involves index operation\n",
    "- thats why we dont have any index or find methods\n",
    "- we have get method to extract values using key"
   ]
  },
  {
   "cell_type": "markdown",
   "id": "de149210-a599-4efe-8684-3a176fbb5eb6",
   "metadata": {},
   "source": [
    "**fromkeys**\n",
    "\n",
    "- create a dict with different keys but same value\n",
    "- fromkeys will take an argumenet **iterable**\n",
    "- try to provide an iterator i.e string , list, tuple"
   ]
  },
  {
   "cell_type": "code",
   "execution_count": 58,
   "id": "2f5e45fb-42e5-4958-a56d-151ea7002044",
   "metadata": {},
   "outputs": [
    {
     "data": {
      "text/plain": [
       "{'ramesh': 'nareshit', 'suresh': 'nareshit', 'sathish': 'nareshit'}"
      ]
     },
     "execution_count": 58,
     "metadata": {},
     "output_type": "execute_result"
    }
   ],
   "source": [
    "d={}\n",
    "d1=['ramesh','suresh', 'sathish']\n",
    "d.fromkeys(d1,'nareshit')"
   ]
  },
  {
   "cell_type": "code",
   "execution_count": 60,
   "id": "671b6d39-43d1-4aad-b680-2238c1a90dff",
   "metadata": {},
   "outputs": [
    {
     "data": {
      "text/plain": [
       "{'p': 20, 'y': 20, 't': 20, 'h': 20, 'o': 20, 'n': 20}"
      ]
     },
     "execution_count": 60,
     "metadata": {},
     "output_type": "execute_result"
    }
   ],
   "source": [
    "d={}\n",
    "d.fromkeys('python',20)"
   ]
  },
  {
   "cell_type": "code",
   "execution_count": 61,
   "id": "2a8ad0c5-6eba-4375-a18d-012c2ef42451",
   "metadata": {},
   "outputs": [
    {
     "data": {
      "text/plain": [
       "{'p': None, 'y': None, 't': None, 'h': None, 'o': None, 'n': None}"
      ]
     },
     "execution_count": 61,
     "metadata": {},
     "output_type": "execute_result"
    }
   ],
   "source": [
    "d={}\n",
    "d.fromkeys('python')"
   ]
  },
  {
   "cell_type": "code",
   "execution_count": 62,
   "id": "9f8954b6-45b3-4697-aae1-5128b1835a31",
   "metadata": {},
   "outputs": [
    {
     "data": {
      "text/plain": [
       "{'p': 'abhay',\n",
       " 'y': 'abhay',\n",
       " 't': 'abhay',\n",
       " 'h': 'abhay',\n",
       " 'o': 'abhay',\n",
       " 'n': 'abhay'}"
      ]
     },
     "execution_count": 62,
     "metadata": {},
     "output_type": "execute_result"
    }
   ],
   "source": [
    "d={}\n",
    "d.fromkeys('python','abhay')"
   ]
  },
  {
   "cell_type": "code",
   "execution_count": null,
   "id": "7ad4d459-bf35-43ab-9c7c-f415edb69d30",
   "metadata": {},
   "outputs": [],
   "source": [
    "- list has count , string has count and tuple also has count\n",
    "    - but dict does not have **count**\n",
    "    - becuse dict does not allow **duplicates**\n",
    "- string has find but list does not have"
   ]
  },
  {
   "cell_type": "code",
   "execution_count": null,
   "id": "3ae9f98b-f44f-4d18-89c4-29d7f43d65f4",
   "metadata": {},
   "outputs": [],
   "source": [
    "# take the word document \n",
    "#basic python code\n",
    "# "
   ]
  },
  {
   "cell_type": "code",
   "execution_count": null,
   "id": "72c57808-5bee-4439-b029-c8e2c6cc7511",
   "metadata": {},
   "outputs": [],
   "source": []
  }
 ],
 "metadata": {
  "kernelspec": {
   "display_name": "Python 3 (ipykernel)",
   "language": "python",
   "name": "python3"
  },
  "language_info": {
   "codemirror_mode": {
    "name": "ipython",
    "version": 3
   },
   "file_extension": ".py",
   "mimetype": "text/x-python",
   "name": "python",
   "nbconvert_exporter": "python",
   "pygments_lexer": "ipython3",
   "version": "3.12.7"
  }
 },
 "nbformat": 4,
 "nbformat_minor": 5
}
