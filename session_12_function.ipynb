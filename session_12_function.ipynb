{
 "cells": [
  {
   "cell_type": "markdown",
   "id": "762e7fad-474e-4590-a2f0-2d7b88e7e2c4",
   "metadata": {},
   "source": [
    "## Function\n",
    "- operation and task\n",
    "- block of code which executes on a call\n",
    "- reduce redundency\n",
    "- reuse of the code"
   ]
  },
  {
   "cell_type": "markdown",
   "id": "97e13a87-6917-426f-9571-5774b2f8e22c",
   "metadata": {},
   "source": [
    "## Function \n",
    "- reuse of the code block\n",
    "- function also called as method\n",
    "- function with out arguments\n",
    "- function with arguments\n",
    "- function with default arguments\n",
    "- function with keyword arguments(kwargs)\n",
    "- function with global and local variable\n",
    "- function with return\n",
    "- function in function"
   ]
  },
  {
   "cell_type": "code",
   "execution_count": 3,
   "id": "c4770967-0ef0-4a4c-a058-6df74f5c39a1",
   "metadata": {},
   "outputs": [
    {
     "name": "stdin",
     "output_type": "stream",
     "text": [
      "enter the income: 4500\n",
      "enter the tax percentage: 10\n"
     ]
    },
    {
     "name": "stdout",
     "output_type": "stream",
     "text": [
      "450.0\n"
     ]
    }
   ],
   "source": [
    "income=eval(input(\"enter the income:\"))\n",
    "tax=eval(input(\"enter the tax percentage:\"))\n",
    "tax_pay=income*tax/100\n",
    "print(tax_pay)"
   ]
  },
  {
   "cell_type": "markdown",
   "id": "d260a192-40c0-4411-900e-edb6cab6f1c7",
   "metadata": {},
   "source": [
    "**Function with out argument**"
   ]
  },
  {
   "cell_type": "code",
   "execution_count": null,
   "id": "b9c4e12d-a74a-4e24-bccb-13dc3b4f6547",
   "metadata": {},
   "outputs": [],
   "source": [
    "# syntax \n",
    "def <function name>():\n",
    "    <write your lines here>"
   ]
  },
  {
   "cell_type": "code",
   "execution_count": 8,
   "id": "2cd99dec-85a8-43f0-8009-db135fdf2d0d",
   "metadata": {},
   "outputs": [
    {
     "name": "stdout",
     "output_type": "stream",
     "text": [
      "the addition the number 100 and 200 is :300\n"
     ]
    }
   ],
   "source": [
    "num1=100\n",
    "num2=200\n",
    "add=num1+num2\n",
    "print(f\"the addition the number {num1} and {num2} is :{add}\")"
   ]
  },
  {
   "cell_type": "code",
   "execution_count": 9,
   "id": "e27cac35-bb9e-4364-96e0-5c41d79fc70f",
   "metadata": {},
   "outputs": [],
   "source": [
    "def addition():\n",
    "    num1=eval(input(\"enter a num1:\"))\n",
    "    num2=eval(input(\"enter a num2:\"))\n",
    "    add=num1+num2\n",
    "    print(f\"the addition the number {num1} and {num2} is :{add}\")"
   ]
  },
  {
   "cell_type": "markdown",
   "id": "75bf29ba-d329-4d2f-a5ec-87067045a359",
   "metadata": {},
   "source": [
    "**call the function**"
   ]
  },
  {
   "cell_type": "code",
   "execution_count": 10,
   "id": "24cbe759-213b-4775-b8c4-4dec7a9ed0fd",
   "metadata": {},
   "outputs": [
    {
     "name": "stdin",
     "output_type": "stream",
     "text": [
      "enter a num1: 45200\n",
      "enter a num2: 25360\n"
     ]
    },
    {
     "name": "stdout",
     "output_type": "stream",
     "text": [
      "the addition the number 45200 and 25360 is :70560\n"
     ]
    }
   ],
   "source": [
    "addition()"
   ]
  },
  {
   "cell_type": "code",
   "execution_count": 11,
   "id": "76990b15-f6c6-4519-849a-69af797adb00",
   "metadata": {},
   "outputs": [
    {
     "name": "stdin",
     "output_type": "stream",
     "text": [
      "enter a num1: 452\n",
      "enter a num2: 369\n"
     ]
    },
    {
     "name": "stdout",
     "output_type": "stream",
     "text": [
      "the addition the number 452 and 369 is :821\n"
     ]
    }
   ],
   "source": [
    "def addition():\n",
    "    num1=eval(input(\"enter a num1:\"))\n",
    "    num2=eval(input(\"enter a num2:\"))\n",
    "    add=num1+num2\n",
    "    print(f\"the addition the number {num1} and {num2} is :{add}\")\n",
    "\n",
    "addition()"
   ]
  },
  {
   "cell_type": "markdown",
   "id": "319a183e-a4e2-4fd6-bf1a-de466763fdf4",
   "metadata": {},
   "source": [
    "**Note**\n",
    "\n",
    "- function name rule same as variable rule\n",
    "   - no special charcters\n",
    "   - no number before\n",
    "   - no space between words etc\n",
    "- Function name should not be any keywords\n",
    "- Function name should not be any package names\n",
    "- Function name should not be your notebook name\n",
    "- Function name should not be any variable which is using inside that function"
   ]
  },
  {
   "cell_type": "code",
   "execution_count": 12,
   "id": "e4fb3421-da0a-4533-92a5-0223723b0ec5",
   "metadata": {},
   "outputs": [
    {
     "name": "stdin",
     "output_type": "stream",
     "text": [
      "enter the num1 : 45\n",
      "enter the num2 : 36\n"
     ]
    },
    {
     "name": "stdout",
     "output_type": "stream",
     "text": [
      "addition the number 45 and 36 is :81\n"
     ]
    }
   ],
   "source": [
    "def addition():\n",
    "    num1=eval(input(\"enter the num1 :\"))\n",
    "    num2=eval(input(\"enter the num2 :\"))\n",
    "    add=num1+num2\n",
    "    print(f\"addition the number {num1} and {num2} is :{add}\")\n",
    "\n",
    "addition()"
   ]
  },
  {
   "cell_type": "markdown",
   "id": "9ab97e9a-d895-47a8-9fed-69c832e3c172",
   "metadata": {},
   "source": [
    "- while defind the function we does not know wheter the error is there or not\n",
    "- for that we need to call the function"
   ]
  },
  {
   "cell_type": "code",
   "execution_count": 21,
   "id": "723822e5-f2c1-491d-94df-1ea8dc9edb7b",
   "metadata": {},
   "outputs": [
    {
     "name": "stdin",
     "output_type": "stream",
     "text": [
      "enter the num1 : 45\n",
      "enter the num2 : 36\n"
     ]
    },
    {
     "ename": "NameError",
     "evalue": "name 'n11' is not defined",
     "output_type": "error",
     "traceback": [
      "\u001b[1;31m---------------------------------------------------------------------------\u001b[0m",
      "\u001b[1;31mNameError\u001b[0m                                 Traceback (most recent call last)",
      "Cell \u001b[1;32mIn[21], line 9\u001b[0m\n\u001b[0;32m      7\u001b[0m \u001b[38;5;28;01mexcept\u001b[39;00m \u001b[38;5;167;01mException\u001b[39;00m \u001b[38;5;28;01mas\u001b[39;00m e:\n\u001b[0;32m      8\u001b[0m     \u001b[38;5;28mprint\u001b[39m(e)\n\u001b[1;32m----> 9\u001b[0m addition2()\n",
      "Cell \u001b[1;32mIn[21], line 5\u001b[0m, in \u001b[0;36maddition2\u001b[1;34m()\u001b[0m\n\u001b[0;32m      3\u001b[0m n1\u001b[38;5;241m=\u001b[39m\u001b[38;5;28meval\u001b[39m(\u001b[38;5;28minput\u001b[39m(\u001b[38;5;124m\"\u001b[39m\u001b[38;5;124menter the num1 :\u001b[39m\u001b[38;5;124m\"\u001b[39m))\n\u001b[0;32m      4\u001b[0m n2\u001b[38;5;241m=\u001b[39m\u001b[38;5;28meval\u001b[39m(\u001b[38;5;28minput\u001b[39m(\u001b[38;5;124m\"\u001b[39m\u001b[38;5;124menter the num2 :\u001b[39m\u001b[38;5;124m\"\u001b[39m))\n\u001b[1;32m----> 5\u001b[0m add1\u001b[38;5;241m=\u001b[39mn11\u001b[38;5;241m+\u001b[39mn2\n\u001b[0;32m      6\u001b[0m \u001b[38;5;28mprint\u001b[39m(\u001b[38;5;124mf\u001b[39m\u001b[38;5;124m\"\u001b[39m\u001b[38;5;124maddition the number \u001b[39m\u001b[38;5;132;01m{\u001b[39;00mn1\u001b[38;5;132;01m}\u001b[39;00m\u001b[38;5;124m and \u001b[39m\u001b[38;5;132;01m{\u001b[39;00mn2\u001b[38;5;132;01m}\u001b[39;00m\u001b[38;5;124m is :\u001b[39m\u001b[38;5;132;01m{\u001b[39;00madd1\u001b[38;5;132;01m}\u001b[39;00m\u001b[38;5;124m\"\u001b[39m)\n",
      "\u001b[1;31mNameError\u001b[0m: name 'n11' is not defined"
     ]
    }
   ],
   "source": [
    "try:\n",
    "    def addition2():\n",
    "        n1=eval(input(\"enter the num1 :\"))\n",
    "        n2=eval(input(\"enter the num2 :\"))\n",
    "        add1=n11+n2\n",
    "        print(f\"addition the number {n1} and {n2} is :{add1}\")\n",
    "except Exception as e:\n",
    "    print(e)\n",
    "addition2()\n"
   ]
  },
  {
   "cell_type": "code",
   "execution_count": 19,
   "id": "2cd482fc-9602-45cb-ae76-6c5f8776e6f9",
   "metadata": {},
   "outputs": [
    {
     "name": "stdin",
     "output_type": "stream",
     "text": [
      "enter the num1 : 45\n",
      "enter the num2 : 36\n"
     ]
    },
    {
     "name": "stdout",
     "output_type": "stream",
     "text": [
      "name 'n11' is not defined\n"
     ]
    }
   ],
   "source": [
    "def addition3():\n",
    "    try:\n",
    "        n1=eval(input(\"enter the num1 :\"))\n",
    "        n2=eval(input(\"enter the num2 :\"))\n",
    "        add1=n11+n2\n",
    "        print(f\"addition the number {n1} and {n2} is :{add1}\")\n",
    "    except Exception as e:\n",
    "        print(e)\n",
    "addition3()"
   ]
  },
  {
   "cell_type": "markdown",
   "id": "1f641ae2-7910-4856-b54f-88ba99e13223",
   "metadata": {},
   "source": [
    "- try-except should write inside the function"
   ]
  },
  {
   "cell_type": "code",
   "execution_count": null,
   "id": "7cdcc06a-1299-4d4e-9d4e-beff0a8698a0",
   "metadata": {},
   "outputs": [],
   "source": []
  },
  {
   "cell_type": "code",
   "execution_count": 23,
   "id": "d0aa1506-9ebd-4568-b55e-57643083ad1b",
   "metadata": {},
   "outputs": [
    {
     "name": "stdin",
     "output_type": "stream",
     "text": [
      "enter the num1: 45\n",
      "enter the num2: 36\n",
      "enter the num3: 32\n"
     ]
    },
    {
     "name": "stdout",
     "output_type": "stream",
     "text": [
      "the number of avg 45,36,32 is : 37.666666666666664\n"
     ]
    }
   ],
   "source": [
    "# 1)wap ask the user enter 3 numbers n1,n2,n3 from ketboard\n",
    "# calculate average\n",
    "\n",
    "def avg():\n",
    "    num1=eval(input(\"enter the num1:\"))\n",
    "    num2=eval(input(\"enter the num2:\"))\n",
    "    num3=eval(input(\"enter the num3:\"))\n",
    "    avg=(num1+num2+num3)/3\n",
    "    print(f\"the number of avg {num1},{num2},{num3} is : {avg}\")\n",
    "\n",
    "avg()\n",
    "    "
   ]
  },
  {
   "cell_type": "code",
   "execution_count": 26,
   "id": "c973e5a0-fc2a-4dec-8dac-da3e38b4d8b4",
   "metadata": {},
   "outputs": [
    {
     "name": "stdin",
     "output_type": "stream",
     "text": [
      "enter the name: Abhay\n",
      "enter the num2: 10\n",
      "enter the name: hyd\n"
     ]
    },
    {
     "name": "stdout",
     "output_type": "stream",
     "text": [
      "my name is Abhay im 10 years old and come from hyd\n"
     ]
    }
   ],
   "source": [
    "# 2)wap ask the user enter name age city\n",
    "# print my name is python im 10 years old and came from hyd\n",
    "\n",
    "def information():\n",
    "    name=input(\"enter the name:\")\n",
    "    age=eval(input(\"enter the num2:\"))\n",
    "    city=input(\"enter the name:\")\n",
    "    print(f\"my name is {name} im {age} years old and come from {city}\")\n",
    "information()"
   ]
  },
  {
   "cell_type": "code",
   "execution_count": 27,
   "id": "92ed738c-2dd5-4e75-840e-b3a6888bd394",
   "metadata": {},
   "outputs": [
    {
     "name": "stdin",
     "output_type": "stream",
     "text": [
      "enter the radius: 4\n"
     ]
    },
    {
     "name": "stdout",
     "output_type": "stream",
     "text": [
      "the area of the circle 4 and 3.14 is :50.24\n"
     ]
    }
   ],
   "source": [
    "# 3)wap ask the user to enter radidus of a circle calculate area of the circle\n",
    "# var: radidus  var: pi=3.14\n",
    "# formuale: pi*radius*radius\n",
    "# print the answers using f string and format\n",
    "\n",
    "def area():\n",
    "    radius=eval(input(\"enter the radius:\"))\n",
    "    pi=3.14\n",
    "    area=pi*radius*radius\n",
    "    print(f\"the area of the circle {radius} and {pi} is :{area}\")\n",
    "\n",
    "area()"
   ]
  },
  {
   "cell_type": "code",
   "execution_count": 30,
   "id": "9d582856-46d8-46fd-899f-52705285ef59",
   "metadata": {},
   "outputs": [
    {
     "name": "stdin",
     "output_type": "stream",
     "text": [
      "enter the num1: 45\n",
      "enter the num1: 36\n"
     ]
    },
    {
     "name": "stdout",
     "output_type": "stream",
     "text": [
      "a right angle triangle 45 and 36 is : 810.0\n"
     ]
    }
   ],
   "source": [
    "# 4)wap ask the user enter breadth and height of a right angle triangle\n",
    "# calculate the area\n",
    "# var1: bredath  var2: height\n",
    "# formuale : 0.5*breadth*heigh\n",
    "\n",
    "def triangle():\n",
    "    breadth=eval(input(\"enter the num1:\"))\n",
    "    height=eval(input(\"enter the num1:\"))\n",
    "    area=0.5*breadth*height\n",
    "    print(f\"a right angle triangle {breadth} and {height} is : {area}\")\n",
    "\n",
    "triangle()"
   ]
  },
  {
   "cell_type": "code",
   "execution_count": 33,
   "id": "e4adb46f-a173-4159-942c-7a9b86b25040",
   "metadata": {},
   "outputs": [
    {
     "name": "stdin",
     "output_type": "stream",
     "text": [
      "enter the bill: 4500\n",
      "enter the tip: 500\n"
     ]
    },
    {
     "name": "stdout",
     "output_type": "stream",
     "text": [
      "the hotal bill 4500 and 500 is 5000\n"
     ]
    }
   ],
   "source": [
    "# 5)wap ask the user the bill amount and tip amount\n",
    "#   calculate total bill\n",
    "#   var1: bill amount var2: tip amount\n",
    "#   formuale\n",
    "\n",
    "def hotal():\n",
    "    bill=eval(input(\"enter the bill:\"))\n",
    "    tip=eval(input(\"enter the tip:\"))\n",
    "    total=bill+tip\n",
    "    print(f\"the hotal bill {bill} and {tip} is {total}\")\n",
    "\n",
    "hotal()"
   ]
  },
  {
   "cell_type": "code",
   "execution_count": 4,
   "id": "d9a25152-17f5-406c-be5a-66f9c78b6f01",
   "metadata": {},
   "outputs": [
    {
     "name": "stdin",
     "output_type": "stream",
     "text": [
      "enter the bill: 4500\n",
      "enter the tip: 10\n"
     ]
    },
    {
     "name": "stdout",
     "output_type": "stream",
     "text": [
      "the hotal bill 4500 and 10 is 4950.0\n"
     ]
    }
   ],
   "source": [
    "#6)wap ask the user the bill amount and tip percentage\n",
    "#    take tip percentage as 10\n",
    "#   calculate total bill= bill amount+ bill amount*tip per/100\n",
    "#   var1: bill amount var2: tip amount\n",
    "#    formuale\n",
    "\n",
    "def bill():\n",
    "    bill=eval(input(\"enter the bill:\"))\n",
    "    tip=eval(input(\"enter the tip:\"))\n",
    "    total=bill+(bill*tip)/100\n",
    "    print(f\"the hotal bill {bill} and {tip} is {total}\")\n",
    "    \n",
    "bill()"
   ]
  },
  {
   "cell_type": "code",
   "execution_count": 1,
   "id": "1b504fa3-0c5c-4449-ae46-480eb151827a",
   "metadata": {},
   "outputs": [
    {
     "name": "stdin",
     "output_type": "stream",
     "text": [
      "enter the num1: 45\n",
      "enter the num1: 36\n"
     ]
    },
    {
     "name": "stdout",
     "output_type": "stream",
     "text": [
      "a right angle triangle 45 and 36 is : 810.0\n"
     ]
    }
   ],
   "source": [
    "# 7)wap ask the length and breadth of a rectangle calcuate area\n",
    "#   var1: length  var2: breadth\n",
    "#   formulae: length * breadt\n",
    "def area():\n",
    "    breadth=eval(input(\"enter the num1:\"))\n",
    "    height=eval(input(\"enter the num1:\"))\n",
    "    area=0.5*breadth*height\n",
    "    print(f\"a right angle triangle {breadth} and {height} is : {area}\")\n",
    "\n",
    "area()\n"
   ]
  },
  {
   "cell_type": "markdown",
   "id": "25b94f71-f073-479c-8356-44880ea1af05",
   "metadata": {},
   "source": [
    "- How many variable are there inside the function\n",
    "\n",
    "  - in above **addition** function 3 variable are there : **n1,n2,add**\n",
    "\n",
    "- How many input variable there \n",
    "   - input variable means the variable access the values from user as input **n1,n2**\n",
    "\n",
    "- How many output variables are there\n",
    "   - output variables means the variable created becuse of some opertions : **add**\n",
    "\n",
    "- **Dont touch the output vairables**"
   ]
  },
  {
   "cell_type": "code",
   "execution_count": 5,
   "id": "78b90942-21c1-466b-8d50-81b06c48b93d",
   "metadata": {},
   "outputs": [],
   "source": [
    "def addition1(n1,n2):\n",
    "    add=n1+n2\n",
    "    print(f\"the sum of {n1} and {n2} is : {add}\")"
   ]
  },
  {
   "cell_type": "code",
   "execution_count": 7,
   "id": "0d1a865c-6b15-4654-9207-05319c5ba2ee",
   "metadata": {},
   "outputs": [
    {
     "name": "stdout",
     "output_type": "stream",
     "text": [
      "the sum of 100 and 200 is : 300\n"
     ]
    }
   ],
   "source": [
    "addition1(100,200)"
   ]
  },
  {
   "cell_type": "code",
   "execution_count": 8,
   "id": "e8e34a30-d0f1-4f76-baa4-f60555eee272",
   "metadata": {},
   "outputs": [],
   "source": [
    "def addition1(n1,n2):\n",
    "    print(\"n1 :\",n1)\n",
    "    print(\"n2 :\",n2)\n",
    "    add=n1+n2\n",
    "    print(f\"the sum of {n1} and {n2} is : {add}\")"
   ]
  },
  {
   "cell_type": "code",
   "execution_count": 9,
   "id": "d74dff9d-98d6-479d-b4ce-55b4d51b9fd7",
   "metadata": {},
   "outputs": [
    {
     "name": "stdout",
     "output_type": "stream",
     "text": [
      "the sum of 100 and 200 is : 300\n"
     ]
    }
   ],
   "source": [
    "addition(100,200)"
   ]
  },
  {
   "cell_type": "code",
   "execution_count": null,
   "id": "67662cee-aa04-463c-b3bf-ec03f64f3d81",
   "metadata": {},
   "outputs": [],
   "source": [
    "def addition():\n",
    "    n2=eval(input(\"enter the number1:\"))\n",
    "    n2=eval(input(\"enter the number2:\"))\n",
    "    add=n1+n2\n",
    "    print(f\"the sum number {n1} and {n2} is : {add} \")\n",
    "\n",
    "def addition(n1,n2):\n",
    "    add=n1+n2\n",
    "    (print(f\"the sum of {n1} and {n2} is : {add}\")"
   ]
  },
  {
   "cell_type": "code",
   "execution_count": 19,
   "id": "c28d660c-442e-40c6-a2d7-5bdd39a8603c",
   "metadata": {},
   "outputs": [
    {
     "name": "stdin",
     "output_type": "stream",
     "text": [
      "enter the number1: 45\n",
      "enter the number2: 56\n",
      "enter the number3 2\n"
     ]
    },
    {
     "name": "stdout",
     "output_type": "stream",
     "text": [
      " the avg of 45,56,2 is : 34.33\n",
      "n1: 100\n"
     ]
    },
    {
     "name": "stdin",
     "output_type": "stream",
     "text": [
      "enter the number2: 2\n",
      "enter the number3 1\n"
     ]
    },
    {
     "name": "stdout",
     "output_type": "stream",
     "text": [
      " the avg of 100,2,1 is : 1.5\n",
      "n1: 100\n",
      "n2: 200\n"
     ]
    },
    {
     "name": "stdin",
     "output_type": "stream",
     "text": [
      "enter the number3 2\n"
     ]
    },
    {
     "name": "stdout",
     "output_type": "stream",
     "text": [
      " the avg of 100,200,2 is : 100.66666666666667\n"
     ]
    }
   ],
   "source": [
    "def Avg():\n",
    "    n1=eval(input(\"enter the number1:\"))\n",
    "    n2=eval(input(\"enter the number2:\"))\n",
    "    n3=eval(input(\"enter the number3\"))\n",
    "    avg=(n1+n2+n3)/3\n",
    "    avg1=round(avg,2)\n",
    "    print(f\" the avg of {n1},{n2},{n3} is : {avg1}\")\n",
    "Avg()\n",
    "\n",
    "\n",
    "def Avg2(n1):\n",
    "    print(\"n1:\",n1)\n",
    "    n2=eval(input(\"enter the number2:\"))\n",
    "    n3=eval(input(\"enter the number3\"))\n",
    "    avg=(n2+n3)/2\n",
    "    avg1=round(avg,2)\n",
    "    print(f\" the avg of {n1},{n2},{n3} is : {avg1}\")\n",
    "Avg2(100)\n",
    "\n",
    "def avg3(n1,n2):\n",
    "    print(\"n1:\",n1)\n",
    "    print(\"n2:\",n2)\n",
    "    n3=eval(input(\"enter the number3\"))\n",
    "    avg3=(n1+n2+n3)/3\n",
    "    print(f\" the avg of {n1},{n2},{n3} is : {avg3}\")\n",
    "avg3(100,200)\n",
    "    "
   ]
  },
  {
   "cell_type": "markdown",
   "id": "79c39372-a575-4831-8791-c5d25faec8d2",
   "metadata": {},
   "source": [
    "## Function with default arguments"
   ]
  },
  {
   "cell_type": "code",
   "execution_count": 5,
   "id": "1132316e-fb7e-48a6-9fdb-3b9f304dbeeb",
   "metadata": {},
   "outputs": [
    {
     "name": "stdin",
     "output_type": "stream",
     "text": [
      "enter the bill: 4500\n",
      "enter the tip_per 10\n"
     ]
    },
    {
     "name": "stdout",
     "output_type": "stream",
     "text": [
      "total bill is: 4950.0\n"
     ]
    }
   ],
   "source": [
    "def bill_amount():\n",
    "    \n",
    "    bill=eval(input('enter the bill:'))\n",
    "    tip_per=eval(input('enter the tip_per'))\n",
    "    tip_amount=bill*tip_per/100\n",
    "    total_bill=bill+tip_amount\n",
    "    print('total bill is:',total_bill)\n",
    "bill_amount()"
   ]
  },
  {
   "cell_type": "code",
   "execution_count": 6,
   "id": "5b55bb5b-5195-4b90-af16-9b0812164229",
   "metadata": {},
   "outputs": [
    {
     "name": "stdout",
     "output_type": "stream",
     "text": [
      "total bill is: 1100.0\n"
     ]
    }
   ],
   "source": [
    "def bill_amount1(bill,tip_per):\n",
    "    tip_amount=bill*tip_per/100\n",
    "    total_bill=bill+tip_amount\n",
    "    print('total bill is:',total_bill)\n",
    "bill_amount1(1000,10)"
   ]
  },
  {
   "cell_type": "code",
   "execution_count": 7,
   "id": "63b4bd55-294c-4957-bc8c-31ab3db82069",
   "metadata": {},
   "outputs": [
    {
     "name": "stdout",
     "output_type": "stream",
     "text": [
      "total bill is: 1200.0\n"
     ]
    }
   ],
   "source": [
    "def bill_amount1(bill,tip_per=20):\n",
    "    tip_amount=bill*tip_per/100\n",
    "    total_bill=bill+tip_amount\n",
    "    print('total bill is:',total_bill)\n",
    "bill_amount1(1000)"
   ]
  },
  {
   "cell_type": "markdown",
   "id": "b8af7dd9-109c-4a3a-a33e-2fbd77edc64c",
   "metadata": {},
   "source": [
    "- in above function the tip_per is fixed as 20\n",
    "- this is called defult argument\n",
    "- while calling the function no need to provide tip_per again\n",
    "- if you provide again the value will be change"
   ]
  },
  {
   "cell_type": "code",
   "execution_count": 21,
   "id": "13b9a7ab-b312-4195-8294-1fa8a428be08",
   "metadata": {},
   "outputs": [
    {
     "name": "stdout",
     "output_type": "stream",
     "text": [
      "the avg of 25,23,30 is : 26.0\n"
     ]
    }
   ],
   "source": [
    "def avg(n1,n2,n3=30):\n",
    "    avg1=(n1+n2+n3)/3\n",
    "    print(f\"the avg of {n1},{n2},{n3} is : {avg1}\")\n",
    "\n",
    "avg(25,23)"
   ]
  },
  {
   "cell_type": "code",
   "execution_count": 22,
   "id": "bbbb6afb-c060-4f33-a87a-7830b5a90783",
   "metadata": {},
   "outputs": [
    {
     "name": "stdout",
     "output_type": "stream",
     "text": [
      "the avg of 25,34,30 is : 29.666666666666668\n"
     ]
    }
   ],
   "source": [
    "def avg(n1,n2=34,n3=30):\n",
    "    avg1=(n1+n2+n3)/3\n",
    "    print(f\"the avg of {n1},{n2},{n3} is : {avg1}\")\n",
    "\n",
    "avg(25)"
   ]
  },
  {
   "cell_type": "code",
   "execution_count": 23,
   "id": "f4223b5c-f749-4fc3-93b4-dd4d6bd0393c",
   "metadata": {},
   "outputs": [
    {
     "name": "stdout",
     "output_type": "stream",
     "text": [
      "the avg of 25,30,23 is : 26.0\n"
     ]
    }
   ],
   "source": [
    "def avg(n1,n3,n2=30):\n",
    "    avg1=(n1+n2+n3)/3\n",
    "    print(f\"the avg of {n1},{n2},{n3} is : {avg1}\")\n",
    "\n",
    "avg(25,23)"
   ]
  },
  {
   "cell_type": "markdown",
   "id": "677ee8d2-5794-44b5-bee8-97a8e050654b",
   "metadata": {},
   "source": [
    "**Note: Default arguments always at last**"
   ]
  },
  {
   "cell_type": "code",
   "execution_count": null,
   "id": "07d0eb99-2a41-4f34-a05d-c770cccc003c",
   "metadata": {},
   "outputs": [],
   "source": [
    "n1,n2,n3=100   #W\n",
    "n1,n2=100,n3   #F\n",
    "n1=100,n2,n3   #F\n",
    "n1,n2=100,n3=199  #W\n",
    "n1=100,n2,n3=100  #F\n",
    "n1=100,n2=100,n3  #F\n",
    "n1=100,n2=100,n3=100  #W"
   ]
  },
  {
   "cell_type": "markdown",
   "id": "866940b7-3bb6-4288-9969-e1aeef43d624",
   "metadata": {},
   "source": [
    "- function with argument\n",
    "- function with out argument\n",
    "- function with defalut argument"
   ]
  },
  {
   "cell_type": "code",
   "execution_count": 25,
   "id": "3df86fe6-4bb8-4ecb-b4d2-cf6a2be09f59",
   "metadata": {},
   "outputs": [
    {
     "name": "stdout",
     "output_type": "stream",
     "text": [
      "Function with out arguments\n"
     ]
    },
    {
     "name": "stdin",
     "output_type": "stream",
     "text": [
      "enter the salary: 45000\n",
      "enter the tax: 5\n"
     ]
    },
    {
     "name": "stdout",
     "output_type": "stream",
     "text": [
      "the total tax pay : 2250.0\n",
      "Function with arguments\n",
      "the total tax pay : 9000.0\n",
      "Function with default arguments\n",
      "the total tax pay : 4500.0\n"
     ]
    }
   ],
   "source": [
    "print(\"Function with out arguments\")\n",
    "def tax_cal():\n",
    "    salary=eval(input(\"enter the salary:\"))\n",
    "    tax_per=eval(input(\"enter the tax:\"))\n",
    "    tax_pay=salary*tax_per/100\n",
    "    print(\"the total tax pay :\",tax_pay)\n",
    "tax_cal()\n",
    "\n",
    "print(\"Function with arguments\")\n",
    "def tax_cal2(salary,tax_per):\n",
    "    tax_pay=salary*tax_per/100\n",
    "    print(\"the total tax pay :\",tax_pay)\n",
    "    \n",
    "tax_cal2(45000,20)\n",
    "\n",
    "\n",
    "print(\"Function with default arguments\")\n",
    "def tax_cal3(salary,tax_per=10):\n",
    "    tax_pay=salary*tax_per/100\n",
    "    print(\"the total tax pay :\",tax_pay)\n",
    "tax_cal3(45000)"
   ]
  },
  {
   "cell_type": "markdown",
   "id": "f8632a01-e671-4ae2-8ee7-c08151374410",
   "metadata": {},
   "source": [
    "## Analogy with the packages"
   ]
  },
  {
   "cell_type": "code",
   "execution_count": 1,
   "id": "80ad9cb7-eed7-4b6f-b088-8a0c9d935ca3",
   "metadata": {},
   "outputs": [
    {
     "data": {
      "text/plain": [
       "(3+4j)"
      ]
     },
     "execution_count": 1,
     "metadata": {},
     "output_type": "execute_result"
    }
   ],
   "source": [
    "complex(3,4) #real=3 imag=4 3+4j"
   ]
  },
  {
   "cell_type": "code",
   "execution_count": 2,
   "id": "9e12e6f4-e026-4633-b206-aa5b6a68896e",
   "metadata": {},
   "outputs": [
    {
     "data": {
      "text/plain": [
       "(3+0j)"
      ]
     },
     "execution_count": 2,
     "metadata": {},
     "output_type": "execute_result"
    }
   ],
   "source": [
    "complex(3) #real=3 imag=0 3+0j"
   ]
  },
  {
   "cell_type": "code",
   "execution_count": 3,
   "id": "aa670fd4-cfea-492c-823c-aef84aba7041",
   "metadata": {},
   "outputs": [
    {
     "data": {
      "text/plain": [
       "0j"
      ]
     },
     "execution_count": 3,
     "metadata": {},
     "output_type": "execute_result"
    }
   ],
   "source": [
    "complex() #real=0 imag=0 0+0j = oj"
   ]
  },
  {
   "cell_type": "markdown",
   "id": "8bb72729-87ee-473f-9ac8-0af6de8fb4c2",
   "metadata": {},
   "source": [
    "- Now onwards  whenever you see any package\n",
    "- Always do shift+tab inside the brackets and abserve\n",
    "- with or without or default"
   ]
  },
  {
   "cell_type": "code",
   "execution_count": 5,
   "id": "eeeb7c08-5721-4268-a7b3-4bd63e3f1bdd",
   "metadata": {},
   "outputs": [
    {
     "name": "stdout",
     "output_type": "stream",
     "text": [
      "a: 100\n",
      "b: 200\n",
      "c: 300\n",
      "the summation of 100,200 and 300 is : 600\n"
     ]
    }
   ],
   "source": [
    "def add(a,b,c):\n",
    "    print(\"a:\",a)\n",
    "    print(\"b:\",b)\n",
    "    print(\"c:\",c)\n",
    "    summ=a+b+c\n",
    "    print(f\"the summation of {a},{b} and {c} is : {summ}\")\n",
    "\n",
    "add(100,200,300)"
   ]
  },
  {
   "cell_type": "markdown",
   "id": "03ffc4f9-3683-4949-a998-6c11175c5ae6",
   "metadata": {},
   "source": [
    "**Case-1**"
   ]
  },
  {
   "cell_type": "code",
   "execution_count": 6,
   "id": "c8376281-d214-4d60-8ada-056b367834da",
   "metadata": {},
   "outputs": [
    {
     "name": "stdout",
     "output_type": "stream",
     "text": [
      "a: 100\n",
      "b: 200\n",
      "c: 300\n",
      "the summation of 100,200 and 300 is : 600\n"
     ]
    }
   ],
   "source": [
    "def add(a,b,c=300):\n",
    "    print(\"a:\",a)\n",
    "    print(\"b:\",b)\n",
    "    print(\"c:\",c)\n",
    "    summ=a+b+c\n",
    "    print(f\"the summation of {a},{b} and {c} is : {summ}\")\n",
    "\n",
    "add(100,200)"
   ]
  },
  {
   "cell_type": "markdown",
   "id": "8eaa25a7-0f6e-40fd-a057-22bffa77b8a9",
   "metadata": {},
   "source": [
    "**Case-2**"
   ]
  },
  {
   "cell_type": "code",
   "execution_count": 9,
   "id": "003dacaa-d380-4c7e-ad3a-76bc84dee57e",
   "metadata": {},
   "outputs": [
    {
     "name": "stdout",
     "output_type": "stream",
     "text": [
      "a: 100\n",
      "b: 200\n",
      "c: 600\n",
      "the summation of 100,200 and 600 is : 900\n"
     ]
    }
   ],
   "source": [
    "def add(a,b,c=400):\n",
    "    print(\"a:\",a)\n",
    "    print(\"b:\",b)\n",
    "    print(\"c:\",c)\n",
    "    summ=a+b+c\n",
    "    print(f\"the summation of {a},{b} and {c} is : {summ}\")\n",
    "\n",
    "add(100,200,600)"
   ]
  },
  {
   "cell_type": "markdown",
   "id": "8565c1dc-caea-4a0b-8125-ae43c526dff3",
   "metadata": {},
   "source": [
    "- In above case wen already provide defalut value c=400:\n",
    "- but while we call the function c value become=600\n",
    "- step-1: Define the function : while define what is the value 400\n",
    "- step-2: call the function: while call the function what is the value 600\n",
    "- step-3: running the function: while running what is the value :600"
   ]
  },
  {
   "cell_type": "markdown",
   "id": "538308a0-81c7-46c4-a5a9-83e4e9894d81",
   "metadata": {},
   "source": [
    "**Case-3**"
   ]
  },
  {
   "cell_type": "code",
   "execution_count": 10,
   "id": "ea7ff75c-c147-4116-a398-d57676020b61",
   "metadata": {},
   "outputs": [
    {
     "name": "stdout",
     "output_type": "stream",
     "text": [
      "a: 100\n",
      "b: 200\n",
      "c: 1000\n",
      "the summation of 100,200 and 1000 is : 1300\n"
     ]
    }
   ],
   "source": [
    "def add(a,b,c=400):\n",
    "    c=1000\n",
    "    print(\"a:\",a)\n",
    "    print(\"b:\",b)\n",
    "    print(\"c:\",c)\n",
    "    summ=a+b+c\n",
    "    print(f\"the summation of {a},{b} and {c} is : {summ}\")\n",
    "\n",
    "add(100,200,100)\n",
    "\n",
    "# while define c=400\n",
    "# while calling c=600\n",
    "# while running C=1000"
   ]
  },
  {
   "cell_type": "code",
   "execution_count": 12,
   "id": "31205735-6a3e-45d9-9566-503d302e3ada",
   "metadata": {},
   "outputs": [
    {
     "name": "stdout",
     "output_type": "stream",
     "text": [
      "a: 100\n",
      "b: 200\n",
      "c: 1000\n",
      "the summation of 100,200 and 1000 is : 1300\n"
     ]
    }
   ],
   "source": [
    "def add(a,b,c):\n",
    "    c=1000\n",
    "    print(\"a:\",a)\n",
    "    print(\"b:\",b)\n",
    "    print(\"c:\",c)\n",
    "    summ=a+b+c\n",
    "    print(f\"the summation of {a},{b} and {c} is : {summ}\")\n",
    "\n",
    "add(100,200,600)"
   ]
  },
  {
   "cell_type": "code",
   "execution_count": 18,
   "id": "e10753e1-e56a-447b-b45b-0c5b7408bcf4",
   "metadata": {},
   "outputs": [
    {
     "name": "stdout",
     "output_type": "stream",
     "text": [
      "a: 100\n",
      "b: 200\n",
      "c: 2000\n",
      "the summation of 100,200 and 2000 is : 2300\n"
     ]
    }
   ],
   "source": [
    "def add(a,b):\n",
    "    print(\"a:\",a)\n",
    "    print(\"b:\",b)\n",
    "    print(\"c:\",c)\n",
    "    summ=a+b+c\n",
    "    print(f\"the summation of {a},{b} and {c} is : {summ}\")\n",
    "c=2000\n",
    "add(100,200)"
   ]
  },
  {
   "cell_type": "code",
   "execution_count": null,
   "id": "2763965d-fa8a-48a1-a11c-d2e8e968e4d7",
   "metadata": {},
   "outputs": [],
   "source": [
    "\n",
    "def add(a,b):\n",
    "    print(\"a:\",a)\n",
    "    print(\"b:\",b)\n",
    "    print(\"c:\",c)\n",
    "    summ=a+b+c\n",
    "    print(f\"the summation of {a},{b} and {c} is : {summ}\")\n",
    "c=2000\n",
    "add(100,200)"
   ]
  },
  {
   "cell_type": "markdown",
   "id": "e429ccae-45c8-4aa4-a797-1d6c237ce174",
   "metadata": {},
   "source": [
    "**global variable vs local variable**\n",
    "- the variables outside the function is called as **Globle variable**\n",
    "-  Globle variables can use anywhere\n",
    "- global variables can use inside the function also outside the function\n",
    "- The variables inside the function is called as **Local variable**\n",
    "- local variables can be use only inside functiuon\n",
    "- local variables can not be use outside the function"
   ]
  },
  {
   "cell_type": "code",
   "execution_count": 19,
   "id": "04f675b1-66aa-476b-80de-7d2290efa249",
   "metadata": {},
   "outputs": [
    {
     "name": "stdout",
     "output_type": "stream",
     "text": [
      "the summation of 100 and 200 is : 300\n"
     ]
    }
   ],
   "source": [
    "def addition():\n",
    "    n1=100 \n",
    "    n2=200\n",
    "    summ=n1+n2\n",
    "    print(f\"the summation of {n1} and {n2} is : {summ}\")\n",
    "addition()"
   ]
  },
  {
   "cell_type": "code",
   "execution_count": 20,
   "id": "83096451-8b58-46f8-a4e6-c512db60a45e",
   "metadata": {},
   "outputs": [
    {
     "name": "stdout",
     "output_type": "stream",
     "text": [
      "the summation of 1000 and 2000 is : 3000\n"
     ]
    }
   ],
   "source": [
    "n1=1000\n",
    "n2=2000\n",
    "def addition():\n",
    "    summ=n1+n2\n",
    "    print(f\"the summation of {n1} and {n2} is : {summ}\")\n",
    "addition()"
   ]
  },
  {
   "cell_type": "code",
   "execution_count": 21,
   "id": "4f69b4cf-e296-4896-9fda-6405aa8e88c3",
   "metadata": {},
   "outputs": [
    {
     "data": {
      "text/plain": [
       "2000"
      ]
     },
     "execution_count": 21,
     "metadata": {},
     "output_type": "execute_result"
    }
   ],
   "source": [
    "n2"
   ]
  },
  {
   "cell_type": "code",
   "execution_count": 22,
   "id": "3a19dc5b-dce3-4666-a00f-e5e24c303be5",
   "metadata": {},
   "outputs": [
    {
     "data": {
      "text/plain": [
       "1000"
      ]
     },
     "execution_count": 22,
     "metadata": {},
     "output_type": "execute_result"
    }
   ],
   "source": [
    "n1"
   ]
  },
  {
   "cell_type": "code",
   "execution_count": 24,
   "id": "4dcaca45-1b39-4cfc-8c12-63ae6a691770",
   "metadata": {},
   "outputs": [
    {
     "name": "stdout",
     "output_type": "stream",
     "text": [
      "the summation of 1000 and 2000 is : 3000\n"
     ]
    }
   ],
   "source": [
    "addition()"
   ]
  },
  {
   "cell_type": "markdown",
   "id": "37eee061-856c-4802-9e5c-619012e3fd30",
   "metadata": {},
   "source": [
    "**how to convert local variable to global variable** \n",
    "\n",
    "- if we want to use summ variable outside the function \n",
    "- then intialise summ as **global** keyword"
   ]
  },
  {
   "cell_type": "code",
   "execution_count": 26,
   "id": "bb436370-3389-4eee-8541-c6e987c13aec",
   "metadata": {},
   "outputs": [
    {
     "name": "stdout",
     "output_type": "stream",
     "text": [
      "the summation of 1000 and 2000 is : 3000\n"
     ]
    }
   ],
   "source": [
    "n1=1000\n",
    "n2=2000\n",
    "def addition():\n",
    "    global summ\n",
    "    summ=n1+n2\n",
    "    print(f\"the summation of {n1} and {n2} is : {summ}\")\n",
    "addition()"
   ]
  },
  {
   "cell_type": "code",
   "execution_count": 28,
   "id": "99991c87-e4dc-4847-b9b7-5b940e9b9821",
   "metadata": {},
   "outputs": [
    {
     "data": {
      "text/plain": [
       "3000"
      ]
     },
     "execution_count": 28,
     "metadata": {},
     "output_type": "execute_result"
    }
   ],
   "source": [
    "summ"
   ]
  },
  {
   "cell_type": "code",
   "execution_count": 29,
   "id": "69e13fe0-06f9-4f92-9c58-085fb1281936",
   "metadata": {},
   "outputs": [
    {
     "name": "stdout",
     "output_type": "stream",
     "text": [
      "100\n"
     ]
    }
   ],
   "source": [
    "s=0\n",
    "def add1():\n",
    "    global s1\n",
    "    n1=100\n",
    "    s1=s+n1\n",
    "    print(s1)\n",
    "\n",
    "add1()"
   ]
  },
  {
   "cell_type": "markdown",
   "id": "69060b26-2905-455d-b618-2ba533c979a4",
   "metadata": {},
   "source": [
    "**unbound local error**\n",
    "- in below example s is not intialised\n",
    "- we might think name error will come\n",
    "- but inside function we will an **unbound local error**"
   ]
  },
  {
   "cell_type": "code",
   "execution_count": 27,
   "id": "6a32bc2c-e820-4116-8ec0-530c1b4f7214",
   "metadata": {},
   "outputs": [
    {
     "ename": "UnboundLocalError",
     "evalue": "cannot access local variable 's' where it is not associated with a value",
     "output_type": "error",
     "traceback": [
      "\u001b[1;31m---------------------------------------------------------------------------\u001b[0m",
      "\u001b[1;31mUnboundLocalError\u001b[0m                         Traceback (most recent call last)",
      "Cell \u001b[1;32mIn[27], line 7\u001b[0m\n\u001b[0;32m      4\u001b[0m     s\u001b[38;5;241m=\u001b[39ms\u001b[38;5;241m+\u001b[39mn1\n\u001b[0;32m      5\u001b[0m     \u001b[38;5;28mprint\u001b[39m(s)\n\u001b[1;32m----> 7\u001b[0m add1()\n",
      "Cell \u001b[1;32mIn[27], line 4\u001b[0m, in \u001b[0;36madd1\u001b[1;34m()\u001b[0m\n\u001b[0;32m      2\u001b[0m \u001b[38;5;28;01mdef\u001b[39;00m \u001b[38;5;21madd1\u001b[39m():\n\u001b[0;32m      3\u001b[0m     n1\u001b[38;5;241m=\u001b[39m\u001b[38;5;241m100\u001b[39m\n\u001b[1;32m----> 4\u001b[0m     s\u001b[38;5;241m=\u001b[39ms\u001b[38;5;241m+\u001b[39mn1\n\u001b[0;32m      5\u001b[0m     \u001b[38;5;28mprint\u001b[39m(s)\n",
      "\u001b[1;31mUnboundLocalError\u001b[0m: cannot access local variable 's' where it is not associated with a value"
     ]
    }
   ],
   "source": [
    "s=0\n",
    "def add1():\n",
    "    n1=100\n",
    "    s=s+n1\n",
    "    print(s)\n",
    "\n",
    "add1()"
   ]
  },
  {
   "cell_type": "code",
   "execution_count": 29,
   "id": "d09b16b0-0257-4cc2-951e-144912bfaa6a",
   "metadata": {},
   "outputs": [
    {
     "ename": "NameError",
     "evalue": "name 'summ1' is not defined",
     "output_type": "error",
     "traceback": [
      "\u001b[1;31m---------------------------------------------------------------------------\u001b[0m",
      "\u001b[1;31mNameError\u001b[0m                                 Traceback (most recent call last)",
      "Cell \u001b[1;32mIn[29], line 6\u001b[0m\n\u001b[0;32m      3\u001b[0m     s1\u001b[38;5;241m=\u001b[39msumm1\u001b[38;5;241m+\u001b[39mn1\n\u001b[0;32m      4\u001b[0m     \u001b[38;5;28mprint\u001b[39m(s1)\n\u001b[1;32m----> 6\u001b[0m add()\n",
      "Cell \u001b[1;32mIn[29], line 3\u001b[0m, in \u001b[0;36madd\u001b[1;34m()\u001b[0m\n\u001b[0;32m      1\u001b[0m \u001b[38;5;28;01mdef\u001b[39;00m \u001b[38;5;21madd\u001b[39m():\n\u001b[0;32m      2\u001b[0m     n1\u001b[38;5;241m=\u001b[39m\u001b[38;5;241m100\u001b[39m\n\u001b[1;32m----> 3\u001b[0m     s1\u001b[38;5;241m=\u001b[39msumm1\u001b[38;5;241m+\u001b[39mn1\n\u001b[0;32m      4\u001b[0m     \u001b[38;5;28mprint\u001b[39m(s1)\n",
      "\u001b[1;31mNameError\u001b[0m: name 'summ1' is not defined"
     ]
    }
   ],
   "source": [
    "def add():\n",
    "    n1=100\n",
    "    s1=summ1+n1\n",
    "    print(s1)\n",
    "\n",
    "add()"
   ]
  },
  {
   "cell_type": "code",
   "execution_count": 33,
   "id": "e8416ba9-2c56-4f6b-ba90-cd2d011a5fc1",
   "metadata": {},
   "outputs": [
    {
     "name": "stdout",
     "output_type": "stream",
     "text": [
      "300\n"
     ]
    }
   ],
   "source": [
    "def add3():\n",
    "    n1=100\n",
    "    summ1=200\n",
    "    summ1=summ1+n1  # do not 100=100+n1                   ,            #used summ1=100+n1\n",
    "    print(summ1)\n",
    "add3()"
   ]
  },
  {
   "cell_type": "code",
   "execution_count": 31,
   "id": "7e1325fc-ba88-4ed2-9919-6ab9d2402353",
   "metadata": {},
   "outputs": [
    {
     "name": "stdout",
     "output_type": "stream",
     "text": [
      "60 20.0\n"
     ]
    }
   ],
   "source": [
    "def avg(a,b,c):\n",
    "    add=a+b+c\n",
    "    avg1=(a+b+c)/3\n",
    "    print(add,avg1)\n",
    "\n",
    "avg(10,20,30)"
   ]
  },
  {
   "cell_type": "code",
   "execution_count": 32,
   "id": "dc97fda1-db7e-48f8-b894-f8ef3c81c42f",
   "metadata": {},
   "outputs": [
    {
     "data": {
      "text/plain": [
       "<function __main__.add()>"
      ]
     },
     "execution_count": 32,
     "metadata": {},
     "output_type": "execute_result"
    }
   ],
   "source": [
    "add"
   ]
  },
  {
   "cell_type": "code",
   "execution_count": 41,
   "id": "6f105641-5b4f-43fa-af81-c4ec1ab28160",
   "metadata": {},
   "outputs": [
    {
     "name": "stdout",
     "output_type": "stream",
     "text": [
      "60 20.0\n"
     ]
    }
   ],
   "source": [
    "def avg(a,b,c):\n",
    "    global ADD\n",
    "    global AVG1\n",
    "    ADD=a+b+c\n",
    "    AVG1=(a+b+c)/3\n",
    "    print(ADD,AVG1)\n",
    "\n",
    "avg(10,20,30)"
   ]
  },
  {
   "cell_type": "code",
   "execution_count": 43,
   "id": "e40a60f6-c448-45b8-8b1f-1a718d7da402",
   "metadata": {},
   "outputs": [
    {
     "data": {
      "text/plain": [
       "60"
      ]
     },
     "execution_count": 43,
     "metadata": {},
     "output_type": "execute_result"
    }
   ],
   "source": [
    "ADD"
   ]
  },
  {
   "cell_type": "code",
   "execution_count": 42,
   "id": "b1be2e02-9675-441d-82b1-0a5bdcf23802",
   "metadata": {},
   "outputs": [
    {
     "data": {
      "text/plain": [
       "20.0"
      ]
     },
     "execution_count": 42,
     "metadata": {},
     "output_type": "execute_result"
    }
   ],
   "source": [
    "AVG1"
   ]
  },
  {
   "cell_type": "code",
   "execution_count": 44,
   "id": "ddf8ba8f-0bf9-4026-9a41-888eb709fafe",
   "metadata": {},
   "outputs": [
    {
     "name": "stdout",
     "output_type": "stream",
     "text": [
      "a: 100\n",
      "b: 200\n",
      "c: 9000\n",
      "the summation of 100,200 and 9000 is : 9300\n"
     ]
    }
   ],
   "source": [
    "c=3000\n",
    "def add(a,b):  # 1st\n",
    "    print(\"a:\",a)  # \n",
    "    print(\"b:\",b)  # 3rd\n",
    "    print(\"c:\",c)  #\n",
    "    summ=a+b+c     #\n",
    "    print(f\"the summation of {a},{b} and {c} is : {summ}\")\n",
    "c=9000\n",
    "add(100,200)  #2nd "
   ]
  },
  {
   "cell_type": "code",
   "execution_count": 45,
   "id": "60557b05-2044-4b58-b384-da7ebe525fa4",
   "metadata": {},
   "outputs": [
    {
     "name": "stdout",
     "output_type": "stream",
     "text": [
      "a: 100\n",
      "b: 200\n",
      "c: 5000\n",
      "the summation of 100,200 and 8000 is : 5300\n"
     ]
    }
   ],
   "source": [
    "c=3000\n",
    "def add(a,b):\n",
    "    c=5000\n",
    "    print(\"a:\",a)\n",
    "    print(\"b:\",b)\n",
    "    print(\"c:\",c)\n",
    "    summ=a+b+c\n",
    "    c=8000\n",
    "    print(f\"the summation of {a},{b} and {c} is : {summ}\")\n",
    "c=9000\n",
    "add(100,200)"
   ]
  },
  {
   "cell_type": "code",
   "execution_count": 3,
   "id": "c71a26ac-3d2b-4652-94e1-c1a220cf2e08",
   "metadata": {},
   "outputs": [
    {
     "name": "stdout",
     "output_type": "stream",
     "text": [
      "a: 100\n",
      "b: 200\n",
      "c: 7000\n",
      "the summation of 100,200 and 50000 is : 7300\n"
     ]
    }
   ],
   "source": [
    "c=3000\n",
    "def add(a,b,c=10000):\n",
    "    c=7000\n",
    "    print(\"a:\",a)\n",
    "    print(\"b:\",b)\n",
    "    print(\"c:\",c)\n",
    "    summ=a+b+c\n",
    "    c=50000\n",
    "    print(f\"the summation of {a},{b} and {c} is : {summ}\")\n",
    "c=9000\n",
    "add(100,200)"
   ]
  },
  {
   "cell_type": "code",
   "execution_count": 6,
   "id": "c04d0ef1-5440-495d-b0c2-21bd6598b5e4",
   "metadata": {},
   "outputs": [
    {
     "name": "stdin",
     "output_type": "stream",
     "text": [
      "enter the number: 12\n"
     ]
    },
    {
     "name": "stdout",
     "output_type": "stream",
     "text": [
      "the number even:\n",
      "with argument\n",
      "even\n",
      "with out argument\n",
      "even\n"
     ]
    }
   ],
   "source": [
    "# write a program ask the user enter a number\n",
    "#print it is an even and odd\n",
    "\n",
    "def even_odd():\n",
    "    num=eval(input(\"enter the number:\"))\n",
    "    if num%2==0:\n",
    "        print(\"the number even:\")\n",
    "    else:\n",
    "        print(\"the number odd:\")\n",
    "\n",
    "even_odd()\n",
    "\n",
    "print(\"with argument\")\n",
    "def even_odd1(num):\n",
    "    if num%2==0:\n",
    "        print(\"even\")\n",
    "    else:\n",
    "        print(\"odd\")\n",
    "\n",
    "even_odd1(8)\n",
    "\n",
    "\n",
    "print(\"with out argument\")\n",
    "def even_odd2(num=10):\n",
    "    if num%2==0:\n",
    "        print(\"even\")\n",
    "    else:\n",
    "        print(\"odd\")\n",
    "\n",
    "even_odd2()\n",
    "        "
   ]
  },
  {
   "cell_type": "code",
   "execution_count": 7,
   "id": "8ed155c7-d9a5-455b-ac79-aa8d2a289d4f",
   "metadata": {},
   "outputs": [
    {
     "ename": "SyntaxError",
     "evalue": "name 'num1' is parameter and global (2129037098.py, line 2)",
     "output_type": "error",
     "traceback": [
      "\u001b[1;36m  Cell \u001b[1;32mIn[7], line 2\u001b[1;36m\u001b[0m\n\u001b[1;33m    global num1\u001b[0m\n\u001b[1;37m    ^\u001b[0m\n\u001b[1;31mSyntaxError\u001b[0m\u001b[1;31m:\u001b[0m name 'num1' is parameter and global\n"
     ]
    }
   ],
   "source": [
    "def even_odd2(num1=202):\n",
    "    global num1\n",
    "    if num1%2==0:\n",
    "        print(f\"{num1} is an even\")\n",
    "    else:\n",
    "        print(f\"{num1} is an odd\")\n",
    "\n",
    "even_odd2()"
   ]
  },
  {
   "cell_type": "markdown",
   "id": "2de305e8-e2c9-462e-879b-6fae2ca14379",
   "metadata": {},
   "source": [
    "**Parameter va Variable**"
   ]
  },
  {
   "cell_type": "markdown",
   "id": "39e667f8-295b-4cba-b39d-41ff4591f2a9",
   "metadata": {},
   "source": [
    "- parameters also called as arguments.\n",
    "- this always inside the function  brackets\n",
    "- variables either outside the function or inside the fiunction "
   ]
  },
  {
   "cell_type": "markdown",
   "id": "06bf0a1d-c7f4-4f53-a682-86f0d13ca353",
   "metadata": {},
   "source": [
    "**return**\n",
    "- return means function is giving something\n",
    "- we know that local variables can not use outside the function\n",
    "- in order to use local variables outside the function , we have two methods\n",
    "- **global**\n",
    "- **return**"
   ]
  },
  {
   "cell_type": "code",
   "execution_count": 11,
   "id": "48653094-7bf3-46b2-adc7-24dda84ebeb2",
   "metadata": {},
   "outputs": [
    {
     "name": "stdout",
     "output_type": "stream",
     "text": [
      "30\n"
     ]
    }
   ],
   "source": [
    "def add():\n",
    "    a=10\n",
    "    b=20\n",
    "    c=a+b\n",
    "    print(c)\n",
    "\n",
    "add()"
   ]
  },
  {
   "cell_type": "code",
   "execution_count": 16,
   "id": "2e0b0a4c-964e-4fe4-939a-604da83bf2ef",
   "metadata": {},
   "outputs": [],
   "source": [
    "def add():\n",
    "    a=10\n",
    "    b=20\n",
    "    c=a+b\n",
    "    return(c)\n",
    "\n",
    "value=add()"
   ]
  },
  {
   "cell_type": "code",
   "execution_count": 17,
   "id": "e9ea009d-f838-4d23-800e-0a5ec8cc892c",
   "metadata": {},
   "outputs": [
    {
     "data": {
      "text/plain": [
       "30"
      ]
     },
     "execution_count": 17,
     "metadata": {},
     "output_type": "execute_result"
    }
   ],
   "source": [
    "value"
   ]
  },
  {
   "cell_type": "code",
   "execution_count": 18,
   "id": "21e50336-8027-40d3-a0d4-ea76016d4d05",
   "metadata": {},
   "outputs": [
    {
     "data": {
      "text/plain": [
       "(10, 20)"
      ]
     },
     "execution_count": 18,
     "metadata": {},
     "output_type": "execute_result"
    }
   ],
   "source": [
    "value=10,20\n",
    "value"
   ]
  },
  {
   "cell_type": "code",
   "execution_count": 19,
   "id": "2953191f-481f-420d-a1f3-0f15deb5e166",
   "metadata": {},
   "outputs": [
    {
     "data": {
      "text/plain": [
       "10"
      ]
     },
     "execution_count": 19,
     "metadata": {},
     "output_type": "execute_result"
    }
   ],
   "source": [
    "val1,val2= 10,20\n",
    "val1"
   ]
  },
  {
   "cell_type": "code",
   "execution_count": 20,
   "id": "37d85848-d67c-4887-9440-c4d7b517016a",
   "metadata": {},
   "outputs": [
    {
     "data": {
      "text/plain": [
       "20"
      ]
     },
     "execution_count": 20,
     "metadata": {},
     "output_type": "execute_result"
    }
   ],
   "source": [
    "val2"
   ]
  },
  {
   "cell_type": "code",
   "execution_count": 21,
   "id": "f6f1edb7-2c81-4f3c-b497-0a321a68e44e",
   "metadata": {},
   "outputs": [
    {
     "ename": "TypeError",
     "evalue": "cannot unpack non-iterable int object",
     "output_type": "error",
     "traceback": [
      "\u001b[1;31m---------------------------------------------------------------------------\u001b[0m",
      "\u001b[1;31mTypeError\u001b[0m                                 Traceback (most recent call last)",
      "Cell \u001b[1;32mIn[21], line 1\u001b[0m\n\u001b[1;32m----> 1\u001b[0m val1, val2\u001b[38;5;241m=\u001b[39m\u001b[38;5;241m10\u001b[39m\n\u001b[0;32m      2\u001b[0m val1\n",
      "\u001b[1;31mTypeError\u001b[0m: cannot unpack non-iterable int object"
     ]
    }
   ],
   "source": [
    "val1, val2=10\n",
    "val1   # do not given value are val1/val2"
   ]
  },
  {
   "cell_type": "code",
   "execution_count": 23,
   "id": "b276c517-556e-493d-bd17-db0be52725b3",
   "metadata": {},
   "outputs": [],
   "source": [
    "# two variable used on the case \n",
    "def add():\n",
    "    a=10\n",
    "    b=20\n",
    "    c=a+b\n",
    "    return(a,c)\n",
    "\n",
    "a,c=add()"
   ]
  },
  {
   "cell_type": "code",
   "execution_count": 24,
   "id": "45895fbe-9b64-4b3c-9e90-f25d3bbfb850",
   "metadata": {},
   "outputs": [
    {
     "data": {
      "text/plain": [
       "(10, 30)"
      ]
     },
     "execution_count": 24,
     "metadata": {},
     "output_type": "execute_result"
    }
   ],
   "source": [
    "a,c"
   ]
  },
  {
   "cell_type": "code",
   "execution_count": 25,
   "id": "78e4c197-8d42-4543-aaad-fff0ba7c18d0",
   "metadata": {},
   "outputs": [],
   "source": [
    "# two variable used on the case \n",
    "def add():\n",
    "    a=10\n",
    "    b=20\n",
    "    c=a+b\n",
    "    return(a,c)\n",
    "\n",
    "val1,val2=add()"
   ]
  },
  {
   "cell_type": "code",
   "execution_count": 27,
   "id": "bb2e151c-feec-469e-9525-9ebacd238ac9",
   "metadata": {},
   "outputs": [
    {
     "data": {
      "text/plain": [
       "10"
      ]
     },
     "execution_count": 27,
     "metadata": {},
     "output_type": "execute_result"
    }
   ],
   "source": [
    "val1"
   ]
  },
  {
   "cell_type": "code",
   "execution_count": 28,
   "id": "2cb48ca4-1cec-4849-9092-924da06cb4e2",
   "metadata": {},
   "outputs": [
    {
     "data": {
      "text/plain": [
       "30"
      ]
     },
     "execution_count": 28,
     "metadata": {},
     "output_type": "execute_result"
    }
   ],
   "source": [
    "val2"
   ]
  },
  {
   "cell_type": "code",
   "execution_count": 34,
   "id": "64c1091f-4e5d-4c7c-b257-74bf245b9ae3",
   "metadata": {},
   "outputs": [
    {
     "name": "stdout",
     "output_type": "stream",
     "text": [
      "62\n",
      "20.666666666666668\n"
     ]
    }
   ],
   "source": [
    "# three variables used on the case\n",
    "\n",
    "def avg(a,b,c):\n",
    "    summ=a+b+c\n",
    "    Avg=(a+b+c)/3\n",
    "    return(summ,Avg)\n",
    "summ,Avg=avg(12,20,30)\n",
    "print(summ)\n",
    "print(Avg)"
   ]
  },
  {
   "cell_type": "code",
   "execution_count": 37,
   "id": "1a511d38-9b73-4a81-b078-a704332433cf",
   "metadata": {},
   "outputs": [
    {
     "name": "stdin",
     "output_type": "stream",
     "text": [
      "enter the number: 45\n"
     ]
    },
    {
     "name": "stdout",
     "output_type": "stream",
     "text": [
      "the number odd:\n",
      "45\n"
     ]
    }
   ],
   "source": [
    "def even_odd():\n",
    "    num=eval(input(\"enter the number:\"))\n",
    "    if num%2==0:\n",
    "        print(\"the number even:\")\n",
    "        return(num)\n",
    "    else:\n",
    "        print(\"the number odd:\")\n",
    "        return(num)\n",
    "\n",
    "num2=even_odd()\n",
    "print(num)"
   ]
  },
  {
   "cell_type": "code",
   "execution_count": 41,
   "id": "1d36dd5c-72d9-44f6-8186-fe5b641439f7",
   "metadata": {},
   "outputs": [
    {
     "name": "stdin",
     "output_type": "stream",
     "text": [
      "enter the number: 20\n"
     ]
    },
    {
     "name": "stdout",
     "output_type": "stream",
     "text": [
      "the number even:\n",
      "30\n"
     ]
    }
   ],
   "source": [
    "def even_odd():\n",
    "    num=eval(input(\"enter the number:\"))\n",
    "    if num%2==0:\n",
    "        val=10\n",
    "        print(\"the number even:\")\n",
    "        return(num+10)\n",
    "    else:\n",
    "        val=20\n",
    "        print(\"the number odd:\")\n",
    "        return(num+20)\n",
    "\n",
    "output=even_odd()\n",
    "print(output)"
   ]
  },
  {
   "cell_type": "code",
   "execution_count": 42,
   "id": "cbe89db5-41eb-4f19-b394-0dea42dc3c01",
   "metadata": {},
   "outputs": [
    {
     "name": "stdout",
     "output_type": "stream",
     "text": [
      "30\n"
     ]
    }
   ],
   "source": [
    "print(output)"
   ]
  },
  {
   "cell_type": "markdown",
   "id": "aaad8600-73bb-4b01-9f63-191f231b25f5",
   "metadata": {},
   "source": [
    "**recursive program**\n",
    "\n",
    "\n",
    "**function in function**"
   ]
  },
  {
   "cell_type": "code",
   "execution_count": 43,
   "id": "3097d477-9435-4dbe-9070-d0f2229808a5",
   "metadata": {},
   "outputs": [
    {
     "name": "stdout",
     "output_type": "stream",
     "text": [
      "hello good morning\n",
      "hello good night\n"
     ]
    }
   ],
   "source": [
    "def greet1():\n",
    "    print(\"hello good morning\")\n",
    "\n",
    "def greet2():\n",
    "    print(\"hello good night\")\n",
    "\n",
    "greet1()\n",
    "greet2()"
   ]
  },
  {
   "cell_type": "code",
   "execution_count": 1,
   "id": "85df7f71-29c5-4366-8517-3a9708971e17",
   "metadata": {},
   "outputs": [
    {
     "name": "stdout",
     "output_type": "stream",
     "text": [
      "hello good night\n",
      "hello good morning\n"
     ]
    }
   ],
   "source": [
    "def greet1():\n",
    "    print(\"hello good morning\")\n",
    "\n",
    "def greet2():\n",
    "    print(\"hello good night\")\n",
    "    greet1()\n",
    "\n",
    "\n",
    "greet2()"
   ]
  },
  {
   "cell_type": "code",
   "execution_count": 4,
   "id": "416d43ca-559c-4074-a1b9-cff084ff823b",
   "metadata": {},
   "outputs": [
    {
     "name": "stdout",
     "output_type": "stream",
     "text": [
      " i don't know what im doing\n"
     ]
    }
   ],
   "source": [
    "def greet3():\n",
    "    print(\" i don't know what im doing\")\n",
    "    \n",
    "\n",
    "greet3()"
   ]
  },
  {
   "cell_type": "code",
   "execution_count": 18,
   "id": "164ee6d0-1aa0-4771-aca7-e26fed8946c7",
   "metadata": {},
   "outputs": [
    {
     "name": "stdin",
     "output_type": "stream",
     "text": [
      "enter the number: 12\n"
     ]
    },
    {
     "name": "stdout",
     "output_type": "stream",
     "text": [
      "78\n"
     ]
    }
   ],
   "source": [
    "def add(num):\n",
    "    if num==0:\n",
    "        return(0)\n",
    "    else:\n",
    "        summ=num+add(num-1)\n",
    "        return summ\n",
    "a=eval(input(\"enter the number:\"))\n",
    "num1=add(a)\n",
    "print(num1)"
   ]
  },
  {
   "cell_type": "code",
   "execution_count": null,
   "id": "a610e3cb-edd1-47de-8c38-a23865f20fcb",
   "metadata": {},
   "outputs": [],
   "source": []
  },
  {
   "cell_type": "code",
   "execution_count": null,
   "id": "fb39c9a4-7135-4c26-b041-07f1b17a305d",
   "metadata": {},
   "outputs": [],
   "source": []
  }
 ],
 "metadata": {
  "kernelspec": {
   "display_name": "Python 3 (ipykernel)",
   "language": "python",
   "name": "python3"
  },
  "language_info": {
   "codemirror_mode": {
    "name": "ipython",
    "version": 3
   },
   "file_extension": ".py",
   "mimetype": "text/x-python",
   "name": "python",
   "nbconvert_exporter": "python",
   "pygments_lexer": "ipython3",
   "version": "3.12.7"
  }
 },
 "nbformat": 4,
 "nbformat_minor": 5
}
