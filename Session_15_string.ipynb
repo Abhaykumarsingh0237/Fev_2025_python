{
 "cells": [
  {
   "cell_type": "markdown",
   "id": "de6a2cce-1b00-4bb3-8ced-50a50144a1dc",
   "metadata": {},
   "source": [
    "- variables\n",
    "- Data types \n",
    "- Type conversion\n",
    "- print\n",
    "- eval and input\n",
    "- basic codes\n",
    "- packages\n",
    "- conditional statements\n",
    "- try and except\n",
    "- function \n",
    "- for loop\n",
    "- while loop\n",
    "\n",
    "===========================Intermediate python==========================\n",
    "\n",
    "- string\n",
    "- list\n",
    "- list comprhension\n",
    "- tuple\n",
    "- sets\n",
    "- dictionary\n",
    "- lambda function\n",
    "- file handling\n",
    "\n",
    "==============================OOPS concepts================================\n",
    "    "
   ]
  },
  {
   "cell_type": "markdown",
   "id": "28fdb513-be83-4e9d-80a2-984ce57281cc",
   "metadata": {},
   "source": [
    "- basic representations\n",
    "- Inbuilt function\n",
    "   - print\n",
    "   - type\n",
    "   - len\n",
    "   - sum\n",
    "   - max\n",
    "   - min\n",
    "   - sorted\n",
    "   - reveresed\n",
    "- concatenation\n",
    "- indexing\n",
    "- slice\n",
    "- mutable or immutable concept\n",
    "- methods\n",
    "\n"
   ]
  },
  {
   "cell_type": "markdown",
   "id": "119e36c3-2a45-4ef5-a789-60802ef45195",
   "metadata": {},
   "source": [
    "**Basic Representations**"
   ]
  },
  {
   "cell_type": "code",
   "execution_count": 2,
   "id": "11bd9dec-4559-48b6-8a2a-c41ff5f2ed02",
   "metadata": {},
   "outputs": [
    {
     "data": {
      "text/plain": [
       "'python'"
      ]
     },
     "execution_count": 2,
     "metadata": {},
     "output_type": "execute_result"
    }
   ],
   "source": [
    "name=\"python\"\n",
    "name"
   ]
  },
  {
   "cell_type": "code",
   "execution_count": 3,
   "id": "037da1dd-e403-488e-b72b-d2b6bbfeca47",
   "metadata": {},
   "outputs": [
    {
     "name": "stdout",
     "output_type": "stream",
     "text": [
      "python\n"
     ]
    }
   ],
   "source": [
    "print(name)"
   ]
  },
  {
   "cell_type": "code",
   "execution_count": 2,
   "id": "28c51a41-1b56-4e63-85f8-276752fe1747",
   "metadata": {},
   "outputs": [
    {
     "data": {
      "text/plain": [
       "'python'"
      ]
     },
     "execution_count": 2,
     "metadata": {},
     "output_type": "execute_result"
    }
   ],
   "source": [
    "name=\"python\"\n",
    "name"
   ]
  },
  {
   "cell_type": "markdown",
   "id": "f104ecdc-a3fa-4ffe-a7f2-9b06f3bc07d6",
   "metadata": {},
   "source": [
    "- python by default gives output in **single quotes**\n",
    "- when we print the string the output display **without quotes**"
   ]
  },
  {
   "cell_type": "code",
   "execution_count": 6,
   "id": "e32ad697-2bdd-4b09-a9d4-90a2575bd783",
   "metadata": {},
   "outputs": [
    {
     "name": "stdout",
     "output_type": "stream",
     "text": [
      " i love 'python'\n"
     ]
    }
   ],
   "source": [
    "str1=\" i love 'python'\"\n",
    "print(str1)"
   ]
  },
  {
   "cell_type": "code",
   "execution_count": 7,
   "id": "9e814719-5f70-4bad-a2b8-a981302e7472",
   "metadata": {},
   "outputs": [
    {
     "name": "stdout",
     "output_type": "stream",
     "text": [
      " i love \"python\"\n"
     ]
    }
   ],
   "source": [
    "str2= ' i love \"python\"'\n",
    "print(str2)"
   ]
  },
  {
   "cell_type": "markdown",
   "id": "174d6195-eb18-49f8-b082-c1cf9fa33d1e",
   "metadata": {},
   "source": [
    "**DOC string**\n",
    "- triple quotes also called as doc string\n",
    "- triple quotes means the user try to convey some information"
   ]
  },
  {
   "cell_type": "code",
   "execution_count": 4,
   "id": "b281f771-7508-44ec-8ee0-a1372817ed20",
   "metadata": {},
   "outputs": [
    {
     "data": {
      "text/plain": [
       "str"
      ]
     },
     "execution_count": 4,
     "metadata": {},
     "output_type": "execute_result"
    }
   ],
   "source": [
    "name=\"python\"\n",
    "type(name)"
   ]
  },
  {
   "cell_type": "code",
   "execution_count": null,
   "id": "f9624898-c82c-459d-a8b7-06470dd361b8",
   "metadata": {},
   "outputs": [],
   "source": [
    "print(<>)\n",
    "type(<>)\n",
    "eval(<>)\n",
    "input()\n",
    "len()\n",
    "sum()\n",
    "max()"
   ]
  },
  {
   "cell_type": "code",
   "execution_count": 21,
   "id": "fec5c8eb-8a48-4f86-895f-1a488365a2db",
   "metadata": {},
   "outputs": [
    {
     "data": {
      "text/plain": [
       "6"
      ]
     },
     "execution_count": 21,
     "metadata": {},
     "output_type": "execute_result"
    }
   ],
   "source": [
    "name=\"python\"\n",
    "len(name)"
   ]
  },
  {
   "cell_type": "code",
   "execution_count": 13,
   "id": "4b94d9bd-4920-4134-8269-079bd18e4ecd",
   "metadata": {},
   "outputs": [
    {
     "data": {
      "text/plain": [
       "'y'"
      ]
     },
     "execution_count": 13,
     "metadata": {},
     "output_type": "execute_result"
    }
   ],
   "source": [
    "max(name)"
   ]
  },
  {
   "cell_type": "code",
   "execution_count": 15,
   "id": "a8d2077e-98b9-44f1-b429-6bdeeea7b7f3",
   "metadata": {},
   "outputs": [
    {
     "data": {
      "text/plain": [
       "'h'"
      ]
     },
     "execution_count": 15,
     "metadata": {},
     "output_type": "execute_result"
    }
   ],
   "source": [
    "min(name)"
   ]
  },
  {
   "cell_type": "code",
   "execution_count": 16,
   "id": "dd3c452c-0aa1-473f-8ec4-341d4d117a86",
   "metadata": {},
   "outputs": [
    {
     "data": {
      "text/plain": [
       "str"
      ]
     },
     "execution_count": 16,
     "metadata": {},
     "output_type": "execute_result"
    }
   ],
   "source": [
    "type(name)"
   ]
  },
  {
   "cell_type": "raw",
   "id": "9a91abc9-1599-4a5c-84a2-485b42540150",
   "metadata": {},
   "source": [
    "reveresd(name)"
   ]
  },
  {
   "cell_type": "code",
   "execution_count": 20,
   "id": "4fd5d190-b067-4c2a-af2d-e3966c16912f",
   "metadata": {},
   "outputs": [
    {
     "data": {
      "text/plain": [
       "<reversed at 0x14e5eaece50>"
      ]
     },
     "execution_count": 20,
     "metadata": {},
     "output_type": "execute_result"
    }
   ],
   "source": [
    "reversed(name)"
   ]
  },
  {
   "cell_type": "markdown",
   "id": "9c6173be-0ac8-43f3-a24f-ee7d85ac314b",
   "metadata": {},
   "source": [
    "**sum**"
   ]
  },
  {
   "cell_type": "code",
   "execution_count": 5,
   "id": "8aa82861-e10e-4821-9f64-590c2048b52d",
   "metadata": {},
   "outputs": [
    {
     "ename": "TypeError",
     "evalue": "'int' object is not callable",
     "output_type": "error",
     "traceback": [
      "\u001b[1;31m---------------------------------------------------------------------------\u001b[0m",
      "\u001b[1;31mTypeError\u001b[0m                                 Traceback (most recent call last)",
      "Cell \u001b[1;32mIn[5], line 1\u001b[0m\n\u001b[1;32m----> 1\u001b[0m \u001b[38;5;28msum\u001b[39m(\u001b[38;5;124m'\u001b[39m\u001b[38;5;124mpython\u001b[39m\u001b[38;5;124m'\u001b[39m)\n",
      "\u001b[1;31mTypeError\u001b[0m: 'int' object is not callable"
     ]
    }
   ],
   "source": [
    "sum('python')"
   ]
  },
  {
   "cell_type": "markdown",
   "id": "4f6022e8-6c1f-4969-8d17-5f86bd5094c3",
   "metadata": {},
   "source": [
    "**sorted**"
   ]
  },
  {
   "cell_type": "markdown",
   "id": "c3fa98a9-e4b0-41ca-8538-278202d16c3b",
   "metadata": {},
   "source": [
    "- sorted means either ascending or descending order\n",
    "\n",
    "- ascending order : small to big\n",
    "- descending : Big to small"
   ]
  },
  {
   "cell_type": "code",
   "execution_count": 24,
   "id": "f040c9d2-7c9e-41de-a6ee-5d74cc8b0dbe",
   "metadata": {},
   "outputs": [
    {
     "data": {
      "text/plain": [
       "['h', 'n', 'o', 'p', 't', 'y']"
      ]
     },
     "execution_count": 24,
     "metadata": {},
     "output_type": "execute_result"
    }
   ],
   "source": [
    "sorted('python')"
   ]
  },
  {
   "cell_type": "code",
   "execution_count": 26,
   "id": "5933cb2e-dde4-4358-9362-6ce26c96206a",
   "metadata": {},
   "outputs": [
    {
     "name": "stdout",
     "output_type": "stream",
     "text": [
      "30\n"
     ]
    }
   ],
   "source": [
    "def add(a,b):\n",
    "    print(a+b)\n",
    "add(10,20)\n"
   ]
  },
  {
   "cell_type": "code",
   "execution_count": 28,
   "id": "7d54774b-07e6-432c-a683-3af784037eda",
   "metadata": {},
   "outputs": [
    {
     "name": "stdout",
     "output_type": "stream",
     "text": [
      "30\n"
     ]
    }
   ],
   "source": [
    "def add(a,b):\n",
    "    print(a+b)\n",
    "add(10,20)"
   ]
  },
  {
   "cell_type": "code",
   "execution_count": 29,
   "id": "198a730b-b6ca-4584-9e59-6e8bd9f26f58",
   "metadata": {},
   "outputs": [
    {
     "ename": "TypeError",
     "evalue": "add() got some positional-only arguments passed as keyword arguments: 'a'",
     "output_type": "error",
     "traceback": [
      "\u001b[1;31m---------------------------------------------------------------------------\u001b[0m",
      "\u001b[1;31mTypeError\u001b[0m                                 Traceback (most recent call last)",
      "Cell \u001b[1;32mIn[29], line 4\u001b[0m\n\u001b[0;32m      1\u001b[0m \u001b[38;5;28;01mdef\u001b[39;00m \u001b[38;5;21madd\u001b[39m(a,\u001b[38;5;241m/\u001b[39m,b):\n\u001b[0;32m      2\u001b[0m     \u001b[38;5;28mprint\u001b[39m(a\u001b[38;5;241m+\u001b[39mb)\n\u001b[1;32m----> 4\u001b[0m add(a\u001b[38;5;241m=\u001b[39m\u001b[38;5;241m10\u001b[39m,b\u001b[38;5;241m=\u001b[39m\u001b[38;5;241m20\u001b[39m)\n",
      "\u001b[1;31mTypeError\u001b[0m: add() got some positional-only arguments passed as keyword arguments: 'a'"
     ]
    }
   ],
   "source": [
    "def add(a,/,b):\n",
    "    print(a+b)\n",
    "\n",
    "add(a=10,b=20)"
   ]
  },
  {
   "cell_type": "code",
   "execution_count": 30,
   "id": "4052dba5-bb59-468e-90ec-fb1b9b1756ed",
   "metadata": {},
   "outputs": [
    {
     "name": "stdout",
     "output_type": "stream",
     "text": [
      "30\n"
     ]
    }
   ],
   "source": [
    "def add(a,/,b):\n",
    "    print(a+b)\n",
    "\n",
    "add(10,b=20)"
   ]
  },
  {
   "cell_type": "code",
   "execution_count": 31,
   "id": "30d5cc0d-e3b4-45e1-ab2c-9194521c6acd",
   "metadata": {},
   "outputs": [
    {
     "ename": "SyntaxError",
     "evalue": "positional argument follows keyword argument (187450653.py, line 4)",
     "output_type": "error",
     "traceback": [
      "\u001b[1;36m  Cell \u001b[1;32mIn[31], line 4\u001b[1;36m\u001b[0m\n\u001b[1;33m    add(a=10,20)\u001b[0m\n\u001b[1;37m               ^\u001b[0m\n\u001b[1;31mSyntaxError\u001b[0m\u001b[1;31m:\u001b[0m positional argument follows keyword argument\n"
     ]
    }
   ],
   "source": [
    "def add(a,/,b):\n",
    "    print(a+b)\n",
    "\n",
    "add(a=10,20)             ########################### slash before not working"
   ]
  },
  {
   "cell_type": "code",
   "execution_count": 32,
   "id": "f7bfdcf2-b107-4e91-9729-d570280d2fbf",
   "metadata": {},
   "outputs": [
    {
     "name": "stdout",
     "output_type": "stream",
     "text": [
      "30\n"
     ]
    }
   ],
   "source": [
    "def add(a,/,b):\n",
    "    print(a+b)\n",
    "\n",
    "add(10,20)"
   ]
  },
  {
   "cell_type": "code",
   "execution_count": 19,
   "id": "6fee4b29-6a6c-46b5-bef4-9a0fdc86f52d",
   "metadata": {},
   "outputs": [
    {
     "ename": "TypeError",
     "evalue": "sorted expected 1 argument, got 0",
     "output_type": "error",
     "traceback": [
      "\u001b[1;31m---------------------------------------------------------------------------\u001b[0m",
      "\u001b[1;31mTypeError\u001b[0m                                 Traceback (most recent call last)",
      "Cell \u001b[1;32mIn[19], line 1\u001b[0m\n\u001b[1;32m----> 1\u001b[0m \u001b[38;5;28msorted\u001b[39m(iterable\u001b[38;5;241m=\u001b[39m\u001b[38;5;124m'\u001b[39m\u001b[38;5;124mpython\u001b[39m\u001b[38;5;124m'\u001b[39m)\n",
      "\u001b[1;31mTypeError\u001b[0m: sorted expected 1 argument, got 0"
     ]
    }
   ],
   "source": [
    "sorted(iterable='python')"
   ]
  },
  {
   "cell_type": "markdown",
   "id": "dbfd7722-0a42-409c-933f-4f7865c7df50",
   "metadata": {},
   "source": [
    "**Note**\n",
    "- / before don't use argument name\n",
    "- / after you can use argument name, that is our wish\n",
    "- (*) indicates no need maintain the order of the arguments"
   ]
  },
  {
   "cell_type": "code",
   "execution_count": 5,
   "id": "187ac7df-f0cb-45e3-9c52-aeb360e474a4",
   "metadata": {},
   "outputs": [
    {
     "name": "stdout",
     "output_type": "stream",
     "text": [
      "60\n"
     ]
    }
   ],
   "source": [
    "def add(a,/,*,b,c):\n",
    "    print(a+b+c)\n",
    "\n",
    "add(10,c=20,30)"
   ]
  },
  {
   "cell_type": "code",
   "execution_count": 38,
   "id": "492ed444-0aa5-4815-882c-041480f040a7",
   "metadata": {},
   "outputs": [
    {
     "name": "stdout",
     "output_type": "stream",
     "text": [
      "60\n"
     ]
    }
   ],
   "source": [
    "def add(a,/,*,b,c):\n",
    "    print(a+b+c)\n",
    "\n",
    "add(10,c=20,b=30)"
   ]
  },
  {
   "cell_type": "code",
   "execution_count": 45,
   "id": "ee277cfb-a58d-404c-82a5-76785de9461a",
   "metadata": {},
   "outputs": [
    {
     "ename": "TypeError",
     "evalue": "add() takes 1 positional argument but 2 were given",
     "output_type": "error",
     "traceback": [
      "\u001b[1;31m---------------------------------------------------------------------------\u001b[0m",
      "\u001b[1;31mTypeError\u001b[0m                                 Traceback (most recent call last)",
      "Cell \u001b[1;32mIn[45], line 4\u001b[0m\n\u001b[0;32m      1\u001b[0m \u001b[38;5;28;01mdef\u001b[39;00m \u001b[38;5;21madd\u001b[39m(a,\u001b[38;5;241m/\u001b[39m,\u001b[38;5;241m*\u001b[39m,b,c):\n\u001b[0;32m      2\u001b[0m     \u001b[38;5;28mprint\u001b[39m(a\u001b[38;5;241m+\u001b[39mb\u001b[38;5;241m+\u001b[39mc)\n\u001b[1;32m----> 4\u001b[0m add(\u001b[38;5;241m10\u001b[39m,\u001b[38;5;241m30\u001b[39m)\n",
      "\u001b[1;31mTypeError\u001b[0m: add() takes 1 positional argument but 2 were given"
     ]
    }
   ],
   "source": [
    "def add(a,/,*,b,c):\n",
    "    print(a+b+c)\n",
    "\n",
    "add(10,30)"
   ]
  },
  {
   "cell_type": "code",
   "execution_count": 46,
   "id": "ad39f806-d56e-490e-9f12-55d282029ae8",
   "metadata": {},
   "outputs": [
    {
     "ename": "TypeError",
     "evalue": "add() got some positional-only arguments passed as keyword arguments: 'a'",
     "output_type": "error",
     "traceback": [
      "\u001b[1;31m---------------------------------------------------------------------------\u001b[0m",
      "\u001b[1;31mTypeError\u001b[0m                                 Traceback (most recent call last)",
      "Cell \u001b[1;32mIn[46], line 4\u001b[0m\n\u001b[0;32m      1\u001b[0m \u001b[38;5;28;01mdef\u001b[39;00m \u001b[38;5;21madd\u001b[39m(a,\u001b[38;5;241m/\u001b[39m,\u001b[38;5;241m*\u001b[39m,b,c):\n\u001b[0;32m      2\u001b[0m     \u001b[38;5;28mprint\u001b[39m(a\u001b[38;5;241m+\u001b[39mb\u001b[38;5;241m+\u001b[39mc)\n\u001b[1;32m----> 4\u001b[0m add(a\u001b[38;5;241m=\u001b[39m\u001b[38;5;241m10\u001b[39m,c\u001b[38;5;241m=\u001b[39m\u001b[38;5;241m20\u001b[39m,b\u001b[38;5;241m=\u001b[39m\u001b[38;5;241m30\u001b[39m)\n",
      "\u001b[1;31mTypeError\u001b[0m: add() got some positional-only arguments passed as keyword arguments: 'a'"
     ]
    }
   ],
   "source": [
    "def add(a,/,*,b,c):\n",
    "    print(a+b+c)\n",
    "\n",
    "add(a=10,c=20,b=30)"
   ]
  },
  {
   "cell_type": "markdown",
   "id": "62d09d8b-1aff-4aed-8df2-dca33c09ab4e",
   "metadata": {},
   "source": [
    "**Note**\n",
    "\n",
    "- (*) indicates provide the argument name"
   ]
  },
  {
   "cell_type": "code",
   "execution_count": 21,
   "id": "496ee433-c8d8-418b-aa67-e393a44d8469",
   "metadata": {},
   "outputs": [
    {
     "data": {
      "text/plain": [
       "['y', 't', 'p', 'o', 'n', 'h']"
      ]
     },
     "execution_count": 21,
     "metadata": {},
     "output_type": "execute_result"
    }
   ],
   "source": [
    "sorted('python',reverse=True)"
   ]
  },
  {
   "cell_type": "code",
   "execution_count": null,
   "id": "534e93a8-0ef8-4a93-a642-4e96c2ef3021",
   "metadata": {},
   "outputs": [],
   "source": [
    "sorted('python')              ###################### W\n",
    "sorted(iterable='python')     #######################  F\n",
    "sorted('python',reverse=True)    #################### w\n",
    "sorted(iterable='python',reverse=True) ############### F\n",
    "sorted('python',True) ############# F"
   ]
  },
  {
   "cell_type": "code",
   "execution_count": 24,
   "id": "bc6291e3-21d0-447f-b56f-212fbe6ce0b6",
   "metadata": {},
   "outputs": [
    {
     "data": {
      "text/plain": [
       "['t', 'r', 'l', 'i', 'e', 'e', 'b', 'a']"
      ]
     },
     "execution_count": 24,
     "metadata": {},
     "output_type": "execute_result"
    }
   ],
   "source": [
    "sorted('iterable',reverse=True)"
   ]
  },
  {
   "cell_type": "code",
   "execution_count": 28,
   "id": "aa139a25-f162-4bf9-a82f-6eb11ffc638c",
   "metadata": {},
   "outputs": [
    {
     "ename": "TypeError",
     "evalue": "sorted expected 1 argument, got 0",
     "output_type": "error",
     "traceback": [
      "\u001b[1;31m---------------------------------------------------------------------------\u001b[0m",
      "\u001b[1;31mTypeError\u001b[0m                                 Traceback (most recent call last)",
      "Cell \u001b[1;32mIn[28], line 1\u001b[0m\n\u001b[1;32m----> 1\u001b[0m \u001b[38;5;28msorted\u001b[39m(iterable\u001b[38;5;241m=\u001b[39m\u001b[38;5;124m'\u001b[39m\u001b[38;5;124mpython\u001b[39m\u001b[38;5;124m'\u001b[39m)\n",
      "\u001b[1;31mTypeError\u001b[0m: sorted expected 1 argument, got 0"
     ]
    }
   ],
   "source": [
    "sorted(iterable='python')"
   ]
  },
  {
   "cell_type": "code",
   "execution_count": 49,
   "id": "bb3c4850-981e-4487-91fe-2fc6e1d42f8a",
   "metadata": {},
   "outputs": [
    {
     "data": {
      "text/plain": [
       "['y', 't', 'p', 'o', 'n', 'h']"
      ]
     },
     "execution_count": 49,
     "metadata": {},
     "output_type": "execute_result"
    }
   ],
   "source": [
    "sorted('python',reverse=True)"
   ]
  },
  {
   "cell_type": "code",
   "execution_count": 50,
   "id": "76fcc1fe-23e9-424e-8efb-996ba187325b",
   "metadata": {},
   "outputs": [
    {
     "ename": "TypeError",
     "evalue": "sorted expected 1 argument, got 2",
     "output_type": "error",
     "traceback": [
      "\u001b[1;31m---------------------------------------------------------------------------\u001b[0m",
      "\u001b[1;31mTypeError\u001b[0m                                 Traceback (most recent call last)",
      "Cell \u001b[1;32mIn[50], line 1\u001b[0m\n\u001b[1;32m----> 1\u001b[0m \u001b[38;5;28msorted\u001b[39m(\u001b[38;5;124m'\u001b[39m\u001b[38;5;124mpython\u001b[39m\u001b[38;5;124m'\u001b[39m,\u001b[38;5;28;01mTrue\u001b[39;00m)\n",
      "\u001b[1;31mTypeError\u001b[0m: sorted expected 1 argument, got 2"
     ]
    }
   ],
   "source": [
    "sorted('python',True)"
   ]
  },
  {
   "cell_type": "markdown",
   "id": "30155f05-f900-452f-9d00-81245f5514ab",
   "metadata": {},
   "source": [
    "**reversed**"
   ]
  },
  {
   "cell_type": "code",
   "execution_count": 51,
   "id": "e46c7835-31bd-48b9-be44-cd82cb298ecc",
   "metadata": {},
   "outputs": [
    {
     "ename": "TypeError",
     "evalue": "reversed() takes no keyword arguments",
     "output_type": "error",
     "traceback": [
      "\u001b[1;31m---------------------------------------------------------------------------\u001b[0m",
      "\u001b[1;31mTypeError\u001b[0m                                 Traceback (most recent call last)",
      "Cell \u001b[1;32mIn[51], line 1\u001b[0m\n\u001b[1;32m----> 1\u001b[0m \u001b[38;5;28mreversed\u001b[39m(sequence\u001b[38;5;241m=\u001b[39m\u001b[38;5;124m'\u001b[39m\u001b[38;5;124mabhay\u001b[39m\u001b[38;5;124m'\u001b[39m)\n",
      "\u001b[1;31mTypeError\u001b[0m: reversed() takes no keyword arguments"
     ]
    }
   ],
   "source": [
    "reversed(sequence='abhay')"
   ]
  },
  {
   "cell_type": "code",
   "execution_count": 29,
   "id": "034bf245-2551-476a-9491-ec6e5f6aec5e",
   "metadata": {},
   "outputs": [
    {
     "data": {
      "text/plain": [
       "<reversed at 0x216d0a21360>"
      ]
     },
     "execution_count": 29,
     "metadata": {},
     "output_type": "execute_result"
    }
   ],
   "source": [
    "reversed('abhay')"
   ]
  },
  {
   "cell_type": "code",
   "execution_count": 36,
   "id": "368813d8-c3ae-4804-82d6-ad7f5e8748b7",
   "metadata": {},
   "outputs": [
    {
     "data": {
      "text/plain": [
       "<reversed at 0x216d0ac16c0>"
      ]
     },
     "execution_count": 36,
     "metadata": {},
     "output_type": "execute_result"
    }
   ],
   "source": [
    "ans=reversed('singhabhay')\n",
    "ans"
   ]
  },
  {
   "cell_type": "code",
   "execution_count": 37,
   "id": "3248e6da-20d2-42ef-835b-523e3176909c",
   "metadata": {},
   "outputs": [
    {
     "name": "stdout",
     "output_type": "stream",
     "text": [
      "y\n",
      "a\n",
      "h\n",
      "b\n",
      "a\n",
      "h\n",
      "g\n",
      "n\n",
      "i\n",
      "s\n"
     ]
    }
   ],
   "source": [
    "for i in ans:\n",
    "    print(i)"
   ]
  },
  {
   "cell_type": "markdown",
   "id": "6dd07b06-acd2-4cbf-bf1a-8efae2444449",
   "metadata": {},
   "source": [
    "- Answer saved at address memory location\n",
    "- we can see the answer by using for loop or list\n",
    "- whenever we see less than greater than symbol answer\n",
    "- try to apply for loop or list"
   ]
  },
  {
   "cell_type": "code",
   "execution_count": 55,
   "id": "bca95369-b23d-4835-8337-1b8b830be34e",
   "metadata": {},
   "outputs": [
    {
     "data": {
      "text/plain": [
       "<reversed at 0x14e60001240>"
      ]
     },
     "execution_count": 55,
     "metadata": {},
     "output_type": "execute_result"
    }
   ],
   "source": [
    "ans=reversed('abhay')\n",
    "ans"
   ]
  },
  {
   "cell_type": "code",
   "execution_count": 56,
   "id": "f559cac8-64a7-4a7e-ab74-979bf6b80486",
   "metadata": {},
   "outputs": [
    {
     "name": "stdout",
     "output_type": "stream",
     "text": [
      "y\n",
      "a\n",
      "h\n",
      "b\n",
      "a\n"
     ]
    }
   ],
   "source": [
    "for i in ans:\n",
    "    print(i)"
   ]
  },
  {
   "cell_type": "markdown",
   "id": "a997cde1-63c1-4175-a011-7a013bbec217",
   "metadata": {},
   "source": [
    "**Concatenation**"
   ]
  },
  {
   "cell_type": "code",
   "execution_count": 57,
   "id": "53b664eb-523c-4faf-bc9b-01e56ce1c989",
   "metadata": {},
   "outputs": [
    {
     "data": {
      "text/plain": [
       "'hellopython'"
      ]
     },
     "execution_count": 57,
     "metadata": {},
     "output_type": "execute_result"
    }
   ],
   "source": [
    "str1='hello'\n",
    "str2='python'\n",
    "str1+str2"
   ]
  },
  {
   "cell_type": "code",
   "execution_count": 58,
   "id": "1a9ffe3d-3712-4649-98cf-f30017938540",
   "metadata": {},
   "outputs": [
    {
     "ename": "TypeError",
     "evalue": "unsupported operand type(s) for -: 'str' and 'str'",
     "output_type": "error",
     "traceback": [
      "\u001b[1;31m---------------------------------------------------------------------------\u001b[0m",
      "\u001b[1;31mTypeError\u001b[0m                                 Traceback (most recent call last)",
      "Cell \u001b[1;32mIn[58], line 3\u001b[0m\n\u001b[0;32m      1\u001b[0m str1\u001b[38;5;241m=\u001b[39m\u001b[38;5;124m'\u001b[39m\u001b[38;5;124mhello\u001b[39m\u001b[38;5;124m'\u001b[39m\n\u001b[0;32m      2\u001b[0m str2\u001b[38;5;241m=\u001b[39m\u001b[38;5;124m'\u001b[39m\u001b[38;5;124mpython\u001b[39m\u001b[38;5;124m'\u001b[39m\n\u001b[1;32m----> 3\u001b[0m str1\u001b[38;5;241m-\u001b[39mstr2\n",
      "\u001b[1;31mTypeError\u001b[0m: unsupported operand type(s) for -: 'str' and 'str'"
     ]
    }
   ],
   "source": [
    "str1='hello'\n",
    "str2='python'\n",
    "str1-str2"
   ]
  },
  {
   "cell_type": "code",
   "execution_count": 39,
   "id": "e4292618-1998-41bb-a93d-5dea933506cc",
   "metadata": {},
   "outputs": [
    {
     "ename": "TypeError",
     "evalue": "unsupported operand type(s) for /: 'str' and 'str'",
     "output_type": "error",
     "traceback": [
      "\u001b[1;31m---------------------------------------------------------------------------\u001b[0m",
      "\u001b[1;31mTypeError\u001b[0m                                 Traceback (most recent call last)",
      "Cell \u001b[1;32mIn[39], line 3\u001b[0m\n\u001b[0;32m      1\u001b[0m str1\u001b[38;5;241m=\u001b[39m \u001b[38;5;124m'\u001b[39m\u001b[38;5;124mhello\u001b[39m\u001b[38;5;124m'\u001b[39m\n\u001b[0;32m      2\u001b[0m str2\u001b[38;5;241m=\u001b[39m \u001b[38;5;124m'\u001b[39m\u001b[38;5;124mpython\u001b[39m\u001b[38;5;124m'\u001b[39m\n\u001b[1;32m----> 3\u001b[0m str1\u001b[38;5;241m/\u001b[39mstr2\n",
      "\u001b[1;31mTypeError\u001b[0m: unsupported operand type(s) for /: 'str' and 'str'"
     ]
    }
   ],
   "source": [
    "str1= 'hello'\n",
    "str2= 'python'\n",
    "str1/str2"
   ]
  },
  {
   "cell_type": "code",
   "execution_count": 42,
   "id": "af16ce06-5b9b-4d63-aa17-a323e3ec4790",
   "metadata": {},
   "outputs": [
    {
     "name": "stdout",
     "output_type": "stream",
     "text": [
      "8.0\n"
     ]
    }
   ],
   "source": [
    "a=40\n",
    "b=5\n",
    "div=a/b\n",
    "print(div)"
   ]
  },
  {
   "cell_type": "code",
   "execution_count": 59,
   "id": "8de28b90-d124-47f0-830d-6ebdd739575d",
   "metadata": {},
   "outputs": [
    {
     "ename": "TypeError",
     "evalue": "can't multiply sequence by non-int of type 'str'",
     "output_type": "error",
     "traceback": [
      "\u001b[1;31m---------------------------------------------------------------------------\u001b[0m",
      "\u001b[1;31mTypeError\u001b[0m                                 Traceback (most recent call last)",
      "Cell \u001b[1;32mIn[59], line 3\u001b[0m\n\u001b[0;32m      1\u001b[0m str1\u001b[38;5;241m=\u001b[39m\u001b[38;5;124m'\u001b[39m\u001b[38;5;124mhello\u001b[39m\u001b[38;5;124m'\u001b[39m\n\u001b[0;32m      2\u001b[0m str2\u001b[38;5;241m=\u001b[39m\u001b[38;5;124m'\u001b[39m\u001b[38;5;124mpython\u001b[39m\u001b[38;5;124m'\u001b[39m\n\u001b[1;32m----> 3\u001b[0m str1\u001b[38;5;241m*\u001b[39mstr2\n",
      "\u001b[1;31mTypeError\u001b[0m: can't multiply sequence by non-int of type 'str'"
     ]
    }
   ],
   "source": [
    "str1='hello'\n",
    "str2='python'\n",
    "str1*str2"
   ]
  },
  {
   "cell_type": "code",
   "execution_count": 5,
   "id": "1ce7f47c-df08-464d-b0b7-b18390bbba02",
   "metadata": {},
   "outputs": [
    {
     "data": {
      "text/plain": [
       "'python python python '"
      ]
     },
     "execution_count": 5,
     "metadata": {},
     "output_type": "execute_result"
    }
   ],
   "source": [
    "\"python \"*3"
   ]
  },
  {
   "cell_type": "code",
   "execution_count": 45,
   "id": "9756fb48-7287-4c57-bf25-d544d2eaa5c9",
   "metadata": {},
   "outputs": [
    {
     "data": {
      "text/plain": [
       "'ram ram ram ram '"
      ]
     },
     "execution_count": 45,
     "metadata": {},
     "output_type": "execute_result"
    }
   ],
   "source": [
    "\"ram \"*4"
   ]
  },
  {
   "cell_type": "code",
   "execution_count": 66,
   "id": "0d69dd1b-7295-43fe-a8fa-f70c891aadc3",
   "metadata": {},
   "outputs": [
    {
     "data": {
      "text/plain": [
       "'hello python'"
      ]
     },
     "execution_count": 66,
     "metadata": {},
     "output_type": "execute_result"
    }
   ],
   "source": [
    "str1='hello'\n",
    "str2=' python'\n",
    "str1+str2"
   ]
  },
  {
   "cell_type": "code",
   "execution_count": 68,
   "id": "c6bdb232-c072-4540-bd73-bccf6a8212ab",
   "metadata": {},
   "outputs": [
    {
     "data": {
      "text/plain": [
       "'hello python'"
      ]
     },
     "execution_count": 68,
     "metadata": {},
     "output_type": "execute_result"
    }
   ],
   "source": [
    "str1='hello'\n",
    "str2='python'\n",
    "str1+\" \"+str2"
   ]
  },
  {
   "cell_type": "code",
   "execution_count": 69,
   "id": "93a39ae6-2372-4aae-943d-a4225f67014d",
   "metadata": {},
   "outputs": [
    {
     "data": {
      "text/plain": [
       "'hello  python'"
      ]
     },
     "execution_count": 69,
     "metadata": {},
     "output_type": "execute_result"
    }
   ],
   "source": [
    "str1='hello '\n",
    "str2=' python'\n",
    "str1+str2"
   ]
  },
  {
   "cell_type": "code",
   "execution_count": null,
   "id": "e217f3d1-61f3-49a7-8cc7-ef29c914ff90",
   "metadata": {},
   "outputs": [],
   "source": [
    "- basic represenations\n",
    "- min max len\n",
    "- sorted\n",
    "- reversed\n",
    "- concetenation"
   ]
  },
  {
   "cell_type": "markdown",
   "id": "ff320e06-b0df-408b-84f7-734a5fccaad4",
   "metadata": {},
   "source": [
    "**index**"
   ]
  },
  {
   "cell_type": "code",
   "execution_count": 6,
   "id": "38078943-f13a-4ae1-8879-dfae2b1d5fdc",
   "metadata": {},
   "outputs": [
    {
     "data": {
      "text/plain": [
       "'python'"
      ]
     },
     "execution_count": 6,
     "metadata": {},
     "output_type": "execute_result"
    }
   ],
   "source": [
    "str1=\"python\"\n",
    "str1"
   ]
  },
  {
   "cell_type": "code",
   "execution_count": null,
   "id": "1a8804e6-59c7-4a45-a8f1-49085bee439d",
   "metadata": {},
   "outputs": [],
   "source": [
    "-6 -5 -4 -3 -2 -1      # neg\n",
    "p  y  t  h  o  n\n",
    "0  1  2  3  4  5      # pos"
   ]
  },
  {
   "cell_type": "markdown",
   "id": "9914a613-2a87-4f0c-a50c-cafa79084cb3",
   "metadata": {},
   "source": [
    "- access the charcters or element use square bracket"
   ]
  },
  {
   "cell_type": "code",
   "execution_count": 14,
   "id": "1a2f9809-3105-49f8-8fb0-fb022bc93145",
   "metadata": {},
   "outputs": [
    {
     "data": {
      "text/plain": [
       "('n', 'n')"
      ]
     },
     "execution_count": 14,
     "metadata": {},
     "output_type": "execute_result"
    }
   ],
   "source": [
    "str1[0],str1[-6]\n",
    "str1[1],str1[-5]\n",
    "str1[2],str1[-4]\n",
    "str1[3],str1[-3]\n",
    "str1[4],str1[-2]\n",
    "str1[5],str1[-1]"
   ]
  },
  {
   "cell_type": "code",
   "execution_count": 18,
   "id": "77235118-a62b-4659-97de-c329e8f5ef05",
   "metadata": {},
   "outputs": [
    {
     "name": "stdout",
     "output_type": "stream",
     "text": [
      "p\n",
      "y\n",
      "t\n",
      "h\n",
      "o\n",
      "n\n"
     ]
    }
   ],
   "source": [
    "for i in range(0,6):\n",
    "    print(str1[i])"
   ]
  },
  {
   "cell_type": "code",
   "execution_count": 47,
   "id": "3f8736ec-66e6-47c6-9192-0cdd3074e972",
   "metadata": {},
   "outputs": [
    {
     "name": "stdout",
     "output_type": "stream",
     "text": [
      "h\n",
      "e\n",
      "l\n",
      "l\n",
      "o\n",
      " \n",
      "h\n",
      "o\n",
      "w\n",
      " \n",
      "a\n",
      "r\n",
      "e\n",
      " \n",
      "y\n",
      "o\n",
      "u\n",
      "136\n",
      "136\n"
     ]
    }
   ],
   "source": [
    "str1='hello how are you'\n",
    "n=len(str1)\n",
    "count=0\n",
    "summ=0\n",
    "for i in range(0,n):\n",
    "    print(str1[i])\n",
    "    count+=i\n",
    "    summ+=i\n",
    "\n",
    "print(count)\n",
    "print(summ)"
   ]
  },
  {
   "cell_type": "code",
   "execution_count": 23,
   "id": "54bbb25c-fb9f-488b-b952-68ce7a4d09bd",
   "metadata": {},
   "outputs": [
    {
     "name": "stdout",
     "output_type": "stream",
     "text": [
      " the postive index p is : 0\n",
      " the postive index y is : 1\n",
      " the postive index t is : 2\n",
      " the postive index h is : 3\n",
      " the postive index o is : 4\n",
      " the postive index n is : 5\n"
     ]
    }
   ],
   "source": [
    "# Q.1 the postive index of p is 0\n",
    "# the postive index of y is 1\n",
    "# the postive index of n is 2\n",
    "\n",
    "str1='python'\n",
    "n=len(str1)\n",
    "for i in range(0,n):\n",
    "    print(f\" the postive index {str1[i]} is : {i}\")"
   ]
  },
  {
   "cell_type": "code",
   "execution_count": 35,
   "id": "07576d9a-5932-4a4b-8af8-e8a43a305215",
   "metadata": {},
   "outputs": [
    {
     "name": "stdout",
     "output_type": "stream",
     "text": [
      " the negtaive index p is : -6\n",
      " the negtaive index y is : -5\n",
      " the negtaive index t is : -4\n",
      " the negtaive index h is : -3\n",
      " the negtaive index o is : -2\n",
      " the negtaive index n is : -1\n"
     ]
    }
   ],
   "source": [
    "# Q.2 the postive index of p is -6\n",
    "# the postive index of y is -5\n",
    "# the postive index of n is -4\n",
    "\n",
    "str1='python'\n",
    "n=len(str1)\n",
    "for i in range(-6,0):\n",
    "    print(f\" the negtaive index {str1[i]} is : {i}\")\n"
   ]
  },
  {
   "cell_type": "code",
   "execution_count": 45,
   "id": "14eac228-d8db-42b6-bc6e-b5c01366e89d",
   "metadata": {},
   "outputs": [
    {
     "name": "stdout",
     "output_type": "stream",
     "text": [
      "the postive index p is : 0\n",
      "the negative index p is : -6\n",
      "\n",
      "\n",
      "the postive index y is : 1\n",
      "the negative index y is : -5\n",
      "\n",
      "\n",
      "the postive index t is : 2\n",
      "the negative index t is : -4\n",
      "\n",
      "\n",
      "the postive index h is : 3\n",
      "the negative index h is : -3\n",
      "\n",
      "\n",
      "the postive index o is : 4\n",
      "the negative index o is : -2\n",
      "\n",
      "\n",
      "the postive index n is : 5\n",
      "the negative index n is : -1\n",
      "\n",
      "\n"
     ]
    }
   ],
   "source": [
    "# Q.3 the postvive index is 0 and negtaive index is -6 for p\n",
    "str1='python'\n",
    "n=len(str1)\n",
    "for i in range(0,n):\n",
    "    print(f\"the postive index {str1[i]} is : {i}\")\n",
    "    print(f\"the negative index {str1[i]} is : {i-n}\")\n",
    "    print(\"\\n\")\n",
    "    "
   ]
  },
  {
   "cell_type": "code",
   "execution_count": 36,
   "id": "7518aed0-4cce-41c0-ab27-698512a57a15",
   "metadata": {},
   "outputs": [
    {
     "name": "stdout",
     "output_type": "stream",
     "text": [
      "0 -6\n",
      "1 -5\n",
      "2 -4\n",
      "3 -3\n",
      "4 -2\n",
      "5 -1\n"
     ]
    }
   ],
   "source": [
    "for i in range(0,6):\n",
    "    print(i,i-6)"
   ]
  },
  {
   "cell_type": "code",
   "execution_count": 47,
   "id": "9ee8dc13-0366-429e-b55f-4de38fe366d4",
   "metadata": {},
   "outputs": [
    {
     "name": "stdout",
     "output_type": "stream",
     "text": [
      "0 -6\n",
      "the postive index is 0, neagtive index is -6 for : p\n",
      "the postive index is 0 for : p\n",
      "the negative index is -6 for : p\n",
      "1 -5\n",
      "the postive index is 1, neagtive index is -5 for : y\n",
      "the postive index is 1 for : y\n",
      "the negative index is -5 for : y\n",
      "2 -4\n",
      "the postive index is 2, neagtive index is -4 for : t\n",
      "the postive index is 2 for : t\n",
      "the negative index is -4 for : t\n",
      "3 -3\n",
      "the postive index is 3, neagtive index is -3 for : h\n",
      "the postive index is 3 for : h\n",
      "the negative index is -3 for : h\n",
      "4 -2\n",
      "the postive index is 4, neagtive index is -2 for : o\n",
      "the postive index is 4 for : o\n",
      "the negative index is -2 for : o\n",
      "5 -1\n",
      "the postive index is 5, neagtive index is -1 for : n\n",
      "the postive index is 5 for : n\n",
      "the negative index is -1 for : n\n"
     ]
    }
   ],
   "source": [
    "str1='python'\n",
    "for i in range(0,6):\n",
    "    print(i,i-6)\n",
    "    print(f\"the postive index is {i}, neagtive index is {i-6} for : {str1[i]}\")\n",
    "    print(f\"the postive index is {i} for : {str1[i]}\")\n",
    "    print(f\"the negative index is {i-6} for : {str1[i-6]}\")"
   ]
  },
  {
   "cell_type": "markdown",
   "id": "4db3f831-fcf7-478f-b9b2-94f6154a481f",
   "metadata": {},
   "source": [
    "**when to use in ---- When to use range opeartor**\n"
   ]
  },
  {
   "cell_type": "markdown",
   "id": "b523fb7f-1659-40af-91fa-03075fc5714a",
   "metadata": {},
   "source": [
    "- **in** operator directly access the elements\n",
    "- **range** opeartor access the elements using index or numbers\n",
    "- any problem statement if you need numbers then go for range\n",
    "- otherwise go for in opeartor directly"
   ]
  },
  {
   "cell_type": "code",
   "execution_count": 50,
   "id": "13412e15-96d1-4f93-8198-564aca7309f3",
   "metadata": {},
   "outputs": [
    {
     "name": "stdout",
     "output_type": "stream",
     "text": [
      "p\n",
      "y\n",
      "t\n",
      "h\n",
      "o\n",
      "n\n",
      "0 p\n",
      "1 y\n",
      "2 t\n",
      "3 h\n",
      "4 o\n",
      "5 n\n"
     ]
    }
   ],
   "source": [
    "str1='python'\n",
    "for i in str1:\n",
    "    print(i)\n",
    "for i in range(0,6):\n",
    "    print(i,str1[i])"
   ]
  },
  {
   "cell_type": "code",
   "execution_count": 59,
   "id": "c07ce9ca-b12e-496b-871b-e20486bc0a37",
   "metadata": {},
   "outputs": [
    {
     "name": "stdout",
     "output_type": "stream",
     "text": [
      "2\n",
      "6\n",
      "10\n"
     ]
    }
   ],
   "source": [
    "# Q.4 wap program to find the indexes of 'a' in a given string \n",
    "# str1='ola ola ola'\n",
    "\n",
    "str1='ola ola ola'\n",
    "n=len(str1)\n",
    "for i in range(n):\n",
    "    if str1[i]=='a':\n",
    "        print(i)"
   ]
  },
  {
   "cell_type": "code",
   "execution_count": 4,
   "id": "96f06a67-df17-49b7-b0d8-fb6505c828e9",
   "metadata": {},
   "outputs": [
    {
     "name": "stdout",
     "output_type": "stream",
     "text": [
      "3\n"
     ]
    }
   ],
   "source": [
    "# Q.5 wap to find the sum of all indexes of 'a' in a given string\n",
    "# str1='ola ola ola'\n",
    "\n",
    "str1='ola ola ola'\n",
    "n=len(str1)\n",
    "summ=0\n",
    "for i in range(n):\n",
    "    if str1[i]=='a':\n",
    "        summ=summ+i\n",
    "print(summ)"
   ]
  },
  {
   "cell_type": "code",
   "execution_count": 1,
   "id": "fdc6c702-88da-4a12-811e-928552f65a8e",
   "metadata": {},
   "outputs": [
    {
     "name": "stdout",
     "output_type": "stream",
     "text": [
      "3\n"
     ]
    }
   ],
   "source": [
    "# Q.6 wap to find the number of 'a' in a given string \n",
    "# str1='ola ola ola'\n",
    "str1='ola ola ola'\n",
    "n=len(str1)\n",
    "count=0\n",
    "for i in range(n):\n",
    "    if str1[i]=='a':\n",
    "        count=count+1\n",
    "print(count)"
   ]
  },
  {
   "cell_type": "code",
   "execution_count": 3,
   "id": "815ca392-8afd-43a1-8bc6-5a43f5dc708a",
   "metadata": {},
   "outputs": [
    {
     "name": "stdout",
     "output_type": "stream",
     "text": [
      "a i o a e o u \n",
      "\n",
      "7\n"
     ]
    }
   ],
   "source": [
    "#Q.7 wap to find the vowels and its count in a given string \n",
    "# str1='hai how are you'\n",
    "\n",
    "str1='hai how are you'\n",
    "vowels='aeiou'\n",
    "n=len(str1)\n",
    "count=0\n",
    "for i in str1:\n",
    "    if i in vowels:\n",
    "        print(i,end=\" \")         #print(i)\n",
    "        count=count+1\n",
    "print(\"\\n\")\n",
    "print(count)"
   ]
  },
  {
   "cell_type": "code",
   "execution_count": 79,
   "id": "575bc972-b17b-4930-b0e1-eb8c43b200c6",
   "metadata": {},
   "outputs": [
    {
     "name": "stdout",
     "output_type": "stream",
     "text": [
      "a\n",
      "e\n"
     ]
    }
   ],
   "source": [
    "# Q.8 wap to find the vowels which are repaeting then print only one time\n",
    "#example : helleo \n",
    "# e is coming two times but we want to print only one time\n",
    "str1= 'aaae'\n",
    "s1=''\n",
    "for i in str1:\n",
    "    if i in 'aeiou' and i not in s1:\n",
    "        print(i)\n",
    "        s1=s1+i\n",
    "\n",
    "\n"
   ]
  },
  {
   "cell_type": "markdown",
   "id": "c1d79dac-8bf5-4904-b526-5d3215245e95",
   "metadata": {},
   "source": [
    "## mutable- immutable"
   ]
  },
  {
   "cell_type": "markdown",
   "id": "18eaaafb-0685-4909-9065-1aa3d9bbea3a",
   "metadata": {},
   "source": [
    "- we can multable means change       (list in mutable)\n",
    "- inmmutable means can not change     (string are inmmutable)\n",
    "- we can not change the elements using index operations"
   ]
  },
  {
   "cell_type": "markdown",
   "id": "f9e5e4ad-8fa5-4947-9733-9ebbbc2a3df0",
   "metadata": {},
   "source": [
    "**slice**\n",
    "\n",
    "- slice means cut into pices\n",
    "- it has same analogy with for loop range\n",
    "- in the for loop range we ahave start , stop, step\n",
    "- range(start,stop,step) str[start:stop:step]"
   ]
  },
  {
   "cell_type": "code",
   "execution_count": null,
   "id": "a67c2864-9869-42eb-8b98-d8820d05586c",
   "metadata": {},
   "outputs": [],
   "source": [
    "0    1    2   3   4   5   6    7  8   9  10 11 12  13  14 15 16\n",
    "h    e    l   l   o       h    o  w      a  r  e        y  o  u \n",
    "-17 -16 -15 -14 -13 -12  -11 -10 -9  -8  -7 -6 -5  -4  -3 -2 -1"
   ]
  },
  {
   "cell_type": "markdown",
   "id": "c920a7a4-c627-460d-a116-8a14a9158d84",
   "metadata": {},
   "source": [
    "$case-1$\n",
    "- by default start=0\n",
    "- by default step= postive direction 1\n",
    "- last=stop-1"
   ]
  },
  {
   "cell_type": "code",
   "execution_count": 5,
   "id": "132faecb-f104-4dd9-a066-3b6dfef1f4ae",
   "metadata": {},
   "outputs": [
    {
     "data": {
      "text/plain": [
       "'hello'"
      ]
     },
     "execution_count": 5,
     "metadata": {},
     "output_type": "execute_result"
    }
   ],
   "source": [
    "str1='hello how are you'\n",
    "str1[:5]\n",
    "#start =0 step =1 stop=5-1=4"
   ]
  },
  {
   "cell_type": "markdown",
   "id": "5e80e84e-fa56-470b-b20b-8fb0e0c5504d",
   "metadata": {},
   "source": [
    "$case-2$\n",
    "\n",
    "**str[start:]**\n",
    "  - by default start= start value\n",
    "  - by default step= postive direction 1\n",
    "  - last= last index"
   ]
  },
  {
   "cell_type": "code",
   "execution_count": 6,
   "id": "4fe57fa1-da7d-45b9-a3ee-3344457630c7",
   "metadata": {},
   "outputs": [
    {
     "data": {
      "text/plain": [
       "' how are you'"
      ]
     },
     "execution_count": 6,
     "metadata": {},
     "output_type": "execute_result"
    }
   ],
   "source": [
    "str1[5:]"
   ]
  },
  {
   "cell_type": "code",
   "execution_count": 7,
   "id": "df2fcc2b-d634-4b32-b93d-6c043606d05d",
   "metadata": {},
   "outputs": [
    {
     "data": {
      "text/plain": [
       "'you'"
      ]
     },
     "execution_count": 7,
     "metadata": {},
     "output_type": "execute_result"
    }
   ],
   "source": [
    "str1[-3:]"
   ]
  },
  {
   "cell_type": "markdown",
   "id": "06f177f2-5343-4055-85ed-92f330532a45",
   "metadata": {},
   "source": [
    "$case-3$ \n",
    "\n",
    "**str[start: stop]**\n",
    "- by default start=start value\n",
    "- by default step= postive dirwction 1\n",
    "- last = stop-1"
   ]
  },
  {
   "cell_type": "code",
   "execution_count": 9,
   "id": "8fde4b52-0223-412f-a229-51e54ac75f29",
   "metadata": {},
   "outputs": [
    {
     "data": {
      "text/plain": [
       "'are y'"
      ]
     },
     "execution_count": 9,
     "metadata": {},
     "output_type": "execute_result"
    }
   ],
   "source": [
    "str1[10:15]"
   ]
  },
  {
   "cell_type": "code",
   "execution_count": 10,
   "id": "b9108108-10b1-4675-b195-9cc3aa2ec10b",
   "metadata": {},
   "outputs": [
    {
     "data": {
      "text/plain": [
       "'llo how '"
      ]
     },
     "execution_count": 10,
     "metadata": {},
     "output_type": "execute_result"
    }
   ],
   "source": [
    "str1[-15:10]"
   ]
  },
  {
   "cell_type": "code",
   "execution_count": 12,
   "id": "2ee77251-3fb6-48a3-9a0a-5cb3acee0fb0",
   "metadata": {},
   "outputs": [
    {
     "data": {
      "text/plain": [
       "''"
      ]
     },
     "execution_count": 12,
     "metadata": {},
     "output_type": "execute_result"
    }
   ],
   "source": [
    "str1[-10:2]  "
   ]
  },
  {
   "cell_type": "code",
   "execution_count": null,
   "id": "f61fce8d-9a63-4128-935b-dade15a415f3",
   "metadata": {},
   "outputs": [],
   "source": [
    "0    1    2   3   4   5   6    7  8   9  10 11 12  13  14 15 16\n",
    "h    e    l   l   o       h    o  w      a  r  e        y  o  u \n",
    "-17 -16 -15 -14 -13 -12  -11 -10 -9  -8  -7 -6 -5  -4  -3 -2 -1"
   ]
  },
  {
   "cell_type": "code",
   "execution_count": 13,
   "id": "8b928dcc-becf-43a9-b164-242e0dda14c9",
   "metadata": {},
   "outputs": [
    {
     "data": {
      "text/plain": [
       "' are yo'"
      ]
     },
     "execution_count": 13,
     "metadata": {},
     "output_type": "execute_result"
    }
   ],
   "source": [
    "str1[-8:16]"
   ]
  },
  {
   "cell_type": "code",
   "execution_count": 14,
   "id": "0188dee7-4d36-4419-9e1b-8c12c0c402e2",
   "metadata": {},
   "outputs": [
    {
     "data": {
      "text/plain": [
       "''"
      ]
     },
     "execution_count": 14,
     "metadata": {},
     "output_type": "execute_result"
    }
   ],
   "source": [
    "str1[-8:4]"
   ]
  },
  {
   "cell_type": "code",
   "execution_count": 15,
   "id": "3fd9b678-56d3-4833-bf22-d8b7873cadc5",
   "metadata": {},
   "outputs": [
    {
     "data": {
      "text/plain": [
       "'llo how are y'"
      ]
     },
     "execution_count": 15,
     "metadata": {},
     "output_type": "execute_result"
    }
   ],
   "source": [
    "str1[2:-2]"
   ]
  },
  {
   "cell_type": "markdown",
   "id": "443c1711-e7ac-45db-86db-4325c9d731dd",
   "metadata": {},
   "source": []
  },
  {
   "cell_type": "code",
   "execution_count": 18,
   "id": "de353614-fad5-43d3-adcf-6719ed81f9e1",
   "metadata": {},
   "outputs": [
    {
     "data": {
      "text/plain": [
       "'o'"
      ]
     },
     "execution_count": 18,
     "metadata": {},
     "output_type": "execute_result"
    }
   ],
   "source": [
    "str1[-2:16]"
   ]
  },
  {
   "cell_type": "code",
   "execution_count": null,
   "id": "b3da9362-8cd4-46cf-af60-7e4ce08690d6",
   "metadata": {},
   "outputs": [],
   "source": [
    "-17 -16 -15 -14 -13 -12  -11 -10 -9  -8  -7 -6 -5  -4  -3 -2 -1\n",
    "\n",
    "h    e    l   l   o       h    o  w      a  r  e        y  o  u \n",
    "\n",
    "0    1    2   3   4   5   6    7  8   9  10 11 12  13  14 15 16"
   ]
  },
  {
   "cell_type": "markdown",
   "id": "52f2fbe0-3344-4d81-8ed8-24a3c49881f1",
   "metadata": {},
   "source": [
    "$case-4$\n",
    "\n",
    "**str[start:stop:step]**\n",
    "\n",
    "-by default start=start value\n",
    "-by step is positve value\n",
    "  - last = stop-1\n",
    "- if step is negative value \n",
    "  - last = step+1"
   ]
  },
  {
   "cell_type": "code",
   "execution_count": 19,
   "id": "4cb4f1ea-e515-40f7-843c-d3edab7442cc",
   "metadata": {},
   "outputs": [
    {
     "data": {
      "text/plain": [
       "'lohwae'"
      ]
     },
     "execution_count": 19,
     "metadata": {},
     "output_type": "execute_result"
    }
   ],
   "source": [
    "str1[2:13:2]"
   ]
  },
  {
   "cell_type": "code",
   "execution_count": 21,
   "id": "f331484b-8471-4612-8289-5d2a749e343e",
   "metadata": {},
   "outputs": [
    {
     "data": {
      "text/plain": [
       "'lohwaey'"
      ]
     },
     "execution_count": 21,
     "metadata": {},
     "output_type": "execute_result"
    }
   ],
   "source": [
    "str1[2:-2:2]"
   ]
  },
  {
   "cell_type": "code",
   "execution_count": 23,
   "id": "8c68a961-b18a-417a-b853-dff47b74d0c6",
   "metadata": {},
   "outputs": [
    {
     "data": {
      "text/plain": [
       "'llo how are you'"
      ]
     },
     "execution_count": 23,
     "metadata": {},
     "output_type": "execute_result"
    }
   ],
   "source": [
    "str1[2:150]  # last value defind value"
   ]
  },
  {
   "cell_type": "code",
   "execution_count": 25,
   "id": "c83d973a-7889-49a7-b51e-be23fc023cd8",
   "metadata": {},
   "outputs": [
    {
     "data": {
      "text/plain": [
       "'hello how are you'"
      ]
     },
     "execution_count": 25,
     "metadata": {},
     "output_type": "execute_result"
    }
   ],
   "source": [
    "str1[:]"
   ]
  },
  {
   "cell_type": "code",
   "execution_count": 26,
   "id": "c678691c-5260-4f24-9387-0dcc4cdef342",
   "metadata": {},
   "outputs": [
    {
     "data": {
      "text/plain": [
       "'hello how are you'"
      ]
     },
     "execution_count": 26,
     "metadata": {},
     "output_type": "execute_result"
    }
   ],
   "source": [
    "str1[::]"
   ]
  },
  {
   "cell_type": "code",
   "execution_count": 27,
   "id": "e708fdd5-154e-4ee8-a160-f0b748f4936a",
   "metadata": {},
   "outputs": [
    {
     "data": {
      "text/plain": [
       "'uoy era woh olleh'"
      ]
     },
     "execution_count": 27,
     "metadata": {},
     "output_type": "execute_result"
    }
   ],
   "source": [
    "str1[::-1]"
   ]
  },
  {
   "cell_type": "code",
   "execution_count": 28,
   "id": "5995d024-8d2f-4696-bf61-8623500aea57",
   "metadata": {},
   "outputs": [
    {
     "data": {
      "text/plain": [
       "'ello how are you'"
      ]
     },
     "execution_count": 28,
     "metadata": {},
     "output_type": "execute_result"
    }
   ],
   "source": [
    "str1[1::]"
   ]
  },
  {
   "cell_type": "code",
   "execution_count": 29,
   "id": "3533acf8-b1db-4d3f-abba-e44ef5724f0d",
   "metadata": {},
   "outputs": [
    {
     "data": {
      "text/plain": [
       "'hell'"
      ]
     },
     "execution_count": 29,
     "metadata": {},
     "output_type": "execute_result"
    }
   ],
   "source": [
    "str1[:4:]"
   ]
  },
  {
   "cell_type": "code",
   "execution_count": 30,
   "id": "d0cd26a8-d454-4d95-bdb6-39ed0f08972b",
   "metadata": {},
   "outputs": [
    {
     "data": {
      "text/plain": [
       "'hello how are'"
      ]
     },
     "execution_count": 30,
     "metadata": {},
     "output_type": "execute_result"
    }
   ],
   "source": [
    "str1[:-4:]"
   ]
  },
  {
   "cell_type": "code",
   "execution_count": 32,
   "id": "e898855a-9508-4a48-a335-7fbc890cb933",
   "metadata": {},
   "outputs": [
    {
     "data": {
      "text/plain": [
       "5"
      ]
     },
     "execution_count": 32,
     "metadata": {},
     "output_type": "execute_result"
    }
   ],
   "source": [
    "num=12345\n",
    "int(str(num)[::-10])"
   ]
  },
  {
   "cell_type": "markdown",
   "id": "1860a0b6-5837-474f-8cdd-9017429d645b",
   "metadata": {},
   "source": [
    "- basic representions\n",
    "- inbuilt functions\n",
    "  - min max len type sum reveresed sorted\n",
    "- concatenation\n",
    "- index\n",
    "- in vs range\n",
    "- mutable and immutable\n",
    "- slice"
   ]
  },
  {
   "cell_type": "markdown",
   "id": "7d776dbe-ae68-40c6-8007-401eb37a893b",
   "metadata": {},
   "source": [
    "## Methodes"
   ]
  },
  {
   "cell_type": "code",
   "execution_count": null,
   "id": "f5a0cfea-c731-477a-a65e-6eb8eae55d41",
   "metadata": {},
   "outputs": [],
   "source": [
    "rabdom===randint"
   ]
  },
  {
   "cell_type": "code",
   "execution_count": 33,
   "id": "2ebdea5a-9028-4a19-857f-369bfb713e28",
   "metadata": {},
   "outputs": [
    {
     "data": {
      "text/plain": [
       "['__add__',\n",
       " '__class__',\n",
       " '__contains__',\n",
       " '__delattr__',\n",
       " '__dir__',\n",
       " '__doc__',\n",
       " '__eq__',\n",
       " '__format__',\n",
       " '__ge__',\n",
       " '__getattribute__',\n",
       " '__getitem__',\n",
       " '__getnewargs__',\n",
       " '__getstate__',\n",
       " '__gt__',\n",
       " '__hash__',\n",
       " '__init__',\n",
       " '__init_subclass__',\n",
       " '__iter__',\n",
       " '__le__',\n",
       " '__len__',\n",
       " '__lt__',\n",
       " '__mod__',\n",
       " '__mul__',\n",
       " '__ne__',\n",
       " '__new__',\n",
       " '__reduce__',\n",
       " '__reduce_ex__',\n",
       " '__repr__',\n",
       " '__rmod__',\n",
       " '__rmul__',\n",
       " '__setattr__',\n",
       " '__sizeof__',\n",
       " '__str__',\n",
       " '__subclasshook__',\n",
       " 'capitalize',\n",
       " 'casefold',\n",
       " 'center',\n",
       " 'count',\n",
       " 'encode',\n",
       " 'endswith',\n",
       " 'expandtabs',\n",
       " 'find',\n",
       " 'format',\n",
       " 'format_map',\n",
       " 'index',\n",
       " 'isalnum',\n",
       " 'isalpha',\n",
       " 'isascii',\n",
       " 'isdecimal',\n",
       " 'isdigit',\n",
       " 'isidentifier',\n",
       " 'islower',\n",
       " 'isnumeric',\n",
       " 'isprintable',\n",
       " 'isspace',\n",
       " 'istitle',\n",
       " 'isupper',\n",
       " 'join',\n",
       " 'ljust',\n",
       " 'lower',\n",
       " 'lstrip',\n",
       " 'maketrans',\n",
       " 'partition',\n",
       " 'removeprefix',\n",
       " 'removesuffix',\n",
       " 'replace',\n",
       " 'rfind',\n",
       " 'rindex',\n",
       " 'rjust',\n",
       " 'rpartition',\n",
       " 'rsplit',\n",
       " 'rstrip',\n",
       " 'split',\n",
       " 'splitlines',\n",
       " 'startswith',\n",
       " 'strip',\n",
       " 'swapcase',\n",
       " 'title',\n",
       " 'translate',\n",
       " 'upper',\n",
       " 'zfill']"
      ]
     },
     "execution_count": 33,
     "metadata": {},
     "output_type": "execute_result"
    }
   ],
   "source": [
    "dir('python')"
   ]
  },
  {
   "cell_type": "markdown",
   "id": "b854df02-8f3c-485e-b5dd-dca584cc5000",
   "metadata": {},
   "source": [
    "**upper**"
   ]
  },
  {
   "cell_type": "code",
   "execution_count": 37,
   "id": "3f078f79-e95e-4b0b-acb1-11e797fc4958",
   "metadata": {},
   "outputs": [
    {
     "data": {
      "text/plain": [
       "'WELCOME'"
      ]
     },
     "execution_count": 37,
     "metadata": {},
     "output_type": "execute_result"
    }
   ],
   "source": [
    "str='welcome' \n",
    "str.upper()"
   ]
  },
  {
   "cell_type": "code",
   "execution_count": 38,
   "id": "a48df1bf-3168-45de-9706-7a18054d731c",
   "metadata": {},
   "outputs": [
    {
     "data": {
      "text/plain": [
       "'ABHAY KUMAR SINGH'"
      ]
     },
     "execution_count": 38,
     "metadata": {},
     "output_type": "execute_result"
    }
   ],
   "source": [
    "str='abhay kumar singh'\n",
    "str.upper()"
   ]
  },
  {
   "cell_type": "code",
   "execution_count": 40,
   "id": "9f7b21b5-e921-479c-bdde-d77ba5e68c55",
   "metadata": {},
   "outputs": [
    {
     "data": {
      "text/plain": [
       "'NARESH IT'"
      ]
     },
     "execution_count": 40,
     "metadata": {},
     "output_type": "execute_result"
    }
   ],
   "source": [
    "str='naresh it'\n",
    "str.upper()"
   ]
  },
  {
   "cell_type": "markdown",
   "id": "2b9c408c-31f7-4e0d-bfa2-745ec278fe35",
   "metadata": {},
   "source": [
    "- upper\n",
    "- lower\n",
    "- title\n",
    "- capitalize\n",
    "- casefold"
   ]
  },
  {
   "cell_type": "code",
   "execution_count": 47,
   "id": "8baedc00-abce-455e-81cd-1cc255854af3",
   "metadata": {},
   "outputs": [
    {
     "data": {
      "text/plain": [
       "'naresh it'"
      ]
     },
     "execution_count": 47,
     "metadata": {},
     "output_type": "execute_result"
    }
   ],
   "source": [
    "str='NARESH IT'\n",
    "str.lower()"
   ]
  },
  {
   "cell_type": "code",
   "execution_count": 43,
   "id": "ffd5d184-e5d3-45df-b6f1-b6c7b2aebd86",
   "metadata": {},
   "outputs": [
    {
     "data": {
      "text/plain": [
       "'Naresh It'"
      ]
     },
     "execution_count": 43,
     "metadata": {},
     "output_type": "execute_result"
    }
   ],
   "source": [
    "str='naresh it'\n",
    "str.title()"
   ]
  },
  {
   "cell_type": "code",
   "execution_count": 44,
   "id": "8f0d75e4-9a61-4744-a392-70cb7bf8328e",
   "metadata": {},
   "outputs": [
    {
     "data": {
      "text/plain": [
       "'Naresh it'"
      ]
     },
     "execution_count": 44,
     "metadata": {},
     "output_type": "execute_result"
    }
   ],
   "source": [
    "str='naresh it'\n",
    "str.capitalize()"
   ]
  },
  {
   "cell_type": "code",
   "execution_count": 48,
   "id": "03586b78-ab04-4ec4-8d71-a8f4fbfc8bef",
   "metadata": {},
   "outputs": [
    {
     "data": {
      "text/plain": [
       "'naresh it'"
      ]
     },
     "execution_count": 48,
     "metadata": {},
     "output_type": "execute_result"
    }
   ],
   "source": [
    "str='NARESH it'\n",
    "str.casefold()"
   ]
  },
  {
   "cell_type": "code",
   "execution_count": 49,
   "id": "7e9ca80f-6ce0-43e2-9d28-b4e5fbc4948c",
   "metadata": {},
   "outputs": [
    {
     "data": {
      "text/plain": [
       "'naresh it'"
      ]
     },
     "execution_count": 49,
     "metadata": {},
     "output_type": "execute_result"
    }
   ],
   "source": [
    "str.upper()\n",
    "str.lower()\n",
    "str.title()\n",
    "str.capitalize()\n",
    "str.casefold()"
   ]
  },
  {
   "cell_type": "markdown",
   "id": "d0b1bbdb-5aa7-492b-94ec-233a25cb3ae7",
   "metadata": {},
   "source": [
    "**difference between methods and inbulilt function**"
   ]
  },
  {
   "cell_type": "code",
   "execution_count": null,
   "id": "c56d71e6-de20-490e-9eae-3a0e1bae6f32",
   "metadata": {},
   "outputs": [],
   "source": [
    "############# inbulilt#################\n",
    "len('python')\n",
    "max('python')\n",
    "min()\n",
    "type()\n",
    "print()\n",
    "sum()\n",
    "######################################\n",
    "str1.upper()\n",
    "str1.lower()\n",
    "str1.title()\n",
    "str1.capitalize()\n",
    "str1.casefold()"
   ]
  },
  {
   "cell_type": "code",
   "execution_count": 63,
   "id": "70b113d3-254b-4695-b10f-945fe07fe042",
   "metadata": {},
   "outputs": [
    {
     "data": {
      "text/plain": [
       "'*******hai how are you*******'"
      ]
     },
     "execution_count": 63,
     "metadata": {},
     "output_type": "execute_result"
    }
   ],
   "source": [
    "str1='hai how are you'\n",
    "str1.center(29,'*')"
   ]
  },
  {
   "cell_type": "code",
   "execution_count": 59,
   "id": "3713601c-6351-44d8-8e7f-8b6e59b1147e",
   "metadata": {},
   "outputs": [
    {
     "data": {
      "text/plain": [
       "'****python***'"
      ]
     },
     "execution_count": 59,
     "metadata": {},
     "output_type": "execute_result"
    }
   ],
   "source": [
    "str1='python'\n",
    "str1.center(13,'*')\n",
    "\n",
    "# 3 starts + python(6)+4*\n",
    "# 4*+6+3*\n",
    "# here 12 means the len of string become 12 charcters\n",
    "# alreday 'python' string has 6 charcters\n",
    "# so remaining 6 charcters padd as *"
   ]
  },
  {
   "cell_type": "code",
   "execution_count": null,
   "id": "62ac6a39-2e85-4945-8562-b7690c31ef01",
   "metadata": {},
   "outputs": [],
   "source": [
    "# assume that i already have\n",
    "# string='**python'"
   ]
  },
  {
   "cell_type": "markdown",
   "id": "e9fdc90e-a603-4841-91d4-d13ee9af0070",
   "metadata": {},
   "source": [
    "**strip-lstrip-rstrip**\n",
    "\n",
    "- strip  : will remove the charcters both left and right side\n",
    "- lstrip : will remove the charcters on left side  #(L)\n",
    "- rstrip : will remove the charcters on right side #(R)"
   ]
  },
  {
   "cell_type": "code",
   "execution_count": 72,
   "id": "744a18bb-348b-45b0-9491-3829ccd1cbbf",
   "metadata": {},
   "outputs": [
    {
     "data": {
      "text/plain": [
       "('python', 'python ', '  python')"
      ]
     },
     "execution_count": 72,
     "metadata": {},
     "output_type": "execute_result"
    }
   ],
   "source": [
    "str1='  python '\n",
    "str1.strip(),str1.lstrip(),str1.rstrip()"
   ]
  },
  {
   "cell_type": "code",
   "execution_count": 74,
   "id": "80685e93-b13a-4def-a163-41d3a401dae1",
   "metadata": {},
   "outputs": [
    {
     "name": "stdout",
     "output_type": "stream",
     "text": [
      "  python \n",
      "python\n",
      "python \n",
      "  python\n"
     ]
    }
   ],
   "source": [
    "print(str1)\n",
    "print(str1.strip())\n",
    "print(str1.lstrip())\n",
    "print(str1.rstrip())"
   ]
  },
  {
   "cell_type": "code",
   "execution_count": 1,
   "id": "52992393-ed92-46a7-a312-744cafda5d01",
   "metadata": {},
   "outputs": [
    {
     "name": "stdout",
     "output_type": "stream",
     "text": [
      "python\n",
      "python****\n",
      "***python\n"
     ]
    }
   ],
   "source": [
    "str2='***python****'\n",
    "print(str2.strip('*'))\n",
    "print(str2.lstrip('*'))\n",
    "print(str2.rstrip('*'))"
   ]
  },
  {
   "cell_type": "code",
   "execution_count": 78,
   "id": "78a33992-3c05-4996-9f8e-80d504fee432",
   "metadata": {},
   "outputs": [
    {
     "name": "stdout",
     "output_type": "stream",
     "text": [
      "   python\n",
      "python****\n",
      "   python****\n"
     ]
    }
   ],
   "source": [
    "str3='   python****'\n",
    "print(str3.strip())\n",
    "print(str3.lstrip())\n",
    "print(str3.rstrip())"
   ]
  },
  {
   "cell_type": "markdown",
   "id": "d23122bb-17f4-420d-9492-239652476b16",
   "metadata": {},
   "source": [
    "- upper\n",
    "- lower\n",
    "- title\n",
    "- capitalize\n",
    "- casefold\n",
    "- center\n",
    "- rstrip\n",
    "- lstrip\n",
    "- strip\n",
    "- startswith\n",
    "- endswith"
   ]
  },
  {
   "cell_type": "code",
   "execution_count": 1,
   "id": "86a76968-2b83-43db-b2bb-e8b26956e51b",
   "metadata": {},
   "outputs": [
    {
     "data": {
      "text/plain": [
       "'HAI HOW ARE YOU'"
      ]
     },
     "execution_count": 1,
     "metadata": {},
     "output_type": "execute_result"
    }
   ],
   "source": [
    "str1=(\"hai how are you\")\n",
    "str1.upper()"
   ]
  },
  {
   "cell_type": "code",
   "execution_count": 4,
   "id": "c59d3fe8-71ea-482b-8ee6-3d626ce9ec00",
   "metadata": {},
   "outputs": [
    {
     "data": {
      "text/plain": [
       "'hai how are you'"
      ]
     },
     "execution_count": 4,
     "metadata": {},
     "output_type": "execute_result"
    }
   ],
   "source": [
    "str1=(\"HAI HOW ARE YOU\")\n",
    "str1.lower()"
   ]
  },
  {
   "cell_type": "code",
   "execution_count": 10,
   "id": "8321eeca-4bdf-490e-aea5-d297f0ef33b9",
   "metadata": {},
   "outputs": [
    {
     "data": {
      "text/plain": [
       "'hai how are you'"
      ]
     },
     "execution_count": 10,
     "metadata": {},
     "output_type": "execute_result"
    }
   ],
   "source": [
    "str1=(\"hai how are you\")\n",
    "str1.center(0)"
   ]
  },
  {
   "cell_type": "code",
   "execution_count": 11,
   "id": "6c0af0db-730d-4602-a672-5048f4393808",
   "metadata": {},
   "outputs": [
    {
     "data": {
      "text/plain": [
       "'Hai How Are You'"
      ]
     },
     "execution_count": 11,
     "metadata": {},
     "output_type": "execute_result"
    }
   ],
   "source": [
    "str1=(\"hai how are you\")\n",
    "str1.title()"
   ]
  },
  {
   "cell_type": "code",
   "execution_count": 12,
   "id": "e86839ed-992a-4498-9303-8f453e591c2c",
   "metadata": {},
   "outputs": [
    {
     "data": {
      "text/plain": [
       "'Hai how are you'"
      ]
     },
     "execution_count": 12,
     "metadata": {},
     "output_type": "execute_result"
    }
   ],
   "source": [
    "str1=(\"hai how are you\")\n",
    "str1.capitalize()"
   ]
  },
  {
   "cell_type": "code",
   "execution_count": 16,
   "id": "bd06eb13-cae5-443b-8a88-15f9986df8c3",
   "metadata": {},
   "outputs": [
    {
     "data": {
      "text/plain": [
       "True"
      ]
     },
     "execution_count": 16,
     "metadata": {},
     "output_type": "execute_result"
    }
   ],
   "source": [
    "str1=(\"hai how are you\")\n",
    "str2=(\"HAI HOW ARE YOU\")\n",
    "str1.casefold()==str2.casefold()"
   ]
  },
  {
   "cell_type": "code",
   "execution_count": 17,
   "id": "fc04dc5f-1ce0-45d5-b1f9-16fcb0d69635",
   "metadata": {},
   "outputs": [
    {
     "data": {
      "text/plain": [
       "'         hai how are you'"
      ]
     },
     "execution_count": 17,
     "metadata": {},
     "output_type": "execute_result"
    }
   ],
   "source": [
    "str1=(\"         hai how are you\")\n",
    "str1.rstrip()"
   ]
  },
  {
   "cell_type": "code",
   "execution_count": 20,
   "id": "dbf928c7-0480-4cfe-9130-ed7d57b991ed",
   "metadata": {},
   "outputs": [
    {
     "data": {
      "text/plain": [
       "'hai how are you            '"
      ]
     },
     "execution_count": 20,
     "metadata": {},
     "output_type": "execute_result"
    }
   ],
   "source": [
    "str1=(\"hai how are you            \")\n",
    "str1.lstrip()"
   ]
  },
  {
   "cell_type": "code",
   "execution_count": 21,
   "id": "4b271e55-1fa8-4a02-9db4-afc8460976a2",
   "metadata": {},
   "outputs": [
    {
     "data": {
      "text/plain": [
       "'hai how are you'"
      ]
     },
     "execution_count": 21,
     "metadata": {},
     "output_type": "execute_result"
    }
   ],
   "source": [
    "str1=(\"  hai how are you   \")\n",
    "str1.strip()"
   ]
  },
  {
   "cell_type": "markdown",
   "id": "272bdd97-afe2-405b-bd1c-d018898319da",
   "metadata": {},
   "source": [
    "**startswith**"
   ]
  },
  {
   "cell_type": "code",
   "execution_count": 2,
   "id": "2e8a18c3-4f03-4258-b4f1-3b450ec329aa",
   "metadata": {},
   "outputs": [
    {
     "data": {
      "text/plain": [
       "True"
      ]
     },
     "execution_count": 2,
     "metadata": {},
     "output_type": "execute_result"
    }
   ],
   "source": [
    "str1=(\"hai how are you\")\n",
    "str1.startswith('hai')"
   ]
  },
  {
   "cell_type": "markdown",
   "id": "d639c2d0-2821-4a4e-820e-77a2d6a0bfc7",
   "metadata": {},
   "source": [
    "**endswith**"
   ]
  },
  {
   "cell_type": "code",
   "execution_count": 3,
   "id": "fec096ae-721f-4b6a-949c-018839cf0f31",
   "metadata": {},
   "outputs": [
    {
     "data": {
      "text/plain": [
       "True"
      ]
     },
     "execution_count": 3,
     "metadata": {},
     "output_type": "execute_result"
    }
   ],
   "source": [
    "str1=(\"hai how are you\")\n",
    "str1.endswith('you')"
   ]
  },
  {
   "cell_type": "code",
   "execution_count": 4,
   "id": "9fca3f1e-91c4-46dc-81ec-7b819f0a583a",
   "metadata": {},
   "outputs": [
    {
     "data": {
      "text/plain": [
       "True"
      ]
     },
     "execution_count": 4,
     "metadata": {},
     "output_type": "execute_result"
    }
   ],
   "source": [
    "str=(\"hai how are you\")\n",
    "str.endswith(str)"
   ]
  },
  {
   "cell_type": "markdown",
   "id": "0ef1f89f-63c1-4d8b-a128-140b4c143045",
   "metadata": {},
   "source": [
    "**count**"
   ]
  },
  {
   "cell_type": "code",
   "execution_count": 10,
   "id": "016982c3-0877-4115-b7b6-86b7f15619b9",
   "metadata": {},
   "outputs": [
    {
     "name": "stdout",
     "output_type": "stream",
     "text": [
      "3\n"
     ]
    }
   ],
   "source": [
    "str1='ola ola ola'\n",
    "n=len(str1)\n",
    "count=0\n",
    "for i in range(n):\n",
    "    if str1[i]=='a':\n",
    "        count=count+1\n",
    "print(count)"
   ]
  },
  {
   "cell_type": "markdown",
   "id": "5fcc8388-bd9b-43ae-a30d-534262edf28f",
   "metadata": {},
   "source": [
    "$Case-1$"
   ]
  },
  {
   "cell_type": "code",
   "execution_count": 12,
   "id": "0a6deda5-90aa-459c-b172-c7a59aa64fd6",
   "metadata": {},
   "outputs": [
    {
     "data": {
      "text/plain": [
       "3"
      ]
     },
     "execution_count": 12,
     "metadata": {},
     "output_type": "execute_result"
    }
   ],
   "source": [
    "str1='ola ola ola'\n",
    "str1.count('a')"
   ]
  },
  {
   "cell_type": "code",
   "execution_count": 13,
   "id": "3d6e7cf4-fcaf-428d-887e-34a30d957e19",
   "metadata": {},
   "outputs": [
    {
     "data": {
      "text/plain": [
       "3"
      ]
     },
     "execution_count": 13,
     "metadata": {},
     "output_type": "execute_result"
    }
   ],
   "source": [
    "str1='ola ola ola'\n",
    "str1.count('ola')"
   ]
  },
  {
   "cell_type": "code",
   "execution_count": 14,
   "id": "a05e1860-af15-4797-b65a-710c02a938fb",
   "metadata": {},
   "outputs": [
    {
     "data": {
      "text/plain": [
       "2"
      ]
     },
     "execution_count": 14,
     "metadata": {},
     "output_type": "execute_result"
    }
   ],
   "source": [
    "str1='ola ola ola'\n",
    "str1.count('ola ')"
   ]
  },
  {
   "cell_type": "markdown",
   "id": "d83d678d-2059-48a2-bf2c-3aa53dd9b2ba",
   "metadata": {},
   "source": [
    "$Case-2$"
   ]
  },
  {
   "cell_type": "code",
   "execution_count": 15,
   "id": "73087b85-cbde-4942-8d15-55bab9207e98",
   "metadata": {},
   "outputs": [
    {
     "data": {
      "text/plain": [
       "2"
      ]
     },
     "execution_count": 15,
     "metadata": {},
     "output_type": "execute_result"
    }
   ],
   "source": [
    "# o l a   o l a   o l a \n",
    "# 0 1 2 3 4 5 6 7 8 9 10\n",
    "str1.count('a',4)"
   ]
  },
  {
   "cell_type": "code",
   "execution_count": 16,
   "id": "1175ccd3-aaf9-4034-9cf1-03fada80d5c6",
   "metadata": {},
   "outputs": [
    {
     "data": {
      "text/plain": [
       "1"
      ]
     },
     "execution_count": 16,
     "metadata": {},
     "output_type": "execute_result"
    }
   ],
   "source": [
    "str1.count('a',4,7)"
   ]
  },
  {
   "cell_type": "code",
   "execution_count": 18,
   "id": "6b282383-7dad-48c1-990f-d165cd4f2954",
   "metadata": {},
   "outputs": [
    {
     "data": {
      "text/plain": [
       "3"
      ]
     },
     "execution_count": 18,
     "metadata": {},
     "output_type": "execute_result"
    }
   ],
   "source": [
    "str1.count('a',0,11)"
   ]
  },
  {
   "cell_type": "code",
   "execution_count": 20,
   "id": "84c87c26-9907-4451-8420-f4d764a1cf47",
   "metadata": {},
   "outputs": [
    {
     "data": {
      "text/plain": [
       "0"
      ]
     },
     "execution_count": 20,
     "metadata": {},
     "output_type": "execute_result"
    }
   ],
   "source": [
    "str1.count('a',4,6)\n",
    "#start=4 postive last=step-1=6-1=5"
   ]
  },
  {
   "cell_type": "code",
   "execution_count": 21,
   "id": "7a8dca53-5172-4a14-9c68-4a2bfad9aa4e",
   "metadata": {},
   "outputs": [
    {
     "data": {
      "text/plain": [
       "1"
      ]
     },
     "execution_count": 21,
     "metadata": {},
     "output_type": "execute_result"
    }
   ],
   "source": [
    "str1.count('a',10)"
   ]
  },
  {
   "cell_type": "code",
   "execution_count": 23,
   "id": "3fbee6ed-9095-4b9c-bd95-c43658200b75",
   "metadata": {},
   "outputs": [
    {
     "data": {
      "text/plain": [
       "0"
      ]
     },
     "execution_count": 23,
     "metadata": {},
     "output_type": "execute_result"
    }
   ],
   "source": [
    "str1.count('a',-1,-10)"
   ]
  },
  {
   "cell_type": "code",
   "execution_count": 24,
   "id": "a9532da7-a1c0-4dda-ba11-dfebbffd59b7",
   "metadata": {},
   "outputs": [
    {
     "data": {
      "text/plain": [
       "0"
      ]
     },
     "execution_count": 24,
     "metadata": {},
     "output_type": "execute_result"
    }
   ],
   "source": [
    "str1.count('z')"
   ]
  },
  {
   "cell_type": "code",
   "execution_count": 43,
   "id": "15380c30-4795-4471-a797-ff82357210bd",
   "metadata": {},
   "outputs": [
    {
     "data": {
      "text/plain": [
       "'ola'"
      ]
     },
     "execution_count": 43,
     "metadata": {},
     "output_type": "execute_result"
    }
   ],
   "source": [
    "# str1='ola ola ola'\n",
    "#count the number of substring :'ola'\n",
    "# with out using count method\n",
    "\n",
    "str1='ola ola ola'\n",
    "str1[0:0+3]                  # str1[i:i+3]"
   ]
  },
  {
   "cell_type": "markdown",
   "id": "05116929-3496-42f1-a9d5-d5ca71af43fa",
   "metadata": {},
   "source": [
    "**sliding window approach**\n",
    "\n",
    "- fix the slice value first   : **str1[i : i + 3]**\n",
    "- then increase the slice by 1  : **for i in range(len(str1))**\n",
    "- whenever it is equal to substring  : **str1[i : i + 3]=='ola'**\n",
    "- then update the  count    : **count=count+1**"
   ]
  },
  {
   "cell_type": "code",
   "execution_count": 44,
   "id": "59366ef3-62b3-4458-b54f-71bfc761fc1b",
   "metadata": {},
   "outputs": [
    {
     "data": {
      "text/plain": [
       "'la '"
      ]
     },
     "execution_count": 44,
     "metadata": {},
     "output_type": "execute_result"
    }
   ],
   "source": [
    "str1='ola ola ola'\n",
    "str1[1:1+3]"
   ]
  },
  {
   "cell_type": "code",
   "execution_count": 46,
   "id": "f4a69d22-eced-484e-8406-484e6a3fc742",
   "metadata": {},
   "outputs": [
    {
     "data": {
      "text/plain": [
       "'i h'"
      ]
     },
     "execution_count": 46,
     "metadata": {},
     "output_type": "execute_result"
    }
   ],
   "source": [
    "str1='ola ola ola'\n",
    "str[2:2+3]"
   ]
  },
  {
   "cell_type": "code",
   "execution_count": 48,
   "id": "dc4f6cee-1647-40ac-8b92-1593209d1bea",
   "metadata": {},
   "outputs": [
    {
     "name": "stdout",
     "output_type": "stream",
     "text": [
      "3\n"
     ]
    }
   ],
   "source": [
    "str1='ola ola ola'\n",
    "count=0\n",
    "for i in range(len(str1)):\n",
    "    if str1[i:i+3]=='ola':\n",
    "        count=count+1\n",
    "print(count)"
   ]
  },
  {
   "cell_type": "code",
   "execution_count": 50,
   "id": "4e4f6646-53d0-4707-b065-84ede3b9987c",
   "metadata": {},
   "outputs": [
    {
     "data": {
      "text/plain": [
       "3"
      ]
     },
     "execution_count": 50,
     "metadata": {},
     "output_type": "execute_result"
    }
   ],
   "source": [
    "str1.count('ola')"
   ]
  },
  {
   "cell_type": "markdown",
   "id": "210a4141-4416-4177-b285-d760228b2594",
   "metadata": {},
   "source": [
    "**replace**"
   ]
  },
  {
   "cell_type": "code",
   "execution_count": 51,
   "id": "d5debe88-79e3-4cd8-ae63-400b30caabc6",
   "metadata": {},
   "outputs": [
    {
     "data": {
      "text/plain": [
       "False"
      ]
     },
     "execution_count": 51,
     "metadata": {},
     "output_type": "execute_result"
    }
   ],
   "source": [
    "str1='welcome' # 'welcome'\n",
    "str1[2]=='L'   # 'error'"
   ]
  },
  {
   "cell_type": "code",
   "execution_count": 53,
   "id": "4812261c-79a2-407b-95ab-14a4fbe6bc9f",
   "metadata": {},
   "outputs": [
    {
     "data": {
      "text/plain": [
       "'weLcome'"
      ]
     },
     "execution_count": 53,
     "metadata": {},
     "output_type": "execute_result"
    }
   ],
   "source": [
    "# here count=1 which indicates replace only one\n",
    "str1='welcome'\n",
    "str1.replace('l','L')"
   ]
  },
  {
   "cell_type": "code",
   "execution_count": 59,
   "id": "e4535d88-95a1-406d-82bf-e1cca0e68337",
   "metadata": {},
   "outputs": [
    {
     "data": {
      "text/plain": [
       "'weLLLlcome'"
      ]
     },
     "execution_count": 59,
     "metadata": {},
     "output_type": "execute_result"
    }
   ],
   "source": [
    "# here count=1 which indicates replace only three\n",
    "str1='wellllcome'\n",
    "str1.replace('l','L',3)"
   ]
  },
  {
   "cell_type": "code",
   "execution_count": 57,
   "id": "b3664c9f-6c6a-4712-abfd-b6d1b7f80ceb",
   "metadata": {},
   "outputs": [
    {
     "data": {
      "text/plain": [
       "'welCome'"
      ]
     },
     "execution_count": 57,
     "metadata": {},
     "output_type": "execute_result"
    }
   ],
   "source": [
    "str1='welcome'\n",
    "str1.replace('c','C')\n",
    "# substring not found\n",
    "# welCome"
   ]
  },
  {
   "cell_type": "code",
   "execution_count": 60,
   "id": "eab128f0-775f-4d43-8a8c-da2de25bdb64",
   "metadata": {},
   "outputs": [
    {
     "data": {
      "text/plain": [
       "'wElcomE'"
      ]
     },
     "execution_count": 60,
     "metadata": {},
     "output_type": "execute_result"
    }
   ],
   "source": [
    "str1='welcome'\n",
    "str1.replace('e','E')"
   ]
  },
  {
   "cell_type": "code",
   "execution_count": 62,
   "id": "64258ea2-3c22-4277-b449-0b9a47e36fa9",
   "metadata": {},
   "outputs": [
    {
     "data": {
      "text/plain": [
       "'wElcome'"
      ]
     },
     "execution_count": 62,
     "metadata": {},
     "output_type": "execute_result"
    }
   ],
   "source": [
    "str1='welcome'\n",
    "str1.replace('e','E',1)"
   ]
  },
  {
   "cell_type": "markdown",
   "id": "e0c4c7f2-9148-4f85-b4c6-1563d7a87ea8",
   "metadata": {},
   "source": [
    "- by default it will replace all the occurences\n",
    "- the user can provide count which indicates how many letters can replace\n",
    "- if the substring not found it will return the original string itself"
   ]
  },
  {
   "cell_type": "code",
   "execution_count": 72,
   "id": "a8cf1b2c-e632-400d-b461-20ab9701d325",
   "metadata": {},
   "outputs": [
    {
     "data": {
      "text/plain": [
       "'resta$t'"
      ]
     },
     "execution_count": 72,
     "metadata": {},
     "output_type": "execute_result"
    }
   ],
   "source": [
    "#str1='restart'\n",
    "# replace 'r' with $\n",
    "# i want only second 'r'\n",
    "# 'resta$t'\n",
    "\n",
    "str1='restart'\n",
    "s1=str1[0:5]\n",
    "s2=str1[5:]\n",
    "s3=s2.replace('r','$')\n",
    "s1+s3"
   ]
  },
  {
   "cell_type": "code",
   "execution_count": 73,
   "id": "7bdc43c9-ea6c-4b35-984e-1767cd3251af",
   "metadata": {},
   "outputs": [
    {
     "data": {
      "text/plain": [
       "'resta$t'"
      ]
     },
     "execution_count": 73,
     "metadata": {},
     "output_type": "execute_result"
    }
   ],
   "source": [
    "str1='restart'\n",
    "str1[::-1].replace('r','$',1)[::-1]"
   ]
  },
  {
   "cell_type": "code",
   "execution_count": 75,
   "id": "47fa4b7c-5673-47f0-b6ec-5bbfc62d7941",
   "metadata": {},
   "outputs": [
    {
     "data": {
      "text/plain": [
       "'restart $estart'"
      ]
     },
     "execution_count": 75,
     "metadata": {},
     "output_type": "execute_result"
    }
   ],
   "source": [
    "str1='restart restart'\n",
    "s1=str1[0:8]\n",
    "s2=str1[8:]\n",
    "s3=s2.replace('r','$',1)\n",
    "s1+s3"
   ]
  },
  {
   "cell_type": "markdown",
   "id": "d8f84afb-201c-45d2-90f9-d6bc3b7b3a9b",
   "metadata": {},
   "source": [
    "**index methods**"
   ]
  },
  {
   "cell_type": "code",
   "execution_count": 80,
   "id": "ac65bf90-faeb-45fa-bc3b-fb890e32a322",
   "metadata": {},
   "outputs": [
    {
     "data": {
      "text/plain": [
       "3"
      ]
     },
     "execution_count": 80,
     "metadata": {},
     "output_type": "execute_result"
    }
   ],
   "source": [
    "str1='restart restart'\n",
    "str1.index('t')"
   ]
  },
  {
   "cell_type": "code",
   "execution_count": 79,
   "id": "f4f6e4eb-95d0-4a79-9dfe-bbd8d15bb8ac",
   "metadata": {},
   "outputs": [
    {
     "data": {
      "text/plain": [
       "(3, 0)"
      ]
     },
     "execution_count": 79,
     "metadata": {},
     "output_type": "execute_result"
    }
   ],
   "source": [
    "str1='restart restart'\n",
    "str1.index('t'),str1.index('r')\n",
    "# by default first string index will come"
   ]
  },
  {
   "cell_type": "code",
   "execution_count": 81,
   "id": "1082a87c-ad14-4af7-ae5d-a9dd3853266f",
   "metadata": {},
   "outputs": [
    {
     "ename": "ValueError",
     "evalue": "substring not found",
     "output_type": "error",
     "traceback": [
      "\u001b[1;31m---------------------------------------------------------------------------\u001b[0m",
      "\u001b[1;31mValueError\u001b[0m                                Traceback (most recent call last)",
      "Cell \u001b[1;32mIn[81], line 2\u001b[0m\n\u001b[0;32m      1\u001b[0m str1\u001b[38;5;241m=\u001b[39m\u001b[38;5;124m'\u001b[39m\u001b[38;5;124mrestart restart\u001b[39m\u001b[38;5;124m'\u001b[39m\n\u001b[1;32m----> 2\u001b[0m str1\u001b[38;5;241m.\u001b[39mindex(\u001b[38;5;124m'\u001b[39m\u001b[38;5;124mz\u001b[39m\u001b[38;5;124m'\u001b[39m)\n",
      "\u001b[1;31mValueError\u001b[0m: substring not found"
     ]
    }
   ],
   "source": [
    "str1='restart restart'\n",
    "str1.index('z')"
   ]
  },
  {
   "cell_type": "code",
   "execution_count": null,
   "id": "a4b7866e-52e3-4dd1-bc86-fa77adc12c1a",
   "metadata": {},
   "outputs": [],
   "source": [
    "str1='restart restart'\n",
    "str1.index('r')      # 0\n",
    "# the second 'r' index is 5 this is i counted\n",
    "# i want to use index \n",
    "# already one 'r' index is 0\n",
    "# next 'r' i can find from index 1"
   ]
  },
  {
   "cell_type": "code",
   "execution_count": 82,
   "id": "ff71f6e8-246d-4eb0-b3d5-eeab4d5b340f",
   "metadata": {},
   "outputs": [
    {
     "data": {
      "text/plain": [
       "5"
      ]
     },
     "execution_count": 82,
     "metadata": {},
     "output_type": "execute_result"
    }
   ],
   "source": [
    "str1='restart restart'\n",
    "str1.index('r',1) "
   ]
  },
  {
   "cell_type": "code",
   "execution_count": 83,
   "id": "bec7eb68-e18c-408b-bf6c-d3d543b975eb",
   "metadata": {},
   "outputs": [
    {
     "data": {
      "text/plain": [
       "8"
      ]
     },
     "execution_count": 83,
     "metadata": {},
     "output_type": "execute_result"
    }
   ],
   "source": [
    "str1='restart restart'\n",
    "str1.index('r',6) "
   ]
  },
  {
   "cell_type": "code",
   "execution_count": 84,
   "id": "4587d04d-f5f8-4110-8f11-c3be3a832dc2",
   "metadata": {},
   "outputs": [
    {
     "data": {
      "text/plain": [
       "13"
      ]
     },
     "execution_count": 84,
     "metadata": {},
     "output_type": "execute_result"
    }
   ],
   "source": [
    "str1='restart restart'\n",
    "str1.index('r',9) "
   ]
  },
  {
   "cell_type": "code",
   "execution_count": 89,
   "id": "e6bdf61d-6d31-4a8e-9ac8-f9e675fafb75",
   "metadata": {},
   "outputs": [
    {
     "data": {
      "text/plain": [
       "13"
      ]
     },
     "execution_count": 89,
     "metadata": {},
     "output_type": "execute_result"
    }
   ],
   "source": [
    "str1='restart restart'\n",
    "str1.index('r')      # 0\n",
    "str1.index('r',1)    # 1=0+1\n",
    "str1.index('r',6)    # 6=5+1\n",
    "str1.index('r',9)    # 9=8+1"
   ]
  },
  {
   "cell_type": "code",
   "execution_count": 92,
   "id": "0d7bb046-d424-4bf6-8b57-36033f57ce5d",
   "metadata": {},
   "outputs": [
    {
     "name": "stdout",
     "output_type": "stream",
     "text": [
      "0 5 8 13\n"
     ]
    }
   ],
   "source": [
    "str1='restart restart'\n",
    "i1=str1.index('r')      # 0\n",
    "i2=str1.index('r',i1+1)    # 1=0+1\n",
    "i3=str1.index('r',i2+1)    # 6=5+1\n",
    "i4=str1.index('r',i3+1)    # 9=8+1\n",
    "print(i1,i2,i3,i4)"
   ]
  },
  {
   "cell_type": "markdown",
   "id": "12e79816-55b1-4c39-a58a-4e51b9ad0e6f",
   "metadata": {},
   "source": [
    "**find**\n",
    "- tell me the difference between index and find"
   ]
  },
  {
   "cell_type": "code",
   "execution_count": 93,
   "id": "25fe0251-8099-4aa1-be0d-5126b9650024",
   "metadata": {},
   "outputs": [
    {
     "name": "stdout",
     "output_type": "stream",
     "text": [
      "0 -1 13 13\n"
     ]
    }
   ],
   "source": [
    "str1='restart restart'\n",
    "i1=str1.find('r')      # 0\n",
    "i2=str1.find('r',i1-1)    # 1=0+1\n",
    "i3=str1.find('r',i2-1)    # 6=5+1\n",
    "i4=str1.find('r',i3-1)    # 9=8+1\n",
    "print(i1,i2,i3,i4)"
   ]
  },
  {
   "cell_type": "code",
   "execution_count": 11,
   "id": "2a05b067-9183-4ecd-8740-221f85f9df1f",
   "metadata": {},
   "outputs": [
    {
     "name": "stdout",
     "output_type": "stream",
     "text": [
      "rohit sharma mi\n",
      "virat kohli rcb\n",
      "ms dhoni csk\n"
     ]
    }
   ],
   "source": [
    "str1='virat.kohli@rcb.com'\n",
    "str2='rohit.sharma@mi.com'\n",
    "str3='ms.dhoni@csk.com'\n",
    "\n",
    "#  extract the first name from str1: virat\n",
    "#  extract the second name from str1: kohli\n",
    "#  extract the company name from str1: rcb\n",
    "str4='a.b@c.com'\n",
    "# idea : try to get the trigger points\n",
    "# step-1: first extract . index\n",
    "# step-2: ext\n",
    "def name(i):\n",
    "    first_index=i.index('.')\n",
    "    second_index=i.index('@')\n",
    "    third_index=i.index('.',first_index+1)\n",
    "    \n",
    "    first_name=i[:first_index]\n",
    "    second_name=i[first_index+1:second_index]\n",
    "    third_name=i[second_index+1:third_index]\n",
    "    \n",
    "    print(first_name,second_name,third_name)\n",
    "name(str2)\n",
    "name(str1)\n",
    "name(str3)"
   ]
  },
  {
   "cell_type": "code",
   "execution_count": 13,
   "id": "24947ccb-29d4-421f-a6cb-cf301eac4afd",
   "metadata": {},
   "outputs": [
    {
     "data": {
      "text/plain": [
       "('virat', 'kohli', 'rcb')"
      ]
     },
     "execution_count": 13,
     "metadata": {},
     "output_type": "execute_result"
    }
   ],
   "source": [
    "str1[:5],str1[5+1:11],str1[11+1:15]"
   ]
  },
  {
   "cell_type": "code",
   "execution_count": 14,
   "id": "632a5131-8bc5-41f0-9264-7b4260b73f0d",
   "metadata": {},
   "outputs": [
    {
     "ename": "TypeError",
     "evalue": "string indices must be integers, not 'tuple'",
     "output_type": "error",
     "traceback": [
      "\u001b[1;31m---------------------------------------------------------------------------\u001b[0m",
      "\u001b[1;31mTypeError\u001b[0m                                 Traceback (most recent call last)",
      "Cell \u001b[1;32mIn[14], line 1\u001b[0m\n\u001b[1;32m----> 1\u001b[0m str2[:\u001b[38;5;241m5\u001b[39m],str2[\u001b[38;5;241m5\u001b[39m\u001b[38;5;241m+\u001b[39m\u001b[38;5;241m1\u001b[39m,\u001b[38;5;241m12\u001b[39m],str2[\u001b[38;5;241m12\u001b[39m\u001b[38;5;241m+\u001b[39m\u001b[38;5;241m1\u001b[39m:\u001b[38;5;241m15\u001b[39m]\n",
      "\u001b[1;31mTypeError\u001b[0m: string indices must be integers, not 'tuple'"
     ]
    }
   ],
   "source": [
    "#str2='rohit.sharma@mi.com'\n",
    "str2[:5],str2[5+1,12],str2[12+1:15]"
   ]
  },
  {
   "cell_type": "code",
   "execution_count": null,
   "id": "35330c8c-f6df-496b-877f-013d3dbb0540",
   "metadata": {},
   "outputs": [],
   "source": []
  },
  {
   "cell_type": "markdown",
   "id": "d196d477-62a3-462a-8e2d-4e0ffcf3c24f",
   "metadata": {},
   "source": [
    "**split**"
   ]
  },
  {
   "cell_type": "markdown",
   "id": "5a098ca8-2891-4937-8ef0-60dde731c484",
   "metadata": {},
   "source": [
    "- split is used to convert a string to list of elements\n",
    "- by default it  will solit based on space"
   ]
  },
  {
   "cell_type": "code",
   "execution_count": 16,
   "id": "ef7b2c04-83d0-4836-8a1b-c84f4903e9f4",
   "metadata": {},
   "outputs": [
    {
     "data": {
      "text/plain": [
       "['hai', 'how', 'are', 'you']"
      ]
     },
     "execution_count": 16,
     "metadata": {},
     "output_type": "execute_result"
    }
   ],
   "source": [
    "str1='hai how are you'\n",
    "str1.split()"
   ]
  },
  {
   "cell_type": "code",
   "execution_count": 23,
   "id": "f9f5fe29-8984-41b8-8057-a781503aff52",
   "metadata": {},
   "outputs": [
    {
     "data": {
      "text/plain": [
       "['hai how', 'are you']"
      ]
     },
     "execution_count": 23,
     "metadata": {},
     "output_type": "execute_result"
    }
   ],
   "source": [
    "str1='hai how,are you'\n",
    "str1.split(',')"
   ]
  },
  {
   "cell_type": "code",
   "execution_count": 24,
   "id": "26312379-cc6d-4009-984e-8812bbfba67b",
   "metadata": {},
   "outputs": [
    {
     "data": {
      "text/plain": [
       "['hai', 'how,are', 'you']"
      ]
     },
     "execution_count": 24,
     "metadata": {},
     "output_type": "execute_result"
    }
   ],
   "source": [
    "str1='hai how,are you'\n",
    "str1.split()"
   ]
  },
  {
   "cell_type": "code",
   "execution_count": 25,
   "id": "b64ca495-93fd-40fe-aadd-5834f5bc4d6f",
   "metadata": {},
   "outputs": [
    {
     "data": {
      "text/plain": [
       "['hell', ' hai h', 'w are y', 'u']"
      ]
     },
     "execution_count": 25,
     "metadata": {},
     "output_type": "execute_result"
    }
   ],
   "source": [
    "str1='hello hai how are you'\n",
    "str1.split('o')\n",
    "\n",
    "#'hell', ' hai h', 'w are y', 'u'"
   ]
  },
  {
   "cell_type": "code",
   "execution_count": 26,
   "id": "5f576d32-32c9-418f-a358-bdf039beffd0",
   "metadata": {},
   "outputs": [
    {
     "data": {
      "text/plain": [
       "['hello h', 'i how ', 're you']"
      ]
     },
     "execution_count": 26,
     "metadata": {},
     "output_type": "execute_result"
    }
   ],
   "source": [
    "str1='hello hai how are you'\n",
    "str1.split('a')\n"
   ]
  },
  {
   "cell_type": "markdown",
   "id": "829d3200-5459-4494-ac5b-fe5f2368d0b2",
   "metadata": {},
   "source": [
    "**join**"
   ]
  },
  {
   "cell_type": "code",
   "execution_count": 31,
   "id": "c5746fdc-a9b9-499c-a06f-3f28a1c0c550",
   "metadata": {},
   "outputs": [
    {
     "data": {
      "text/plain": [
       "['hello', 'hai', 'how', 'are', 'you']"
      ]
     },
     "execution_count": 31,
     "metadata": {},
     "output_type": "execute_result"
    }
   ],
   "source": [
    "str1='hello hai how are you'\n",
    "l=str1.split()    # how it is splitted =''\n",
    "l"
   ]
  },
  {
   "cell_type": "code",
   "execution_count": 30,
   "id": "38963afe-427b-4e01-86fa-a40044396cc2",
   "metadata": {},
   "outputs": [
    {
     "data": {
      "text/plain": [
       "'hello hai how are you'"
      ]
     },
     "execution_count": 30,
     "metadata": {},
     "output_type": "execute_result"
    }
   ],
   "source": [
    "str1='hello hai how are you'\n",
    "l=str1.split()    # how it is splitted =''\n",
    "l\n",
    "' '.join(l)"
   ]
  },
  {
   "cell_type": "code",
   "execution_count": 35,
   "id": "e9f56310-394a-413d-993f-66e5b809947c",
   "metadata": {},
   "outputs": [
    {
     "data": {
      "text/plain": [
       "'hai i am coming naresh it'"
      ]
     },
     "execution_count": 35,
     "metadata": {},
     "output_type": "execute_result"
    }
   ],
   "source": [
    "str1='hai i am coming naresh it'\n",
    "l=str1.split()    # how it is splitted =''\n",
    "l\n",
    "' '.join(l)"
   ]
  },
  {
   "cell_type": "code",
   "execution_count": 38,
   "id": "137e6de5-6522-4e73-903a-1529400462dd",
   "metadata": {},
   "outputs": [
    {
     "data": {
      "text/plain": [
       "'hello hai ,how are you'"
      ]
     },
     "execution_count": 38,
     "metadata": {},
     "output_type": "execute_result"
    }
   ],
   "source": [
    "str1='hello hai ,how are you'\n",
    "l=str1.split(',')    # how it is splitted =''\n",
    "l\n",
    "','.join(l)"
   ]
  },
  {
   "cell_type": "code",
   "execution_count": 43,
   "id": "723b6cc0-bd9f-40c1-bc9f-8c3509bf3b6b",
   "metadata": {},
   "outputs": [
    {
     "data": {
      "text/plain": [
       "'helloo hai hoow are yoou'"
      ]
     },
     "execution_count": 43,
     "metadata": {},
     "output_type": "execute_result"
    }
   ],
   "source": [
    "str1='hello hai how are you'\n",
    "l=str1.split('o')    # how it is splitted =''\n",
    "l\n",
    "'oo'.join(l)"
   ]
  },
  {
   "cell_type": "markdown",
   "id": "5c76e0eb-dab1-4e59-a26b-9b3c6b0614b8",
   "metadata": {},
   "source": [
    "- uppper/lower/casefold\n",
    "- tital/caplitalize\n",
    "- center\n",
    "- lstrip/rstrip/strip\n",
    "- startswith/endswith\n",
    "- replace\n",
    "- count\n",
    "- index/find\n",
    "- split/join"
   ]
  },
  {
   "cell_type": "code",
   "execution_count": 7,
   "id": "abe6e9de-f43a-461a-a402-2a30a319a317",
   "metadata": {},
   "outputs": [
    {
     "data": {
      "text/plain": [
       "['__add__',\n",
       " '__class__',\n",
       " '__contains__',\n",
       " '__delattr__',\n",
       " '__dir__',\n",
       " '__doc__',\n",
       " '__eq__',\n",
       " '__format__',\n",
       " '__ge__',\n",
       " '__getattribute__',\n",
       " '__getitem__',\n",
       " '__getnewargs__',\n",
       " '__getstate__',\n",
       " '__gt__',\n",
       " '__hash__',\n",
       " '__init__',\n",
       " '__init_subclass__',\n",
       " '__iter__',\n",
       " '__le__',\n",
       " '__len__',\n",
       " '__lt__',\n",
       " '__mod__',\n",
       " '__mul__',\n",
       " '__ne__',\n",
       " '__new__',\n",
       " '__reduce__',\n",
       " '__reduce_ex__',\n",
       " '__repr__',\n",
       " '__rmod__',\n",
       " '__rmul__',\n",
       " '__setattr__',\n",
       " '__sizeof__',\n",
       " '__str__',\n",
       " '__subclasshook__',\n",
       " 'capitalize',\n",
       " 'casefold',\n",
       " 'center',\n",
       " 'count',\n",
       " 'encode',\n",
       " 'endswith',\n",
       " 'expandtabs',\n",
       " 'find',\n",
       " 'format',\n",
       " 'format_map',\n",
       " 'index',\n",
       " 'isalnum',\n",
       " 'isalpha',\n",
       " 'isascii',\n",
       " 'isdecimal',\n",
       " 'isdigit',\n",
       " 'isidentifier',\n",
       " 'islower',\n",
       " 'isnumeric',\n",
       " 'isprintable',\n",
       " 'isspace',\n",
       " 'istitle',\n",
       " 'isupper',\n",
       " 'join',\n",
       " 'ljust',\n",
       " 'lower',\n",
       " 'lstrip',\n",
       " 'maketrans',\n",
       " 'partition',\n",
       " 'removeprefix',\n",
       " 'removesuffix',\n",
       " 'replace',\n",
       " 'rfind',\n",
       " 'rindex',\n",
       " 'rjust',\n",
       " 'rpartition',\n",
       " 'rsplit',\n",
       " 'rstrip',\n",
       " 'split',\n",
       " 'splitlines',\n",
       " 'startswith',\n",
       " 'strip',\n",
       " 'swapcase',\n",
       " 'title',\n",
       " 'translate',\n",
       " 'upper',\n",
       " 'zfill']"
      ]
     },
     "execution_count": 7,
     "metadata": {},
     "output_type": "execute_result"
    }
   ],
   "source": [
    "dir(str)"
   ]
  },
  {
   "cell_type": "code",
   "execution_count": 4,
   "id": "6f43e82d-b9a8-4009-8c3d-44a213630ece",
   "metadata": {},
   "outputs": [
    {
     "data": {
      "text/plain": [
       "24"
      ]
     },
     "execution_count": 4,
     "metadata": {},
     "output_type": "execute_result"
    }
   ],
   "source": [
    "str1='the telephone number is 123456'\n",
    "str1.index('1')         "
   ]
  },
  {
   "cell_type": "code",
   "execution_count": 5,
   "id": "4a4a8082-86b7-49d6-b751-574b6ffbe204",
   "metadata": {},
   "outputs": [
    {
     "data": {
      "text/plain": [
       "'123456'"
      ]
     },
     "execution_count": 5,
     "metadata": {},
     "output_type": "execute_result"
    }
   ],
   "source": [
    "str1[24:len(str1)]"
   ]
  },
  {
   "cell_type": "code",
   "execution_count": 9,
   "id": "8c66fbf9-9bb4-4c5e-aaac-86348fc2e1ee",
   "metadata": {},
   "outputs": [
    {
     "name": "stdout",
     "output_type": "stream",
     "text": [
      "123456"
     ]
    }
   ],
   "source": [
    "str1='the telephone number is 123456'\n",
    "\n",
    "# i want 123456\n",
    "# idea: split karo\n",
    "# then when you split==list\n",
    "\n",
    "# iterate each letter apply isdigit if it is\n",
    "# true then then keep in empty string\n",
    "for i in str1:\n",
    "    if i.isdigit():\n",
    "        print(i,end='')\n"
   ]
  },
  {
   "cell_type": "code",
   "execution_count": 11,
   "id": "2f509ec0-2c1d-41a6-861f-416b74932424",
   "metadata": {},
   "outputs": [
    {
     "name": "stdout",
     "output_type": "stream",
     "text": [
      "123456\n"
     ]
    }
   ],
   "source": [
    "num=''\n",
    "for i in str1:\n",
    "    if i.isdigit():\n",
    "        num=num+i\n",
    "print(num)\n"
   ]
  },
  {
   "cell_type": "code",
   "execution_count": null,
   "id": "cf33e9e5-6015-4bf6-a8bb-63058c655093",
   "metadata": {},
   "outputs": [],
   "source": []
  }
 ],
 "metadata": {
  "kernelspec": {
   "display_name": "Python 3 (ipykernel)",
   "language": "python",
   "name": "python3"
  },
  "language_info": {
   "codemirror_mode": {
    "name": "ipython",
    "version": 3
   },
   "file_extension": ".py",
   "mimetype": "text/x-python",
   "name": "python",
   "nbconvert_exporter": "python",
   "pygments_lexer": "ipython3",
   "version": "3.12.7"
  }
 },
 "nbformat": 4,
 "nbformat_minor": 5
}
