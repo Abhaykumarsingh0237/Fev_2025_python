{
 "cells": [
  {
   "cell_type": "markdown",
   "id": "435a387e-54cb-4a43-8b70-5b2c000b7e74",
   "metadata": {},
   "source": [
    "## While loop"
   ]
  },
  {
   "cell_type": "markdown",
   "id": "8a93c7dd-245b-4fdc-8dd6-4675603f1f34",
   "metadata": {},
   "source": [
    "- intialization \n",
    "\n",
    "- increment or decrement\n",
    "\n",
    "- condition to stop"
   ]
  },
  {
   "cell_type": "code",
   "execution_count": null,
   "id": "8b69f3ae-aa6a-4938-88fe-37c10a7c5827",
   "metadata": {},
   "outputs": [],
   "source": [
    "for i in range(1,10)\n",
    "in a single line we have start=1 increment+1 stop 10-1=9\n"
   ]
  },
  {
   "cell_type": "code",
   "execution_count": null,
   "id": "4caa84ac-08c2-40ec-8678-265b715fee44",
   "metadata": {},
   "outputs": [],
   "source": [
    "<intialzation>\n",
    "\n",
    "while <condition>:\n",
    "    #======================python\n",
    "\n",
    "    increment/decrement"
   ]
  },
  {
   "cell_type": "code",
   "execution_count": 2,
   "id": "14d2bb76-8401-4258-a5e6-99b424797d96",
   "metadata": {},
   "outputs": [
    {
     "name": "stdout",
     "output_type": "stream",
     "text": [
      "1 2 3 4 5 6 7 8 9 "
     ]
    }
   ],
   "source": [
    "for i in range(1,10):\n",
    "    print(i,end=\" \")"
   ]
  },
  {
   "cell_type": "code",
   "execution_count": 7,
   "id": "ed45bf22-d208-4d87-a5e4-f72dae8a89a3",
   "metadata": {},
   "outputs": [
    {
     "name": "stdout",
     "output_type": "stream",
     "text": [
      "1 2 3 4 5 6 7 8 9 "
     ]
    }
   ],
   "source": [
    "#for i in range(1,10) ==================3 lines\n",
    "\n",
    "i=1\n",
    "while i<10:\n",
    "    print(i,end=\" \")\n",
    "    i=i+1\n",
    "\n",
    "#tell me the condition that become True "
   ]
  },
  {
   "cell_type": "code",
   "execution_count": null,
   "id": "e4838a3d-d04c-4e2c-b4c3-ae739c7a906a",
   "metadata": {},
   "outputs": [],
   "source": [
    "# step-1: i=1 while 1<3 true print(1) i=1+1=2\n",
    "# step-2: i=2 while 2<3 true print(2)i=2+1=3\n",
    "# step-3: i=3 while 3<3 false"
   ]
  },
  {
   "cell_type": "code",
   "execution_count": 13,
   "id": "d814a488-03cf-46db-8586-fb908fa419b1",
   "metadata": {},
   "outputs": [
    {
     "name": "stdout",
     "output_type": "stream",
     "text": [
      "-1 -2 -3 -4 -5 -6 -7 -8 -9 -10 "
     ]
    }
   ],
   "source": [
    "#Q1 print 1 to 10\n",
    "#q2 print 10 to 1\n",
    "#q3 print -1 to -10\n",
    "#Q4 print -10 to -1\n",
    "\n",
    "i=-1\n",
    "while i>=-10:\n",
    "    print(i,end=\" \")\n",
    "    i=i-1"
   ]
  },
  {
   "cell_type": "code",
   "execution_count": 22,
   "id": "903447bb-b393-4665-a053-93417c49401e",
   "metadata": {},
   "outputs": [
    {
     "name": "stdout",
     "output_type": "stream",
     "text": [
      "10 9 8 7 6 5 4 3 2 1 "
     ]
    }
   ],
   "source": [
    "i=10\n",
    "while i>=1:\n",
    "    print(i,end=\" \")\n",
    "    i=i-1"
   ]
  },
  {
   "cell_type": "code",
   "execution_count": 20,
   "id": "0dae82a6-3f71-44f9-b857-dea40850033d",
   "metadata": {},
   "outputs": [
    {
     "name": "stdout",
     "output_type": "stream",
     "text": [
      "-10 -9 -8 -7 -6 -5 -4 -3 -2 -1 "
     ]
    }
   ],
   "source": [
    "i=-10\n",
    "while i<=-1:\n",
    "    print(i,end=\" \")\n",
    "    i=i+1"
   ]
  },
  {
   "cell_type": "code",
   "execution_count": 25,
   "id": "3831d825-3a96-46fd-9bc7-061729d55539",
   "metadata": {},
   "outputs": [
    {
     "name": "stdout",
     "output_type": "stream",
     "text": [
      "1 2 3 4 5 6 7 8 9 10 "
     ]
    }
   ],
   "source": [
    "i=1\n",
    "while i<=10:\n",
    "    print(i,end=\" \")\n",
    "    i=i+1"
   ]
  },
  {
   "cell_type": "code",
   "execution_count": 2,
   "id": "77d232a8-4f2f-4ddd-ac03-0ac7cc80f3a8",
   "metadata": {},
   "outputs": [
    {
     "name": "stdout",
     "output_type": "stream",
     "text": [
      "1 2 3 "
     ]
    }
   ],
   "source": [
    "import random\n",
    "i=1\n",
    "while i<=3:\n",
    "    print(i,end=\" \")\n",
    "    i=i+1"
   ]
  },
  {
   "cell_type": "code",
   "execution_count": 18,
   "id": "84214b83-14d6-4460-90ed-1f906694250d",
   "metadata": {},
   "outputs": [
    {
     "name": "stdout",
     "output_type": "stream",
     "text": [
      "1 * 23 = 23\n",
      "2 * 23 = 46\n",
      "3 * 23 = 69\n",
      "4 * 23 = 92\n",
      "5 * 23 = 115\n",
      "6 * 23 = 138\n",
      "7 * 23 = 161\n",
      "8 * 23 = 184\n",
      "9 * 23 = 207\n",
      "10 * 23 = 230\n"
     ]
    }
   ],
   "source": [
    "# table 2 \n",
    "i=1\n",
    "n=23\n",
    "while i<=10:\n",
    "    print(i,\"*\",n,\"=\",i*n)\n",
    "    i=i+1"
   ]
  },
  {
   "cell_type": "code",
   "execution_count": 1,
   "id": "59e2b121-6126-4f59-85b7-94d3bf2216c4",
   "metadata": {},
   "outputs": [],
   "source": [
    "l1=[1,2,3,4,5,6,7,8,9]"
   ]
  },
  {
   "cell_type": "code",
   "execution_count": 2,
   "id": "2949e039-0bd3-4bc7-8dc4-ead97a023c40",
   "metadata": {},
   "outputs": [],
   "source": [
    "i=0\n",
    "while i<len(l1):\n",
    "    l1[i]=l1[i]+100\n",
    "    i+=1"
   ]
  },
  {
   "cell_type": "code",
   "execution_count": 4,
   "id": "c58067c1-fcce-4167-a81e-f9e6fe1e9d91",
   "metadata": {},
   "outputs": [
    {
     "data": {
      "text/plain": [
       "[101, 102, 103, 104, 105, 106, 107, 108, 109]"
      ]
     },
     "execution_count": 4,
     "metadata": {},
     "output_type": "execute_result"
    }
   ],
   "source": [
    "l1"
   ]
  },
  {
   "cell_type": "code",
   "execution_count": 42,
   "id": "23d6ee10-213b-417e-9d0a-05d52728602e",
   "metadata": {},
   "outputs": [
    {
     "name": "stdout",
     "output_type": "stream",
     "text": [
      "1 * 3 = 3\n",
      "2 * 3 = 6\n",
      "3 * 3 = 9\n",
      "4 * 3 = 12\n",
      "5 * 3 = 15\n",
      "6 * 3 = 18\n",
      "7 * 3 = 21\n",
      "8 * 3 = 24\n",
      "9 * 3 = 27\n",
      "10 * 3 = 30\n"
     ]
    }
   ],
   "source": [
    "i=1\n",
    "n=3\n",
    "while i<=10:\n",
    "    print(i,\"*\",n,\"=\",i*n)\n",
    "    i+=1"
   ]
  },
  {
   "cell_type": "code",
   "execution_count": 2,
   "id": "c989b18f-da14-4193-85ce-e5073f38f772",
   "metadata": {},
   "outputs": [
    {
     "name": "stdout",
     "output_type": "stream",
     "text": [
      "0 1 2 3 4 5 6 7 8 9 10 11 12 13 14 15 16 17 18 19 20 21 22 23 24 25 26 27 28 29 30 31 32 33 34 35 36 37 38 39 40 41 42 43 44 45 46 47 48 49 50 51 52 53 54 55 56 57 58 59 60 61 62 63 64 65 66 67 68 69 70 71 72 73 74 75 76 77 78 79 80 81 82 83 84 85 86 87 88 89 90 91 92 93 94 95 96 97 98 99 100 "
     ]
    }
   ],
   "source": [
    "i=0\n",
    "while i<101:\n",
    "    print(i,end=\" \")\n",
    "    i+=1"
   ]
  },
  {
   "cell_type": "code",
   "execution_count": 4,
   "id": "94ff26b1-3611-41d2-98c7-25bce71b4338",
   "metadata": {},
   "outputs": [
    {
     "name": "stdout",
     "output_type": "stream",
     "text": [
      "0 1 2 3 4 5 6 7 8 9 10 11 12 13 14 15 16 17 18 19 20 "
     ]
    }
   ],
   "source": [
    "i=0\n",
    "n=21\n",
    "while i<n:\n",
    "    print(i,end=\" \")\n",
    "    i+=1"
   ]
  },
  {
   "cell_type": "code",
   "execution_count": 15,
   "id": "c8a6851c-3624-4df8-bc4e-9d8954e0473f",
   "metadata": {},
   "outputs": [
    {
     "name": "stdout",
     "output_type": "stream",
     "text": [
      "2*9 : 18\n",
      "3*9 : 27\n",
      "4*9 : 36\n",
      "5*9 : 45\n",
      "6*9 : 54\n"
     ]
    }
   ],
   "source": [
    "i=2\n",
    "n=9\n",
    "while i<=6:\n",
    "    print(f\"{i}*{n} : {i*n}\")\n",
    "    i+=1"
   ]
  },
  {
   "cell_type": "code",
   "execution_count": 41,
   "id": "a052d6dd-5f8b-401d-8a0c-dc037b55e93a",
   "metadata": {},
   "outputs": [
    {
     "name": "stdin",
     "output_type": "stream",
     "text": [
      "enter the number: 25\n"
     ]
    },
    {
     "name": "stdout",
     "output_type": "stream",
     "text": [
      "the number squr 0 is : 0\n",
      "the number squr 1 is : 1\n",
      "the number squr 2 is : 4\n",
      "the number squr 3 is : 9\n",
      "the number squr 4 is : 16\n",
      "the number squr 5 is : 25\n",
      "the number squr 6 is : 36\n",
      "the number squr 7 is : 49\n",
      "the number squr 8 is : 64\n",
      "the number squr 9 is : 81\n",
      "the number squr 10 is : 100\n",
      "the number squr 11 is : 121\n",
      "the number squr 12 is : 144\n",
      "the number squr 13 is : 169\n",
      "the number squr 14 is : 196\n",
      "the number squr 15 is : 225\n",
      "the number squr 16 is : 256\n",
      "the number squr 17 is : 289\n",
      "the number squr 18 is : 324\n",
      "the number squr 19 is : 361\n",
      "the number squr 20 is : 400\n",
      "the number squr 21 is : 441\n",
      "the number squr 22 is : 484\n",
      "the number squr 23 is : 529\n",
      "the number squr 24 is : 576\n",
      "the number squr 25 is : 625\n"
     ]
    }
   ],
   "source": [
    "num=eval(input(\"enter the number:\"))\n",
    "i=0\n",
    "while i<=num:\n",
    "    print(f\"the number squr {i} is : {i*i}\")\n",
    "    i+=1"
   ]
  },
  {
   "cell_type": "code",
   "execution_count": 2,
   "id": "ddaaaec9-d1b5-42e1-8ce9-615ef0ea10e9",
   "metadata": {},
   "outputs": [
    {
     "name": "stdin",
     "output_type": "stream",
     "text": [
      "enter the number: 45\n"
     ]
    },
    {
     "name": "stdout",
     "output_type": "stream",
     "text": [
      "the number are divided 1:45\n",
      "the number are divided 3:45\n",
      "the number are divided 5:45\n",
      "the number are divided 9:45\n",
      "the number are divided 15:45\n",
      "the number are divided 45:45\n"
     ]
    }
   ],
   "source": [
    "#Q-5 find thenumber of  divisors of 75\n",
    "# if you divide 75 with any number the reminder should be zero\n",
    "#75%1==0    #T\n",
    "#75%2==0      #F\n",
    "#75%3==0          #T\n",
    "#75%15==0           # T\n",
    "#75%25==0   #T\n",
    "#75%75==0   #T\n",
    "\n",
    "\n",
    "num=eval(input(\"enter the number:\"))\n",
    "i=1\n",
    "count=0\n",
    "while i<=num:\n",
    "    if num%i==0:\n",
    "        print(f\"the number are divided {i}:{num}\")\n",
    "        count+=1\n",
    "    i+=1\n"
   ]
  },
  {
   "cell_type": "code",
   "execution_count": null,
   "id": "7672719b-6adc-470a-8d24-73d8390389a6",
   "metadata": {},
   "outputs": [],
   "source": []
  }
 ],
 "metadata": {
  "kernelspec": {
   "display_name": "Python 3 (ipykernel)",
   "language": "python",
   "name": "python3"
  },
  "language_info": {
   "codemirror_mode": {
    "name": "ipython",
    "version": 3
   },
   "file_extension": ".py",
   "mimetype": "text/x-python",
   "name": "python",
   "nbconvert_exporter": "python",
   "pygments_lexer": "ipython3",
   "version": "3.12.7"
  }
 },
 "nbformat": 4,
 "nbformat_minor": 5
}
