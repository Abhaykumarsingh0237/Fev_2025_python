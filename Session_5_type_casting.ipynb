{
 "cells": [
  {
   "cell_type": "markdown",
   "id": "c28c6d9c-a061-4b8c-bfa3-11c0c12f4901",
   "metadata": {},
   "source": [
    "## Type casting\n",
    "- Convert one data type to another data type\n",
    "- We learned 4 data types\n",
    " - integer: int\n",
    " - float:   float\n",
    " - boolean: bool\n",
    " - string:  str"
   ]
  },
  {
   "cell_type": "markdown",
   "id": "369d6a40-2c15-41de-b004-9af88b6080a6",
   "metadata": {},
   "source": [
    "**int to other data type**"
   ]
  },
  {
   "cell_type": "code",
   "execution_count": 1,
   "id": "7b3a33c6-f9e0-4ff8-83ed-1b2fd6bc3616",
   "metadata": {},
   "outputs": [
    {
     "data": {
      "text/plain": [
       "int"
      ]
     },
     "execution_count": 1,
     "metadata": {},
     "output_type": "execute_result"
    }
   ],
   "source": [
    "number=100\n",
    "type(number)"
   ]
  },
  {
   "cell_type": "code",
   "execution_count": 4,
   "id": "d6c5c909-429e-40de-9354-3815df8c1890",
   "metadata": {},
   "outputs": [
    {
     "data": {
      "text/plain": [
       "float"
      ]
     },
     "execution_count": 4,
     "metadata": {},
     "output_type": "execute_result"
    }
   ],
   "source": [
    "float_number=float(number)\n",
    "type(float_number)"
   ]
  },
  {
   "cell_type": "code",
   "execution_count": 5,
   "id": "685657b1-8dbf-4e82-a028-5fda38eae74b",
   "metadata": {},
   "outputs": [
    {
     "data": {
      "text/plain": [
       "bool"
      ]
     },
     "execution_count": 5,
     "metadata": {},
     "output_type": "execute_result"
    }
   ],
   "source": [
    "bool_number=bool(number)\n",
    "type(bool_number)"
   ]
  },
  {
   "cell_type": "code",
   "execution_count": 6,
   "id": "4b893c96-8595-45e3-b860-4f71578c5681",
   "metadata": {},
   "outputs": [
    {
     "data": {
      "text/plain": [
       "str"
      ]
     },
     "execution_count": 6,
     "metadata": {},
     "output_type": "execute_result"
    }
   ],
   "source": [
    "str_number=str(number)\n",
    "type(str_number)"
   ]
  },
  {
   "cell_type": "code",
   "execution_count": 7,
   "id": "e2afc587-230e-4b3c-bf6c-f05deb1971c4",
   "metadata": {},
   "outputs": [
    {
     "data": {
      "text/plain": [
       "(100.0, True, '100')"
      ]
     },
     "execution_count": 7,
     "metadata": {},
     "output_type": "execute_result"
    }
   ],
   "source": [
    "float(100), bool(100), str(100)"
   ]
  },
  {
   "cell_type": "code",
   "execution_count": 9,
   "id": "f9bcdfd4-107e-4b89-a1fe-cace692b191e",
   "metadata": {},
   "outputs": [
    {
     "name": "stdout",
     "output_type": "stream",
     "text": [
      "100.0\n",
      "True\n",
      "100\n"
     ]
    }
   ],
   "source": [
    "print(float(100))\n",
    "print(bool(100))\n",
    "print(str(100))"
   ]
  },
  {
   "cell_type": "code",
   "execution_count": 10,
   "id": "cecc7d7f-8b78-40bd-89db-ed7ec1f264a4",
   "metadata": {},
   "outputs": [
    {
     "name": "stdout",
     "output_type": "stream",
     "text": [
      "-100.0\n",
      "True\n",
      "-100\n"
     ]
    }
   ],
   "source": [
    "print(float(-100))\n",
    "print(bool(-100))\n",
    "print(str(-100))"
   ]
  },
  {
   "cell_type": "code",
   "execution_count": 11,
   "id": "e328cf7d-46fb-4b09-97c0-506d4787db4c",
   "metadata": {},
   "outputs": [
    {
     "data": {
      "text/plain": [
       "False"
      ]
     },
     "execution_count": 11,
     "metadata": {},
     "output_type": "execute_result"
    }
   ],
   "source": [
    "bool(0)"
   ]
  },
  {
   "cell_type": "markdown",
   "id": "e93cb9aa-8d2c-462e-ab3d-7a8021731013",
   "metadata": {},
   "source": [
    "- zero means off\n",
    "- False means off"
   ]
  },
  {
   "cell_type": "code",
   "execution_count": 12,
   "id": "b71d9f9f-daf3-4b79-a209-47a0d95afc3f",
   "metadata": {},
   "outputs": [
    {
     "name": "stdout",
     "output_type": "stream",
     "text": [
      "0.0\n",
      "False\n",
      "0\n"
     ]
    }
   ],
   "source": [
    "print(float(0))\n",
    "print(bool(0))\n",
    "print(str(0))"
   ]
  },
  {
   "cell_type": "code",
   "execution_count": 14,
   "id": "f4a22f9d-e56d-486b-9d51-8ae0d85ccffe",
   "metadata": {},
   "outputs": [
    {
     "name": "stdout",
     "output_type": "stream",
     "text": [
      "10.0\n",
      "True\n",
      "12\n"
     ]
    }
   ],
   "source": [
    "print(float(10))\n",
    "print(bool(12))\n",
    "print(str(12))"
   ]
  },
  {
   "cell_type": "markdown",
   "id": "8c7156d8-adea-4b40-a3b7-39714cd83db1",
   "metadata": {},
   "source": [
    "**float to other data type**"
   ]
  },
  {
   "cell_type": "code",
   "execution_count": 16,
   "id": "283aae6d-a488-44cc-a169-36bb0013506f",
   "metadata": {},
   "outputs": [
    {
     "data": {
      "text/plain": [
       "100"
      ]
     },
     "execution_count": 16,
     "metadata": {},
     "output_type": "execute_result"
    }
   ],
   "source": [
    "number=100.5\n",
    "int(number)"
   ]
  },
  {
   "cell_type": "code",
   "execution_count": 17,
   "id": "3e9a66aa-3e3c-4ab5-a145-52009c424074",
   "metadata": {},
   "outputs": [
    {
     "data": {
      "text/plain": [
       "True"
      ]
     },
     "execution_count": 17,
     "metadata": {},
     "output_type": "execute_result"
    }
   ],
   "source": [
    "bool(number)"
   ]
  },
  {
   "cell_type": "code",
   "execution_count": 18,
   "id": "2f13f8b7-6539-4ae2-82fe-15b8e28d7e7a",
   "metadata": {},
   "outputs": [
    {
     "data": {
      "text/plain": [
       "'100.5'"
      ]
     },
     "execution_count": 18,
     "metadata": {},
     "output_type": "execute_result"
    }
   ],
   "source": [
    "str(number)"
   ]
  },
  {
   "cell_type": "code",
   "execution_count": 2,
   "id": "f6c66367-ee07-4cf6-8c34-83964d73760e",
   "metadata": {},
   "outputs": [
    {
     "data": {
      "text/plain": [
       "'1000.2'"
      ]
     },
     "execution_count": 2,
     "metadata": {},
     "output_type": "execute_result"
    }
   ],
   "source": [
    "int(1000.2),\n",
    "bool(1000.2),\n",
    "str(1000.2)"
   ]
  },
  {
   "cell_type": "code",
   "execution_count": 22,
   "id": "38c101e2-2e12-44e0-8cec-f7c82eeea551",
   "metadata": {},
   "outputs": [
    {
     "name": "stdout",
     "output_type": "stream",
     "text": [
      "100\n",
      "True\n",
      "100.5\n"
     ]
    }
   ],
   "source": [
    "n1=int(100.5)\n",
    "n2=bool(100.5)\n",
    "n3=str(100.5)\n",
    "print(n1)\n",
    "print(n2)\n",
    "print(n3)"
   ]
  },
  {
   "cell_type": "code",
   "execution_count": 23,
   "id": "8131b4bd-6fca-491a-93ee-d6429b965c21",
   "metadata": {},
   "outputs": [
    {
     "name": "stdout",
     "output_type": "stream",
     "text": [
      "0\n",
      "True\n",
      "0.5\n"
     ]
    }
   ],
   "source": [
    "n1=int(0.5)\n",
    "n2=bool(0.5)\n",
    "n3=str(0.5)\n",
    "print(n1)\n",
    "print(n2)\n",
    "print(n3)"
   ]
  },
  {
   "cell_type": "code",
   "execution_count": 24,
   "id": "65302eaf-44eb-4dbc-a591-531b278cfbee",
   "metadata": {},
   "outputs": [
    {
     "name": "stdout",
     "output_type": "stream",
     "text": [
      "0\n",
      "False\n",
      "0.0\n"
     ]
    }
   ],
   "source": [
    "n1=int(0.0)\n",
    "n2=bool(0.0)\n",
    "n3=str(0.0)\n",
    "print(n1)\n",
    "print(n2)\n",
    "print(n3)"
   ]
  },
  {
   "cell_type": "markdown",
   "id": "92752a9d-73ec-4860-8057-b58a9ece6e93",
   "metadata": {},
   "source": [
    "**string to other data type**"
   ]
  },
  {
   "cell_type": "code",
   "execution_count": null,
   "id": "9648f1da-ba07-4ddb-aa02-85ee96c43b56",
   "metadata": {},
   "outputs": [],
   "source": [
    "int('apple') #fail\n",
    "float('apple') #fail\n",
    "bool('apple') #works"
   ]
  },
  {
   "cell_type": "code",
   "execution_count": 26,
   "id": "bd312a9c-a708-4ef2-abc6-f0d9107f1d05",
   "metadata": {},
   "outputs": [
    {
     "data": {
      "text/plain": [
       "True"
      ]
     },
     "execution_count": 26,
     "metadata": {},
     "output_type": "execute_result"
    }
   ],
   "source": [
    "bool('apple')"
   ]
  },
  {
   "cell_type": "markdown",
   "id": "3ddb0c39-f220-439b-8bd9-a73926faf72e",
   "metadata": {},
   "source": [
    "- True : ON some thing is present\n",
    "- False : Off that is not present"
   ]
  },
  {
   "cell_type": "code",
   "execution_count": 5,
   "id": "ffabeceb-bb80-4196-98b9-0702c9b35117",
   "metadata": {},
   "outputs": [
    {
     "data": {
      "text/plain": [
       "True"
      ]
     },
     "execution_count": 5,
     "metadata": {},
     "output_type": "execute_result"
    }
   ],
   "source": [
    "bool(\"0\")"
   ]
  },
  {
   "cell_type": "code",
   "execution_count": 28,
   "id": "7150067e-fdb4-4b33-a577-56d853440bed",
   "metadata": {},
   "outputs": [
    {
     "data": {
      "text/plain": [
       "True"
      ]
     },
     "execution_count": 28,
     "metadata": {},
     "output_type": "execute_result"
    }
   ],
   "source": [
    "bool(\" \")"
   ]
  },
  {
   "cell_type": "code",
   "execution_count": 1,
   "id": "25edcfc9-54bf-4533-9e73-95787e06b6a0",
   "metadata": {},
   "outputs": [
    {
     "data": {
      "text/plain": [
       "False"
      ]
     },
     "execution_count": 1,
     "metadata": {},
     "output_type": "execute_result"
    }
   ],
   "source": [
    "bool(\"\")"
   ]
  },
  {
   "cell_type": "code",
   "execution_count": 29,
   "id": "3bac0d75-5085-4447-8ae4-e44495a9727c",
   "metadata": {},
   "outputs": [
    {
     "data": {
      "text/plain": [
       "False"
      ]
     },
     "execution_count": 29,
     "metadata": {},
     "output_type": "execute_result"
    }
   ],
   "source": [
    "bool(\"\")"
   ]
  },
  {
   "cell_type": "code",
   "execution_count": 30,
   "id": "0bfb55bc-e1e2-4c39-82c2-02ecc71260d4",
   "metadata": {},
   "outputs": [
    {
     "data": {
      "text/plain": [
       "5"
      ]
     },
     "execution_count": 30,
     "metadata": {},
     "output_type": "execute_result"
    }
   ],
   "source": [
    "len(\"apple\")"
   ]
  },
  {
   "cell_type": "code",
   "execution_count": 31,
   "id": "69d108d4-d545-4582-bf85-118e8a7c738a",
   "metadata": {},
   "outputs": [
    {
     "data": {
      "text/plain": [
       "5"
      ]
     },
     "execution_count": 31,
     "metadata": {},
     "output_type": "execute_result"
    }
   ],
   "source": [
    "len(\"abhay\")"
   ]
  },
  {
   "cell_type": "code",
   "execution_count": 33,
   "id": "3e731eec-ffe1-44e1-9fd2-29d8091b4e71",
   "metadata": {},
   "outputs": [
    {
     "data": {
      "text/plain": [
       "4"
      ]
     },
     "execution_count": 33,
     "metadata": {},
     "output_type": "execute_result"
    }
   ],
   "source": [
    "len(\"    \")"
   ]
  },
  {
   "cell_type": "markdown",
   "id": "29ce8ec3-a2c0-4dbe-8be7-87e7afb229bb",
   "metadata": {},
   "source": [
    "- for number o and 0.0 boolean conversion gives **False**\n",
    "\n",
    "- for strings empty boolean conversion gives **False**"
   ]
  },
  {
   "cell_type": "code",
   "execution_count": 34,
   "id": "c81cb7f9-91dc-46bf-8e01-e624a3b7d134",
   "metadata": {},
   "outputs": [
    {
     "data": {
      "text/plain": [
       "10"
      ]
     },
     "execution_count": 34,
     "metadata": {},
     "output_type": "execute_result"
    }
   ],
   "source": [
    "float('10')  #works 10.0\n",
    "bool('10')   #works True\n",
    "int('10')   #works 10"
   ]
  },
  {
   "cell_type": "code",
   "execution_count": 35,
   "id": "24ea1ff1-50aa-4ff1-881b-aab5d39a851d",
   "metadata": {},
   "outputs": [
    {
     "data": {
      "text/plain": [
       "10.0"
      ]
     },
     "execution_count": 35,
     "metadata": {},
     "output_type": "execute_result"
    }
   ],
   "source": [
    "float('10')"
   ]
  },
  {
   "cell_type": "code",
   "execution_count": 36,
   "id": "ff7ae278-75d3-4ada-94b2-a530f1ddae9b",
   "metadata": {},
   "outputs": [
    {
     "data": {
      "text/plain": [
       "True"
      ]
     },
     "execution_count": 36,
     "metadata": {},
     "output_type": "execute_result"
    }
   ],
   "source": [
    "bool('10')"
   ]
  },
  {
   "cell_type": "code",
   "execution_count": 37,
   "id": "6e67deb6-3df8-4182-b339-a62f0d2bdc45",
   "metadata": {},
   "outputs": [
    {
     "data": {
      "text/plain": [
       "10"
      ]
     },
     "execution_count": 37,
     "metadata": {},
     "output_type": "execute_result"
    }
   ],
   "source": [
    "int('10')"
   ]
  },
  {
   "cell_type": "code",
   "execution_count": null,
   "id": "0cd2778d-f190-429e-aaab-2097ad9635d9",
   "metadata": {},
   "outputs": [],
   "source": [
    "float('apple') # fail\n",
    "float('10')    #works"
   ]
  },
  {
   "cell_type": "markdown",
   "id": "5ebc78ad-9d59-431c-8081-68f5d99c9841",
   "metadata": {},
   "source": [
    "**str object not callable**\n",
    "- python magic\n",
    "- either you need open new notebook\n",
    "- or go to kernel and restart"
   ]
  },
  {
   "cell_type": "code",
   "execution_count": 39,
   "id": "ede0e8de-d607-4356-a9ed-2139df269b4e",
   "metadata": {},
   "outputs": [
    {
     "data": {
      "text/plain": [
       "(10.0, True, 10)"
      ]
     },
     "execution_count": 39,
     "metadata": {},
     "output_type": "execute_result"
    }
   ],
   "source": [
    "float('10'), bool('10'),int('10')"
   ]
  },
  {
   "cell_type": "code",
   "execution_count": 7,
   "id": "3ad8b500-adf9-4f1e-852c-223a2caef4af",
   "metadata": {},
   "outputs": [
    {
     "ename": "ValueError",
     "evalue": "invalid literal for int() with base 10: '10.5'",
     "output_type": "error",
     "traceback": [
      "\u001b[1;31m---------------------------------------------------------------------------\u001b[0m",
      "\u001b[1;31mValueError\u001b[0m                                Traceback (most recent call last)",
      "Cell \u001b[1;32mIn[7], line 3\u001b[0m\n\u001b[0;32m      1\u001b[0m \u001b[38;5;28mfloat\u001b[39m(\u001b[38;5;124m'\u001b[39m\u001b[38;5;124m10.5\u001b[39m\u001b[38;5;124m'\u001b[39m)  \u001b[38;5;66;03m# w 10.5\u001b[39;00m\n\u001b[0;32m      2\u001b[0m \u001b[38;5;28mbool\u001b[39m(\u001b[38;5;124m'\u001b[39m\u001b[38;5;124m10.5\u001b[39m\u001b[38;5;124m'\u001b[39m)   \u001b[38;5;66;03m# w true\u001b[39;00m\n\u001b[1;32m----> 3\u001b[0m \u001b[38;5;28mint\u001b[39m(\u001b[38;5;124m'\u001b[39m\u001b[38;5;124m10.5\u001b[39m\u001b[38;5;124m'\u001b[39m)\n",
      "\u001b[1;31mValueError\u001b[0m: invalid literal for int() with base 10: '10.5'"
     ]
    }
   ],
   "source": [
    "float('10.5')  # w 10.5\n",
    "bool('10.5')   # w true\n",
    "int('10.5')  ##### Fail"
   ]
  },
  {
   "cell_type": "markdown",
   "id": "0dd6a29a-cf9b-423e-b9e7-6adc55f93475",
   "metadata": {},
   "source": [
    "**float is the boss**\n"
   ]
  },
  {
   "cell_type": "code",
   "execution_count": null,
   "id": "648ddca3-88db-4fed-a862-9b558f601e02",
   "metadata": {},
   "outputs": [],
   "source": [
    "float('10') #w\n",
    "float('10.5') # w\n",
    "\n",
    "\n",
    "int('10')  #w\n",
    "int('10.5') #Fail"
   ]
  },
  {
   "cell_type": "markdown",
   "id": "35b56b42-b1e6-4824-a8b5-2116500aa8d0",
   "metadata": {},
   "source": [
    "**boolean other data type**"
   ]
  },
  {
   "cell_type": "code",
   "execution_count": 42,
   "id": "c607ec9f-0e90-4832-854a-8b2e7708193d",
   "metadata": {},
   "outputs": [
    {
     "name": "stdout",
     "output_type": "stream",
     "text": [
      "1\n",
      "1.0\n",
      "True\n",
      "0\n",
      "0.0\n",
      "False\n"
     ]
    }
   ],
   "source": [
    "print(int(True))    # w  1 \n",
    "print(float(True))  # w 1.0\n",
    "print(str(True))    # 'True'\n",
    "print(int(False))   # 0 \n",
    "print(float(False)) # 0.0\n",
    "print(str(False))   # 'False'"
   ]
  },
  {
   "cell_type": "code",
   "execution_count": 21,
   "id": "387eac04-01f8-4ea4-9af2-be2f90bd9aa3",
   "metadata": {},
   "outputs": [
    {
     "data": {
      "text/plain": [
       "True"
      ]
     },
     "execution_count": 21,
     "metadata": {},
     "output_type": "execute_result"
    }
   ],
   "source": [
    "float(10) #True\n",
    "str(10)   #works\n",
    "bool(10)  #True\n",
    "int(10.5)  #works 10\n",
    "str(10.5)  #works 10.5\n",
    "bool(10.5)  #true\n",
    "#int('apple') #fall\n",
    "#float('apple') #fall\n",
    "bool('apple') #true\n",
    "int('10')    #true \n",
    "bool('10')  #true\n",
    "bool('10.8') #true\n"
   ]
  },
  {
   "cell_type": "code",
   "execution_count": 8,
   "id": "0fd2ab67-7f85-48c8-998e-f664cad21393",
   "metadata": {},
   "outputs": [
    {
     "data": {
      "text/plain": [
       "10"
      ]
     },
     "execution_count": 8,
     "metadata": {},
     "output_type": "execute_result"
    }
   ],
   "source": [
    "int('10.')"
   ]
  },
  {
   "cell_type": "code",
   "execution_count": 2,
   "id": "9b05d0e7-d137-4fc5-9071-237145f57c6f",
   "metadata": {},
   "outputs": [
    {
     "data": {
      "text/plain": [
       "'10.5'"
      ]
     },
     "execution_count": 2,
     "metadata": {},
     "output_type": "execute_result"
    }
   ],
   "source": [
    "str(10.5)"
   ]
  },
  {
   "cell_type": "code",
   "execution_count": 4,
   "id": "a281048b-40f6-4876-9a2c-9f3b23d185ee",
   "metadata": {},
   "outputs": [
    {
     "data": {
      "text/plain": [
       "True"
      ]
     },
     "execution_count": 4,
     "metadata": {},
     "output_type": "execute_result"
    }
   ],
   "source": [
    "bool(10)"
   ]
  },
  {
   "cell_type": "code",
   "execution_count": 7,
   "id": "af73dff4-0d0d-4eea-b9e0-08544a380a17",
   "metadata": {},
   "outputs": [
    {
     "data": {
      "text/plain": [
       "True"
      ]
     },
     "execution_count": 7,
     "metadata": {},
     "output_type": "execute_result"
    }
   ],
   "source": [
    "bool(0.7)"
   ]
  },
  {
   "cell_type": "code",
   "execution_count": null,
   "id": "8ec135e6-c153-40cc-aace-d3705b42d0c9",
   "metadata": {},
   "outputs": [],
   "source": []
  }
 ],
 "metadata": {
  "kernelspec": {
   "display_name": "Python 3 (ipykernel)",
   "language": "python",
   "name": "python3"
  },
  "language_info": {
   "codemirror_mode": {
    "name": "ipython",
    "version": 3
   },
   "file_extension": ".py",
   "mimetype": "text/x-python",
   "name": "python",
   "nbconvert_exporter": "python",
   "pygments_lexer": "ipython3",
   "version": "3.12.7"
  }
 },
 "nbformat": 4,
 "nbformat_minor": 5
}
