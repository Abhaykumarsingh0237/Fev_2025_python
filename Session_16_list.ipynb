{
 "cells": [
  {
   "cell_type": "code",
   "execution_count": null,
   "id": "438831f7-b0c9-449d-94f0-cef5af22ee12",
   "metadata": {},
   "outputs": [],
   "source": [
    "**basic representations**"
   ]
  },
  {
   "cell_type": "markdown",
   "id": "804aa891-d851-4aca-8054-d54259901ee4",
   "metadata": {},
   "source": [
    "- strings will use in quotes\n",
    "- list elements is in square brackets"
   ]
  },
  {
   "cell_type": "code",
   "execution_count": 1,
   "id": "21d30a44-0a92-4b5c-a5b7-a87a9c29f6c6",
   "metadata": {},
   "outputs": [
    {
     "data": {
      "text/plain": [
       "[1, 2, 3, 4, 5]"
      ]
     },
     "execution_count": 1,
     "metadata": {},
     "output_type": "execute_result"
    }
   ],
   "source": [
    "list1=[1,2,3,4,5]\n",
    "list1"
   ]
  },
  {
   "cell_type": "code",
   "execution_count": 2,
   "id": "46610a11-fa79-440f-80ae-b52b640ca104",
   "metadata": {},
   "outputs": [
    {
     "name": "stdout",
     "output_type": "stream",
     "text": [
      "[1, 2, 3, 4, 5]\n"
     ]
    }
   ],
   "source": [
    "print(list1)"
   ]
  },
  {
   "cell_type": "code",
   "execution_count": 3,
   "id": "826bd175-bc73-4aa2-9362-e7d7cb6e58db",
   "metadata": {},
   "outputs": [
    {
     "data": {
      "text/plain": [
       "list"
      ]
     },
     "execution_count": 3,
     "metadata": {},
     "output_type": "execute_result"
    }
   ],
   "source": [
    "type(list1)\n",
    "\n",
    "# for string===str\n",
    "# we will say string === but type is str\n",
    "# we will say list ==== type "
   ]
  },
  {
   "cell_type": "code",
   "execution_count": 4,
   "id": "d853a627-a9c1-4f89-b6cd-9a0eaa7ca575",
   "metadata": {},
   "outputs": [
    {
     "name": "stdout",
     "output_type": "stream",
     "text": [
      "['a', 'b', 'c', 'd']\n"
     ]
    }
   ],
   "source": [
    "list1=['a','b','c','d']\n",
    "print(list1)"
   ]
  },
  {
   "cell_type": "code",
   "execution_count": 5,
   "id": "d871abdb-0727-4811-abad-714b4c603b94",
   "metadata": {},
   "outputs": [
    {
     "data": {
      "text/plain": [
       "[1, 2, 3, 4, 5, 'a', 'b', 'c', 'd']"
      ]
     },
     "execution_count": 5,
     "metadata": {},
     "output_type": "execute_result"
    }
   ],
   "source": [
    "list1=[1,2,3,4,5,'a','b','c','d']\n",
    "list1"
   ]
  },
  {
   "cell_type": "code",
   "execution_count": 6,
   "id": "52018043-5e51-4312-87bf-51991adb2bfa",
   "metadata": {},
   "outputs": [
    {
     "name": "stdout",
     "output_type": "stream",
     "text": [
      "[1, 2, 3, 4, 5, 'a', 'b', 'c', 'd']\n"
     ]
    }
   ],
   "source": [
    "print(list1)"
   ]
  },
  {
   "cell_type": "code",
   "execution_count": 7,
   "id": "6cbf72e0-7f50-46a8-a116-289b5975bbad",
   "metadata": {},
   "outputs": [
    {
     "data": {
      "text/plain": [
       "[1, 2, 3, 4, 5, 'a', 'b', 'c', 'd', True, False]"
      ]
     },
     "execution_count": 7,
     "metadata": {},
     "output_type": "execute_result"
    }
   ],
   "source": [
    "list1=[1,2,3,4,5,'a','b','c','d',True,False]\n",
    "list1"
   ]
  },
  {
   "cell_type": "code",
   "execution_count": 8,
   "id": "42cb1024-e86e-4885-bc35-f422e96526d8",
   "metadata": {},
   "outputs": [
    {
     "data": {
      "text/plain": [
       "[2.4, 5.6, 4.9, 'a', 'b', 'c']"
      ]
     },
     "execution_count": 8,
     "metadata": {},
     "output_type": "execute_result"
    }
   ],
   "source": [
    "list1=[2.4,5.6,4.9,'a','b','c']\n",
    "list1"
   ]
  },
  {
   "cell_type": "code",
   "execution_count": 9,
   "id": "ce1fdaca-a8ac-4133-9b9e-c5f68ac229e0",
   "metadata": {},
   "outputs": [
    {
     "name": "stdout",
     "output_type": "stream",
     "text": [
      "[88656, 23344444, 4674846]\n"
     ]
    }
   ],
   "source": [
    "list1=[88656,23344444,4674846]\n",
    "print(list1)"
   ]
  },
  {
   "cell_type": "code",
   "execution_count": 10,
   "id": "0986b0eb-aa70-42c3-8e78-1e53fd090590",
   "metadata": {},
   "outputs": [
    {
     "name": "stdout",
     "output_type": "stream",
     "text": [
      "[(2+3j), (10+3j)]\n"
     ]
    }
   ],
   "source": [
    "list1=[2+3j,6+3j+4]\n",
    "print(list1)"
   ]
  },
  {
   "cell_type": "code",
   "execution_count": 11,
   "id": "4a1d5891-bb3d-4790-bca6-fc2920d79908",
   "metadata": {},
   "outputs": [
    {
     "data": {
      "text/plain": [
       "[[2.4, 5.6, 4.9, 'a', 'b', 'c']]"
      ]
     },
     "execution_count": 11,
     "metadata": {},
     "output_type": "execute_result"
    }
   ],
   "source": [
    "list112=[_]\n",
    "list112"
   ]
  },
  {
   "cell_type": "code",
   "execution_count": 12,
   "id": "e664c838-9e06-4a12-adc4-e3204ce47e2a",
   "metadata": {},
   "outputs": [],
   "source": [
    "list112 = [1]  # List with one element\n",
    "list112 = [\"hello\"]  # List with a string\n"
   ]
  },
  {
   "cell_type": "code",
   "execution_count": 14,
   "id": "6208eded-7715-46ec-a692-15dcb6d8d191",
   "metadata": {},
   "outputs": [],
   "source": [
    "list1=[10,20,2,5,75]\n",
    "list2=['apple','Apple','cherry','banana']\n",
    "list3=[10,20,2,5,75,'apple','Apple','cherry','banana']\n",
    "# perform all inbuilt sunctions\n",
    "# len max min summ sorted rversed\n"
   ]
  },
  {
   "cell_type": "code",
   "execution_count": 15,
   "id": "fb5246b1-221d-4f47-a298-5fc0438f28e9",
   "metadata": {},
   "outputs": [
    {
     "name": "stdout",
     "output_type": "stream",
     "text": [
      "5\n",
      "4\n",
      "9\n"
     ]
    }
   ],
   "source": [
    "print(len(list1))\n",
    "print(len(list2))\n",
    "print(len(list3))"
   ]
  },
  {
   "cell_type": "code",
   "execution_count": 17,
   "id": "df275ea9-efae-4b58-b7a7-aabedd89c6d4",
   "metadata": {},
   "outputs": [
    {
     "name": "stdout",
     "output_type": "stream",
     "text": [
      "75\n"
     ]
    }
   ],
   "source": [
    "print(max(list1))\n"
   ]
  },
  {
   "cell_type": "code",
   "execution_count": 18,
   "id": "ac6f3715-0b5c-49b1-b563-43b131301310",
   "metadata": {},
   "outputs": [
    {
     "name": "stdout",
     "output_type": "stream",
     "text": [
      "cherry\n"
     ]
    }
   ],
   "source": [
    "print(max(list2))\n"
   ]
  },
  {
   "cell_type": "code",
   "execution_count": 19,
   "id": "78e64b84-787a-43a8-848a-4d71519b0c02",
   "metadata": {},
   "outputs": [
    {
     "ename": "TypeError",
     "evalue": "'>' not supported between instances of 'str' and 'int'",
     "output_type": "error",
     "traceback": [
      "\u001b[1;31m---------------------------------------------------------------------------\u001b[0m",
      "\u001b[1;31mTypeError\u001b[0m                                 Traceback (most recent call last)",
      "Cell \u001b[1;32mIn[19], line 1\u001b[0m\n\u001b[1;32m----> 1\u001b[0m \u001b[38;5;28mprint\u001b[39m(\u001b[38;5;28mmax\u001b[39m(list3))\n",
      "\u001b[1;31mTypeError\u001b[0m: '>' not supported between instances of 'str' and 'int'"
     ]
    }
   ],
   "source": [
    "print(max(list3))"
   ]
  },
  {
   "cell_type": "code",
   "execution_count": 21,
   "id": "b37d2a47-92f1-4bfb-873e-7df49b39057a",
   "metadata": {},
   "outputs": [
    {
     "name": "stdout",
     "output_type": "stream",
     "text": [
      "2\n"
     ]
    }
   ],
   "source": [
    "print(min(list1))"
   ]
  },
  {
   "cell_type": "code",
   "execution_count": 22,
   "id": "6832fe39-5ffd-46ed-a82e-37da685c8788",
   "metadata": {},
   "outputs": [
    {
     "name": "stdout",
     "output_type": "stream",
     "text": [
      "Apple\n"
     ]
    }
   ],
   "source": [
    "print(min(list2))"
   ]
  },
  {
   "cell_type": "code",
   "execution_count": 23,
   "id": "9f97cf13-5c7e-4c92-867b-09be69a58922",
   "metadata": {},
   "outputs": [
    {
     "ename": "TypeError",
     "evalue": "'<' not supported between instances of 'str' and 'int'",
     "output_type": "error",
     "traceback": [
      "\u001b[1;31m---------------------------------------------------------------------------\u001b[0m",
      "\u001b[1;31mTypeError\u001b[0m                                 Traceback (most recent call last)",
      "Cell \u001b[1;32mIn[23], line 1\u001b[0m\n\u001b[1;32m----> 1\u001b[0m \u001b[38;5;28mprint\u001b[39m(\u001b[38;5;28mmin\u001b[39m(list3))\n",
      "\u001b[1;31mTypeError\u001b[0m: '<' not supported between instances of 'str' and 'int'"
     ]
    }
   ],
   "source": [
    "print(min(list3))"
   ]
  },
  {
   "cell_type": "code",
   "execution_count": 24,
   "id": "1a2ee8f9-851b-49ea-a726-ed3acd79cfce",
   "metadata": {},
   "outputs": [
    {
     "name": "stdout",
     "output_type": "stream",
     "text": [
      "112\n"
     ]
    }
   ],
   "source": [
    "list1=[10,20,2,5,75]\n",
    "print(sum(list1))"
   ]
  },
  {
   "cell_type": "code",
   "execution_count": 25,
   "id": "4b9845fd-305c-4627-bafc-fa3305dfc4a0",
   "metadata": {},
   "outputs": [
    {
     "ename": "TypeError",
     "evalue": "unsupported operand type(s) for +: 'int' and 'str'",
     "output_type": "error",
     "traceback": [
      "\u001b[1;31m---------------------------------------------------------------------------\u001b[0m",
      "\u001b[1;31mTypeError\u001b[0m                                 Traceback (most recent call last)",
      "Cell \u001b[1;32mIn[25], line 2\u001b[0m\n\u001b[0;32m      1\u001b[0m list2\u001b[38;5;241m=\u001b[39m[\u001b[38;5;124m'\u001b[39m\u001b[38;5;124mapple\u001b[39m\u001b[38;5;124m'\u001b[39m,\u001b[38;5;124m'\u001b[39m\u001b[38;5;124mApple\u001b[39m\u001b[38;5;124m'\u001b[39m,\u001b[38;5;124m'\u001b[39m\u001b[38;5;124mcherry\u001b[39m\u001b[38;5;124m'\u001b[39m,\u001b[38;5;124m'\u001b[39m\u001b[38;5;124mbanana\u001b[39m\u001b[38;5;124m'\u001b[39m]\n\u001b[1;32m----> 2\u001b[0m \u001b[38;5;28mprint\u001b[39m(\u001b[38;5;28msum\u001b[39m(list2))\n",
      "\u001b[1;31mTypeError\u001b[0m: unsupported operand type(s) for +: 'int' and 'str'"
     ]
    }
   ],
   "source": [
    "list2=['apple','Apple','cherry','banana']\n",
    "print(sum(list2))"
   ]
  },
  {
   "cell_type": "code",
   "execution_count": 26,
   "id": "d99684ef-f019-4872-be8b-84b7bdc6ed2c",
   "metadata": {},
   "outputs": [
    {
     "ename": "TypeError",
     "evalue": "unsupported operand type(s) for +: 'int' and 'str'",
     "output_type": "error",
     "traceback": [
      "\u001b[1;31m---------------------------------------------------------------------------\u001b[0m",
      "\u001b[1;31mTypeError\u001b[0m                                 Traceback (most recent call last)",
      "Cell \u001b[1;32mIn[26], line 2\u001b[0m\n\u001b[0;32m      1\u001b[0m list3\u001b[38;5;241m=\u001b[39m[\u001b[38;5;241m10\u001b[39m,\u001b[38;5;241m20\u001b[39m,\u001b[38;5;241m2\u001b[39m,\u001b[38;5;241m5\u001b[39m,\u001b[38;5;241m75\u001b[39m,\u001b[38;5;124m'\u001b[39m\u001b[38;5;124mapple\u001b[39m\u001b[38;5;124m'\u001b[39m,\u001b[38;5;124m'\u001b[39m\u001b[38;5;124mApple\u001b[39m\u001b[38;5;124m'\u001b[39m,\u001b[38;5;124m'\u001b[39m\u001b[38;5;124mcherry\u001b[39m\u001b[38;5;124m'\u001b[39m,\u001b[38;5;124m'\u001b[39m\u001b[38;5;124mbanana\u001b[39m\u001b[38;5;124m'\u001b[39m]\n\u001b[1;32m----> 2\u001b[0m \u001b[38;5;28mprint\u001b[39m(\u001b[38;5;28msum\u001b[39m(list3))\n",
      "\u001b[1;31mTypeError\u001b[0m: unsupported operand type(s) for +: 'int' and 'str'"
     ]
    }
   ],
   "source": [
    "list3=[10,20,2,5,75,'apple','Apple','cherry','banana']\n",
    "print(sum(list3))"
   ]
  },
  {
   "cell_type": "code",
   "execution_count": 27,
   "id": "64e81cb8-1a4f-4f91-9ed4-100ddf358947",
   "metadata": {},
   "outputs": [
    {
     "name": "stdout",
     "output_type": "stream",
     "text": [
      "[2, 5, 10, 20, 75]\n"
     ]
    }
   ],
   "source": [
    "print(sorted(list1))"
   ]
  },
  {
   "cell_type": "code",
   "execution_count": 28,
   "id": "d7770921-3053-4b55-94cf-708e11335a91",
   "metadata": {},
   "outputs": [
    {
     "name": "stdout",
     "output_type": "stream",
     "text": [
      "['Apple', 'apple', 'banana', 'cherry']\n"
     ]
    }
   ],
   "source": [
    "print(sorted(list2))"
   ]
  },
  {
   "cell_type": "code",
   "execution_count": 29,
   "id": "c55e4ce6-b893-4ff2-97ec-46ca217f946f",
   "metadata": {},
   "outputs": [
    {
     "ename": "TypeError",
     "evalue": "'<' not supported between instances of 'str' and 'int'",
     "output_type": "error",
     "traceback": [
      "\u001b[1;31m---------------------------------------------------------------------------\u001b[0m",
      "\u001b[1;31mTypeError\u001b[0m                                 Traceback (most recent call last)",
      "Cell \u001b[1;32mIn[29], line 1\u001b[0m\n\u001b[1;32m----> 1\u001b[0m \u001b[38;5;28mprint\u001b[39m(\u001b[38;5;28msorted\u001b[39m(list3))\n",
      "\u001b[1;31mTypeError\u001b[0m: '<' not supported between instances of 'str' and 'int'"
     ]
    }
   ],
   "source": [
    "print(sorted(list3))"
   ]
  },
  {
   "cell_type": "code",
   "execution_count": 30,
   "id": "c316ea60-1a4e-4dfb-b7e2-bf2b6a4ecf73",
   "metadata": {},
   "outputs": [],
   "source": [
    "a=reversed(list1)"
   ]
  },
  {
   "cell_type": "code",
   "execution_count": 31,
   "id": "9f763305-2e5e-4227-b2fd-ec95845ef693",
   "metadata": {},
   "outputs": [
    {
     "name": "stdout",
     "output_type": "stream",
     "text": [
      "75 5 2 20 10 "
     ]
    }
   ],
   "source": [
    "for i in a:\n",
    "    print(i,end=' ')"
   ]
  },
  {
   "cell_type": "code",
   "execution_count": 32,
   "id": "02345341-a85e-4488-8548-e4fae34f91dc",
   "metadata": {},
   "outputs": [],
   "source": [
    "a=reversed(list2)"
   ]
  },
  {
   "cell_type": "code",
   "execution_count": 33,
   "id": "ed7c52ae-739b-41d7-9b27-4d5d168f2669",
   "metadata": {},
   "outputs": [
    {
     "name": "stdout",
     "output_type": "stream",
     "text": [
      "banana cherry Apple apple "
     ]
    }
   ],
   "source": [
    "for i in a:\n",
    "    print(i,end=' ')"
   ]
  },
  {
   "cell_type": "code",
   "execution_count": null,
   "id": "cfd1f3f0-ef44-4a8f-ab66-8cd1c4a6df05",
   "metadata": {},
   "outputs": [],
   "source": [
    "# in the interview \n",
    "# list=[10,20,2,5,75]\n",
    "# Q1) sort the list without sorted function\n",
    "#Q2) find the max value with out max function\n",
    "#Q3) find the min value with out min function\n",
    "# Q4) reverse the element without reversed function\n",
    "# Q5) sum the element without using sum function\n",
    "# Q6) find the second minimum and second maximum"
   ]
  },
  {
   "cell_type": "code",
   "execution_count": 37,
   "id": "41aa1fbc-a7e4-4bc7-abf5-43724919724b",
   "metadata": {},
   "outputs": [
    {
     "data": {
      "text/plain": [
       "[2, 5, 10, 20, 75]"
      ]
     },
     "execution_count": 37,
     "metadata": {},
     "output_type": "execute_result"
    }
   ],
   "source": [
    "list1=[10,20,2,5,75]\n",
    "# Q1) sort the list without sorted function\n",
    "# print(sorted(list))\n",
    "n=len(list1)\n",
    "for i in range(n):\n",
    "    for j in range(i+1,n):\n",
    "        if list1[i]>list1[j]:\n",
    "            list1[i],list1[j]=list1[j],list1[i]\n",
    "\n",
    "list1"
   ]
  },
  {
   "cell_type": "code",
   "execution_count": 43,
   "id": "9a13741b-d945-4928-b8be-c45817fdee24",
   "metadata": {},
   "outputs": [
    {
     "name": "stdout",
     "output_type": "stream",
     "text": [
      "max num: 75\n"
     ]
    }
   ],
   "source": [
    "#Q2) find the max value with out max function\n",
    "list1=[10,20,2,5,75]\n",
    "max_num=list1[0]\n",
    "for num in  list1:\n",
    "    if max_num>num:\n",
    "        \n",
    "        num=max_num\n",
    "\n",
    "print(\"max num:\",num)"
   ]
  },
  {
   "cell_type": "code",
   "execution_count": 44,
   "id": "f7b97832-28bb-4a5e-9c9d-c314e3a6bc63",
   "metadata": {},
   "outputs": [
    {
     "name": "stdout",
     "output_type": "stream",
     "text": [
      "min_num: 2\n"
     ]
    }
   ],
   "source": [
    "#Q3) find the min value with out min function\n",
    "list1=[10,20,2,5,75]\n",
    "min_num=list1[0]\n",
    "for num in list1:\n",
    "    if min_num>num:\n",
    "        min_num=num\n",
    "\n",
    "print(\"min_num:\",min_num)"
   ]
  },
  {
   "cell_type": "code",
   "execution_count": 55,
   "id": "3aaf45cd-dbfe-467c-9798-036560959d4e",
   "metadata": {},
   "outputs": [
    {
     "name": "stdout",
     "output_type": "stream",
     "text": [
      "[99, 75, 5, 2, 20, 10]\n"
     ]
    }
   ],
   "source": [
    "# Q4) reverse the element without reversed function\n",
    "list1=[10,20,2,5,75,99]\n",
    "reversed_list=[]\n",
    "for i in range(len(list1)-1,-1,-1):  \n",
    "    reversed_list.append(list1[i])\n",
    "\n",
    "print(reversed_list)\n",
    "    \n",
    "    \n",
    "  "
   ]
  },
  {
   "cell_type": "code",
   "execution_count": 56,
   "id": "98e72120-6413-4f72-bc65-e888bdde4fd4",
   "metadata": {},
   "outputs": [
    {
     "name": "stdout",
     "output_type": "stream",
     "text": [
      "summ number: 112\n"
     ]
    }
   ],
   "source": [
    "# Q5) sum the element without using sum function\n",
    "list1=[10,20,2,5,75]\n",
    "summ=0\n",
    "for i in list1:\n",
    "    summ=summ+i\n",
    "\n",
    "print(\"summ number:\",summ)"
   ]
  },
  {
   "cell_type": "code",
   "execution_count": 57,
   "id": "604c441f-a7f1-44bb-9eb0-5cc3881dda25",
   "metadata": {},
   "outputs": [
    {
     "name": "stdout",
     "output_type": "stream",
     "text": [
      "sec_min: 5\n",
      "sec_max: 20\n"
     ]
    }
   ],
   "source": [
    "#Q6) find the second minimum and second maximum\n",
    "list1=[10,20,2,5,75]\n",
    "num1=sorted(set(list1))\n",
    "sec_min=num1[1]\n",
    "sec_max=num1[-2]\n",
    "print(\"sec_min:\",sec_min)\n",
    "print(\"sec_max:\",sec_max)"
   ]
  },
  {
   "cell_type": "markdown",
   "id": "39ccd5ee-4212-4433-ab40-262378e9062a",
   "metadata": {},
   "source": [
    "**Concatenation**"
   ]
  },
  {
   "cell_type": "code",
   "execution_count": 58,
   "id": "4447516e-b20b-4e9c-8848-59ccba7afada",
   "metadata": {},
   "outputs": [
    {
     "name": "stdout",
     "output_type": "stream",
     "text": [
      "[1, 2, 3, 4, 5, 'A', 'B', 'C', 'D']\n"
     ]
    }
   ],
   "source": [
    "list1=[1,2,3,4,5]\n",
    "list2=['A','B','C','D']\n",
    "list3=list1+list2\n",
    "print(list3)"
   ]
  },
  {
   "cell_type": "code",
   "execution_count": 61,
   "id": "5a4d62e0-bf79-489b-ac8c-e12ef7d074a1",
   "metadata": {},
   "outputs": [
    {
     "name": "stdout",
     "output_type": "stream",
     "text": [
      "[1, 2, 3, 4, 5, 1, 2, 3, 4, 5]\n"
     ]
    },
    {
     "data": {
      "text/plain": [
       "['A', 'B', 'C', 'D', 'A', 'B', 'C', 'D']"
      ]
     },
     "execution_count": 61,
     "metadata": {},
     "output_type": "execute_result"
    }
   ],
   "source": [
    "print(list1*2)\n",
    "list2*2"
   ]
  },
  {
   "cell_type": "code",
   "execution_count": 62,
   "id": "9c2a1fe8-6f10-4996-a44d-7aa93d57a76e",
   "metadata": {},
   "outputs": [
    {
     "data": {
      "text/plain": [
       "'pythonpython'"
      ]
     },
     "execution_count": 62,
     "metadata": {},
     "output_type": "execute_result"
    }
   ],
   "source": [
    "'python'*2"
   ]
  },
  {
   "cell_type": "code",
   "execution_count": 63,
   "id": "476cfae5-048a-4d3a-bb23-b46d9e5e8be2",
   "metadata": {},
   "outputs": [
    {
     "name": "stdout",
     "output_type": "stream",
     "text": [
      "[1, 2, 3, 4, 5, 1, 2, 3, 4, 5]\n"
     ]
    }
   ],
   "source": [
    "print(list1+list1)"
   ]
  },
  {
   "cell_type": "code",
   "execution_count": null,
   "id": "13e37217-8262-4f0d-8fee-e6123a3e7a30",
   "metadata": {},
   "outputs": [],
   "source": [
    "list1+list1   # W \n",
    "list1-list1   # F\n",
    "list1*list1   # F\n",
    "list1/list1   # F"
   ]
  },
  {
   "cell_type": "markdown",
   "id": "c4445354-cb91-4435-bf3a-acdc465e3536",
   "metadata": {},
   "source": [
    "**index**"
   ]
  },
  {
   "cell_type": "code",
   "execution_count": 67,
   "id": "61837055-6808-4257-a9d3-1cb89c7a9771",
   "metadata": {},
   "outputs": [
    {
     "data": {
      "text/plain": [
       "5"
      ]
     },
     "execution_count": 67,
     "metadata": {},
     "output_type": "execute_result"
    }
   ],
   "source": [
    "list1=[1,2,3,4,5,'A','B','C','D']\n",
    "list1.index('A')"
   ]
  },
  {
   "cell_type": "code",
   "execution_count": 68,
   "id": "65a408d9-87c2-4068-a20a-e3b0da5a4ad2",
   "metadata": {},
   "outputs": [
    {
     "data": {
      "text/plain": [
       "(1, 4)"
      ]
     },
     "execution_count": 68,
     "metadata": {},
     "output_type": "execute_result"
    }
   ],
   "source": [
    "list1=[1,2,3,4,5,'A','B','C','D']\n",
    "list1[0],list1[-6]"
   ]
  },
  {
   "cell_type": "code",
   "execution_count": 69,
   "id": "d1bff4ab-b23d-4728-9bf7-4f4ce166c3d8",
   "metadata": {},
   "outputs": [
    {
     "name": "stdout",
     "output_type": "stream",
     "text": [
      "9\n",
      " the postive number 0 is : the negative number -9\n",
      " the positve number 1 is 0\n",
      "the negative number 1 is -9\n",
      "\n",
      "\n",
      " the postive number 1 is : the negative number -8\n",
      " the positve number 2 is 1\n",
      "the negative number 2 is -8\n",
      "\n",
      "\n",
      " the postive number 2 is : the negative number -7\n",
      " the positve number 3 is 2\n",
      "the negative number 3 is -7\n",
      "\n",
      "\n",
      " the postive number 3 is : the negative number -6\n",
      " the positve number 4 is 3\n",
      "the negative number 4 is -6\n",
      "\n",
      "\n",
      " the postive number 4 is : the negative number -5\n",
      " the positve number 5 is 4\n",
      "the negative number 5 is -5\n",
      "\n",
      "\n",
      " the postive number 5 is : the negative number -4\n",
      " the positve number A is 5\n",
      "the negative number A is -4\n",
      "\n",
      "\n",
      " the postive number 6 is : the negative number -3\n",
      " the positve number B is 6\n",
      "the negative number B is -3\n",
      "\n",
      "\n",
      " the postive number 7 is : the negative number -2\n",
      " the positve number C is 7\n",
      "the negative number C is -2\n",
      "\n",
      "\n",
      " the postive number 8 is : the negative number -1\n",
      " the positve number D is 8\n",
      "the negative number D is -1\n",
      "\n",
      "\n"
     ]
    }
   ],
   "source": [
    "# postive index of 1 is 0\n",
    "# negative index of 4 is -6\n",
    "# postive index is 0 and negative index is -6 for 0\n",
    "list1=[1,2,3,4,5,'A','B','C','D']\n",
    "n=len(list1)\n",
    "print(n)\n",
    "for i in range(0,n):\n",
    "    print(f\" the postive number {i} is : the negative number {i-n}\")\n",
    "    print(f\" the positve number {list1[i]} is {i}\")\n",
    "    print(f\"the negative number {list1[i]} is {i-n}\")\n",
    "    print(\"\\n\")"
   ]
  },
  {
   "cell_type": "code",
   "execution_count": 70,
   "id": "9ce0c51b-bb4b-47fe-9799-550c0eed29ed",
   "metadata": {},
   "outputs": [
    {
     "data": {
      "text/plain": [
       "20"
      ]
     },
     "execution_count": 70,
     "metadata": {},
     "output_type": "execute_result"
    }
   ],
   "source": [
    "list1=[10,20]\n",
    "list1[1]"
   ]
  },
  {
   "cell_type": "code",
   "execution_count": 75,
   "id": "8f710774-ee6c-4efe-8e32-0dc6839556ba",
   "metadata": {},
   "outputs": [
    {
     "data": {
      "text/plain": [
       "10"
      ]
     },
     "execution_count": 75,
     "metadata": {},
     "output_type": "execute_result"
    }
   ],
   "source": [
    "list1=[[10]]\n",
    "# inside list how many element are there :1\n",
    "#[10]\n",
    "list1[0][0]"
   ]
  },
  {
   "cell_type": "code",
   "execution_count": 81,
   "id": "12520aaf-674e-43d5-b803-6369d1cf0281",
   "metadata": {},
   "outputs": [
    {
     "data": {
      "text/plain": [
       "1"
      ]
     },
     "execution_count": 81,
     "metadata": {},
     "output_type": "execute_result"
    }
   ],
   "source": [
    "list1=[[10,20,32]]\n",
    "len(list1)"
   ]
  },
  {
   "cell_type": "code",
   "execution_count": 82,
   "id": "dc721930-34d4-4d98-a36e-0a9ebb7bd327",
   "metadata": {},
   "outputs": [
    {
     "data": {
      "text/plain": [
       "3"
      ]
     },
     "execution_count": 82,
     "metadata": {},
     "output_type": "execute_result"
    }
   ],
   "source": [
    "list1=[[10,20,32]]\n",
    "len(list1[0])"
   ]
  },
  {
   "cell_type": "code",
   "execution_count": 83,
   "id": "3cd7e462-624d-4e47-ad2a-8840faf98832",
   "metadata": {},
   "outputs": [
    {
     "data": {
      "text/plain": [
       "2"
      ]
     },
     "execution_count": 83,
     "metadata": {},
     "output_type": "execute_result"
    }
   ],
   "source": [
    "list1=[10,20]\n",
    "len(list1)"
   ]
  },
  {
   "cell_type": "code",
   "execution_count": 84,
   "id": "d9a1bdb8-2a67-474b-acb7-cdc56af8735f",
   "metadata": {},
   "outputs": [
    {
     "data": {
      "text/plain": [
       "(1, 2)"
      ]
     },
     "execution_count": 84,
     "metadata": {},
     "output_type": "execute_result"
    }
   ],
   "source": [
    "list1=[[10,20]]       \n",
    "list2=[10,20]\n",
    "len(list1),len(list2)"
   ]
  },
  {
   "cell_type": "code",
   "execution_count": 85,
   "id": "4ffaf84a-a3e0-4d42-acad-b6396be25ffe",
   "metadata": {},
   "outputs": [
    {
     "data": {
      "text/plain": [
       "2"
      ]
     },
     "execution_count": 85,
     "metadata": {},
     "output_type": "execute_result"
    }
   ],
   "source": [
    "list1=[10,[20]]\n",
    "len(list1)"
   ]
  },
  {
   "cell_type": "code",
   "execution_count": 86,
   "id": "2731b35a-b706-4cf5-a368-789d1cedc34c",
   "metadata": {},
   "outputs": [
    {
     "data": {
      "text/plain": [
       "20"
      ]
     },
     "execution_count": 86,
     "metadata": {},
     "output_type": "execute_result"
    }
   ],
   "source": [
    "list1=[10,[20]]\n",
    "list1[1][0]"
   ]
  },
  {
   "cell_type": "code",
   "execution_count": 87,
   "id": "eb697e65-5e94-488e-b6ff-ea729cb1382d",
   "metadata": {},
   "outputs": [
    {
     "data": {
      "text/plain": [
       "'cherry'"
      ]
     },
     "execution_count": 87,
     "metadata": {},
     "output_type": "execute_result"
    }
   ],
   "source": [
    "list1=[10,20,30,'A',['Banana','cherry']]\n",
    "list1[4][1]"
   ]
  },
  {
   "cell_type": "code",
   "execution_count": 89,
   "id": "7d7ee7c4-a9f0-44da-9746-8963d3ffdbb5",
   "metadata": {},
   "outputs": [
    {
     "data": {
      "text/plain": [
       "'cherry'"
      ]
     },
     "execution_count": 89,
     "metadata": {},
     "output_type": "execute_result"
    }
   ],
   "source": [
    "list1=[10,20,30,'A',['Apple','B',['Banana'],'C',['cherry']]]\n",
    "list1[4][4][0]"
   ]
  },
  {
   "cell_type": "code",
   "execution_count": 90,
   "id": "12413524-e280-43d6-9af3-8080a82a8a98",
   "metadata": {},
   "outputs": [
    {
     "data": {
      "text/plain": [
       "'bat'"
      ]
     },
     "execution_count": 90,
     "metadata": {},
     "output_type": "execute_result"
    }
   ],
   "source": [
    "list1=['Apple',['Kashmir',['India',['circket',['bat']]]]]\n",
    "list1[1][1][1][1][0]"
   ]
  },
  {
   "cell_type": "code",
   "execution_count": 91,
   "id": "c448d4c7-6acf-4ac5-8ac6-f03f12e02393",
   "metadata": {},
   "outputs": [
    {
     "data": {
      "text/plain": [
       "'Apple'"
      ]
     },
     "execution_count": 91,
     "metadata": {},
     "output_type": "execute_result"
    }
   ],
   "source": [
    "list1=[[[[[[[[['Apple']]]]]]]]]\n",
    "list1[0][0][0][0][0][0][0][0][0]"
   ]
  },
  {
   "cell_type": "code",
   "execution_count": 92,
   "id": "319e42f5-e2e0-43a3-9633-1a96e086114d",
   "metadata": {},
   "outputs": [
    {
     "data": {
      "text/plain": [
       "'Cherry'"
      ]
     },
     "execution_count": 92,
     "metadata": {},
     "output_type": "execute_result"
    }
   ],
   "source": [
    "list1=['A',['Apple','B',['Banana'],'C',['Cherry']]]\n",
    "len(list1)\n",
    "list1[1][4][0]"
   ]
  },
  {
   "cell_type": "code",
   "execution_count": 93,
   "id": "7e6d5406-0cc5-4d40-9d34-87d6acccabda",
   "metadata": {},
   "outputs": [
    {
     "data": {
      "text/plain": [
       "['Apple', 'B', ['Banana', 'C', ['Cherry', 'D', ['Dragon fruite']]]]"
      ]
     },
     "execution_count": 93,
     "metadata": {},
     "output_type": "execute_result"
    }
   ],
   "source": [
    "list1=['A',['Apple','B',['Banana','C',['Cherry','D',['Dragon fruite']]]]]\n",
    "# len(list1)\n",
    "# len(list1[0])\n",
    "list1[1]"
   ]
  },
  {
   "cell_type": "code",
   "execution_count": 94,
   "id": "9dfb77cc-33b5-4eae-ad16-2ce2935b9788",
   "metadata": {},
   "outputs": [
    {
     "data": {
      "text/plain": [
       "['Banana', 'C', ['Cherry', 'D', ['Dragon fruite']]]"
      ]
     },
     "execution_count": 94,
     "metadata": {},
     "output_type": "execute_result"
    }
   ],
   "source": [
    "list1[1][2]"
   ]
  },
  {
   "cell_type": "code",
   "execution_count": 95,
   "id": "cf2e57d5-03da-4a6a-834d-b6ac65c67034",
   "metadata": {},
   "outputs": [
    {
     "data": {
      "text/plain": [
       "['Cherry', 'D', ['Dragon fruite']]"
      ]
     },
     "execution_count": 95,
     "metadata": {},
     "output_type": "execute_result"
    }
   ],
   "source": [
    "list1[1][2][2]"
   ]
  },
  {
   "cell_type": "code",
   "execution_count": 96,
   "id": "b4b29999-c7ad-4668-adbd-e52ca6d40301",
   "metadata": {},
   "outputs": [
    {
     "data": {
      "text/plain": [
       "['Dragon fruite']"
      ]
     },
     "execution_count": 96,
     "metadata": {},
     "output_type": "execute_result"
    }
   ],
   "source": [
    "list1[1][2][2][2]"
   ]
  },
  {
   "cell_type": "code",
   "execution_count": 97,
   "id": "23e14534-529d-4cb9-af56-8e4a0c37a43b",
   "metadata": {},
   "outputs": [
    {
     "data": {
      "text/plain": [
       "'Dragon fruite'"
      ]
     },
     "execution_count": 97,
     "metadata": {},
     "output_type": "execute_result"
    }
   ],
   "source": [
    "list1[1][2][2][2][0]"
   ]
  },
  {
   "cell_type": "code",
   "execution_count": 98,
   "id": "0290ca4d-9ecc-424d-b349-c2ec37124e63",
   "metadata": {},
   "outputs": [
    {
     "data": {
      "text/plain": [
       "'Dragon fruite'"
      ]
     },
     "execution_count": 98,
     "metadata": {},
     "output_type": "execute_result"
    }
   ],
   "source": [
    "list1=['A',['Apple','B',['Banana','C',['Cherry','D',['Dragon fruite']]]]]\n",
    "list1[1][2][2][2][0]"
   ]
  },
  {
   "cell_type": "code",
   "execution_count": 99,
   "id": "119c14ee-d40d-4bfd-a831-d8bd721f926f",
   "metadata": {},
   "outputs": [
    {
     "data": {
      "text/plain": [
       "'Bat'"
      ]
     },
     "execution_count": 99,
     "metadata": {},
     "output_type": "execute_result"
    }
   ],
   "source": [
    "list1=['Apple',['Kashmir',['India',['Criket',['Bat']]]]]\n",
    "list1[1][1][1][1][0]"
   ]
  },
  {
   "cell_type": "code",
   "execution_count": 100,
   "id": "9aeb0c70-4f1c-426e-b88d-1711c5dae272",
   "metadata": {},
   "outputs": [
    {
     "data": {
      "text/plain": [
       "'Dragon fruite'"
      ]
     },
     "execution_count": 100,
     "metadata": {},
     "output_type": "execute_result"
    }
   ],
   "source": [
    "list1=['A',['Apple','B',['Banana','C',['Cherry','D',['Dragon fruite']]]]]\n",
    "list1[1][2][2][2][0]"
   ]
  },
  {
   "cell_type": "code",
   "execution_count": 101,
   "id": "d35bdaac-b3b2-48b5-b88f-9ecfe635b4cc",
   "metadata": {},
   "outputs": [
    {
     "data": {
      "text/plain": [
       "'ball'"
      ]
     },
     "execution_count": 101,
     "metadata": {},
     "output_type": "execute_result"
    }
   ],
   "source": [
    "list1=['Apple',['Kashmir',['India',['Criket',['Bat',['ball']]]]]]\n",
    "list1[1][1][1][1][1][0]"
   ]
  },
  {
   "cell_type": "code",
   "execution_count": null,
   "id": "05847698-e8d2-43ef-b315-67839e1f2fe0",
   "metadata": {},
   "outputs": [],
   "source": [
    "list1=[10,20,30,'A',['Apple','B',['Banana'],'C',['cherry',['mango']]]]\n",
    "list1[4][4][1][0]"
   ]
  },
  {
   "cell_type": "code",
   "execution_count": 102,
   "id": "b611b82e-f2ab-4cae-8076-151770cc05fc",
   "metadata": {},
   "outputs": [
    {
     "data": {
      "text/plain": [
       "['A',\n",
       " ['Apple',\n",
       "  'B',\n",
       "  ['Banana'],\n",
       "  'C',\n",
       "  ['cherry', [10, 20, 30, ['mango', 'c', ['chips']]]]]]"
      ]
     },
     "execution_count": 102,
     "metadata": {},
     "output_type": "execute_result"
    }
   ],
   "source": [
    "list1=['A',['Apple','B',['Banana'],'C',['cherry',[10,20,30,['mango','c',['chips']]]]]]\n",
    "list1"
   ]
  },
  {
   "cell_type": "code",
   "execution_count": 103,
   "id": "4a4d0f9d-bc27-4b24-8339-882d76aa67b9",
   "metadata": {},
   "outputs": [
    {
     "data": {
      "text/plain": [
       "'chips'"
      ]
     },
     "execution_count": 103,
     "metadata": {},
     "output_type": "execute_result"
    }
   ],
   "source": [
    "list1[1][4][1][3][2][0]"
   ]
  },
  {
   "cell_type": "code",
   "execution_count": 104,
   "id": "2db27469-f9e0-427f-a8f0-763e35e0b29d",
   "metadata": {},
   "outputs": [
    {
     "data": {
      "text/plain": [
       "['A',\n",
       " ['Apple',\n",
       "  'B',\n",
       "  ['Banana'],\n",
       "  'C',\n",
       "  ['cherry', [10, 20, 30, ['mango', 'c', ['chips']]]]]]"
      ]
     },
     "execution_count": 104,
     "metadata": {},
     "output_type": "execute_result"
    }
   ],
   "source": [
    "list1=['A',['Apple','B',['Banana'],'C',['cherry',[10,20,30,['mango','c',['chips']]]]]]\n",
    "list1"
   ]
  },
  {
   "cell_type": "code",
   "execution_count": 105,
   "id": "f650e1d7-e6bc-4195-964d-6f7f9a461436",
   "metadata": {},
   "outputs": [
    {
     "data": {
      "text/plain": [
       "'chips'"
      ]
     },
     "execution_count": 105,
     "metadata": {},
     "output_type": "execute_result"
    }
   ],
   "source": [
    "list1[1][4][1][3][2][0]"
   ]
  },
  {
   "cell_type": "code",
   "execution_count": 106,
   "id": "0b71eebf-cc29-4033-a833-38db690729bf",
   "metadata": {},
   "outputs": [
    {
     "data": {
      "text/plain": [
       "['A', ['Apple', 'B', ['Banana', 'C', ['Cherry', 'D', ['Dragon fruite']]]]]"
      ]
     },
     "execution_count": 106,
     "metadata": {},
     "output_type": "execute_result"
    }
   ],
   "source": [
    "list1=['A',['Apple','B',['Banana','C',['Cherry','D',['Dragon fruite']]]]]\n",
    "list1"
   ]
  },
  {
   "cell_type": "code",
   "execution_count": 107,
   "id": "7ef92a24-c4e6-4032-a675-f38e1b8b6b83",
   "metadata": {},
   "outputs": [
    {
     "data": {
      "text/plain": [
       "'Dragon fruite'"
      ]
     },
     "execution_count": 107,
     "metadata": {},
     "output_type": "execute_result"
    }
   ],
   "source": [
    "list1[1][2][2][2][0]"
   ]
  },
  {
   "cell_type": "code",
   "execution_count": 108,
   "id": "a5cfbd81-bde0-455a-a02f-b4e397dd0cc3",
   "metadata": {},
   "outputs": [
    {
     "name": "stdout",
     "output_type": "stream",
     "text": [
      "the postive number 0 , the negative number -9\n",
      "the postive number 1 is : 0\n",
      "the negative number 1 is : -9\n",
      "\n",
      "\n",
      "the postive number 1 , the negative number -8\n",
      "the postive number 2 is : 1\n",
      "the negative number 2 is : -8\n",
      "\n",
      "\n",
      "the postive number 2 , the negative number -7\n",
      "the postive number 3 is : 2\n",
      "the negative number 3 is : -7\n",
      "\n",
      "\n",
      "the postive number 3 , the negative number -6\n",
      "the postive number 4 is : 3\n",
      "the negative number 4 is : -6\n",
      "\n",
      "\n",
      "the postive number 4 , the negative number -5\n",
      "the postive number 5 is : 4\n",
      "the negative number 5 is : -5\n",
      "\n",
      "\n",
      "the postive number 5 , the negative number -4\n",
      "the postive number A is : 5\n",
      "the negative number A is : -4\n",
      "\n",
      "\n",
      "the postive number 6 , the negative number -3\n",
      "the postive number B is : 6\n",
      "the negative number B is : -3\n",
      "\n",
      "\n",
      "the postive number 7 , the negative number -2\n",
      "the postive number C is : 7\n",
      "the negative number C is : -2\n",
      "\n",
      "\n",
      "the postive number 8 , the negative number -1\n",
      "the postive number D is : 8\n",
      "the negative number D is : -1\n",
      "\n",
      "\n"
     ]
    }
   ],
   "source": [
    "# postive index of 1 is 0\n",
    "# negative index of 4 is -6\n",
    "# postive index is 0 and negative index is -6 for 0\n",
    "list1=[1,2,3,4,5,'A','B','C','D']\n",
    "n=len(list1)\n",
    "for i in range(0,n):\n",
    "    print(f\"the postive number {i} , the negative number {i-n}\")\n",
    "    print(f\"the postive number {list1[i]} is : {i}\")\n",
    "    print(f\"the negative number {list1[i]} is : {i-n}\")\n",
    "    print(\"\\n\")"
   ]
  },
  {
   "cell_type": "code",
   "execution_count": 109,
   "id": "2ba1c196-fff1-425c-8407-d3b507b68c3f",
   "metadata": {},
   "outputs": [
    {
     "name": "stdout",
     "output_type": "stream",
     "text": [
      "[75, 5, 2, 20, 10]\n"
     ]
    }
   ],
   "source": [
    "list1=[10,20,2,5,75]\n",
    "n=len(list1)\n",
    "i=0\n",
    "j=n-1\n",
    "while i<j:\n",
    "    list1[i],list1[j]=list1[j],list1[i]\n",
    "    i+=1\n",
    "    j-=1\n",
    "print(list1)"
   ]
  },
  {
   "cell_type": "markdown",
   "id": "d83b235d-b766-4434-8278-1ab673976276",
   "metadata": {},
   "source": [
    "**range vs in**\n",
    "- when we have use with  index then go for range\n",
    "- when we have use with only element go for in "
   ]
  },
  {
   "cell_type": "markdown",
   "id": "2db0ac3a-44c8-40bd-aa96-73fbb545f1da",
   "metadata": {},
   "source": [
    "**mutable vs immutable**"
   ]
  },
  {
   "cell_type": "code",
   "execution_count": 110,
   "id": "60f1c811-e7da-4101-9946-eaf7f3005e23",
   "metadata": {},
   "outputs": [
    {
     "data": {
      "text/plain": [
       "['A', ['Apple', 'B', ['Banana', 'C', 100]]]"
      ]
     },
     "execution_count": 110,
     "metadata": {},
     "output_type": "execute_result"
    }
   ],
   "source": [
    "list1=['A',['Apple','B',['Banana','C',['Cherry','D',['Dragon fruite']]]]]\n",
    "list1[1][2][2]=100\n",
    "list1"
   ]
  },
  {
   "cell_type": "code",
   "execution_count": 111,
   "id": "a4615834-d30f-4000-983e-b51aa548b7ae",
   "metadata": {},
   "outputs": [
    {
     "data": {
      "text/plain": [
       "[20, 200, 300, 400]"
      ]
     },
     "execution_count": 111,
     "metadata": {},
     "output_type": "execute_result"
    }
   ],
   "source": [
    "list1=[100,200,300,400]\n",
    "list1[0]=20\n",
    "list1\n"
   ]
  },
  {
   "cell_type": "markdown",
   "id": "88743d72-4dc1-48c4-86f6-2d519c4c0a5c",
   "metadata": {},
   "source": [
    "**list are mutable**"
   ]
  },
  {
   "cell_type": "markdown",
   "id": "9a1bda3e-debf-43ae-ad79-b654c70855cc",
   "metadata": {},
   "source": [
    "**slice**"
   ]
  },
  {
   "cell_type": "code",
   "execution_count": 112,
   "id": "ff110621-d27d-4e40-a0cc-582c39b481bc",
   "metadata": {},
   "outputs": [
    {
     "data": {
      "text/plain": [
       "[10, 20, 30, 40, 50, 'A', 'B', 'C', 'D', 'E', 'apple', 'banana']"
      ]
     },
     "execution_count": 112,
     "metadata": {},
     "output_type": "execute_result"
    }
   ],
   "source": [
    "l1=[10,20,30,40,50,'A','B','C','D','E','apple','banana']\n",
    "l1"
   ]
  },
  {
   "cell_type": "code",
   "execution_count": 113,
   "id": "8d79384d-224c-4e62-9c7f-f4add7fc78f0",
   "metadata": {},
   "outputs": [
    {
     "data": {
      "text/plain": [
       "[10, 20, 30, 40, 50, 'A', 'B', 'C', 'D', 'E', 'apple', 'banana']"
      ]
     },
     "execution_count": 113,
     "metadata": {},
     "output_type": "execute_result"
    }
   ],
   "source": [
    "l1[::]"
   ]
  },
  {
   "cell_type": "code",
   "execution_count": 114,
   "id": "36492cb6-87b6-4a87-b3b5-9f20c3a3a0f4",
   "metadata": {},
   "outputs": [
    {
     "data": {
      "text/plain": [
       "['banana', 'apple', 'E', 'D', 'C', 'B', 'A', 50, 40, 30, 20, 10]"
      ]
     },
     "execution_count": 114,
     "metadata": {},
     "output_type": "execute_result"
    }
   ],
   "source": [
    "l1[::-1]"
   ]
  },
  {
   "cell_type": "code",
   "execution_count": 115,
   "id": "de25b5bf-f502-409b-a7aa-b57b9c17a4b4",
   "metadata": {},
   "outputs": [
    {
     "data": {
      "text/plain": [
       "[30, 50, 'B', 'D']"
      ]
     },
     "execution_count": 115,
     "metadata": {},
     "output_type": "execute_result"
    }
   ],
   "source": [
    "l1[2:10:2]"
   ]
  },
  {
   "cell_type": "code",
   "execution_count": 116,
   "id": "642a64c8-201f-43f4-a484-d7692aff579e",
   "metadata": {},
   "outputs": [
    {
     "data": {
      "text/plain": [
       "[]"
      ]
     },
     "execution_count": 116,
     "metadata": {},
     "output_type": "execute_result"
    }
   ],
   "source": [
    "l1[2:10:-2]"
   ]
  },
  {
   "cell_type": "code",
   "execution_count": 117,
   "id": "d84c03fa-ab2a-4f81-902a-009714f20523",
   "metadata": {},
   "outputs": [
    {
     "data": {
      "text/plain": [
       "[]"
      ]
     },
     "execution_count": 117,
     "metadata": {},
     "output_type": "execute_result"
    }
   ],
   "source": [
    "l1[2:-10:2]"
   ]
  },
  {
   "cell_type": "code",
   "execution_count": 118,
   "id": "bd4f590c-5d56-42b0-bea8-fc482df2d309",
   "metadata": {},
   "outputs": [
    {
     "data": {
      "text/plain": [
       "[]"
      ]
     },
     "execution_count": 118,
     "metadata": {},
     "output_type": "execute_result"
    }
   ],
   "source": [
    "l1[-2:10:2]"
   ]
  },
  {
   "cell_type": "code",
   "execution_count": 119,
   "id": "d7d33d04-6380-4b81-94dd-003383c42600",
   "metadata": {},
   "outputs": [
    {
     "data": {
      "text/plain": [
       "[]"
      ]
     },
     "execution_count": 119,
     "metadata": {},
     "output_type": "execute_result"
    }
   ],
   "source": [
    "l1[2:-10:-2]"
   ]
  },
  {
   "cell_type": "code",
   "execution_count": 120,
   "id": "76b05df8-718b-4fa8-883d-a07a61dfc24e",
   "metadata": {},
   "outputs": [
    {
     "data": {
      "text/plain": [
       "[]"
      ]
     },
     "execution_count": 120,
     "metadata": {},
     "output_type": "execute_result"
    }
   ],
   "source": [
    "l1[-2:10:-2]"
   ]
  },
  {
   "cell_type": "code",
   "execution_count": 121,
   "id": "e4342007-ad1a-4f02-902f-266cf84bb541",
   "metadata": {},
   "outputs": [
    {
     "data": {
      "text/plain": [
       "[]"
      ]
     },
     "execution_count": 121,
     "metadata": {},
     "output_type": "execute_result"
    }
   ],
   "source": [
    "l1[-2:-10:2]"
   ]
  },
  {
   "cell_type": "code",
   "execution_count": 122,
   "id": "8bccd806-c8f2-4225-bf8a-5da3ed046b3c",
   "metadata": {},
   "outputs": [
    {
     "data": {
      "text/plain": [
       "['apple', 'D', 'B', 50]"
      ]
     },
     "execution_count": 122,
     "metadata": {},
     "output_type": "execute_result"
    }
   ],
   "source": [
    "l1[-2:-10:-2]"
   ]
  },
  {
   "cell_type": "code",
   "execution_count": 123,
   "id": "437795b1-679e-4360-a194-23bf9c8b7bd9",
   "metadata": {},
   "outputs": [
    {
     "data": {
      "text/plain": [
       "[]"
      ]
     },
     "execution_count": 123,
     "metadata": {},
     "output_type": "execute_result"
    }
   ],
   "source": [
    "l1[10:2:2]"
   ]
  },
  {
   "cell_type": "code",
   "execution_count": 124,
   "id": "46dcd521-6d6c-407a-bce0-f22384c571e3",
   "metadata": {},
   "outputs": [
    {
     "data": {
      "text/plain": [
       "['apple', 'D', 'B', 50]"
      ]
     },
     "execution_count": 124,
     "metadata": {},
     "output_type": "execute_result"
    }
   ],
   "source": [
    "l1[10:2:-2]"
   ]
  },
  {
   "cell_type": "code",
   "execution_count": 125,
   "id": "54e9d556-3b7f-4aeb-8318-e93b77afa182",
   "metadata": {},
   "outputs": [
    {
     "data": {
      "text/plain": [
       "[]"
      ]
     },
     "execution_count": 125,
     "metadata": {},
     "output_type": "execute_result"
    }
   ],
   "source": [
    "l1[-10:2:-2]"
   ]
  },
  {
   "cell_type": "code",
   "execution_count": 126,
   "id": "58313278-073a-4d19-8c54-b996adf33a4f",
   "metadata": {},
   "outputs": [
    {
     "data": {
      "text/plain": [
       "[]"
      ]
     },
     "execution_count": 126,
     "metadata": {},
     "output_type": "execute_result"
    }
   ],
   "source": [
    "l1[-10:-2:-2]"
   ]
  },
  {
   "cell_type": "markdown",
   "id": "d49bec7b-2e0d-455d-a51e-3cabc418df2c",
   "metadata": {},
   "source": [
    "**methods**\n",
    "\n",
    "- if we want to know the strings method\n",
    "\n",
    "- dir('')"
   ]
  },
  {
   "cell_type": "code",
   "execution_count": null,
   "id": "12121deb-37e2-42fd-a871-801f29520896",
   "metadata": {},
   "outputs": [],
   "source": [
    "dir('')"
   ]
  },
  {
   "cell_type": "markdown",
   "id": "8c7d9125-b777-4344-8a99-8439a9c0c6be",
   "metadata": {},
   "source": [
    "- clear\n",
    "- copy\n",
    "- count"
   ]
  },
  {
   "cell_type": "code",
   "execution_count": 127,
   "id": "ab02f5f3-42b6-439f-a840-36115b8ad8dc",
   "metadata": {},
   "outputs": [
    {
     "data": {
      "text/plain": [
       "[]"
      ]
     },
     "execution_count": 127,
     "metadata": {},
     "output_type": "execute_result"
    }
   ],
   "source": [
    "l1=[10,20,30,40,50,'A','B','C','D','E','apple','banana']\n",
    "l1.clear()\n",
    "l1"
   ]
  },
  {
   "cell_type": "code",
   "execution_count": 128,
   "id": "d9e40140-57c7-4076-8011-728f920372a2",
   "metadata": {},
   "outputs": [
    {
     "data": {
      "text/plain": [
       "[10, 20, 30, 40, 50, 'A', 'B', 'C', 'D', 'E', 'apple', 'banana', 100]"
      ]
     },
     "execution_count": 128,
     "metadata": {},
     "output_type": "execute_result"
    }
   ],
   "source": [
    "l1=[10,20,30,40,50,'A','B','C','D','E','apple','banana']\n",
    "l1.append(100)\n",
    "l1"
   ]
  },
  {
   "cell_type": "code",
   "execution_count": 130,
   "id": "70b1c3eb-63f4-4fce-998b-302f65b21339",
   "metadata": {},
   "outputs": [
    {
     "name": "stdout",
     "output_type": "stream",
     "text": [
      "[]\n",
      "[10, 20, 30, 40, 50, 'A', 'B', 'C', 'D', 'E', 'apple', 'banana']\n"
     ]
    }
   ],
   "source": [
    "l1=[10,20,30,40,50,'A','B','C','D','E','apple','banana']\n",
    "l2=l1.copy()\n",
    "l1.clear()\n",
    "print(l1)\n",
    "print(l2)"
   ]
  },
  {
   "cell_type": "code",
   "execution_count": 131,
   "id": "04dcc493-2431-4479-98f3-2c7c987c1be6",
   "metadata": {},
   "outputs": [
    {
     "data": {
      "text/plain": [
       "1"
      ]
     },
     "execution_count": 131,
     "metadata": {},
     "output_type": "execute_result"
    }
   ],
   "source": [
    "l1=[10,20,30,40,50,'A','B','C','D','E','apple','banana']\n",
    "l1.count('E')\n"
   ]
  },
  {
   "cell_type": "code",
   "execution_count": 132,
   "id": "7a8876f2-9527-4f35-bd9c-ac37149ec4be",
   "metadata": {},
   "outputs": [
    {
     "data": {
      "text/plain": [
       "3"
      ]
     },
     "execution_count": 132,
     "metadata": {},
     "output_type": "execute_result"
    }
   ],
   "source": [
    "str1='ola ola ola'\n",
    "str1.count('l')"
   ]
  },
  {
   "cell_type": "markdown",
   "id": "597c926c-6a04-4dcc-9be0-8b54ab066801",
   "metadata": {},
   "source": [
    "**append**\n",
    "- append is very very important method in the entire list+\n",
    "- in our life we will use this method very frequently\n",
    "- append means adding an element at last\n"
   ]
  },
  {
   "cell_type": "code",
   "execution_count": 133,
   "id": "2ad47c20-c2d3-4110-a814-a88f38fc7a36",
   "metadata": {},
   "outputs": [
    {
     "data": {
      "text/plain": [
       "[10, 20, 30, 'apple']"
      ]
     },
     "execution_count": 133,
     "metadata": {},
     "output_type": "execute_result"
    }
   ],
   "source": [
    "l1=[10,20,30]\n",
    "l1.append('apple')\n",
    "l1"
   ]
  },
  {
   "cell_type": "code",
   "execution_count": 134,
   "id": "6b995614-db81-40fb-81b5-f601ba2e293e",
   "metadata": {},
   "outputs": [
    {
     "data": {
      "text/plain": [
       "[10, 20, 30, 'A', 'B', 'C', 'BANANA', 'APPLE', 'greps', 'orenge']"
      ]
     },
     "execution_count": 134,
     "metadata": {},
     "output_type": "execute_result"
    }
   ],
   "source": [
    "l1=[10,20,30,'A','B','C', 'BANANA', 'APPLE']\n",
    "l1.append('greps')\n",
    "l1.append('orenge')\n",
    "l1"
   ]
  },
  {
   "cell_type": "code",
   "execution_count": 135,
   "id": "f62f0a3e-ac88-4edd-b36f-a38cee16469d",
   "metadata": {},
   "outputs": [
    {
     "ename": "TypeError",
     "evalue": "list.append() takes exactly one argument (2 given)",
     "output_type": "error",
     "traceback": [
      "\u001b[1;31m---------------------------------------------------------------------------\u001b[0m",
      "\u001b[1;31mTypeError\u001b[0m                                 Traceback (most recent call last)",
      "Cell \u001b[1;32mIn[135], line 2\u001b[0m\n\u001b[0;32m      1\u001b[0m l1\u001b[38;5;241m=\u001b[39m[\u001b[38;5;241m10\u001b[39m,\u001b[38;5;241m20\u001b[39m,\u001b[38;5;241m30\u001b[39m]\n\u001b[1;32m----> 2\u001b[0m l1\u001b[38;5;241m.\u001b[39mappend(\u001b[38;5;124m'\u001b[39m\u001b[38;5;124mapple\u001b[39m\u001b[38;5;124m'\u001b[39m,\u001b[38;5;124m'\u001b[39m\u001b[38;5;124mbanana\u001b[39m\u001b[38;5;124m'\u001b[39m)\n\u001b[0;32m      3\u001b[0m l1\n",
      "\u001b[1;31mTypeError\u001b[0m: list.append() takes exactly one argument (2 given)"
     ]
    }
   ],
   "source": [
    "l1=[10,20,30]\n",
    "l1.append('apple','banana')\n",
    "l1"
   ]
  },
  {
   "cell_type": "code",
   "execution_count": 136,
   "id": "463ac345-7f9c-468c-ad91-dd2f40948039",
   "metadata": {},
   "outputs": [
    {
     "data": {
      "text/plain": [
       "[10, 20, 30, ['apple', 'banana']]"
      ]
     },
     "execution_count": 136,
     "metadata": {},
     "output_type": "execute_result"
    }
   ],
   "source": [
    "l1=[10,20,30]\n",
    "l1.append(['apple','banana'])\n",
    "l1"
   ]
  },
  {
   "cell_type": "markdown",
   "id": "f6d4f4be-7f17-4bc3-b661-ce013b33f864",
   "metadata": {},
   "source": [
    "**always recall if you see anywhere mutiple values means most the time we will keep those value in list**"
   ]
  },
  {
   "cell_type": "code",
   "execution_count": 137,
   "id": "3f46e5a8-458d-445d-b1f6-56f0c38f6ab9",
   "metadata": {},
   "outputs": [
    {
     "data": {
      "text/plain": [
       "['abhay', 'rahul', ' rajan', 'goli', 'hello']"
      ]
     },
     "execution_count": 137,
     "metadata": {},
     "output_type": "execute_result"
    }
   ],
   "source": [
    "l1=['abhay', 'rahul',' rajan' ,'goli']\n",
    "l1.append('hello')\n",
    "l1"
   ]
  },
  {
   "cell_type": "markdown",
   "id": "83c5530a-fdbf-4f88-94c6-73dabe333db7",
   "metadata": {},
   "source": [
    "**append method is used to store the outputs**"
   ]
  },
  {
   "cell_type": "code",
   "execution_count": 138,
   "id": "d8c235ef-133f-40c6-88cf-2aaf9b5b85ba",
   "metadata": {},
   "outputs": [
    {
     "data": {
      "text/plain": [
       "[1, 2, 3, 4, 5, 6]"
      ]
     },
     "execution_count": 138,
     "metadata": {},
     "output_type": "execute_result"
    }
   ],
   "source": [
    "# for example i want to append a number from 1 to 5\n",
    "# l=[1,2,3,4,5]\n",
    "l=[]\n",
    "l.append(1)\n",
    "l.append(2)\n",
    "l.append(3)\n",
    "l.append(4)\n",
    "l.append(5)\n",
    "l.append(6)\n",
    "l"
   ]
  },
  {
   "cell_type": "code",
   "execution_count": 139,
   "id": "5a8d050c-48af-4d72-b840-6af37d29d174",
   "metadata": {},
   "outputs": [
    {
     "data": {
      "text/plain": [
       "[1, 2, 3, 4, 5]"
      ]
     },
     "execution_count": 139,
     "metadata": {},
     "output_type": "execute_result"
    }
   ],
   "source": [
    "l=[]\n",
    "for i in range(1,6):\n",
    "    l.append(i)\n",
    "l     # print(l)"
   ]
  },
  {
   "cell_type": "code",
   "execution_count": 141,
   "id": "5c67f9e4-d3f3-49df-ad37-939e9ec06055",
   "metadata": {},
   "outputs": [
    {
     "name": "stdout",
     "output_type": "stream",
     "text": [
      "21\n",
      "34\n",
      "5\n",
      "30\n",
      "69\n",
      "63\n",
      "34\n",
      "96\n",
      "86\n",
      "65\n"
     ]
    }
   ],
   "source": [
    "# wap ask the user enter 3 random numbers\n",
    "# add perfrom the square of the number , save those squares in a list\n",
    "from random import randint as rt\n",
    "for i in range(10):\n",
    "    num=rt(1,100)\n",
    "    print(num)"
   ]
  },
  {
   "cell_type": "code",
   "execution_count": 142,
   "id": "174603f9-1053-4a66-b39c-1d7be2d450f3",
   "metadata": {},
   "outputs": [
    {
     "name": "stdout",
     "output_type": "stream",
     "text": [
      "99\n",
      "37\n",
      "76\n"
     ]
    }
   ],
   "source": [
    "# wap ask the user enter 3 random numbers\n",
    "# add perfrom the square of the number , save those squares in a list\n",
    "import random \n",
    "for i in range(3):\n",
    "    num=random.randint(1,100)\n",
    "    print(num)"
   ]
  },
  {
   "cell_type": "code",
   "execution_count": 143,
   "id": "68687bd7-b919-4e13-a453-3361e60d3d27",
   "metadata": {},
   "outputs": [
    {
     "data": {
      "text/plain": [
       "[87, 35, 15]"
      ]
     },
     "execution_count": 143,
     "metadata": {},
     "output_type": "execute_result"
    }
   ],
   "source": [
    "# wap ask the user enter 3 random numbers\n",
    "# add perfrom the square of the number , save those squares in a list\n",
    "import random \n",
    "l=[]\n",
    "for i in range(3):\n",
    "    num=random.randint(1,100)\n",
    "    l.append(num)\n",
    "l"
   ]
  },
  {
   "cell_type": "code",
   "execution_count": 144,
   "id": "a7561e17-1f0b-41ef-9935-275accdf8eeb",
   "metadata": {},
   "outputs": [
    {
     "name": "stdout",
     "output_type": "stream",
     "text": [
      "68 is : 4624\n",
      "55 is : 3025\n",
      "43 is : 1849\n"
     ]
    },
    {
     "data": {
      "text/plain": [
       "[]"
      ]
     },
     "execution_count": 144,
     "metadata": {},
     "output_type": "execute_result"
    }
   ],
   "source": [
    "# wap ask the user enter 3 random numbers\n",
    "# add perfrom the square of the number , save those squares in a list\n",
    "import random \n",
    "l=[]\n",
    "for i in range(3):\n",
    "    num=random.randint(1,100)\n",
    "    print(f\"{num} is : {num*num}\")\n",
    "l"
   ]
  },
  {
   "cell_type": "code",
   "execution_count": 145,
   "id": "c3c7c114-b3f2-4cd1-ac1d-3a12cefcbf71",
   "metadata": {},
   "outputs": [
    {
     "data": {
      "text/plain": [
       "['89 is : 7921', '73 is : 5329', '2 is : 4']"
      ]
     },
     "execution_count": 145,
     "metadata": {},
     "output_type": "execute_result"
    }
   ],
   "source": [
    "# Q.1 wap ask the user enter 3 random numbers\n",
    "# add perfrom the square of the number , save those squares in a list\n",
    "import random \n",
    "l=[]\n",
    "for i in range(3):\n",
    "    num=random.randint(1,100)\n",
    "    l.append(f\"{num} is : {num*num}\")\n",
    "l"
   ]
  },
  {
   "cell_type": "code",
   "execution_count": 146,
   "id": "5e1e709d-0651-45b4-b6f3-e29a4e9a33d3",
   "metadata": {},
   "outputs": [
    {
     "name": "stdout",
     "output_type": "stream",
     "text": [
      " even_list : [10, 12]\n",
      " odd_list : [47, 53, 27]\n"
     ]
    }
   ],
   "source": [
    "# Q.2 i already have a list of numbers\n",
    "# l=[10,47,53,12,27]\n",
    "# from above list i want to get a even list and odd list\n",
    "# even list= [10,12]\n",
    "# odd list=[47,53,27]\n",
    "l=[10,47,53,12,27]\n",
    "even_list=[]\n",
    "odd_list=[]\n",
    "for i in l:\n",
    "    if i%2==0:\n",
    "        even_list.append(i)\n",
    "        \n",
    "    else:\n",
    "        odd_list.append(i)\n",
    "\n",
    "print(f\" even_list : {even_list}\")\n",
    "print(f\" odd_list : {odd_list}\")"
   ]
  },
  {
   "cell_type": "code",
   "execution_count": 147,
   "id": "3ac75402-8be6-400d-95bb-7395ce23f5fe",
   "metadata": {},
   "outputs": [
    {
     "name": "stdout",
     "output_type": "stream",
     "text": [
      "input in this : ['hyd', 'bengaluru', 'pune', 'mumbai']\n",
      "output in this : ['HYD', 'BENGALURU', 'PUNE', 'MUMBAI']\n"
     ]
    }
   ],
   "source": [
    "# Q.3)  input=['hyd', 'bengaluru', 'pune','mumbai']\n",
    "#       output=['HYD' ,'BANGALURU','PUNE','MUMBAI']\n",
    "input=['hyd', 'bengaluru', 'pune','mumbai']\n",
    "output=[]\n",
    "for i in input:\n",
    "    output.append(i.upper())\n",
    "print(f\"input in this : {input}\")\n",
    "print(f\"output in this : {output}\")"
   ]
  },
  {
   "cell_type": "code",
   "execution_count": null,
   "id": "5f565d01-7ec9-4c11-b68e-66685e2aa866",
   "metadata": {},
   "outputs": [],
   "source": [
    "dir(list)"
   ]
  },
  {
   "cell_type": "markdown",
   "id": "07ef1a7e-2ccf-464b-b611-0ca7695200c5",
   "metadata": {},
   "source": [
    "**extend**"
   ]
  },
  {
   "cell_type": "code",
   "execution_count": 148,
   "id": "76c4c174-8394-4a1e-964e-c013b4977ea2",
   "metadata": {},
   "outputs": [
    {
     "data": {
      "text/plain": [
       "['A', 'B', 'C', 'D', 'E', 1, 2, 3, 4, 5]"
      ]
     },
     "execution_count": 148,
     "metadata": {},
     "output_type": "execute_result"
    }
   ],
   "source": [
    "l1=[1,2,3,4,5]\n",
    "l2=['A','B','C','D','E']\n",
    "l2.extend(l1)\n",
    "l2\n",
    "# find the diff between append extend concatenation"
   ]
  },
  {
   "cell_type": "code",
   "execution_count": 149,
   "id": "ae653eae-7250-48db-8042-de6af0f0a179",
   "metadata": {},
   "outputs": [
    {
     "data": {
      "text/plain": [
       "[1, 2, 3, 4, 5, 'A', 'B', 'C', 'D', 'E']"
      ]
     },
     "execution_count": 149,
     "metadata": {},
     "output_type": "execute_result"
    }
   ],
   "source": [
    "l1=[1,2,3,4,5]\n",
    "l2=['A','B','C','D','E']\n",
    "l1.extend(l2)\n",
    "l1"
   ]
  },
  {
   "cell_type": "code",
   "execution_count": 150,
   "id": "4eee005a-9504-4816-9b72-d262fc7af9ce",
   "metadata": {},
   "outputs": [
    {
     "data": {
      "text/plain": [
       "[1, 2, 3, 4, 5, ['A', 'B', 'C', 'D', 'E']]"
      ]
     },
     "execution_count": 150,
     "metadata": {},
     "output_type": "execute_result"
    }
   ],
   "source": [
    "l1=[1,2,3,4,5]\n",
    "l2=['A','B','C','D','E']\n",
    "l1.append(l2)\n",
    "l1"
   ]
  },
  {
   "cell_type": "code",
   "execution_count": 151,
   "id": "1c24bd21-83bd-4abe-bbd3-d7925b980bfb",
   "metadata": {},
   "outputs": [
    {
     "data": {
      "text/plain": [
       "[1, 2, 3, 4, 5, 'A', 'B', 'C', 'D', 'E']"
      ]
     },
     "execution_count": 151,
     "metadata": {},
     "output_type": "execute_result"
    }
   ],
   "source": [
    "l1=[1,2,3,4,5]\n",
    "l2=['A','B','C','D','E']\n",
    "l1+l2\n"
   ]
  },
  {
   "cell_type": "code",
   "execution_count": 152,
   "id": "6134b0e3-d202-4495-9342-4ecbdeff1f35",
   "metadata": {},
   "outputs": [
    {
     "name": "stdout",
     "output_type": "stream",
     "text": [
      "[1, 2, 3, 4, 5]\n",
      "['A', 'B', 'C', 'D', 'E']\n"
     ]
    }
   ],
   "source": [
    "l1=[1,2,3,4,5]\n",
    "l2=['A','B','C','D','E']\n",
    "l1+l2\n",
    "print(l1)\n",
    "print(l2)"
   ]
  },
  {
   "cell_type": "code",
   "execution_count": 153,
   "id": "4b7e7a7d-c1b5-4b96-902d-929166177111",
   "metadata": {},
   "outputs": [
    {
     "name": "stdout",
     "output_type": "stream",
     "text": [
      "[1, 2, 3, 4, 5, 'A', 'B', 'C', 'D', 'E']\n",
      "[1, 2, 3, 4, 5]\n",
      "['A', 'B', 'C', 'D', 'E']\n",
      "l1 will be overwrite if we use extend\n",
      "[1, 2, 3, 4, 5, 'A', 'B', 'C', 'D', 'E']\n"
     ]
    }
   ],
   "source": [
    "l1=[1,2,3,4,5]\n",
    "l2=['A','B','C','D','E']\n",
    "print(l1+l2)\n",
    "print(l1)\n",
    "print(l2)\n",
    "print('l1 will be overwrite if we use extend')\n",
    "l1.extend(l2)\n",
    "print(l1)"
   ]
  },
  {
   "cell_type": "code",
   "execution_count": 154,
   "id": "147c256d-a032-4230-98f4-d70c10c40826",
   "metadata": {},
   "outputs": [
    {
     "name": "stdout",
     "output_type": "stream",
     "text": [
      "[12.0, 235.26, 526.14, 45.12, 458.56, 'abhay', 'singh', 'hyd', 'telegana']\n"
     ]
    }
   ],
   "source": [
    "l1=[12.0,235.26,526.14,45.12,458.56]\n",
    "l2=['abhay', 'singh', 'hyd','telegana']\n",
    "print(l1+l2)"
   ]
  },
  {
   "cell_type": "markdown",
   "id": "a786881e-9675-41d6-84e3-0fcfd5efcd8d",
   "metadata": {},
   "source": [
    "**index**"
   ]
  },
  {
   "cell_type": "markdown",
   "id": "e6b74889-0ba7-4007-8624-73d4a4a9c2d3",
   "metadata": {},
   "source": [
    "- string we have \n",
    "- but in list we have only index"
   ]
  },
  {
   "cell_type": "code",
   "execution_count": 156,
   "id": "44012368-3f19-420d-ab18-778451ad645c",
   "metadata": {},
   "outputs": [
    {
     "data": {
      "text/plain": [
       "1"
      ]
     },
     "execution_count": 156,
     "metadata": {},
     "output_type": "execute_result"
    }
   ],
   "source": [
    "l1=[12.0,235.26,526.14,45.12,458.56]\n",
    "l1.index(235.26)"
   ]
  },
  {
   "cell_type": "code",
   "execution_count": 157,
   "id": "d83b5ac6-b9c0-4b5f-ab4a-41850aa02273",
   "metadata": {},
   "outputs": [
    {
     "data": {
      "text/plain": [
       "3"
      ]
     },
     "execution_count": 157,
     "metadata": {},
     "output_type": "execute_result"
    }
   ],
   "source": [
    "l2=[12.0,235.26,526.14,45.12,458.56,'abhay', 'singh', 'hyd','telegana']\n",
    "l1.index(45.12)"
   ]
  },
  {
   "cell_type": "code",
   "execution_count": 158,
   "id": "61cd0af0-6a7f-4a4f-bd5e-9b97ca02e81d",
   "metadata": {},
   "outputs": [
    {
     "name": "stdout",
     "output_type": "stream",
     "text": [
      "10\n"
     ]
    }
   ],
   "source": [
    "l1=[1,2,3,4,5,'A','B','C','D','E',5]\n",
    "i1=l1.index(5)\n",
    "print(l1.index(5,i1+1))"
   ]
  },
  {
   "cell_type": "markdown",
   "id": "1cef87ae-3406-4f43-a1de-ea5d3774e1dd",
   "metadata": {},
   "source": [
    "**insert**"
   ]
  },
  {
   "cell_type": "markdown",
   "id": "ff9fef0d-a152-4e0d-bd85-9feca3d1d50b",
   "metadata": {},
   "source": [
    "- difference between append and insert"
   ]
  },
  {
   "cell_type": "code",
   "execution_count": 159,
   "id": "949ab4cc-001c-4963-ab69-958881a60107",
   "metadata": {},
   "outputs": [
    {
     "data": {
      "text/plain": [
       "[12.0, 235.26, 526.14, 45.12, 458.56, 100, 'abhay', 'singh', 'hyd', 'telegana']"
      ]
     },
     "execution_count": 159,
     "metadata": {},
     "output_type": "execute_result"
    }
   ],
   "source": [
    "l1=[12.0,235.26,526.14,45.12,458.56,'abhay', 'singh', 'hyd','telegana']\n",
    "# i want tom insert 100 after abhay\n",
    "id=l1.index('abhay')\n",
    "l1.insert(id,100)\n",
    "l1"
   ]
  },
  {
   "cell_type": "code",
   "execution_count": 160,
   "id": "9d3f9137-d9e0-49a3-8dc2-cd8b5a86e8d2",
   "metadata": {},
   "outputs": [
    {
     "data": {
      "text/plain": [
       "[12.0, 235.26, 526.14, 45.12, 458.56, 'abhay', 100, 'singh', 'hyd', 'telegana']"
      ]
     },
     "execution_count": 160,
     "metadata": {},
     "output_type": "execute_result"
    }
   ],
   "source": [
    "l1=[12.0,235.26,526.14,45.12,458.56,'abhay', 'singh', 'hyd','telegana']\n",
    "# i want tom insert 100 after abhay\n",
    "id=l1.index('abhay')\n",
    "l1.insert(id+1,100)\n",
    "l1"
   ]
  },
  {
   "cell_type": "code",
   "execution_count": 161,
   "id": "8b7ce51c-6e98-45e6-a733-7099657aab64",
   "metadata": {},
   "outputs": [
    {
     "data": {
      "text/plain": [
       "[12.0, 235.26, 526.14, 45.12, 458.56, 'abhay', 'singh', 'hyd', 'telegana', 100]"
      ]
     },
     "execution_count": 161,
     "metadata": {},
     "output_type": "execute_result"
    }
   ],
   "source": [
    "l1=[12.0,235.26,526.14,45.12,458.56,'abhay', 'singh', 'hyd','telegana']\n",
    "# i want tom insert 100 after abhay\n",
    "id=l1.index('abhay')\n",
    "l1.append(100)\n",
    "l1"
   ]
  },
  {
   "cell_type": "markdown",
   "id": "aceeda73-f768-42d0-875f-2c270fb9a173",
   "metadata": {},
   "source": [
    "**pop vs remove**"
   ]
  },
  {
   "cell_type": "code",
   "execution_count": 162,
   "id": "15a9898a-c647-4f97-9698-affbcc9b880d",
   "metadata": {},
   "outputs": [
    {
     "data": {
      "text/plain": [
       "[12.0, 526.14, 45.12, 458.56, 'abhay', 'singh', 'hyd', 'telegana']"
      ]
     },
     "execution_count": 162,
     "metadata": {},
     "output_type": "execute_result"
    }
   ],
   "source": [
    "l1=[12.0,235.26,526.14,45.12,458.56,'abhay', 'singh', 'hyd','telegana']\n",
    "l1.remove(235.26)\n",
    "l1"
   ]
  },
  {
   "cell_type": "code",
   "execution_count": 163,
   "id": "3e2878fd-4475-4039-890b-aaf7c6741be2",
   "metadata": {},
   "outputs": [
    {
     "data": {
      "text/plain": [
       "'telegana'"
      ]
     },
     "execution_count": 163,
     "metadata": {},
     "output_type": "execute_result"
    }
   ],
   "source": [
    "l1=[12.0,235.26,526.14,45.12,458.56,'abhay', 'singh', 'hyd','telegana']\n",
    "l1.pop()"
   ]
  },
  {
   "cell_type": "code",
   "execution_count": 164,
   "id": "616bf8fe-08b8-4744-bb4a-7eaf4eca0891",
   "metadata": {},
   "outputs": [
    {
     "data": {
      "text/plain": [
       "'hyd'"
      ]
     },
     "execution_count": 164,
     "metadata": {},
     "output_type": "execute_result"
    }
   ],
   "source": [
    "l1=[12.0,235.26,526.14,45.12,458.56,'abhay', 'singh', 'hyd','telegana']\n",
    "l1.pop(7)"
   ]
  },
  {
   "cell_type": "code",
   "execution_count": 165,
   "id": "8addbca0-c8d3-4e00-8876-e8b3a244ff47",
   "metadata": {},
   "outputs": [
    {
     "data": {
      "text/plain": [
       "[12.0, 235.26, 526.14, 45.12, 458.56, 'singh', 'hyd', 'telegana']"
      ]
     },
     "execution_count": 165,
     "metadata": {},
     "output_type": "execute_result"
    }
   ],
   "source": [
    "l1=[12.0,235.26,526.14,45.12,458.56,'abhay', 'singh', 'hyd','telegana']\n",
    "l1.remove('abhay')\n",
    "l1"
   ]
  },
  {
   "cell_type": "code",
   "execution_count": 166,
   "id": "eb8f404e-c324-438d-af2f-e47e7c3e0753",
   "metadata": {},
   "outputs": [
    {
     "data": {
      "text/plain": [
       "[12.0, 235.26, 526.14, 45.12, 458.56, 'singh', 'hyd', 'telegana']"
      ]
     },
     "execution_count": 166,
     "metadata": {},
     "output_type": "execute_result"
    }
   ],
   "source": [
    "l1=[12.0,235.26,526.14,45.12,458.56,'abhay', 'singh', 'hyd','telegana']\n",
    "del(l1[5])\n",
    "l1"
   ]
  },
  {
   "cell_type": "markdown",
   "id": "5303aef2-cf99-4d3c-95d4-5ac6c2c08469",
   "metadata": {},
   "source": [
    "- if we want to delet any element\n",
    "- pop : base on index \n",
    "- remove : based on value \n",
    "- del is an inbuilt function"
   ]
  },
  {
   "cell_type": "code",
   "execution_count": null,
   "id": "6338b7bd-7019-4834-b777-aa13cdcf0e0e",
   "metadata": {},
   "outputs": [],
   "source": [
    "l1=[12.0,235.26,526.14,45.12,458.56,'abhay', 'singh', 'hyd','telegana']\n",
    "del(l1)\n",
    "l1"
   ]
  },
  {
   "cell_type": "code",
   "execution_count": null,
   "id": "67679902-6aab-4652-aef4-54047c48db89",
   "metadata": {},
   "outputs": [],
   "source": [
    "l1=[12.0,235.26,526.14,45.12,458.56,'abhay', 'singh', 'hyd','telegana']\n",
    "del l1[5]     # del(l1[5])\n",
    "l1"
   ]
  },
  {
   "cell_type": "markdown",
   "id": "94487c7d-4695-45fe-a372-f6658a9fb03d",
   "metadata": {},
   "source": [
    "**reverse-reversed**\n",
    "- reverse is a method\n",
    "- reversed is an inbuilt function"
   ]
  },
  {
   "cell_type": "code",
   "execution_count": null,
   "id": "0b24557e-cfcb-40f8-b1b8-69fa4cdb39fd",
   "metadata": {},
   "outputs": [],
   "source": [
    "l1=[12.0,235.26,526.14,45.12,458.56,'abhay', 'singh', 'hyd','telegana']\n",
    "l1.reverse()    \n",
    "l1"
   ]
  },
  {
   "cell_type": "code",
   "execution_count": null,
   "id": "13c7ccfd-b4ab-402e-a5fa-30d403887747",
   "metadata": {},
   "outputs": [],
   "source": [
    "l1=[12.0,235.26,526.14,45.12,458.56,'abhay', 'singh', 'hyd','telegana']\n",
    "l1.reverse()     \n",
    "l1"
   ]
  },
  {
   "cell_type": "markdown",
   "id": "bd416336-8821-4053-a8b1-2abf50d8c6bf",
   "metadata": {},
   "source": [
    "**in place**\n",
    "- when we perform the operations some time the values will not overwrite\n",
    "\n",
    "- if we see **inplace** word or **inplace=True**\n",
    "- this indicates the output will be overwrite in correponding variable"
   ]
  },
  {
   "cell_type": "code",
   "execution_count": null,
   "id": "6a6e89d4-888a-449c-8c9d-f703b7b262ab",
   "metadata": {},
   "outputs": [],
   "source": [
    "l1=(1,2,3,4,5)\n",
    "a=reversed(l1)\n",
    "list(reversed(l1))"
   ]
  },
  {
   "cell_type": "code",
   "execution_count": null,
   "id": "36a2eb5e-0365-4414-a312-0eeb5d77d75a",
   "metadata": {},
   "outputs": [],
   "source": [
    "for i in a:\n",
    "    print(i)"
   ]
  },
  {
   "cell_type": "code",
   "execution_count": null,
   "id": "d927676b-4d91-4c2d-aafc-8d25e86d9fd9",
   "metadata": {},
   "outputs": [],
   "source": [
    "l1"
   ]
  },
  {
   "cell_type": "markdown",
   "id": "7becdb55-50c9-42ee-9fdb-a97dbb15fac5",
   "metadata": {},
   "source": [
    "**sort and sorted**"
   ]
  },
  {
   "cell_type": "code",
   "execution_count": null,
   "id": "cf3008b3-418e-4c6e-bcc3-97e4f1ff3062",
   "metadata": {},
   "outputs": [],
   "source": [
    "l1=[12.0,235.26,526.14,45.12,458.56]\n",
    "l1.sort()\n",
    "l1"
   ]
  },
  {
   "cell_type": "code",
   "execution_count": null,
   "id": "6acb9451-410e-4a0b-afae-4a1bf97f4d4e",
   "metadata": {},
   "outputs": [],
   "source": [
    "l1=[12.0,235.26,526.14,45.12,458.56]\n",
    "sorted(l1)\n",
    "print(l1)"
   ]
  },
  {
   "cell_type": "code",
   "execution_count": null,
   "id": "5ac7368f-cb5e-462f-9aed-422e1e3f9bf0",
   "metadata": {},
   "outputs": [],
   "source": [
    "str1='abhay'\n",
    "sorted(str1)"
   ]
  },
  {
   "cell_type": "markdown",
   "id": "eee5c99d-c1f6-4460-b4df-b45e63e45ea0",
   "metadata": {},
   "source": [
    "- inbuilt function applicable for any datatype\n",
    "- but methods works write data types"
   ]
  },
  {
   "cell_type": "code",
   "execution_count": null,
   "id": "c0251260-4b6f-4112-95a9-06cc7409703c",
   "metadata": {},
   "outputs": [],
   "source": []
  }
 ],
 "metadata": {
  "kernelspec": {
   "display_name": "Python 3 (ipykernel)",
   "language": "python",
   "name": "python3"
  },
  "language_info": {
   "codemirror_mode": {
    "name": "ipython",
    "version": 3
   },
   "file_extension": ".py",
   "mimetype": "text/x-python",
   "name": "python",
   "nbconvert_exporter": "python",
   "pygments_lexer": "ipython3",
   "version": "3.12.7"
  }
 },
 "nbformat": 4,
 "nbformat_minor": 5
}
