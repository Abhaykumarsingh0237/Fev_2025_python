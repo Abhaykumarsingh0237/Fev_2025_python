{
 "cells": [
  {
   "cell_type": "markdown",
   "id": "5d5ea97f-b6b2-447a-8816-d36f227adfb4",
   "metadata": {},
   "source": [
    "**Loops**\n",
    "- loops are used to itearte the code multiple times \n",
    "- function are used to reuse the code block\n",
    "- that code block can be repeated multiple times\n",
    "- whenever you are doing same task multiple times then think about loop\n",
    "- we have two loops\n",
    "  - for loop\n",
    "  - while loop\n",
    "- any loop we need three things\n",
    "   - Intialization(start loop)\n",
    "   - Increment or Decrement\n",
    "   - condition stop"
   ]
  },
  {
   "cell_type": "markdown",
   "id": "23493b23-a689-4f2e-84be-8625c1109e17",
   "metadata": {},
   "source": [
    "**For loop**"
   ]
  },
  {
   "cell_type": "code",
   "execution_count": null,
   "id": "356976cd-1ca2-4d2b-821c-725ff78122ce",
   "metadata": {},
   "outputs": [],
   "source": [
    "for <variable> in range (<number>):\n",
    "    <write your code here>"
   ]
  },
  {
   "cell_type": "code",
   "execution_count": 1,
   "id": "e25d8a00-316f-4733-9e19-863ec4a330ad",
   "metadata": {},
   "outputs": [
    {
     "name": "stdout",
     "output_type": "stream",
     "text": [
      "0\n",
      "1\n",
      "2\n",
      "3\n",
      "4\n"
     ]
    }
   ],
   "source": [
    "for i in range(5):\n",
    "    print(i)"
   ]
  },
  {
   "cell_type": "code",
   "execution_count": 3,
   "id": "c94495a9-62cd-48cf-b433-82ed3c0eec0c",
   "metadata": {},
   "outputs": [
    {
     "name": "stdout",
     "output_type": "stream",
     "text": [
      "0\n",
      "1\n",
      "2\n"
     ]
    }
   ],
   "source": [
    "print(0)\n",
    "print(1)\n",
    "print(2)"
   ]
  },
  {
   "cell_type": "code",
   "execution_count": 8,
   "id": "6316dbce-d99a-4c29-a642-7ecd1468be35",
   "metadata": {},
   "outputs": [
    {
     "name": "stdout",
     "output_type": "stream",
     "text": [
      "0\n",
      "1\n",
      "2\n",
      "3\n",
      "4\n",
      "5\n",
      "6\n",
      "7\n",
      "8\n",
      "9\n"
     ]
    }
   ],
   "source": [
    "for i in range(10):\n",
    "    print(i)"
   ]
  },
  {
   "cell_type": "code",
   "execution_count": 12,
   "id": "f2444350-817b-4ed5-bd5b-182d3d4e757c",
   "metadata": {},
   "outputs": [
    {
     "name": "stdout",
     "output_type": "stream",
     "text": [
      "0 1 2 3 4 5 6 7 8 "
     ]
    }
   ],
   "source": [
    "for i in range(9):\n",
    "    print(i,end=' ')"
   ]
  },
  {
   "cell_type": "code",
   "execution_count": 13,
   "id": "41cd3899-8f23-4c7d-9965-375a0280f78c",
   "metadata": {},
   "outputs": [
    {
     "name": "stdout",
     "output_type": "stream",
     "text": [
      "0 1 2 3 "
     ]
    }
   ],
   "source": [
    "for i in range(4):\n",
    "    print(i,end=\" \")"
   ]
  },
  {
   "cell_type": "code",
   "execution_count": null,
   "id": "980f63c7-2d60-4b6c-a81b-c4ac4ee94ad7",
   "metadata": {},
   "outputs": [],
   "source": [
    "**Case-1: range(stop)**\n",
    "- (start value always Zero)  start=0 : python index always starts with zero\n",
    "- increment by 1\n",
    "- last=stop-1"
   ]
  },
  {
   "cell_type": "code",
   "execution_count": 15,
   "id": "4311e547-1851-4aad-a94d-d1d911969e69",
   "metadata": {},
   "outputs": [
    {
     "name": "stdout",
     "output_type": "stream",
     "text": [
      "0 1 2 3 4 5 6 7 8 9 10 11 12 13 14 15 16 17 18 19 20 21 22 23 24 25 26 27 28 29 30 31 32 33 34 35 36 37 38 39 40 41 42 43 44 45 46 47 48 49 50 51 52 53 54 55 56 57 58 59 60 61 62 63 64 65 66 67 68 69 70 71 72 73 74 75 76 77 78 79 80 81 82 83 84 85 86 87 88 89 90 91 92 93 94 95 96 97 98 99 "
     ]
    }
   ],
   "source": [
    "for i in range(100):\n",
    "    print(i,end=\" \")"
   ]
  },
  {
   "cell_type": "code",
   "execution_count": 16,
   "id": "461c407b-8ff4-4494-916a-b2437bcdd822",
   "metadata": {},
   "outputs": [
    {
     "name": "stdout",
     "output_type": "stream",
     "text": [
      "Good night\n",
      "Good night\n",
      "Good night\n"
     ]
    }
   ],
   "source": [
    "for i in range(3):\n",
    "    print(\"Good night\")"
   ]
  },
  {
   "cell_type": "markdown",
   "id": "f28b7597-b42a-470c-9a63-1209492634d1",
   "metadata": {},
   "source": [
    "**Case-2: range(start,stop)**\n",
    "- suppose i want to start my loop with a particular number\n",
    "- then add start also inside range\n",
    "- start=start\n",
    "- increment by 1\n",
    "- last=stop-1\n",
    "- \n",
    "range(10,20)\n",
    "- start=10,increment by 1 , last=20-1=19"
   ]
  },
  {
   "cell_type": "code",
   "execution_count": 17,
   "id": "db9481b8-e106-4d37-b541-c66e6ba2f08b",
   "metadata": {},
   "outputs": [
    {
     "name": "stdout",
     "output_type": "stream",
     "text": [
      "10 11 12 13 14 15 16 17 18 19 "
     ]
    }
   ],
   "source": [
    "for i in range(10,20):\n",
    "    print(i , end=\" \")"
   ]
  },
  {
   "cell_type": "code",
   "execution_count": 19,
   "id": "aa3a512f-f02e-4d6e-a54d-1e6f1f17e738",
   "metadata": {},
   "outputs": [
    {
     "name": "stdout",
     "output_type": "stream",
     "text": [
      " the square of 1 is :1\n",
      " the square of 2 is :4\n",
      " the square of 3 is :9\n",
      " the square of 4 is :16\n",
      " the square of 5 is :25\n"
     ]
    }
   ],
   "source": [
    "#wap ask the user print the square first 5 number\n",
    "#square of 1 is 1\n",
    "#square of 2 is 4\n",
    "#square of 3 is 9\n",
    "#square of 4 is 16\n",
    "#square of 5 is 25\n",
    "\n",
    "for i in range(1,6):\n",
    "    print(f\" the square of {i} is :{i*i}\")"
   ]
  },
  {
   "cell_type": "code",
   "execution_count": 22,
   "id": "04d6ab5f-d6f1-43ad-b6f6-cf5a7347760a",
   "metadata": {},
   "outputs": [
    {
     "name": "stdin",
     "output_type": "stream",
     "text": [
      "enter the number: 4\n"
     ]
    },
    {
     "name": "stdout",
     "output_type": "stream",
     "text": [
      "16\n",
      " the square of 4 is : 16\n"
     ]
    },
    {
     "name": "stdin",
     "output_type": "stream",
     "text": [
      "enter the number: 5\n"
     ]
    },
    {
     "name": "stdout",
     "output_type": "stream",
     "text": [
      "25\n",
      " the square of 5 is : 25\n"
     ]
    },
    {
     "name": "stdin",
     "output_type": "stream",
     "text": [
      "enter the number: 6\n"
     ]
    },
    {
     "name": "stdout",
     "output_type": "stream",
     "text": [
      "36\n",
      " the square of 6 is : 36\n"
     ]
    },
    {
     "name": "stdin",
     "output_type": "stream",
     "text": [
      "enter the number: 2\n"
     ]
    },
    {
     "name": "stdout",
     "output_type": "stream",
     "text": [
      "4\n",
      " the square of 2 is : 4\n"
     ]
    },
    {
     "name": "stdin",
     "output_type": "stream",
     "text": [
      "enter the number: 3\n"
     ]
    },
    {
     "name": "stdout",
     "output_type": "stream",
     "text": [
      "9\n",
      " the square of 3 is : 9\n"
     ]
    }
   ],
   "source": [
    "for i in range(5):\n",
    "    num=eval(input(\"enter the number:\"))\n",
    "    #print(num*num)\n",
    "    print(f\" the square of {num} is : {num*num}\")"
   ]
  },
  {
   "cell_type": "code",
   "execution_count": 25,
   "id": "426391fe-b8da-410b-a42f-9d0c71b07e42",
   "metadata": {},
   "outputs": [
    {
     "name": "stdin",
     "output_type": "stream",
     "text": [
      "enter the number: 5\n"
     ]
    },
    {
     "name": "stdout",
     "output_type": "stream",
     "text": [
      "the square of 5 is: 25\n"
     ]
    },
    {
     "name": "stdin",
     "output_type": "stream",
     "text": [
      "enter the number: 8\n"
     ]
    },
    {
     "name": "stdout",
     "output_type": "stream",
     "text": [
      "the square of 8 is: 64\n"
     ]
    },
    {
     "name": "stdin",
     "output_type": "stream",
     "text": [
      "enter the number: 4\n"
     ]
    },
    {
     "name": "stdout",
     "output_type": "stream",
     "text": [
      "the square of 4 is: 16\n"
     ]
    },
    {
     "name": "stdin",
     "output_type": "stream",
     "text": [
      "enter the number: 8\n"
     ]
    },
    {
     "name": "stdout",
     "output_type": "stream",
     "text": [
      "the square of 8 is: 64\n"
     ]
    },
    {
     "name": "stdin",
     "output_type": "stream",
     "text": [
      "enter the number: 6\n"
     ]
    },
    {
     "name": "stdout",
     "output_type": "stream",
     "text": [
      "the square of 6 is: 36\n"
     ]
    }
   ],
   "source": [
    "def square():\n",
    "    num=eval(input(\"enter the number:\"))\n",
    "    print(f\"the square of {num} is: {num*num}\")\n",
    "\n",
    "for i in range (5):\n",
    "    square()"
   ]
  },
  {
   "cell_type": "code",
   "execution_count": 26,
   "id": "661cf2fc-4768-4953-a7e3-164b821d66bf",
   "metadata": {},
   "outputs": [
    {
     "name": "stdin",
     "output_type": "stream",
     "text": [
      "enter the number: 5\n"
     ]
    },
    {
     "name": "stdout",
     "output_type": "stream",
     "text": [
      "the square of 5 is: 25\n"
     ]
    },
    {
     "name": "stdin",
     "output_type": "stream",
     "text": [
      "enter the number: 4\n"
     ]
    },
    {
     "name": "stdout",
     "output_type": "stream",
     "text": [
      "the square of 4 is: 16\n"
     ]
    },
    {
     "name": "stdin",
     "output_type": "stream",
     "text": [
      "enter the number: 6\n"
     ]
    },
    {
     "name": "stdout",
     "output_type": "stream",
     "text": [
      "the square of 6 is: 36\n"
     ]
    },
    {
     "name": "stdin",
     "output_type": "stream",
     "text": [
      "enter the number: 3\n"
     ]
    },
    {
     "name": "stdout",
     "output_type": "stream",
     "text": [
      "the square of 3 is: 9\n"
     ]
    },
    {
     "name": "stdin",
     "output_type": "stream",
     "text": [
      "enter the number: 9\n"
     ]
    },
    {
     "name": "stdout",
     "output_type": "stream",
     "text": [
      "the square of 9 is: 81\n"
     ]
    }
   ],
   "source": [
    "for i in range (5):\n",
    "    square()"
   ]
  },
  {
   "cell_type": "markdown",
   "id": "dc0fb6da-eba2-42c3-b863-9ec08796b8b3",
   "metadata": {},
   "source": [
    "**Case-3 : range(start,stop,step)**"
   ]
  },
  {
   "cell_type": "markdown",
   "id": "36cf4d96-fb90-421d-b4d4-3994646f63a8",
   "metadata": {},
   "source": [
    "- start=start only\n",
    " - step:\n",
    "  - look about step sign is it postive or negative sign\n",
    "     - postive means increment\n",
    "       - last: stop-1\n",
    "     - negative means decrement\n",
    "       - last: stop+1"
   ]
  },
  {
   "cell_type": "code",
   "execution_count": 27,
   "id": "1078d4e9-852d-4ad8-b748-2b5d3de255ab",
   "metadata": {},
   "outputs": [
    {
     "name": "stdout",
     "output_type": "stream",
     "text": [
      "3 5 7 9 11 13 15 17 "
     ]
    }
   ],
   "source": [
    "#example1: range(3,20,2)\n",
    "#start=3\n",
    "#step=+2 postive direction\n",
    "#last=19-1=18\n",
    "#3,5,7,9,11,13,15,17\n",
    "\n",
    "for i in range(3,19,2):\n",
    "    print(i,end=\" \")"
   ]
  },
  {
   "cell_type": "code",
   "execution_count": 32,
   "id": "d053db1e-2b53-435d-90bd-6f633222e680",
   "metadata": {},
   "outputs": [],
   "source": [
    "#example1: range(3,19,-2)\n",
    "#start=3\n",
    "#step=-2 negative direction\n",
    "#last=19+1=20\n",
    "\n",
    "for i in range(3,19,-2):\n",
    "    print(i)"
   ]
  },
  {
   "cell_type": "code",
   "execution_count": 36,
   "id": "e380c6a0-3490-487c-97e5-ca4158003fc7",
   "metadata": {},
   "outputs": [
    {
     "name": "stdout",
     "output_type": "stream",
     "text": [
      "3\n",
      "1\n",
      "-1\n",
      "-3\n",
      "-5\n",
      "-7\n",
      "-9\n",
      "-11\n",
      "-13\n",
      "-15\n",
      "-17\n"
     ]
    }
   ],
   "source": [
    "for i in range(3,-19,-2):\n",
    "    print(i)"
   ]
  },
  {
   "cell_type": "code",
   "execution_count": 8,
   "id": "2c762900-4f17-4af8-a6a6-1a7e510fdf77",
   "metadata": {},
   "outputs": [
    {
     "name": "stdout",
     "output_type": "stream",
     "text": [
      "-35\n",
      "-33\n",
      "-31\n",
      "-29\n",
      "-27\n"
     ]
    }
   ],
   "source": [
    "for i in range(-35,-25,2):\n",
    "    print(i)"
   ]
  },
  {
   "cell_type": "code",
   "execution_count": 9,
   "id": "88f3fe8f-390b-469a-a371-5fd4903d8b4a",
   "metadata": {},
   "outputs": [
    {
     "name": "stdout",
     "output_type": "stream",
     "text": [
      "25\n",
      "30\n",
      "35\n",
      "40\n",
      "45\n",
      "50\n"
     ]
    }
   ],
   "source": [
    "for i in range(25,55,5):\n",
    "    print(i)"
   ]
  },
  {
   "cell_type": "code",
   "execution_count": 27,
   "id": "0c04f681-56db-4514-948a-0431ffc29a23",
   "metadata": {},
   "outputs": [
    {
     "name": "stdout",
     "output_type": "stream",
     "text": [
      "25\n",
      "20\n",
      "15\n",
      "10\n",
      "5\n",
      "0\n",
      "-5\n",
      "-10\n",
      "-15\n",
      "-20\n",
      "-25\n",
      "-30\n",
      "-35\n",
      "-40\n",
      "-45\n",
      "-50\n"
     ]
    }
   ],
   "source": [
    "for i in range(25,-55,-5):\n",
    "    print(i)"
   ]
  },
  {
   "cell_type": "code",
   "execution_count": 25,
   "id": "63bf91e1-e6b3-4386-8e45-5b1bbbcd7d0d",
   "metadata": {},
   "outputs": [],
   "source": [
    "# for i in range(25,35,2):\n",
    "#     print(i)                         # pass\n",
    "# for i in range(-25,35,2):     \n",
    "#     print(i)                          # pass\n",
    "# for i in range(25,-35,2):\n",
    "#     print(i)                       # Fail\n",
    "\n",
    "# for i in range(25,35,-2):\n",
    "#     print(i)                       #Fail\n",
    "\n",
    "# for i in range(-25,-35,2):\n",
    "#     print(i)                         # fail\n",
    "\n",
    "# for i in range(25,-35,-2):\n",
    "#     print(i)                           # pass\n",
    "\n",
    "# for i in range(-25,35,-2):\n",
    "#     print(i)                         #fail\n",
    "\n",
    "# for i in range(-25,-35,-2):\n",
    "#     print(i)                        #pass\n"
   ]
  },
  {
   "cell_type": "code",
   "execution_count": 34,
   "id": "8bdde070-0be8-4297-bced-046c59c40db4",
   "metadata": {},
   "outputs": [
    {
     "name": "stdin",
     "output_type": "stream",
     "text": [
      "enter the number: 4\n"
     ]
    },
    {
     "name": "stdout",
     "output_type": "stream",
     "text": [
      " the square 4 is : 16\n"
     ]
    },
    {
     "name": "stdin",
     "output_type": "stream",
     "text": [
      "enter the number: 3\n"
     ]
    },
    {
     "name": "stdout",
     "output_type": "stream",
     "text": [
      " the square 3 is : 9\n"
     ]
    },
    {
     "name": "stdin",
     "output_type": "stream",
     "text": [
      "enter the number: 6\n"
     ]
    },
    {
     "name": "stdout",
     "output_type": "stream",
     "text": [
      " the square 6 is : 36\n"
     ]
    },
    {
     "name": "stdin",
     "output_type": "stream",
     "text": [
      "enter the number: 5\n"
     ]
    },
    {
     "name": "stdout",
     "output_type": "stream",
     "text": [
      " the square 5 is : 25\n"
     ]
    }
   ],
   "source": [
    "for i in range(4):\n",
    "    num=eval(input(\"enter the number:\"))\n",
    "    print(f\" the square {num} is : {num*num}\")"
   ]
  },
  {
   "cell_type": "code",
   "execution_count": 2,
   "id": "ebff2883-8dc3-4b8b-87af-abcc66ce5b17",
   "metadata": {},
   "outputs": [
    {
     "name": "stdin",
     "output_type": "stream",
     "text": [
      "enter the number: 4\n"
     ]
    },
    {
     "name": "stdout",
     "output_type": "stream",
     "text": [
      " the square of  4 is : 16\n"
     ]
    },
    {
     "name": "stdin",
     "output_type": "stream",
     "text": [
      "enter the number: 5\n"
     ]
    },
    {
     "name": "stdout",
     "output_type": "stream",
     "text": [
      " the square of  5 is : 25\n"
     ]
    },
    {
     "name": "stdin",
     "output_type": "stream",
     "text": [
      "enter the number: 2\n"
     ]
    },
    {
     "name": "stdout",
     "output_type": "stream",
     "text": [
      " the square of  2 is : 4\n"
     ]
    },
    {
     "name": "stdin",
     "output_type": "stream",
     "text": [
      "enter the number: 3\n"
     ]
    },
    {
     "name": "stdout",
     "output_type": "stream",
     "text": [
      " the square of  3 is : 9\n"
     ]
    },
    {
     "name": "stdin",
     "output_type": "stream",
     "text": [
      "enter the number: 6\n"
     ]
    },
    {
     "name": "stdout",
     "output_type": "stream",
     "text": [
      " the square of  6 is : 36\n"
     ]
    }
   ],
   "source": [
    "for i in range(5):\n",
    "    num=eval(input(\"enter the number:\"))\n",
    "    print(f\" the square of  {num} is : {num*num}\")"
   ]
  },
  {
   "cell_type": "code",
   "execution_count": 1,
   "id": "5cc78d08-da73-449b-8f98-bb3b99e2c5cb",
   "metadata": {},
   "outputs": [
    {
     "name": "stdin",
     "output_type": "stream",
     "text": [
      "enter the number: 5\n"
     ]
    },
    {
     "name": "stdout",
     "output_type": "stream",
     "text": [
      " the square of  5 is : 25\n",
      " the square of  5 is : 25\n"
     ]
    }
   ],
   "source": [
    "num=eval(input(\"enter the number:\"))\n",
    "for i in range(5):\n",
    "    if i%2:\n",
    "        print(f\" the square of  {num} is : {num*num}\")"
   ]
  },
  {
   "cell_type": "code",
   "execution_count": 1,
   "id": "ac4bed87-53e5-4288-bc44-dac9821a9608",
   "metadata": {},
   "outputs": [
    {
     "name": "stdout",
     "output_type": "stream",
     "text": [
      "20\n",
      "10\n",
      "0\n",
      "-10\n"
     ]
    }
   ],
   "source": [
    "for i in range(20,-20,-10):\n",
    "    print(i)"
   ]
  },
  {
   "cell_type": "code",
   "execution_count": 8,
   "id": "c1bf6a1b-ea91-44ad-8fbe-c081bbb5a51a",
   "metadata": {},
   "outputs": [
    {
     "name": "stdout",
     "output_type": "stream",
     "text": [
      "7*1 is 7\n",
      "7*2 is 14\n",
      "7*3 is 21\n",
      "7*4 is 28\n",
      "7*5 is 35\n",
      "7*6 is 42\n",
      "7*7 is 49\n",
      "7*8 is 56\n",
      "7*9 is 63\n",
      "7*10 is 70\n"
     ]
    }
   ],
   "source": [
    "#Q4 print the 7 table\n",
    "#7*1=7\n",
    "#7*10=70\n",
    "\n",
    "for i in range(1,11):\n",
    "    print(f\"7*{i} is {7*i}\")\n",
    "    #print(f\"{7}*{i}={7*i}\")"
   ]
  },
  {
   "cell_type": "code",
   "execution_count": 6,
   "id": "35cc573c-0ca3-4cf0-81ae-878f0ea22228",
   "metadata": {},
   "outputs": [
    {
     "name": "stdin",
     "output_type": "stream",
     "text": [
      "enter the table number: 4\n"
     ]
    },
    {
     "name": "stdout",
     "output_type": "stream",
     "text": [
      "4\n",
      "8\n",
      "12\n",
      "16\n",
      "20\n",
      "24\n",
      "28\n",
      "32\n",
      "36\n",
      "40\n"
     ]
    }
   ],
   "source": [
    "#Q4 print the 7 table\n",
    "#7*1=7\n",
    "#7*10=70\n",
    "num=eval(input(\"enter the table number:\"))\n",
    "for i in range(1,11):\n",
    "    print(num*i)"
   ]
  },
  {
   "cell_type": "code",
   "execution_count": 19,
   "id": "31f5818a-b669-4fd7-abd9-bbd36c32de5e",
   "metadata": {},
   "outputs": [
    {
     "name": "stdin",
     "output_type": "stream",
     "text": [
      "enter the number: 75\n"
     ]
    },
    {
     "name": "stdout",
     "output_type": "stream",
     "text": [
      "1 3 5 15 25 75 "
     ]
    }
   ],
   "source": [
    "#Q-5 find thenumber of  divisors of 75\n",
    "# if you divide 75 with any number the reminder should be zero\n",
    "#75%1==0    #T\n",
    "#75%2==0      #F\n",
    "#75%3==0          #T\n",
    "#75%15==0           # T\n",
    "#75%25==0   #T\n",
    "#75%75==0   #T\n",
    "\n",
    "num=eval(input(\"enter the number:\"))\n",
    "for i in range(1,num+1):\n",
    "    if num%i==0:\n",
    "         print(i,end=\" \")\n",
    "        #print(f\"{i} is : {num}\")"
   ]
  },
  {
   "cell_type": "markdown",
   "id": "ade25ee3-cd2d-4955-bbca-bfd0fd5ea971",
   "metadata": {},
   "source": [
    "**Summation wrapper**\n",
    "\n",
    "  - starting we intialise the sum value: summ=0\n",
    "  - inside loop we will add a simple line: summ=summ+i\n",
    "  - summ=0\n",
    "  - for loop \n",
    "   - summ=summ+i\n"
   ]
  },
  {
   "cell_type": "code",
   "execution_count": 20,
   "id": "afe9e5f1-d132-40f6-a87d-cb8ef9a25053",
   "metadata": {},
   "outputs": [
    {
     "data": {
      "text/plain": [
       "55.0"
      ]
     },
     "execution_count": 20,
     "metadata": {},
     "output_type": "execute_result"
    }
   ],
   "source": [
    "#Q-6 sum of first 10 natural numbers\n",
    "#natural:  starts from 1\n",
    "#1+2+3+4+5+6+7+8+9+10=55\n",
    "#n(n+1)/2\n",
    "\n",
    "n=10\n",
    "n*(n+1)/2"
   ]
  },
  {
   "cell_type": "code",
   "execution_count": 23,
   "id": "b2c709d9-0c6d-4e3c-8e92-4b953c1c2007",
   "metadata": {},
   "outputs": [
    {
     "name": "stdout",
     "output_type": "stream",
     "text": [
      "1\n",
      "3\n",
      "6\n",
      "10\n",
      "15\n",
      "21\n",
      "28\n",
      "36\n",
      "45\n",
      "55\n"
     ]
    }
   ],
   "source": [
    "summ=0\n",
    "for i in range(1,11):\n",
    "    summ=summ+i\n",
    "    print(summ)"
   ]
  },
  {
   "cell_type": "code",
   "execution_count": 24,
   "id": "1e52e290-d412-4d77-a98c-8670ee3cda6d",
   "metadata": {},
   "outputs": [
    {
     "name": "stdout",
     "output_type": "stream",
     "text": [
      "55\n"
     ]
    }
   ],
   "source": [
    "summ=0\n",
    "for i in range(1,11):\n",
    "    summ=summ+i\n",
    "print(summ)"
   ]
  },
  {
   "cell_type": "code",
   "execution_count": 25,
   "id": "26df045f-3bd3-4bf5-8bae-2c0e480908a9",
   "metadata": {},
   "outputs": [
    {
     "name": "stdout",
     "output_type": "stream",
     "text": [
      "0\n",
      "1\n",
      "2\n",
      "3\n"
     ]
    }
   ],
   "source": [
    "for val in range(4):\n",
    "    print(val)"
   ]
  },
  {
   "cell_type": "code",
   "execution_count": 26,
   "id": "494fef48-e7ab-409c-bc4e-00631f272b77",
   "metadata": {},
   "outputs": [
    {
     "data": {
      "text/plain": [
       "3"
      ]
     },
     "execution_count": 26,
     "metadata": {},
     "output_type": "execute_result"
    }
   ],
   "source": [
    "val"
   ]
  },
  {
   "cell_type": "code",
   "execution_count": 31,
   "id": "9267a85e-2588-41aa-9a30-702ec5d53b66",
   "metadata": {},
   "outputs": [
    {
     "name": "stdin",
     "output_type": "stream",
     "text": [
      "enter the divisors of number: 75\n"
     ]
    },
    {
     "name": "stdout",
     "output_type": "stream",
     "text": [
      "124\n"
     ]
    }
   ],
   "source": [
    "#Q7 find the summ of divisors  of 75\n",
    "# 75 : 1,3,5,15,25,75\n",
    "summ=0\n",
    "num=eval(input(\"enter the divisors of number:\"))\n",
    "for i in range(1,num+1):\n",
    "    if num%i==0:\n",
    "        summ=summ+i\n",
    "print(summ)"
   ]
  },
  {
   "cell_type": "markdown",
   "id": "160554b3-7602-4632-ab4f-2703f3549226",
   "metadata": {},
   "source": [
    "**Count wrapper**\n",
    "- counter means counting the success ones\n",
    "- count=0\n",
    "- for loop \n",
    "  - count=count+1\n"
   ]
  },
  {
   "cell_type": "code",
   "execution_count": 32,
   "id": "b3657e27-02f9-438b-9402-5ab635994143",
   "metadata": {},
   "outputs": [
    {
     "name": "stdin",
     "output_type": "stream",
     "text": [
      "enter the number: 75\n"
     ]
    },
    {
     "name": "stdout",
     "output_type": "stream",
     "text": [
      "6\n"
     ]
    }
   ],
   "source": [
    "#Q8 find the number of divisors of 75\n",
    "count=0\n",
    "num=eval(input(\"enter the number:\"))\n",
    "for i in range(1,num+1):\n",
    "    if num%i==0:\n",
    "        count=count+1\n",
    "\n",
    "print(count)"
   ]
  },
  {
   "cell_type": "code",
   "execution_count": 35,
   "id": "d241f934-d231-4eba-9743-6d969973a2ae",
   "metadata": {},
   "outputs": [
    {
     "name": "stdout",
     "output_type": "stream",
     "text": [
      "26 is an even\n",
      "5 is an odd\n",
      "98 is an even\n",
      "2 is an even\n",
      "72 is an even\n",
      "number are even: 4\n",
      "number are even: 198\n",
      "number are odd: 1\n",
      "number are odd: 5\n"
     ]
    }
   ],
   "source": [
    "#Q8 ask the user get 5 random numbers\n",
    "# means you need a get a random number inside for loop\n",
    "# the loop should run 5 times\n",
    "# now perform the even and odd operation\n",
    "#1) even count . @2) sum of even number \n",
    "#3) odd count  . @4) even of odd number\n",
    "\n",
    "from random import randint as rt\n",
    "even_count=0\n",
    "even_sum=0\n",
    "odd_count=0\n",
    "odd_sum=0\n",
    "\n",
    "for i in range(5):\n",
    "    num=rt(1,100)\n",
    "    if num%2==0:\n",
    "        print(f\"{num} is an even\")\n",
    "        even_count=even_count+1\n",
    "        even_sum=even_sum+num\n",
    "    else:\n",
    "        print(f\"{num} is an odd\")\n",
    "        odd_count=odd_count+1\n",
    "        odd_sum=odd_sum+num\n",
    "\n",
    "print(\"number are even:\",even_count)\n",
    "print(\"number are even:\",even_sum)\n",
    "print(\"number are odd:\",odd_count)\n",
    "print(\"number are odd:\",odd_sum)"
   ]
  },
  {
   "cell_type": "code",
   "execution_count": 38,
   "id": "7946a6c5-a9b3-41f6-851c-db36af84cecd",
   "metadata": {},
   "outputs": [
    {
     "name": "stdin",
     "output_type": "stream",
     "text": [
      "enter the number: 4\n"
     ]
    },
    {
     "name": "stdout",
     "output_type": "stream",
     "text": [
      "lost: try again\n"
     ]
    },
    {
     "name": "stdin",
     "output_type": "stream",
     "text": [
      "enter the number: 8\n"
     ]
    },
    {
     "name": "stdout",
     "output_type": "stream",
     "text": [
      "lost: try again\n"
     ]
    },
    {
     "name": "stdin",
     "output_type": "stream",
     "text": [
      "enter the number: 6\n"
     ]
    },
    {
     "name": "stdout",
     "output_type": "stream",
     "text": [
      "won\n"
     ]
    }
   ],
   "source": [
    "#Q9 Game program\n",
    "# user enter one num\n",
    "# another number will generate randomly\n",
    "# if both number are equal then you won\n",
    "# otherwise you lost\n",
    "# i want to give 3 chances\n",
    "from random import randint as rt\n",
    "for i in range(3):\n",
    "    num1=eval(input(\"enter the number:\"))\n",
    "    num2=rt(1,10)\n",
    "    #print(n2)\n",
    "    if num1==num2:\n",
    "        print(\"won\")\n",
    "        break\n",
    "    else:\n",
    "        print(\"lost: try again\")"
   ]
  },
  {
   "cell_type": "code",
   "execution_count": null,
   "id": "224fe07d-5df3-4769-a962-3efb3d048422",
   "metadata": {},
   "outputs": [],
   "source": [
    "# case-1: we apply the break===completed\n",
    "# case-2:nwhenever the user enter the wronh ans"
   ]
  },
  {
   "cell_type": "code",
   "execution_count": null,
   "id": "01b16843-118d-41c4-be86-689bdfad6698",
   "metadata": {},
   "outputs": [],
   "source": []
  },
  {
   "cell_type": "markdown",
   "id": "e0390015-de69-4037-9569-2e8773305c3a",
   "metadata": {},
   "source": [
    "**in**"
   ]
  },
  {
   "cell_type": "markdown",
   "id": "bf96c43c-4e2b-4fd0-ac36-2c534f1c2b1d",
   "metadata": {},
   "source": [
    "- in for loop we have range and in operators \n",
    "- range is math related word , whenever we use range it expects a number inside range\n",
    "- in operator expects a string "
   ]
  },
  {
   "cell_type": "raw",
   "id": "2713ff69-ff25-42a8-b9d7-d96352ccfa2c",
   "metadata": {},
   "source": [
    "for i in range"
   ]
  },
  {
   "cell_type": "code",
   "execution_count": 1,
   "id": "810565ad-7895-4db4-a19f-963f476b9a8e",
   "metadata": {},
   "outputs": [
    {
     "name": "stdout",
     "output_type": "stream",
     "text": [
      "0 1 2 3 4 5 6 7 8 9 "
     ]
    }
   ],
   "source": [
    "for i in range(10):\n",
    "    print(i,end=\" \")"
   ]
  },
  {
   "cell_type": "code",
   "execution_count": 2,
   "id": "a2f39c88-22fa-46ea-a2a5-52c139e1f161",
   "metadata": {},
   "outputs": [
    {
     "ename": "TypeError",
     "evalue": "'str' object cannot be interpreted as an integer",
     "output_type": "error",
     "traceback": [
      "\u001b[1;31m---------------------------------------------------------------------------\u001b[0m",
      "\u001b[1;31mTypeError\u001b[0m                                 Traceback (most recent call last)",
      "Cell \u001b[1;32mIn[2], line 1\u001b[0m\n\u001b[1;32m----> 1\u001b[0m \u001b[38;5;28;01mfor\u001b[39;00m i \u001b[38;5;129;01min\u001b[39;00m \u001b[38;5;28mrange\u001b[39m(\u001b[38;5;124m'\u001b[39m\u001b[38;5;124mpython\u001b[39m\u001b[38;5;124m'\u001b[39m):\n\u001b[0;32m      2\u001b[0m     \u001b[38;5;28mprint\u001b[39m(i,end\u001b[38;5;241m=\u001b[39m\u001b[38;5;124m\"\u001b[39m\u001b[38;5;124m \u001b[39m\u001b[38;5;124m\"\u001b[39m)\n",
      "\u001b[1;31mTypeError\u001b[0m: 'str' object cannot be interpreted as an integer"
     ]
    }
   ],
   "source": [
    "for i in range('python'):\n",
    "    print(i,end=\" \")"
   ]
  },
  {
   "cell_type": "code",
   "execution_count": 3,
   "id": "7b5d6d67-0eaf-46b4-9f19-c44857517e9f",
   "metadata": {},
   "outputs": [
    {
     "name": "stdout",
     "output_type": "stream",
     "text": [
      "p y t h o n "
     ]
    }
   ],
   "source": [
    "for i in \"python\":\n",
    "    print(i,end=\" \")"
   ]
  },
  {
   "cell_type": "code",
   "execution_count": 4,
   "id": "e3d967fa-78ab-40e4-8d2f-4c458782ce31",
   "metadata": {},
   "outputs": [
    {
     "data": {
      "text/plain": [
       "True"
      ]
     },
     "execution_count": 4,
     "metadata": {},
     "output_type": "execute_result"
    }
   ],
   "source": [
    "'p' in 'python'"
   ]
  },
  {
   "cell_type": "code",
   "execution_count": 5,
   "id": "b1a413df-5317-4c4e-84d9-30d9dd51860a",
   "metadata": {},
   "outputs": [
    {
     "data": {
      "text/plain": [
       "True"
      ]
     },
     "execution_count": 5,
     "metadata": {},
     "output_type": "execute_result"
    }
   ],
   "source": [
    "'y' in 'python'"
   ]
  },
  {
   "cell_type": "code",
   "execution_count": 6,
   "id": "bb3599f8-8eb9-485b-8715-67d696fa5c32",
   "metadata": {},
   "outputs": [
    {
     "data": {
      "text/plain": [
       "True"
      ]
     },
     "execution_count": 6,
     "metadata": {},
     "output_type": "execute_result"
    }
   ],
   "source": [
    "'t' in 'python'"
   ]
  },
  {
   "cell_type": "code",
   "execution_count": 7,
   "id": "39f315d8-0d44-4ce4-aa59-59f81311abce",
   "metadata": {},
   "outputs": [
    {
     "data": {
      "text/plain": [
       "True"
      ]
     },
     "execution_count": 7,
     "metadata": {},
     "output_type": "execute_result"
    }
   ],
   "source": [
    "'h' in 'python'"
   ]
  },
  {
   "cell_type": "code",
   "execution_count": 8,
   "id": "39c16ad2-560b-474d-a045-102178ec166f",
   "metadata": {},
   "outputs": [
    {
     "data": {
      "text/plain": [
       "True"
      ]
     },
     "execution_count": 8,
     "metadata": {},
     "output_type": "execute_result"
    }
   ],
   "source": [
    "'o'  in 'python'"
   ]
  },
  {
   "cell_type": "code",
   "execution_count": 9,
   "id": "05214291-9ca9-4cc2-9ff1-b440b79f89e0",
   "metadata": {},
   "outputs": [
    {
     "data": {
      "text/plain": [
       "True"
      ]
     },
     "execution_count": 9,
     "metadata": {},
     "output_type": "execute_result"
    }
   ],
   "source": [
    "'n' in 'python'"
   ]
  },
  {
   "cell_type": "markdown",
   "id": "d6f56fd8-95e2-4b3e-b9bc-10a3cbca8538",
   "metadata": {},
   "source": [
    "## ASCII\n",
    "\n",
    "   - AMERICAN STANDARD CODE FOR INFORMATION INTERCHANGE"
   ]
  },
  {
   "cell_type": "code",
   "execution_count": 11,
   "id": "defc0cf4-50ee-4499-8cab-7f1aca92b02c",
   "metadata": {},
   "outputs": [
    {
     "data": {
      "text/plain": [
       "False"
      ]
     },
     "execution_count": 11,
     "metadata": {},
     "output_type": "execute_result"
    }
   ],
   "source": [
    "#'A'===65\n",
    "#'a'===97\n",
    "'A'>'a'"
   ]
  },
  {
   "cell_type": "markdown",
   "id": "2b4824eb-5fd9-472f-ba4e-3e7dfd97a120",
   "metadata": {},
   "source": [
    "- How to convert char to number\n",
    "- How to convert number to char\n",
    "\n",
    "**Char-ord**"
   ]
  },
  {
   "cell_type": "code",
   "execution_count": 12,
   "id": "01f21e85-6a63-49a8-91e7-e915734099f7",
   "metadata": {},
   "outputs": [
    {
     "data": {
      "text/plain": [
       "65"
      ]
     },
     "execution_count": 12,
     "metadata": {},
     "output_type": "execute_result"
    }
   ],
   "source": [
    "ord('A')"
   ]
  },
  {
   "cell_type": "code",
   "execution_count": 13,
   "id": "5bcd057e-91fb-4232-bbc0-1b6061ed0284",
   "metadata": {},
   "outputs": [
    {
     "data": {
      "text/plain": [
       "'A'"
      ]
     },
     "execution_count": 13,
     "metadata": {},
     "output_type": "execute_result"
    }
   ],
   "source": [
    "chr(65)"
   ]
  },
  {
   "cell_type": "code",
   "execution_count": 14,
   "id": "c62349c2-be06-447a-885f-6b02125f459f",
   "metadata": {},
   "outputs": [
    {
     "data": {
      "text/plain": [
       "97"
      ]
     },
     "execution_count": 14,
     "metadata": {},
     "output_type": "execute_result"
    }
   ],
   "source": [
    "ord('a')"
   ]
  },
  {
   "cell_type": "code",
   "execution_count": 15,
   "id": "b584565c-b0c7-4f71-ba54-76560e454f60",
   "metadata": {},
   "outputs": [
    {
     "data": {
      "text/plain": [
       "'a'"
      ]
     },
     "execution_count": 15,
     "metadata": {},
     "output_type": "execute_result"
    }
   ],
   "source": [
    "chr(97)"
   ]
  },
  {
   "cell_type": "code",
   "execution_count": 16,
   "id": "4e8fe2d6-ec8e-4f8c-9507-127de4a4bf6c",
   "metadata": {},
   "outputs": [
    {
     "data": {
      "text/plain": [
       "98"
      ]
     },
     "execution_count": 16,
     "metadata": {},
     "output_type": "execute_result"
    }
   ],
   "source": [
    "ord('b')"
   ]
  },
  {
   "cell_type": "markdown",
   "id": "026982b4-ac52-4573-a697-ae1dd3c8ee3f",
   "metadata": {},
   "source": [
    "- so **ord** converting char to number\n",
    "- **chr** converting number to char"
   ]
  },
  {
   "cell_type": "code",
   "execution_count": 27,
   "id": "01f50dbc-fa0f-42fb-8eaa-c0f7c23eed58",
   "metadata": {},
   "outputs": [
    {
     "name": "stdout",
     "output_type": "stream",
     "text": [
      "65  66  67  68  69  70  71  72  73  74  75  76  77  78  79  80  81  82  83  84  85  86  87  88  89  90  "
     ]
    }
   ],
   "source": [
    "#wap ask the user get the ASCII number from A to Z\n",
    "#print: A:65\n",
    "#       B:66\n",
    "\n",
    "for i in (\"ABCDEFGHIJKLMNOPQRSTUVWXYZ\"):\n",
    "    print(ord(i),end=\"  \")"
   ]
  },
  {
   "cell_type": "code",
   "execution_count": null,
   "id": "78ed54e4-d30c-47e8-a384-153fe4d6acb7",
   "metadata": {},
   "outputs": [],
   "source": [
    "for i in range(65,91):\n",
    "    print("
   ]
  },
  {
   "cell_type": "markdown",
   "id": "c83ae102-29c1-4507-8404-bc8d43895fd9",
   "metadata": {},
   "source": [
    "**package: string**\n"
   ]
  },
  {
   "cell_type": "code",
   "execution_count": null,
   "id": "4733c81f-7459-4568-b9ca-e5247190e64d",
   "metadata": {},
   "outputs": [],
   "source": [
    "import <packagename>\n",
    "dir(<packagename>)\n",
    "in that A to Z will be given by one method tell me that"
   ]
  },
  {
   "cell_type": "code",
   "execution_count": null,
   "id": "8367f13b-aa0a-4ab9-ac44-593f357a8076",
   "metadata": {},
   "outputs": [],
   "source": []
  },
  {
   "cell_type": "code",
   "execution_count": 30,
   "id": "bdc675c0-4621-476e-8b8e-dec7fc768bcc",
   "metadata": {},
   "outputs": [
    {
     "data": {
      "text/plain": [
       "['Formatter',\n",
       " 'Template',\n",
       " '_ChainMap',\n",
       " '__all__',\n",
       " '__builtins__',\n",
       " '__cached__',\n",
       " '__doc__',\n",
       " '__file__',\n",
       " '__loader__',\n",
       " '__name__',\n",
       " '__package__',\n",
       " '__spec__',\n",
       " '_re',\n",
       " '_sentinel_dict',\n",
       " '_string',\n",
       " 'ascii_letters',\n",
       " 'ascii_lowercase',\n",
       " 'ascii_uppercase',\n",
       " 'capwords',\n",
       " 'digits',\n",
       " 'hexdigits',\n",
       " 'octdigits',\n",
       " 'printable',\n",
       " 'punctuation',\n",
       " 'whitespace']"
      ]
     },
     "execution_count": 30,
     "metadata": {},
     "output_type": "execute_result"
    }
   ],
   "source": [
    "import string\n",
    "dir(string)"
   ]
  },
  {
   "cell_type": "code",
   "execution_count": 32,
   "id": "5b30ce2f-542a-434a-87d6-295b85cdf24a",
   "metadata": {},
   "outputs": [
    {
     "data": {
      "text/plain": [
       "'abcdefghijklmnopqrstuvwxyzABCDEFGHIJKLMNOPQRSTUVWXYZ'"
      ]
     },
     "execution_count": 32,
     "metadata": {},
     "output_type": "execute_result"
    }
   ],
   "source": [
    "string.ascii_letters"
   ]
  },
  {
   "cell_type": "code",
   "execution_count": 33,
   "id": "7d02cb59-1ac8-430a-adbd-9d6d0512a303",
   "metadata": {},
   "outputs": [
    {
     "data": {
      "text/plain": [
       "'abcdefghijklmnopqrstuvwxyz'"
      ]
     },
     "execution_count": 33,
     "metadata": {},
     "output_type": "execute_result"
    }
   ],
   "source": [
    "string.ascii_lowercase"
   ]
  },
  {
   "cell_type": "code",
   "execution_count": 34,
   "id": "59262b86-13a7-4b8e-8f2f-9fa79b9068f8",
   "metadata": {},
   "outputs": [
    {
     "data": {
      "text/plain": [
       "'ABCDEFGHIJKLMNOPQRSTUVWXYZ'"
      ]
     },
     "execution_count": 34,
     "metadata": {},
     "output_type": "execute_result"
    }
   ],
   "source": [
    "string.ascii_uppercase"
   ]
  },
  {
   "cell_type": "code",
   "execution_count": 35,
   "id": "1dfdf166-383d-4c98-b871-f913e3109eb7",
   "metadata": {},
   "outputs": [
    {
     "data": {
      "text/plain": [
       "'0123456789'"
      ]
     },
     "execution_count": 35,
     "metadata": {},
     "output_type": "execute_result"
    }
   ],
   "source": [
    "string.digits"
   ]
  },
  {
   "cell_type": "code",
   "execution_count": 37,
   "id": "d54fe3d9-6a02-4947-a4f6-8776b1d4fa59",
   "metadata": {},
   "outputs": [
    {
     "name": "stdout",
     "output_type": "stream",
     "text": [
      "A: 65\n",
      "B: 66\n",
      "C: 67\n",
      "D: 68\n",
      "E: 69\n",
      "F: 70\n",
      "G: 71\n",
      "H: 72\n",
      "I: 73\n",
      "J: 74\n",
      "K: 75\n",
      "L: 76\n",
      "M: 77\n",
      "N: 78\n",
      "O: 79\n",
      "P: 80\n",
      "Q: 81\n",
      "R: 82\n",
      "S: 83\n",
      "T: 84\n",
      "U: 85\n",
      "V: 86\n",
      "W: 87\n",
      "X: 88\n",
      "Y: 89\n",
      "Z: 90\n"
     ]
    }
   ],
   "source": [
    "for i in \"ABCDEFGHIJKLMNOPQRSTUVWXYZ\":\n",
    "    print(f'{i}: {ord(i)}')"
   ]
  },
  {
   "cell_type": "code",
   "execution_count": 38,
   "id": "262c2f46-1113-4ade-8d9f-8b492cc814cd",
   "metadata": {},
   "outputs": [
    {
     "name": "stdout",
     "output_type": "stream",
     "text": [
      "a: 97 b: 98 c: 99 d: 100 e: 101 f: 102 g: 103 h: 104 i: 105 j: 106 k: 107 l: 108 m: 109 n: 110 o: 111 p: 112 q: 113 r: 114 s: 115 t: 116 u: 117 v: 118 w: 119 x: 120 y: 121 z: 122 "
     ]
    }
   ],
   "source": [
    "for i in string.ascii_lowercase:\n",
    "    print(f'{i}: {ord(i)}',end=' ')"
   ]
  },
  {
   "cell_type": "code",
   "execution_count": 39,
   "id": "349bd6a8-ddf8-4257-854e-f2a1a51ec561",
   "metadata": {},
   "outputs": [
    {
     "name": "stdout",
     "output_type": "stream",
     "text": [
      "A: 65 B: 66 C: 67 D: 68 E: 69 F: 70 G: 71 H: 72 I: 73 J: 74 K: 75 L: 76 M: 77 N: 78 O: 79 P: 80 Q: 81 R: 82 S: 83 T: 84 U: 85 V: 86 W: 87 X: 88 Y: 89 Z: 90 "
     ]
    }
   ],
   "source": [
    "for i in string.ascii_uppercase:\n",
    "    print(f'{i}: {ord(i)}',end=' ')"
   ]
  },
  {
   "cell_type": "code",
   "execution_count": 40,
   "id": "8c8aae78-8cd4-436d-83c0-e3e4372d2143",
   "metadata": {},
   "outputs": [
    {
     "name": "stdout",
     "output_type": "stream",
     "text": [
      "!: 33 \": 34 #: 35 $: 36 %: 37 &: 38 ': 39 (: 40 ): 41 *: 42 +: 43 ,: 44 -: 45 .: 46 /: 47 :: 58 ;: 59 <: 60 =: 61 >: 62 ?: 63 @: 64 [: 91 \\: 92 ]: 93 ^: 94 _: 95 `: 96 {: 123 |: 124 }: 125 ~: 126 "
     ]
    }
   ],
   "source": [
    "for i in string.punctuation:\n",
    "    print(f'{i}: {ord(i)}',end=' ')"
   ]
  },
  {
   "cell_type": "code",
   "execution_count": 42,
   "id": "8a1fef72-7ae2-43a1-8ece-9a316026a9f8",
   "metadata": {},
   "outputs": [
    {
     "name": "stdout",
     "output_type": "stream",
     "text": [
      "33: !\n",
      "34: \"\n",
      "35: #\n",
      "36: $\n",
      "37: %\n",
      "38: &\n",
      "39: '\n",
      "40: (\n",
      "41: )\n",
      "42: *\n",
      "43: +\n",
      "44: ,\n",
      "45: -\n",
      "46: .\n",
      "47: /\n",
      "48: 0\n",
      "49: 1\n",
      "50: 2\n",
      "51: 3\n",
      "52: 4\n",
      "53: 5\n",
      "54: 6\n",
      "55: 7\n",
      "56: 8\n",
      "57: 9\n",
      "58: :\n",
      "59: ;\n",
      "60: <\n",
      "61: =\n",
      "62: >\n",
      "63: ?\n",
      "64: @\n",
      "65: A\n",
      "66: B\n",
      "67: C\n",
      "68: D\n",
      "69: E\n",
      "70: F\n",
      "71: G\n",
      "72: H\n",
      "73: I\n",
      "74: J\n",
      "75: K\n",
      "76: L\n",
      "77: M\n",
      "78: N\n",
      "79: O\n",
      "80: P\n",
      "81: Q\n",
      "82: R\n",
      "83: S\n",
      "84: T\n",
      "85: U\n",
      "86: V\n",
      "87: W\n",
      "88: X\n",
      "89: Y\n",
      "90: Z\n",
      "91: [\n",
      "92: \\\n",
      "93: ]\n",
      "94: ^\n",
      "95: _\n",
      "96: `\n",
      "97: a\n",
      "98: b\n",
      "99: c\n",
      "100: d\n",
      "101: e\n",
      "102: f\n",
      "103: g\n",
      "104: h\n",
      "105: i\n",
      "106: j\n",
      "107: k\n",
      "108: l\n",
      "109: m\n",
      "110: n\n",
      "111: o\n",
      "112: p\n",
      "113: q\n",
      "114: r\n",
      "115: s\n",
      "116: t\n",
      "117: u\n",
      "118: v\n",
      "119: w\n",
      "120: x\n",
      "121: y\n",
      "122: z\n",
      "123: {\n",
      "124: |\n",
      "125: }\n"
     ]
    }
   ],
   "source": [
    "for i in range(33,126):\n",
    "    print(f'{i}: {chr(i)}')"
   ]
  },
  {
   "cell_type": "code",
   "execution_count": 44,
   "id": "2b6b5508-861c-4e0b-a1a7-6f6f225cfe77",
   "metadata": {},
   "outputs": [
    {
     "name": "stdout",
     "output_type": "stream",
     "text": [
      "1: \u0001\n",
      "2: \u0002\n",
      "3: \u0003\n",
      "4: \u0004\n",
      "5: \u0005\n",
      "6: \u0006\n",
      "7: \u0007\n",
      "8:\n",
      "9: \t\n",
      "10: \n",
      "\n",
      "11: \u000b",
      "\n",
      "12: \f",
      "\n",
      "13: \n",
      "14: \u000e\n",
      "15: \u000f\n",
      "16: \u0010\n",
      "17: \u0011\n",
      "18: \u0012\n",
      "19: \u0013\n",
      "20: \u0014\n",
      "21: \u0015\n",
      "22: \u0016\n",
      "23: \u0017\n",
      "24: \u0018\n",
      "25: \u0019\n",
      "26: \u001a\n",
      "27: \u001b\n",
      "28: \u001c",
      "\n",
      "29: \u001d",
      "\n",
      "30: \u001e",
      "\n",
      "31: \u001f\n",
      "32:  \n"
     ]
    }
   ],
   "source": [
    "for i in range(1,33):\n",
    "    print(f'{i}: {chr(i)}')"
   ]
  },
  {
   "cell_type": "code",
   "execution_count": 45,
   "id": "29e094df-7193-4d31-bb76-32f2563d3c82",
   "metadata": {},
   "outputs": [
    {
     "name": "stdout",
     "output_type": "stream",
     "text": [
      "127: \n",
      "128: \n",
      "129: \n",
      "130: \n",
      "131: \n",
      "132: \n",
      "133: ",
      "\n",
      "134: \n",
      "135: \n",
      "136: \n",
      "137: \n",
      "138: \n",
      "139: \n",
      "140: \n",
      "141: \n",
      "142: \n",
      "143: \n",
      "144: \n",
      "145: \n",
      "146: \n",
      "147: \n",
      "148: \n",
      "149: \n",
      "150: \n",
      "151: \n",
      "152: \n",
      "153: \n",
      "154: \n",
      "155: \n",
      "156: \n",
      "157: \n",
      "158: \n",
      "159: \n",
      "160:  \n",
      "161: ¡\n",
      "162: ¢\n",
      "163: £\n",
      "164: ¤\n",
      "165: ¥\n",
      "166: ¦\n",
      "167: §\n",
      "168: ¨\n",
      "169: ©\n",
      "170: ª\n",
      "171: «\n",
      "172: ¬\n",
      "173: ­\n",
      "174: ®\n",
      "175: ¯\n",
      "176: °\n",
      "177: ±\n",
      "178: ²\n",
      "179: ³\n",
      "180: ´\n",
      "181: µ\n",
      "182: ¶\n",
      "183: ·\n",
      "184: ¸\n",
      "185: ¹\n",
      "186: º\n",
      "187: »\n",
      "188: ¼\n",
      "189: ½\n",
      "190: ¾\n",
      "191: ¿\n",
      "192: À\n",
      "193: Á\n",
      "194: Â\n",
      "195: Ã\n",
      "196: Ä\n",
      "197: Å\n",
      "198: Æ\n",
      "199: Ç\n",
      "200: È\n",
      "201: É\n",
      "202: Ê\n",
      "203: Ë\n",
      "204: Ì\n",
      "205: Í\n",
      "206: Î\n",
      "207: Ï\n",
      "208: Ð\n",
      "209: Ñ\n",
      "210: Ò\n",
      "211: Ó\n",
      "212: Ô\n",
      "213: Õ\n",
      "214: Ö\n",
      "215: ×\n",
      "216: Ø\n",
      "217: Ù\n",
      "218: Ú\n",
      "219: Û\n",
      "220: Ü\n",
      "221: Ý\n",
      "222: Þ\n",
      "223: ß\n",
      "224: à\n",
      "225: á\n",
      "226: â\n",
      "227: ã\n",
      "228: ä\n",
      "229: å\n",
      "230: æ\n",
      "231: ç\n",
      "232: è\n",
      "233: é\n",
      "234: ê\n",
      "235: ë\n",
      "236: ì\n",
      "237: í\n",
      "238: î\n",
      "239: ï\n",
      "240: ð\n",
      "241: ñ\n",
      "242: ò\n",
      "243: ó\n",
      "244: ô\n",
      "245: õ\n",
      "246: ö\n",
      "247: ÷\n",
      "248: ø\n",
      "249: ù\n",
      "250: ú\n",
      "251: û\n",
      "252: ü\n",
      "253: ý\n",
      "254: þ\n",
      "255: ÿ\n"
     ]
    }
   ],
   "source": [
    "for i in range(127,256):\n",
    "    print(f'{i}: {chr(i)}')"
   ]
  },
  {
   "cell_type": "code",
   "execution_count": 49,
   "id": "851e0bab-350a-40ea-a52b-336cd7303c2d",
   "metadata": {},
   "outputs": [
    {
     "name": "stdout",
     "output_type": "stream",
     "text": [
      "2308: ऄ\n",
      "2309: अ\n",
      "2310: आ\n",
      "2311: इ\n",
      "2312: ई\n",
      "2313: उ\n",
      "2314: ऊ\n",
      "2315: ऋ\n",
      "2316: ऌ\n",
      "2317: ऍ\n",
      "2318: ऎ\n",
      "2319: ए\n",
      "2320: ऐ\n",
      "2321: ऑ\n",
      "2322: ऒ\n",
      "2323: ओ\n",
      "2324: औ\n",
      "2325: क\n",
      "2326: ख\n",
      "2327: ग\n",
      "2328: घ\n",
      "2329: ङ\n",
      "2330: च\n",
      "2331: छ\n",
      "2332: ज\n",
      "2333: झ\n",
      "2334: ञ\n",
      "2335: ट\n",
      "2336: ठ\n",
      "2337: ड\n",
      "2338: ढ\n",
      "2339: ण\n",
      "2340: त\n",
      "2341: थ\n",
      "2342: द\n",
      "2343: ध\n",
      "2344: न\n",
      "2345: ऩ\n",
      "2346: प\n",
      "2347: फ\n",
      "2348: ब\n",
      "2349: भ\n",
      "2350: म\n",
      "2351: य\n",
      "2352: र\n",
      "2353: ऱ\n",
      "2354: ल\n",
      "2355: ळ\n",
      "2356: ऴ\n",
      "2357: व\n",
      "2358: श\n",
      "2359: ष\n",
      "2360: स\n",
      "2361: ह\n"
     ]
    }
   ],
   "source": [
    "for i in range(2308,2362):\n",
    "    print(f'{i}: {chr(i)}')"
   ]
  },
  {
   "cell_type": "code",
   "execution_count": null,
   "id": "008dda56-1ee9-4b04-a449-3dad2124507c",
   "metadata": {},
   "outputs": [],
   "source": []
  }
 ],
 "metadata": {
  "kernelspec": {
   "display_name": "Python 3 (ipykernel)",
   "language": "python",
   "name": "python3"
  },
  "language_info": {
   "codemirror_mode": {
    "name": "ipython",
    "version": 3
   },
   "file_extension": ".py",
   "mimetype": "text/x-python",
   "name": "python",
   "nbconvert_exporter": "python",
   "pygments_lexer": "ipython3",
   "version": "3.12.7"
  }
 },
 "nbformat": 4,
 "nbformat_minor": 5
}
