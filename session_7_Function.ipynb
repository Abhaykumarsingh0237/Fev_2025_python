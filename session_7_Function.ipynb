{
 "cells": [
  {
   "cell_type": "markdown",
   "id": "3275a853-dedf-4613-b227-3c94668dfe0c",
   "metadata": {},
   "source": [
    "**note:whenenerver if we see bound method or function which indicates we forget the bracke**"
   ]
  },
  {
   "cell_type": "code",
   "execution_count": 1,
   "id": "b30e3f13-4aae-4401-8b80-1e0039d16672",
   "metadata": {},
   "outputs": [
    {
     "name": "stdin",
     "output_type": "stream",
     "text": [
      " 100\n"
     ]
    },
    {
     "data": {
      "text/plain": [
       "'100'"
      ]
     },
     "execution_count": 1,
     "metadata": {},
     "output_type": "execute_result"
    }
   ],
   "source": [
    "input()"
   ]
  },
  {
   "cell_type": "code",
   "execution_count": 2,
   "id": "ac7076fb-6c88-4e6b-8bc8-fae1ea19580f",
   "metadata": {},
   "outputs": [
    {
     "name": "stdin",
     "output_type": "stream",
     "text": [
      " python\n"
     ]
    },
    {
     "data": {
      "text/plain": [
       "'python'"
      ]
     },
     "execution_count": 2,
     "metadata": {},
     "output_type": "execute_result"
    }
   ],
   "source": [
    "input()"
   ]
  },
  {
   "cell_type": "code",
   "execution_count": 3,
   "id": "77ae3649-3e8b-48f5-b9a6-cc3a3801525d",
   "metadata": {},
   "outputs": [
    {
     "data": {
      "text/plain": [
       "int"
      ]
     },
     "execution_count": 3,
     "metadata": {},
     "output_type": "execute_result"
    }
   ],
   "source": [
    "a=100\n",
    "type(a)"
   ]
  },
  {
   "cell_type": "code",
   "execution_count": 4,
   "id": "42a3865a-903e-424a-a5c6-807534ab6f89",
   "metadata": {},
   "outputs": [
    {
     "name": "stdin",
     "output_type": "stream",
     "text": [
      " 100\n",
      " 200\n",
      " 300\n"
     ]
    },
    {
     "data": {
      "text/plain": [
       "'300'"
      ]
     },
     "execution_count": 4,
     "metadata": {},
     "output_type": "execute_result"
    }
   ],
   "source": [
    "input()\n",
    "input()\n",
    "input()"
   ]
  },
  {
   "cell_type": "code",
   "execution_count": 5,
   "id": "77d39bf7-3293-46ec-9dc3-8e001e8a1c48",
   "metadata": {},
   "outputs": [
    {
     "name": "stdin",
     "output_type": "stream",
     "text": [
      " 100\n",
      " 200\n",
      " 300\n"
     ]
    }
   ],
   "source": [
    "n1=input()\n",
    "n2=input()\n",
    "n3=input()"
   ]
  },
  {
   "cell_type": "code",
   "execution_count": 6,
   "id": "ff3dadb5-a666-437e-ad6d-5e3df1f4493b",
   "metadata": {},
   "outputs": [
    {
     "data": {
      "text/plain": [
       "('100', '200', '300')"
      ]
     },
     "execution_count": 6,
     "metadata": {},
     "output_type": "execute_result"
    }
   ],
   "source": [
    "n1,n2,n3"
   ]
  },
  {
   "cell_type": "code",
   "execution_count": 8,
   "id": "56138839-698a-4678-af22-dd9426942a0f",
   "metadata": {},
   "outputs": [
    {
     "name": "stdin",
     "output_type": "stream",
     "text": [
      "enter the number1: 20\n",
      "enter the number2: 30\n",
      "enter the number3: 40\n"
     ]
    }
   ],
   "source": [
    "n1=input(\"enter the number1:\")\n",
    "n2=input(\"enter the number2:\")\n",
    "n3=input(\"enter the number3:\")"
   ]
  },
  {
   "cell_type": "code",
   "execution_count": 1,
   "id": "201ecfff-1aae-4dbc-af5d-01368869ba24",
   "metadata": {},
   "outputs": [
    {
     "name": "stdin",
     "output_type": "stream",
     "text": [
      "enter the number1: 458\n",
      "enter the number2: 698\n"
     ]
    },
    {
     "data": {
      "text/plain": [
       "'458698'"
      ]
     },
     "execution_count": 1,
     "metadata": {},
     "output_type": "execute_result"
    }
   ],
   "source": [
    "n1=input(\"enter the number1:\")\n",
    "n2=input(\"enter the number2:\")\n",
    "n1+n2"
   ]
  },
  {
   "cell_type": "markdown",
   "id": "69acd480-a491-4779-9bd2-7a3ab54a5ec1",
   "metadata": {},
   "source": [
    "**input value by default string**"
   ]
  },
  {
   "cell_type": "code",
   "execution_count": 11,
   "id": "ce74eb99-fd83-436e-9eff-430d1fe954f8",
   "metadata": {},
   "outputs": [
    {
     "name": "stdin",
     "output_type": "stream",
     "text": [
      "enter the number1: 500\n",
      "enter the number2: 600\n"
     ]
    },
    {
     "data": {
      "text/plain": [
       "'500600'"
      ]
     },
     "execution_count": 11,
     "metadata": {},
     "output_type": "execute_result"
    }
   ],
   "source": [
    "n1=input(\"enter the number1:\")  #n1='500'\n",
    "n2=input(\"enter the number2:\")  #n2='600'\n",
    "n1+n2 # '500'+'600'='500600'"
   ]
  },
  {
   "cell_type": "code",
   "execution_count": 12,
   "id": "c046847c-5a0e-4d44-8f5e-ea5904941616",
   "metadata": {},
   "outputs": [
    {
     "data": {
      "text/plain": [
       "'appleisfruite'"
      ]
     },
     "execution_count": 12,
     "metadata": {},
     "output_type": "execute_result"
    }
   ],
   "source": [
    "str1='apple'\n",
    "str2='is'\n",
    "str3='fruite'\n",
    "str1+str2+str3"
   ]
  },
  {
   "cell_type": "code",
   "execution_count": 14,
   "id": "83ed9e60-3f62-4392-ad29-b7b233fc79f6",
   "metadata": {},
   "outputs": [
    {
     "name": "stdin",
     "output_type": "stream",
     "text": [
      "enter a string1: apple\n",
      "enter a string2: is\n",
      "enter a string3: fruite\n"
     ]
    },
    {
     "data": {
      "text/plain": [
       "'appleisfruite'"
      ]
     },
     "execution_count": 14,
     "metadata": {},
     "output_type": "execute_result"
    }
   ],
   "source": [
    "str1=input(\"enter a string1:\")\n",
    "str2=input(\"enter a string2:\")\n",
    "str3=input(\"enter a string3:\")\n",
    "str1+str2+str3"
   ]
  },
  {
   "cell_type": "code",
   "execution_count": 1,
   "id": "01c8437c-8735-44dc-a9e8-35ac70275316",
   "metadata": {
    "scrolled": true
   },
   "outputs": [
    {
     "name": "stdin",
     "output_type": "stream",
     "text": [
      "enter a string1: ABHAY \n",
      "enter a string2: KUMAR \n",
      "enter a string3: SINGH\n"
     ]
    },
    {
     "data": {
      "text/plain": [
       "'ABHAY KUMAR SINGH'"
      ]
     },
     "execution_count": 1,
     "metadata": {},
     "output_type": "execute_result"
    }
   ],
   "source": [
    "str1=input(\"enter a string1:\")\n",
    "str2=input(\"enter a string2:\")\n",
    "str3=input(\"enter a string3:\")\n",
    "str1+str2+str3"
   ]
  },
  {
   "cell_type": "code",
   "execution_count": 9,
   "id": "d0bc0409-8cea-4e2d-984e-c14986eab4a5",
   "metadata": {},
   "outputs": [
    {
     "name": "stdin",
     "output_type": "stream",
     "text": [
      "enter the number1: 12\n",
      "enter the number2: 36\n"
     ]
    },
    {
     "data": {
      "text/plain": [
       "'1236'"
      ]
     },
     "execution_count": 9,
     "metadata": {},
     "output_type": "execute_result"
    }
   ],
   "source": [
    "n1=(input(\"enter the number1:\"))\n",
    "n2=(input(\"enter the number2:\"))\n",
    "n1+n2"
   ]
  },
  {
   "cell_type": "code",
   "execution_count": 2,
   "id": "e5399f05-fd83-499c-b1d0-343170602874",
   "metadata": {},
   "outputs": [
    {
     "data": {
      "text/plain": [
       "1100"
      ]
     },
     "execution_count": 2,
     "metadata": {},
     "output_type": "execute_result"
    }
   ],
   "source": [
    "n1=int(\"500\")\n",
    "n2=int(\"600\")\n",
    "n1+n2"
   ]
  },
  {
   "cell_type": "code",
   "execution_count": 20,
   "id": "ee45c72c-84f7-4947-ac93-065db8baa862",
   "metadata": {},
   "outputs": [
    {
     "name": "stdin",
     "output_type": "stream",
     "text": [
      "enter the number1: 5200\n",
      "enter the number2: 4500\n"
     ]
    },
    {
     "data": {
      "text/plain": [
       "9700"
      ]
     },
     "execution_count": 20,
     "metadata": {},
     "output_type": "execute_result"
    }
   ],
   "source": [
    "n1=int(input(\"enter the number1:\"))\n",
    "n2=int(input(\"enter the number2:\"))\n",
    "int(n1)+int(n2)"
   ]
  },
  {
   "cell_type": "code",
   "execution_count": 21,
   "id": "78d5c1e3-1420-4fb7-a5d8-2ff3c3fb1315",
   "metadata": {},
   "outputs": [
    {
     "name": "stdin",
     "output_type": "stream",
     "text": [
      "enter the number1: 10.23\n",
      "enter the number2: 10.56\n"
     ]
    },
    {
     "data": {
      "text/plain": [
       "20"
      ]
     },
     "execution_count": 21,
     "metadata": {},
     "output_type": "execute_result"
    }
   ],
   "source": [
    "n1=float(input(\"enter the number1:\"))\n",
    "n2=float(input(\"enter the number2:\"))\n",
    "int(n1)+int(n2)"
   ]
  },
  {
   "cell_type": "markdown",
   "id": "b56e231a-486b-4b60-bc10-3cbb33558e78",
   "metadata": {},
   "source": [
    "**eval**"
   ]
  },
  {
   "cell_type": "markdown",
   "id": "6659ab68-b09c-4ae5-b7ba-7a92c2665589",
   "metadata": {},
   "source": [
    "- eval means evaluate\n",
    "- it is related ton math family\n",
    "- which means it works only number resresent as string\n",
    "- it will not works on english letters\n",
    "- eval will convert the repective data type which is user enter\n",
    "- if user enter 10 in quotes it will convert into 10\n",
    "- if user enter 10.5 in quotes it will convert into 10.5"
   ]
  },
  {
   "cell_type": "code",
   "execution_count": null,
   "id": "328fb6c3-cb91-46d4-a3bd-2b4ecf9e1911",
   "metadata": {},
   "outputs": [],
   "source": [
    "int('10')    #10\n",
    "int('10.5')  #error\n",
    "\n",
    "\n",
    "float('10.5')  #10.5\n",
    "float('10')  #10"
   ]
  },
  {
   "cell_type": "code",
   "execution_count": 23,
   "id": "2b514dc0-3855-4203-a38c-09a0e539b85d",
   "metadata": {},
   "outputs": [
    {
     "data": {
      "text/plain": [
       "(10, 10.5)"
      ]
     },
     "execution_count": 23,
     "metadata": {},
     "output_type": "execute_result"
    }
   ],
   "source": [
    "eval('10'),eval('10.5')"
   ]
  },
  {
   "cell_type": "code",
   "execution_count": 24,
   "id": "c4cb1984-5997-40e8-99d3-605532755be5",
   "metadata": {},
   "outputs": [
    {
     "name": "stdin",
     "output_type": "stream",
     "text": [
      "enter the number1: 12\n",
      "enter the number2: 23\n"
     ]
    },
    {
     "data": {
      "text/plain": [
       "35"
      ]
     },
     "execution_count": 24,
     "metadata": {},
     "output_type": "execute_result"
    }
   ],
   "source": [
    "n1=eval(input(\"enter the number1:\"))\n",
    "n2=eval(input(\"enter the number2:\"))\n",
    "int(n1)+int(n2)"
   ]
  },
  {
   "cell_type": "code",
   "execution_count": 25,
   "id": "030e05a7-6afe-452f-97a9-f3dcf17ca9df",
   "metadata": {},
   "outputs": [
    {
     "name": "stdin",
     "output_type": "stream",
     "text": [
      "enter the number1: 12\n",
      "enter the number2: 36\n"
     ]
    },
    {
     "data": {
      "text/plain": [
       "48"
      ]
     },
     "execution_count": 25,
     "metadata": {},
     "output_type": "execute_result"
    }
   ],
   "source": [
    "n1=eval(input(\"enter the number1:\"))\n",
    "n2=eval(input(\"enter the number2:\"))\n",
    "n1+n2"
   ]
  },
  {
   "cell_type": "code",
   "execution_count": 21,
   "id": "543e2c48-a2c9-4934-b122-95416e7bd994",
   "metadata": {},
   "outputs": [
    {
     "name": "stdin",
     "output_type": "stream",
     "text": [
      "enter num1: 5\n",
      "enter num2: 6\n",
      "enter num3: 4\n"
     ]
    },
    {
     "name": "stdout",
     "output_type": "stream",
     "text": [
      " the avg of three numbers 5, 6, 4 is 5.0\n"
     ]
    }
   ],
   "source": [
    "#1 wap ask the user enter 3 number n1 ,n2 ,n3 from ketboard\n",
    "#calculate average\n",
    "\n",
    "a=eval(input(\"enter num1:\"))\n",
    "b=eval(input(\"enter num2:\"))\n",
    "c=eval(input(\"enter num3:\"))\n",
    "d=(a+b+c)/3\n",
    "print(f\" the avg of three numbers {a}, {b}, {c} is {d}\")"
   ]
  },
  {
   "cell_type": "code",
   "execution_count": 12,
   "id": "80122383-6472-4e15-958b-19ebef44f27e",
   "metadata": {},
   "outputs": [
    {
     "name": "stdin",
     "output_type": "stream",
     "text": [
      "enter name: abhay\n",
      "enter age: 22\n",
      "enter city: mirzapur up\n"
     ]
    },
    {
     "name": "stdout",
     "output_type": "stream",
     "text": [
      "my name is abhay im 22 years old came from mirzapur up\n",
      "my name is abhay im 22 years old came from mirzapur up\n"
     ]
    }
   ],
   "source": [
    "#wap ask the user enter name age city\n",
    "#print my name is python im 10 years old came from hyd\n",
    "\n",
    "\n",
    "name=input(\"enter name:\")\n",
    "age=eval(input(\"enter age:\"))\n",
    "city=input(\"enter city:\")\n",
    "print(\"my name is {} im {} years old came from {}\".format(name,age,city))\n",
    "print(f\"my name is {name} im {age} years old came from {city}\")"
   ]
  },
  {
   "cell_type": "code",
   "execution_count": 3,
   "id": "4cccec02-14d2-4ffd-b2bf-ef1692bc55ef",
   "metadata": {},
   "outputs": [
    {
     "name": "stdin",
     "output_type": "stream",
     "text": [
      "enter the radius: 12\n"
     ]
    },
    {
     "name": "stdout",
     "output_type": "stream",
     "text": [
      "area of the circle with radius 12 and 3.14 is:452.15999999999997\n"
     ]
    }
   ],
   "source": [
    "#3)wap ask the user to enter radidus of a circle calculate area of the circle\n",
    "# var: radidus  var: pi=3.14\n",
    "# formuale: pi*radius*radius\n",
    "# print the answers using f string and format\n",
    "\n",
    "var=eval(input(\"enter the radius:\"))\n",
    "pi=3.14\n",
    "area=pi*radius*radius\n",
    "print(f\"area of the circle with radius {var} and {pi} is:{area}\")"
   ]
  },
  {
   "cell_type": "code",
   "execution_count": 5,
   "id": "bbd6460b-5f4e-40d9-a9a8-cb89faef6bea",
   "metadata": {},
   "outputs": [
    {
     "name": "stdin",
     "output_type": "stream",
     "text": [
      "enter the breadth: 12\n",
      "enter the heigth: 36\n"
     ]
    },
    {
     "name": "stdout",
     "output_type": "stream",
     "text": [
      "the user are triangle of 12 and 36 is: 216.0\n",
      "the user are triangle of 12 and 36 is: 216.0\n"
     ]
    }
   ],
   "source": [
    "# 4)wap ask the user enter breadth and height of a right angle triangle\n",
    "# calculate the area\n",
    "# var1: bredath  var2: height\n",
    "# formuale : 0.5*breadth*heigh\n",
    "\n",
    "var1=eval(input(\"enter the breadth:\"))\n",
    "var2=eval(input(\"enter the heigth:\"))\n",
    "area=0.5*var1*var2\n",
    "print(\"the user are triangle of {} and {} is: {}\".format(var1,var2,area))\n",
    "print(f\"the user are triangle of {var1} and {var2} is: {area}\")"
   ]
  },
  {
   "cell_type": "code",
   "execution_count": 7,
   "id": "5fe611b4-1cc1-4535-9656-d9631852a6bb",
   "metadata": {},
   "outputs": [
    {
     "name": "stdin",
     "output_type": "stream",
     "text": [
      "enter bill_amount: 455\n",
      "enter tip_amount: 45\n"
     ]
    },
    {
     "name": "stdout",
     "output_type": "stream",
     "text": [
      "a usre paying to bill of 455 and 45 is : 500\n",
      "a user paying to bill of 455  and 45 is: 500\n"
     ]
    }
   ],
   "source": [
    "# 5)wap ask the user the bill amount and tip amount\n",
    "#   calculate total bill\n",
    "#   var1: bill amount var2: tip amount\n",
    "#   formuale\n",
    "\n",
    "var1=eval(input(\"enter bill_amount:\"))\n",
    "var2=eval(input(\"enter tip_amount:\"))\n",
    "total_amount=var1+var2\n",
    "print(\"a usre paying to bill of {} and {} is : {}\".format(var1,var2,total_amount))\n",
    "print(f\"a user paying to bill of {var1}  and {var2} is: {total_amount}\")"
   ]
  },
  {
   "cell_type": "code",
   "execution_count": 10,
   "id": "2838eec8-00a4-414e-83a5-483f4f0291d3",
   "metadata": {},
   "outputs": [
    {
     "name": "stdin",
     "output_type": "stream",
     "text": [
      "enter bill_amount: 100\n",
      "enter tip_amount: 10\n"
     ]
    },
    {
     "name": "stdout",
     "output_type": "stream",
     "text": [
      "user paying a bill of 100 and 10 is: 110.0\n",
      "user paying a bill of 100 and 10 is: 110.0\n"
     ]
    }
   ],
   "source": [
    "# 6)wap ask the user the bill amount and tip percentage\n",
    "#    take tip percentage as 10\n",
    "#   calculate total bill= bill amount+ bill amount*tip per/100\n",
    "#   var1: bill amount var2: tip amount\n",
    "#    formuale\n",
    "\n",
    "\n",
    "var1=eval(input(\"enter bill_amount:\"))\n",
    "var2=eval(input(\"enter tip_amount:\"))\n",
    "total_amount=var1+(var1*var2)/100\n",
    "print(\"user paying a bill of {} and {} is: {}\".format(var1,var2,total_amount))\n",
    "print(f\"user paying a bill of {var1} and {var2} is: {total_amount}\")"
   ]
  },
  {
   "cell_type": "code",
   "execution_count": 3,
   "id": "36beede6-23e3-43a3-aaed-4090aa604bdc",
   "metadata": {},
   "outputs": [
    {
     "name": "stdin",
     "output_type": "stream",
     "text": [
      "enter length: 5\n",
      "enter breadth: 6\n"
     ]
    },
    {
     "name": "stdout",
     "output_type": "stream",
     "text": [
      " a rectangle calculate of 5 and 6 is : 30 \n"
     ]
    }
   ],
   "source": [
    "# 7)wap ask the length and breadth of a rectangle calculate area\n",
    "#   var1: length  var2: breadth\n",
    "#   formulae: length * breadth\n",
    "var1=eval(input(\"enter length:\"))\n",
    "var2=eval(input(\"enter breadth:\"))\n",
    "area=var1*var2\n",
    "print(f\" a rectangle calculate of {var1} and {var2} is : {area} \")"
   ]
  },
  {
   "cell_type": "code",
   "execution_count": 20,
   "id": "2e927d0e-01a4-494a-b777-bcd50a6a0507",
   "metadata": {},
   "outputs": [
    {
     "name": "stdin",
     "output_type": "stream",
     "text": [
      "enter radius: 4\n"
     ]
    },
    {
     "name": "stdout",
     "output_type": "stream",
     "text": [
      "the volume sphere with radius  4 is 200.96 \n"
     ]
    }
   ],
   "source": [
    "# 8) wap ask the user take the radius and calculate volume of sphere\n",
    "#   formulae: pi*r**3(pi*r*r*r)\n",
    "\n",
    "radius=eval(input(\"enter radius:\"))\n",
    "pi=3.14\n",
    "volume=pi*radius**3\n",
    "print(f\"the volume sphere with radius  {radius} is {volume} \") \n"
   ]
  },
  {
   "cell_type": "code",
   "execution_count": 17,
   "id": "c7aa3412-2563-4e05-bb27-fb7ba1c25b83",
   "metadata": {},
   "outputs": [
    {
     "name": "stdin",
     "output_type": "stream",
     "text": [
      "enter amount is $: 5\n"
     ]
    },
    {
     "name": "stdout",
     "output_type": "stream",
     "text": [
      " the value of dollar 5 $ in indian rupees is :428.9\n"
     ]
    }
   ],
   "source": [
    "# 9) wap ask the user enter amount in dollars convert into rupees\n",
    "#     1$=85rs\n",
    "\n",
    "dollar=eval(input(\"enter amount is $:\"))\n",
    "rupees=dollar*85.78\n",
    "print(f\" the value of dollar {dollar} $ in indian rupees is :{rupees}\")"
   ]
  },
  {
   "cell_type": "code",
   "execution_count": 19,
   "id": "a7a3ebd1-ab17-4056-9103-54bd70baf791",
   "metadata": {},
   "outputs": [
    {
     "name": "stdin",
     "output_type": "stream",
     "text": [
      "enter weight is kg : 5\n"
     ]
    },
    {
     "name": "stdout",
     "output_type": "stream",
     "text": [
      "weight 5 kg in pound is : 11.0\n"
     ]
    }
   ],
   "source": [
    "# 10)wap ask the user enter weight in kgs convert into pounds\n",
    "#    1kg= 2.2pounds\n",
    "\n",
    "weight=eval(input(\"enter weight is kg :\"))\n",
    "pound=weight*2.2\n",
    "print(f\"weight {weight} kg in pound is : {pound}\")"
   ]
  },
  {
   "cell_type": "code",
   "execution_count": null,
   "id": "f629edc5-2744-4351-850b-061aa74abe7e",
   "metadata": {},
   "outputs": [],
   "source": []
  }
 ],
 "metadata": {
  "kernelspec": {
   "display_name": "Python 3 (ipykernel)",
   "language": "python",
   "name": "python3"
  },
  "language_info": {
   "codemirror_mode": {
    "name": "ipython",
    "version": 3
   },
   "file_extension": ".py",
   "mimetype": "text/x-python",
   "name": "python",
   "nbconvert_exporter": "python",
   "pygments_lexer": "ipython3",
   "version": "3.12.7"
  }
 },
 "nbformat": 4,
 "nbformat_minor": 5
}
