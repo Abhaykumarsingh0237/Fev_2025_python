{
 "cells": [
  {
   "cell_type": "markdown",
   "id": "d1ec9419-c8df-462a-a7af-966c390e77b8",
   "metadata": {},
   "source": [
    "## list comprehension\n",
    "- list comprehension a way to write list operations in a single line\n",
    "- when we apply for loop and if-else conditional statements then the code compilation\n",
    "- which means it takes much time \n",
    "- in order to avoide the time complexity we will use list comprehension\n",
    "- list comprehension is a single line code"
   ]
  },
  {
   "cell_type": "markdown",
   "id": "3afe5b4a-e1f1-442d-9702-5f0281f2ac5f",
   "metadata": {},
   "source": [
    "**case-1 only for loop**"
   ]
  },
  {
   "cell_type": "code",
   "execution_count": 2,
   "id": "2c2e10be-521c-4bfe-bcc7-132f94510e7b",
   "metadata": {},
   "outputs": [
    {
     "data": {
      "text/plain": [
       "[0, 1, 2, 3, 4, 5, 6, 7, 8, 9]"
      ]
     },
     "execution_count": 2,
     "metadata": {},
     "output_type": "execute_result"
    }
   ],
   "source": [
    "list1=[]\n",
    "for i in range(10):\n",
    "    list1.append(i)\n",
    "\n",
    "list1"
   ]
  },
  {
   "cell_type": "code",
   "execution_count": null,
   "id": "469ad51b-f7de-4086-be1e-23eb33433db0",
   "metadata": {},
   "outputs": [],
   "source": [
    "list1=[<code should write here>]\n",
    "# inside code no need of append\n",
    "list1=[<output var><for loop>]"
   ]
  },
  {
   "cell_type": "markdown",
   "id": "b1410e35-47b5-44be-9a4d-504b7a957419",
   "metadata": {},
   "source": [
    "**dont give : after for loop**"
   ]
  },
  {
   "cell_type": "code",
   "execution_count": 5,
   "id": "5cb4fdf5-5ccf-4cbe-a393-1247c0415411",
   "metadata": {},
   "outputs": [
    {
     "data": {
      "text/plain": [
       "[0, 1, 2, 3, 4, 5, 6, 7, 8, 9]"
      ]
     },
     "execution_count": 5,
     "metadata": {},
     "output_type": "execute_result"
    }
   ],
   "source": [
    "list2=[i for i in range(10)]\n",
    "list2"
   ]
  },
  {
   "cell_type": "code",
   "execution_count": 8,
   "id": "5375363b-fff9-41de-b0ac-fb1957440dec",
   "metadata": {},
   "outputs": [
    {
     "data": {
      "text/plain": [
       "['HYD', 'BENGALURU', 'PUNE', 'MUMBAI']"
      ]
     },
     "execution_count": 8,
     "metadata": {},
     "output_type": "execute_result"
    }
   ],
   "source": [
    "# Q.1 input=['hyd','bengaluru','pune','mumbai']\n",
    "#      output=['Hyd','Bengaluru','Pune','Mumbai']\n",
    "input=['hyd','bengaluru','pune','mumbai']\n",
    "l1=[i.upper() for i in input]\n",
    "l1"
   ]
  },
  {
   "cell_type": "code",
   "execution_count": 9,
   "id": "6dbde2c6-29c7-4763-86a7-e183e146c5ac",
   "metadata": {},
   "outputs": [
    {
     "data": {
      "text/plain": [
       "['Hyd', 'Bengaluru', 'Pune', 'Mumbai']"
      ]
     },
     "execution_count": 9,
     "metadata": {},
     "output_type": "execute_result"
    }
   ],
   "source": [
    "# Q.2 input=['hyd','bengaluru','pune','mumbai']\n",
    "# output= ['HYD', 'BENGALURU', 'PUNA','MUMBAI']\n",
    "input=['hyd','bengaluru','pune','mumbai']\n",
    "l1=[i.capitalize() for i in input]\n",
    "l1"
   ]
  },
  {
   "cell_type": "code",
   "execution_count": 10,
   "id": "b3ccfd6a-f6e5-4bc8-8cc9-34026ca925a6",
   "metadata": {},
   "outputs": [
    {
     "data": {
      "text/plain": [
       "['hyd', 'bengaluru', 'puna', 'mumbai']"
      ]
     },
     "execution_count": 10,
     "metadata": {},
     "output_type": "execute_result"
    }
   ],
   "source": [
    "# Q.3 output =['hyd','bengaluru','pune','mumbai']\n",
    "# input= ['HYD', 'BENGALURU', 'PUNA','MUMBAI']\n",
    "input= ['HYD', 'BENGALURU', 'PUNA','MUMBAI']\n",
    "l1=[i.lower() for i in input]\n",
    "l1"
   ]
  },
  {
   "cell_type": "code",
   "execution_count": 11,
   "id": "896f3b33-b4eb-4ac6-8e6e-6f262d8461e4",
   "metadata": {},
   "outputs": [
    {
     "data": {
      "text/plain": [
       "[0, 10, 20, 30]"
      ]
     },
     "execution_count": 11,
     "metadata": {},
     "output_type": "execute_result"
    }
   ],
   "source": [
    "# Q.3 input =['hyd','bengaluru','pune','mumbai']\n",
    "# multiply the index with 10\n",
    "\n",
    "# idea : get the inde list first\n",
    "# then multiply with 10\n",
    "\n",
    "input =['hyd','bengaluru','pune','mumbai']\n",
    "l1=[input.index(i)*10 for i in input]\n",
    "l1=[input.index(i)*10 for i in ['hyd','bengaluru','pune','mumbai']]\n",
    "l1"
   ]
  },
  {
   "cell_type": "code",
   "execution_count": 13,
   "id": "93ca082f-67c6-4685-b7f1-cdb949a3c71b",
   "metadata": {},
   "outputs": [
    {
     "data": {
      "text/plain": [
       "60"
      ]
     },
     "execution_count": 13,
     "metadata": {},
     "output_type": "execute_result"
    }
   ],
   "source": [
    "# Q.4 input =['hyd','bengaluru','pune','mumbai']\n",
    "#   calculate summ of index\n",
    "input =['hyd','bengaluru','pune','mumbai']\n",
    "output=[input.index(i)*10 for i in input]\n",
    "sum(output)"
   ]
  },
  {
   "cell_type": "code",
   "execution_count": 11,
   "id": "fecaf2fe-8300-4a9f-a6f9-e9fd689b2d91",
   "metadata": {},
   "outputs": [
    {
     "name": "stdin",
     "output_type": "stream",
     "text": [
      "enter the number : 4\n"
     ]
    },
    {
     "name": "stdout",
     "output_type": "stream",
     "text": [
      "4*1 : 4\n",
      "4*2 : 8\n",
      "4*3 : 12\n",
      "4*4 : 16\n",
      "4*5 : 20\n",
      "4*6 : 24\n",
      "4*7 : 28\n",
      "4*8 : 32\n",
      "4*9 : 36\n",
      "4*10 : 40\n"
     ]
    }
   ],
   "source": [
    "num=int(input(\"enter the number :\"))\n",
    "for i in range(1,11):\n",
    "    print(f\"{num}*{i} : {num*i}\")\n"
   ]
  },
  {
   "cell_type": "code",
   "execution_count": 16,
   "id": "6d6d16dc-ad4d-4298-aea4-92173cff4590",
   "metadata": {},
   "outputs": [
    {
     "name": "stdout",
     "output_type": "stream",
     "text": [
      "55\n"
     ]
    }
   ],
   "source": [
    "summ=0\n",
    "for i in range(1,11):\n",
    "    summ=summ+i\n",
    "print(summ)"
   ]
  },
  {
   "cell_type": "markdown",
   "id": "97500f55-3a15-4d75-bad2-268953c1342b",
   "metadata": {},
   "source": [
    "**walrus operator**"
   ]
  },
  {
   "cell_type": "code",
   "execution_count": 19,
   "id": "c5dd6b22-7c0a-49de-abef-2d8ab1fb8fc9",
   "metadata": {},
   "outputs": [
    {
     "data": {
      "text/plain": [
       "[1, 3, 6, 10, 15, 21, 28, 36, 45, 55]"
      ]
     },
     "execution_count": 19,
     "metadata": {},
     "output_type": "execute_result"
    }
   ],
   "source": [
    "summ=0\n",
    "[summ:=summ+i for i in range(1,11)]"
   ]
  },
  {
   "cell_type": "code",
   "execution_count": 22,
   "id": "1b8db4e0-7816-49f6-892e-18231a584344",
   "metadata": {},
   "outputs": [
    {
     "data": {
      "text/plain": [
       "[56, 58, 61, 65, 70, 76, 83, 91, 100, 110]"
      ]
     },
     "execution_count": 22,
     "metadata": {},
     "output_type": "execute_result"
    }
   ],
   "source": [
    "summ=0\n",
    "for i in range(1,11):\n",
    "    summ=summ+i\n",
    "\n",
    "[summ:=summ+i for i in range(1,11)]"
   ]
  },
  {
   "cell_type": "code",
   "execution_count": 23,
   "id": "6021b703-bfd5-444c-ab6f-fa43a159ba7e",
   "metadata": {},
   "outputs": [
    {
     "data": {
      "text/plain": [
       "55"
      ]
     },
     "execution_count": 23,
     "metadata": {},
     "output_type": "execute_result"
    }
   ],
   "source": [
    "summ=0\n",
    "[summ:=summ+i for i in range(1,11)]\n",
    "summ"
   ]
  },
  {
   "cell_type": "markdown",
   "id": "c9415ad7-3ddf-4790-b694-b653e22fe97c",
   "metadata": {},
   "source": [
    "**case-2 : for loop if condition**"
   ]
  },
  {
   "cell_type": "code",
   "execution_count": 26,
   "id": "fbc902ce-445d-48aa-aa80-8dc9d5557549",
   "metadata": {},
   "outputs": [
    {
     "name": "stdout",
     "output_type": "stream",
     "text": [
      "even number 2\n",
      "even number 4\n",
      "even number 6\n",
      "even number 8\n"
     ]
    }
   ],
   "source": [
    "# even number\n",
    "for i in range(1,10):\n",
    "    if i%2==0:\n",
    "        print(f\"even number {i}\")\n",
    "        "
   ]
  },
  {
   "cell_type": "markdown",
   "id": "588d894c-d619-4edf-bb54-081cff027b57",
   "metadata": {},
   "source": [
    "[<output> <for loop> >if condition>]"
   ]
  },
  {
   "cell_type": "code",
   "execution_count": 27,
   "id": "f31485ac-1f71-4b2c-b039-84c901bd3301",
   "metadata": {},
   "outputs": [
    {
     "data": {
      "text/plain": [
       "['even number 2', 'even number 4', 'even number 6', 'even number 8']"
      ]
     },
     "execution_count": 27,
     "metadata": {},
     "output_type": "execute_result"
    }
   ],
   "source": [
    "[f\"even number {i}\" for i in range(1,10) if i%2==0]"
   ]
  },
  {
   "cell_type": "code",
   "execution_count": 32,
   "id": "feaf9473-75d8-4b7e-8c2e-cff1778c86d6",
   "metadata": {},
   "outputs": [
    {
     "data": {
      "text/plain": [
       "['ben#galuru', 'mum#bai']"
      ]
     },
     "execution_count": 32,
     "metadata": {},
     "output_type": "execute_result"
    }
   ],
   "source": [
    "# Q.1 input=['hyd','ben#galuru','pune','mum#bai']\n",
    "#      output=['Ben#galuru',Mum#bai']\n",
    "\n",
    "input=['hyd','ben#galuru','pune','mum#bai']\n",
    "l1=[i for i in input if '#' in i]\n",
    "l1"
   ]
  },
  {
   "cell_type": "code",
   "execution_count": 33,
   "id": "db362ff4-8e94-49c7-9155-cf21021c7b79",
   "metadata": {},
   "outputs": [
    {
     "data": {
      "text/plain": [
       "['hyd', 'pune']"
      ]
     },
     "execution_count": 33,
     "metadata": {},
     "output_type": "execute_result"
    }
   ],
   "source": [
    "# Q.2 input=['hyd','ben#galuru','pune','mum#bai']\n",
    "#      output=['hyd',Ben#galuru','pune',Mum#bai']\n",
    "\n",
    "input=['hyd','ben#galuru','pune','mum#bai']\n",
    "l1=[i for i in input if '#'not in i]\n",
    "l1"
   ]
  },
  {
   "cell_type": "markdown",
   "id": "d6b1517a-6f28-4c2a-b59e-1d412d3e6f8e",
   "metadata": {},
   "source": [
    "**case-3 : for loop if-else**"
   ]
  },
  {
   "cell_type": "code",
   "execution_count": null,
   "id": "bf48b4f4-b751-4784-9851-2ed7b8782dfb",
   "metadata": {},
   "outputs": [],
   "source": [
    "[<if output> <if condition> else <else output> <for loop>]"
   ]
  },
  {
   "cell_type": "code",
   "execution_count": null,
   "id": "b2b624bb-c113-4634-8244-b2233a637f23",
   "metadata": {},
   "outputs": [],
   "source": [
    "# even number\n",
    "for i in range(1,10):\n",
    "    if i%2==0:\n",
    "        print(f\"even number {i}\")"
   ]
  },
  {
   "cell_type": "code",
   "execution_count": 39,
   "id": "f9f6910a-e26d-4e26-b953-8489a1d4339a",
   "metadata": {},
   "outputs": [
    {
     "data": {
      "text/plain": [
       "['odd number 1',\n",
       " 'even number 2',\n",
       " 'odd number 3',\n",
       " 'even number 4',\n",
       " 'odd number 5',\n",
       " 'even number 6',\n",
       " 'odd number 7',\n",
       " 'even number 8',\n",
       " 'odd number 9']"
      ]
     },
     "execution_count": 39,
     "metadata": {},
     "output_type": "execute_result"
    }
   ],
   "source": [
    "l1=[f\"even number {i}\" if i%2==0 else f\"odd number {i}\" for i in range(1,10)]\n",
    "l1"
   ]
  },
  {
   "cell_type": "markdown",
   "id": "cc40314b-c9fd-4c34-ba46-73c01c6eae10",
   "metadata": {},
   "source": [
    "**case-4 : for loop if-elif-else**\n",
    "\n",
    "- list comperhension we don't have **elif** represention\n",
    "- \n",
    "- elif also represent as else+if\n",
    "- \n",
    "- in elif we have **elif condition** and **elif output**\n",
    "- \n",
    "- else elif_output elif_condition"
   ]
  },
  {
   "cell_type": "markdown",
   "id": "b4b7935d-d3a4-481d-a486-98f90e9af95a",
   "metadata": {},
   "source": [
    "- [<if output> <if condition> else <elif output> <elif condition> else <else output> <for loop>]\n",
    " "
   ]
  },
  {
   "cell_type": "markdown",
   "id": "dd8c8310-c20b-4002-a629-d0c095bc2680",
   "metadata": {},
   "source": [
    "**note**: instead of elif term write if"
   ]
  },
  {
   "cell_type": "code",
   "execution_count": 18,
   "id": "84dc55bd-a1d1-4ff3-8d8c-0238c326c1ea",
   "metadata": {},
   "outputs": [
    {
     "name": "stdout",
     "output_type": "stream",
     "text": [
      "45 : c Grade\n",
      "55 : c Grade\n",
      "75 : c Grade\n",
      "85 : B Grade\n",
      "95 : A Grade\n",
      "78 : B Grade\n"
     ]
    }
   ],
   "source": [
    "l=[45,55,75,85,95,78]\n",
    "for i in l:\n",
    "    if i>85:\n",
    "        print(f\"{i} : A Grade\")\n",
    "    elif i>75:\n",
    "        print(f\"{i} : B Grade\")\n",
    "    else:\n",
    "        print(f\"{i} : c Grade\")"
   ]
  },
  {
   "cell_type": "code",
   "execution_count": 19,
   "id": "4322438b-b90f-480f-bf3d-768ffea7710f",
   "metadata": {},
   "outputs": [
    {
     "data": {
      "text/plain": [
       "['45 : c Grade',\n",
       " '55 : c Grade',\n",
       " '75 : c Grade',\n",
       " '85 : B Grade',\n",
       " '95 : A Grade',\n",
       " '78 : B Grade']"
      ]
     },
     "execution_count": 19,
     "metadata": {},
     "output_type": "execute_result"
    }
   ],
   "source": [
    "[f\"{i} : A Grade\" if i>85 else f\"{i} : B Grade\" if i>75 else f\"{i} : c Grade\" for i in l ]"
   ]
  },
  {
   "cell_type": "code",
   "execution_count": 27,
   "id": "3e7d6ba1-0e98-4696-b90b-9162b44ca424",
   "metadata": {},
   "outputs": [
    {
     "name": "stdin",
     "output_type": "stream",
     "text": [
      "enter the number: 4\n"
     ]
    },
    {
     "name": "stdout",
     "output_type": "stream",
     "text": [
      "4\n",
      "0 : even number\n",
      "1 : odd number\n",
      "2 : even number\n",
      "3 : odd number\n"
     ]
    },
    {
     "data": {
      "text/plain": [
       "4"
      ]
     },
     "execution_count": 27,
     "metadata": {},
     "output_type": "execute_result"
    }
   ],
   "source": [
    "num=eval(input(\"enter the number:\"))\n",
    "print(num)\n",
    "for i in range(num):\n",
    "    if i%2==0:\n",
    "        print(f\"{i} : even number\")\n",
    "    elif i==0:\n",
    "        print(f\"{i} : Zero number\")\n",
    "    else:\n",
    "        print(f\"{i} : odd number\")\n",
    " "
   ]
  },
  {
   "cell_type": "code",
   "execution_count": 28,
   "id": "5f549e17-a290-4d84-b33a-04abd7097022",
   "metadata": {},
   "outputs": [
    {
     "data": {
      "text/plain": [
       "['0 : even number', '1 : odd number', '2 : even number', '3 : odd number']"
      ]
     },
     "execution_count": 28,
     "metadata": {},
     "output_type": "execute_result"
    }
   ],
   "source": [
    "[f\"{i} : even number\"  if i%2==0  else f\"{i} : Zero number\" if i==0 else f\"{i} : odd number\" for i in range(num) ]"
   ]
  },
  {
   "cell_type": "code",
   "execution_count": 2,
   "id": "b813efa3-e3d4-4ce2-b355-17878484f844",
   "metadata": {},
   "outputs": [
    {
     "data": {
      "text/plain": [
       "[76, 89, 53, 67, 90, 82, 99]"
      ]
     },
     "execution_count": 2,
     "metadata": {},
     "output_type": "execute_result"
    }
   ],
   "source": [
    "# list of student marks in python , marks = [45, 76, 89, 53, 67, 90 ,82,49,33,99], slove all below problems by using list comprehension topic.\n",
    "ls= [45, 76, 89, 53, 67, 90 ,82,49,33,99]\n",
    "l1= [i for i in ls if i>=50]\n",
    "l1\n",
    "    "
   ]
  },
  {
   "cell_type": "code",
   "execution_count": null,
   "id": "b27dea8c-01fe-4546-ba3b-b1d58f87c5e5",
   "metadata": {},
   "outputs": [],
   "source": [
    "#[<if output> <if condition> else <elif output> <elif condition> else <else output> <for loop>]\n",
    " "
   ]
  },
  {
   "cell_type": "code",
   "execution_count": 22,
   "id": "93180c73-b37a-4292-85e4-cb67c6cdc8ed",
   "metadata": {},
   "outputs": [
    {
     "data": {
      "text/plain": [
       "['45:F',\n",
       " '76:B',\n",
       " '89:A',\n",
       " '53:C',\n",
       " '67:C',\n",
       " '90:A',\n",
       " '82:B',\n",
       " '49:F',\n",
       " '33:F',\n",
       " '99:A']"
      ]
     },
     "execution_count": 22,
     "metadata": {},
     "output_type": "execute_result"
    }
   ],
   "source": [
    "l2=[f\"{i}:A\" if i>=85 else f'{i}:B' if 70<=i<=84 else f'{i}:C' if 50<=i<=69 else f'{i}:F' for i in ls]\n",
    "l2"
   ]
  },
  {
   "cell_type": "code",
   "execution_count": 24,
   "id": "03d058a9-2aff-4bdd-917e-8721fd55e3b3",
   "metadata": {},
   "outputs": [],
   "source": [
    "marks= [45, 76, 89, 53, 67, 90 ,82,49,33,99]\n"
   ]
  },
  {
   "cell_type": "code",
   "execution_count": 26,
   "id": "7dc26160-0284-4af7-ac6f-fb166fbd42d4",
   "metadata": {},
   "outputs": [
    {
     "data": {
      "text/plain": [
       "['marks = 45 : F grade.',\n",
       " 'marks = 76 : B grade.',\n",
       " 'marks = 89 : A grade.',\n",
       " 'marks = 53 : C grade.',\n",
       " 'marks = 67 : C grade.',\n",
       " 'marks = 90 : A grade.',\n",
       " 'marks = 82 : B grade.',\n",
       " 'marks = 49 : F grade.',\n",
       " 'marks = 33 : F grade.',\n",
       " 'marks = 99 : A grade.']"
      ]
     },
     "execution_count": 26,
     "metadata": {},
     "output_type": "execute_result"
    }
   ],
   "source": [
    "[f\"marks = {i} : A grade.\" if i >=85\n",
    "else f\"marks = {i} : B grade.\" if i>=70\n",
    "else f\"marks = {i} : C grade.\" if i>=50\n",
    "else f\"marks = {i} : F grade.\"\n",
    " for i in marks]"
   ]
  },
  {
   "cell_type": "code",
   "execution_count": 11,
   "id": "0327d8ca-fb89-4702-ad9b-7b115bedea79",
   "metadata": {},
   "outputs": [
    {
     "data": {
      "text/plain": [
       "[50, 54, 38]"
      ]
     },
     "execution_count": 11,
     "metadata": {},
     "output_type": "execute_result"
    }
   ],
   "source": [
    "l3=[i+5 for i in ls if i<=50]\n",
    "l3"
   ]
  },
  {
   "cell_type": "code",
   "execution_count": 17,
   "id": "e1fb6bfe-3a0d-49fc-8e8e-c68c730ac8ec",
   "metadata": {},
   "outputs": [
    {
     "data": {
      "text/plain": [
       "[33, 45, 49]"
      ]
     },
     "execution_count": 17,
     "metadata": {},
     "output_type": "execute_result"
    }
   ],
   "source": [
    "l4=sorted([i for i in ls ],reverse=False)\n",
    "l4[:3]"
   ]
  },
  {
   "cell_type": "code",
   "execution_count": 18,
   "id": "002f0c4b-9bfb-4060-b0d5-22faa24eedff",
   "metadata": {},
   "outputs": [
    {
     "data": {
      "text/plain": [
       "[99, 90, 89]"
      ]
     },
     "execution_count": 18,
     "metadata": {},
     "output_type": "execute_result"
    }
   ],
   "source": [
    "l4=sorted([i for i in ls ],reverse=True)\n",
    "l4[:3]"
   ]
  },
  {
   "cell_type": "code",
   "execution_count": 29,
   "id": "d278f84d-e99f-435e-8e9d-8633a745ad9f",
   "metadata": {},
   "outputs": [
    {
     "name": "stdout",
     "output_type": "stream",
     "text": [
      "82\n",
      "76\n",
      "67\n"
     ]
    }
   ],
   "source": [
    "ls= [45, 76, 89, 53, 67, 90 ,82,49,33,99]\n",
    "max_val=max(marks)\n",
    "for i in range(3):\n",
    "    max_val=max(marks)\n",
    "    print(max_val)\n",
    "    marks.remove(max_val)\n",
    "   # print(max_val)"
   ]
  },
  {
   "cell_type": "code",
   "execution_count": 21,
   "id": "d75294a9-42e6-449b-8e71-48aa74ae8b76",
   "metadata": {},
   "outputs": [
    {
     "name": "stdout",
     "output_type": "stream",
     "text": [
      "683\n",
      "Avg: 68.3\n"
     ]
    }
   ],
   "source": [
    "summ=0\n",
    "l5=[summ:=summ+i for i in ls]\n",
    "print(summ)\n",
    "print('Avg:', summ/len(ls))"
   ]
  },
  {
   "cell_type": "markdown",
   "id": "69fae082-04b0-4422-85d6-20cb5c678901",
   "metadata": {},
   "source": [
    "**distance between two points**"
   ]
  },
  {
   "cell_type": "code",
   "execution_count": null,
   "id": "9676fac5-5989-4c4d-b5d8-cfc637718b3f",
   "metadata": {},
   "outputs": [],
   "source": [
    "l1=[[1,2]],[[4,5]],[[7,9]]\n",
    "l2=[10,20]\n",
    "\n",
    "# find the distance between l2 with all other point from l1\n",
    "# which is the maximum distance give me that\n",
    "\n",
    "l1=[10,20]\n",
    "l2=[30,40]\n",
    "###########################\n",
    "d1=l2[0]-l1[0]\n",
    "d1_square=ma\n",
    "d2=l2[1]-l2[1]\n",
    "#########################"
   ]
  },
  {
   "cell_type": "code",
   "execution_count": 38,
   "id": "ebe3eda6-81a5-4242-a83b-a68681bef7ee",
   "metadata": {},
   "outputs": [],
   "source": [
    "import math\n",
    "l1=[10,20]\n",
    "l2=[30,40]"
   ]
  },
  {
   "cell_type": "code",
   "execution_count": 39,
   "id": "fc3ac24f-2b1c-4e75-ba55-a458f6c797cc",
   "metadata": {},
   "outputs": [
    {
     "data": {
      "text/plain": [
       "28.284271247461902"
      ]
     },
     "execution_count": 39,
     "metadata": {},
     "output_type": "execute_result"
    }
   ],
   "source": [
    "math.sqrt(math.pow(l2[0]-l1[0] ,2)+math.pow(l2[1]-l1[1],2))"
   ]
  },
  {
   "cell_type": "code",
   "execution_count": null,
   "id": "b2934634-cdcb-49a2-94b0-377f952ddaa5",
   "metadata": {},
   "outputs": [],
   "source": [
    "[10,20,30,35,120,500,490,320,240,120]\n",
    "# how to sort the list\n",
    "# how to find the maximum value of the list\n",
    "# how to find the minimum value of the list"
   ]
  },
  {
   "cell_type": "code",
   "execution_count": null,
   "id": "493bc8c5-887d-4d0f-9e5d-3e589061860b",
   "metadata": {},
   "outputs": [],
   "source": []
  },
  {
   "cell_type": "code",
   "execution_count": null,
   "id": "e063f93b-7a97-4d03-8b23-9767ed82f244",
   "metadata": {},
   "outputs": [],
   "source": []
  }
 ],
 "metadata": {
  "kernelspec": {
   "display_name": "Python 3 (ipykernel)",
   "language": "python",
   "name": "python3"
  },
  "language_info": {
   "codemirror_mode": {
    "name": "ipython",
    "version": 3
   },
   "file_extension": ".py",
   "mimetype": "text/x-python",
   "name": "python",
   "nbconvert_exporter": "python",
   "pygments_lexer": "ipython3",
   "version": "3.12.7"
  }
 },
 "nbformat": 4,
 "nbformat_minor": 5
}
