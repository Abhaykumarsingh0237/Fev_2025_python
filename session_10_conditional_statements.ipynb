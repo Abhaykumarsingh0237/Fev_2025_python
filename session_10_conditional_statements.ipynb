{
 "cells": [
  {
   "cell_type": "code",
   "execution_count": 10,
   "id": "1d1a12d5-6916-48a0-9c89-35bc8230cfef",
   "metadata": {},
   "outputs": [
    {
     "name": "stdout",
     "output_type": "stream",
     "text": [
      "son: hi papa\n",
      "fa: hi beta\n",
      "son: i am going to school\n",
      "fa: okay beta, i heared your results came out\n",
      "son: yes papa\n",
      "fa: then what about the result\n",
      "son: lets play a game i will give the marks you tell me the perce\n",
      "fa:  exited\n",
      "tel: 83\n",
      "hin: 35\n",
      "eng: 51\n",
      "sc: 33\n",
      "sco: 92\n",
      "math: 43\n",
      "the number of total marks avg : 56.166666666666664\n",
      "the number of total marks is : 56.166666666666664\n"
     ]
    }
   ],
   "source": [
    "# those who are done all the meanwhile do below qn\n",
    "# story between papa and son\n",
    "\n",
    "# son: hi papa\n",
    "# fa : hi beta\n",
    "# son: im going to school\n",
    "# fa: okay beta, i heared your results came out\n",
    "# son: yes papa\n",
    "# fa: then what about the result\n",
    "# son: lets play a game i will give the marks you tell me the perce\n",
    "# fa: exited\n",
    "# Telugu= random\n",
    "# hindi\n",
    "# eng\n",
    "# maths\n",
    "# sci\n",
    "# soc\n",
    "# avg\n",
    "# display the avg\n",
    "\n",
    "\n",
    "from random import randint as rt\n",
    "import time\n",
    "\n",
    "print(\"son: hi papa\")\n",
    "time.sleep(2)\n",
    "print(\"fa: hi beta\")\n",
    "time.sleep(2)\n",
    "print(\"son: i am going to school\")\n",
    "time.sleep(2)\n",
    "print(\"fa: okay beta, i heared your results came out\")\n",
    "time.sleep(2)\n",
    "print(\"son: yes papa\")\n",
    "time.sleep(2)\n",
    "print(\"fa: then what about the result\")\n",
    "time.sleep(2)\n",
    "print(\"son: lets play a game i will give the marks you tell me the perce\")\n",
    "time.sleep(2)\n",
    "print(\"fa:  exited\")\n",
    "time.sleep(2)\n",
    "#exam result subject\n",
    "tel=rt(30,100)\n",
    "print(\"tel:\",tel)\n",
    "hin=rt(30,100)\n",
    "print(\"hin:\",hin)\n",
    "eng=rt(30,100)\n",
    "print(\"eng:\",eng)\n",
    "sc=rt(30,100)\n",
    "print(\"sc:\",sc)\n",
    "sco=rt(30,100)\n",
    "print(\"sco:\",sco)\n",
    "math=rt(30,100)\n",
    "print(\"math:\",math)\n",
    "avg=(tel+hin+eng+sc+sco+math)/6\n",
    "print(\"the number of total marks avg :\",avg)\n",
    "Avg_per=(tel+hin+eng+sc+sco+math)/600*100\n",
    "print(f\"the number of total marks is : {Avg_per}\")"
   ]
  },
  {
   "cell_type": "code",
   "execution_count": 8,
   "id": "ab9d78ba-a5db-4a92-a878-bcc4b91d7fd1",
   "metadata": {},
   "outputs": [
    {
     "name": "stdout",
     "output_type": "stream",
     "text": [
      "son: hi papa\n",
      "fa : hi beta\n",
      "son: im going to school\n",
      "fa: okay beta, i heared your results came out\n",
      "son: yes papa\n",
      "fa: then what about the result\n",
      "son: lets play a game i will give the marks you tell me the perce\n",
      "fa: exited\n",
      "Telugu: 45\n",
      "hindi: 75\n",
      "eng: 61\n",
      "maths: 64\n",
      "sci: 68\n",
      "soc: 64\n",
      "percentage exam secure of 62.833333333333336\n",
      "the exam secure of avg 62.833333333333336\n"
     ]
    }
   ],
   "source": [
    "import random\n",
    "import time\n",
    "print(\"son: hi papa\")\n",
    "time.sleep(2)\n",
    "print(\"fa : hi beta\")\n",
    "time.sleep(2)\n",
    "print(\"son: im going to school\")\n",
    "time.sleep(2)\n",
    "print(\"fa: okay beta, i heared your results came out\")\n",
    "time.sleep(2)\n",
    "print(\"son: yes papa\")\n",
    "time.sleep(2)\n",
    "print(\"fa: then what about the result\")\n",
    "time.sleep(2)\n",
    "print(\"son: lets play a game i will give the marks you tell me the perce\")\n",
    "time.sleep(2)\n",
    "print(\"fa: exited\")\n",
    "time.sleep(2)\n",
    "# random volume\n",
    "\n",
    "Telugu= random.randrange(30,100)\n",
    "print(\"Telugu:\", Telugu)\n",
    "hindi= random.randrange(30,100)\n",
    "print(\"hindi:\", hindi)\n",
    "eng= random.randrange(30,100)\n",
    "print(\"eng:\", eng)\n",
    "maths= random.randrange(30,100)\n",
    "print(\"maths:\", maths)\n",
    "sci= random.randrange(30,100)\n",
    "print(\"sci:\", sci)\n",
    "soc= random.randrange(30,100)\n",
    "print(\"soc:\", soc)\n",
    "per= (Telugu+hindi+eng+maths+sci+soc)*100/600\n",
    "print(f\"percentage exam secure of {per}\")\n",
    "avg= (Telugu+hindi+eng+maths+sci+soc)/6\n",
    "print(f\"the exam secure of avg {avg}\")\n"
   ]
  },
  {
   "cell_type": "markdown",
   "id": "45b32408-5124-46a7-a3b6-ea30765ff637",
   "metadata": {},
   "source": [
    "**conditional statements**\n",
    "- conditional statements are used to execute the code based on some conditional\n",
    "- assume a statement\n",
    " - if rain come i will stay at hostel\n",
    " - if rain comes i will stay at hostel otherwise i will go to play cricket\n",
    "  - if rain come i will stay at hostel otherwise i will go to ground but if omkar sir call i will go to nareshit.\n",
    "  - if rain come  i will stay at hostel else i will go to play cricket\n",
    "- **if**\n",
    "- **if-else**\n",
    "- **if-elif-else**\n",
    "\n",
    "- **case-1:if**"
   ]
  },
  {
   "cell_type": "code",
   "execution_count": null,
   "id": "1ff345c5-3632-43b2-ac1e-aeee1d05a2fb",
   "metadata": {},
   "outputs": [],
   "source": [
    "if <condition>:\n",
    "    #write your code here \n",
    "\n",
    "\n",
    "# whenever the condition is true \n",
    "# then python will go inside the if area then the lines will be excute "
   ]
  },
  {
   "cell_type": "code",
   "execution_count": 5,
   "id": "fb7e9f96-da52-429b-bccc-d482c3c897d6",
   "metadata": {},
   "outputs": [
    {
     "name": "stdout",
     "output_type": "stream",
     "text": [
      "False\n",
      "True\n",
      "False\n",
      "False\n",
      "True\n",
      "True\n"
     ]
    }
   ],
   "source": [
    "num=10 #assignment 10 is a value stored in a variable name \n",
    "print(num==100) # condition check num value equla to 10 or not  (False)\n",
    "print(num==10) #True\n",
    "print(num>10) #False\n",
    "print(num<10) #False \n",
    "print(num>=10) #True \n",
    "print(num<=10) #True"
   ]
  },
  {
   "cell_type": "code",
   "execution_count": 13,
   "id": "f18376a4-c9f4-405e-9219-edd49f095c38",
   "metadata": {},
   "outputs": [
    {
     "name": "stdout",
     "output_type": "stream",
     "text": [
      "hello\n"
     ]
    }
   ],
   "source": [
    "if 100>10:\n",
    "    print('hello')\n",
    "\n",
    "#step-1: 100>10 True\n",
    "#step-2: print('hello') hello"
   ]
  },
  {
   "cell_type": "code",
   "execution_count": 16,
   "id": "7bbd1b15-cac8-43c6-b24e-e525242816e5",
   "metadata": {},
   "outputs": [
    {
     "name": "stdout",
     "output_type": "stream",
     "text": [
      "hello\n"
     ]
    }
   ],
   "source": [
    "if 100<1000:\n",
    "    print('hello')"
   ]
  },
  {
   "cell_type": "markdown",
   "id": "feb2b9bb-0923-44c8-b8d5-b866c9eb07a8",
   "metadata": {},
   "source": [
    "**mistake-1**\n",
    "  - **indentation error**\n",
    "    - whenever a line startws with keyword at last : will be there\n",
    "     - whenever: there then we have indenatation"
   ]
  },
  {
   "cell_type": "code",
   "execution_count": 17,
   "id": "39e2c00e-b65e-4f50-a194-83d1ddc4880a",
   "metadata": {},
   "outputs": [
    {
     "name": "stdout",
     "output_type": "stream",
     "text": [
      "hy\n"
     ]
    }
   ],
   "source": [
    "if 200<300:\n",
    "    print('hy')"
   ]
  },
  {
   "cell_type": "markdown",
   "id": "8cc6cd30-1521-4503-8b07-ff3a6d62d41f",
   "metadata": {},
   "source": [
    "**mistake-2**\n"
   ]
  },
  {
   "cell_type": "code",
   "execution_count": 1,
   "id": "90ba6706-9ccb-422e-aa02-0b6fbb966e7c",
   "metadata": {},
   "outputs": [
    {
     "ename": "SyntaxError",
     "evalue": "expected ':' (4081822489.py, line 1)",
     "output_type": "error",
     "traceback": [
      "\u001b[1;36m  Cell \u001b[1;32mIn[1], line 1\u001b[1;36m\u001b[0m\n\u001b[1;33m    if 100>10\u001b[0m\n\u001b[1;37m             ^\u001b[0m\n\u001b[1;31mSyntaxError\u001b[0m\u001b[1;31m:\u001b[0m expected ':'\n"
     ]
    }
   ],
   "source": [
    "if 100>10\n",
    "    print('hello')"
   ]
  },
  {
   "cell_type": "code",
   "execution_count": 2,
   "id": "81d9a20e-7b97-46b7-947f-883d48706f2d",
   "metadata": {},
   "outputs": [],
   "source": [
    "if 100<10: # condition is False do not ans are excuted \n",
    "    print('hello')"
   ]
  },
  {
   "cell_type": "code",
   "execution_count": 21,
   "id": "2c089c9e-5b78-4d9b-a87f-b8931b10f98c",
   "metadata": {},
   "outputs": [
    {
     "data": {
      "text/plain": [
       "True"
      ]
     },
     "execution_count": 21,
     "metadata": {},
     "output_type": "execute_result"
    }
   ],
   "source": [
    "100>10"
   ]
  },
  {
   "cell_type": "code",
   "execution_count": 22,
   "id": "2014268e-2b99-4661-b54d-906a48248a26",
   "metadata": {},
   "outputs": [
    {
     "data": {
      "text/plain": [
       "True"
      ]
     },
     "execution_count": 22,
     "metadata": {},
     "output_type": "execute_result"
    }
   ],
   "source": [
    "10<100"
   ]
  },
  {
   "cell_type": "code",
   "execution_count": 23,
   "id": "0ceae583-55e2-4e2e-8669-4819a0be5b82",
   "metadata": {},
   "outputs": [
    {
     "data": {
      "text/plain": [
       "False"
      ]
     },
     "execution_count": 23,
     "metadata": {},
     "output_type": "execute_result"
    }
   ],
   "source": [
    "10>100"
   ]
  },
  {
   "cell_type": "code",
   "execution_count": 24,
   "id": "0b5e609c-808f-442e-bc50-a68f87847a8a",
   "metadata": {},
   "outputs": [
    {
     "name": "stdout",
     "output_type": "stream",
     "text": [
      "hello\n"
     ]
    }
   ],
   "source": [
    "if True:\n",
    "    print('hello')"
   ]
  },
  {
   "cell_type": "code",
   "execution_count": 25,
   "id": "95d13923-ec2f-4b19-9cce-5bc0a9117dbb",
   "metadata": {},
   "outputs": [],
   "source": [
    "if False :  # condition is False do not ans are excuted \n",
    "    print('hello')"
   ]
  },
  {
   "cell_type": "code",
   "execution_count": 26,
   "id": "1f3a80c1-1284-4d47-a5b1-f53af049a0a5",
   "metadata": {},
   "outputs": [
    {
     "name": "stdout",
     "output_type": "stream",
     "text": [
      "hello\n"
     ]
    }
   ],
   "source": [
    "if bool(200):\n",
    "    print('hello')"
   ]
  },
  {
   "cell_type": "code",
   "execution_count": 27,
   "id": "26187584-100e-40d0-947b-2ddc8277fed2",
   "metadata": {},
   "outputs": [
    {
     "name": "stdout",
     "output_type": "stream",
     "text": [
      "hello\n",
      "hello\n",
      "hello\n"
     ]
    }
   ],
   "source": [
    "if bool(200):\n",
    "    print('hello')\n",
    "\n",
    "if True:\n",
    "    print('hello')\n",
    "\n",
    "if 100>10:\n",
    "    print('hello')"
   ]
  },
  {
   "cell_type": "code",
   "execution_count": 30,
   "id": "217ec9e7-8f91-4eca-b873-d9cd09e2c5fa",
   "metadata": {},
   "outputs": [
    {
     "name": "stdout",
     "output_type": "stream",
     "text": [
      "hello\n",
      "hey\n",
      "hy i am with condition bye\n",
      "bye\n",
      "hy i am without condition bye\n"
     ]
    }
   ],
   "source": [
    "if 100>10:\n",
    "    print('hello')\n",
    "    print('hey')\n",
    "    print('hy i am with condition bye')\n",
    "#####################################################\n",
    "print('bye')\n",
    "print('hy i am without condition bye')"
   ]
  },
  {
   "cell_type": "code",
   "execution_count": 4,
   "id": "8c239eca-226e-4a54-9460-ca9480d151f8",
   "metadata": {},
   "outputs": [
    {
     "name": "stdout",
     "output_type": "stream",
     "text": [
      "1\n",
      "2\n",
      "bye\n",
      "hy i am without condition bye\n"
     ]
    }
   ],
   "source": [
    "print(1)\n",
    "print(2)\n",
    "##############################################\n",
    "if 100<10:\n",
    "    print('hello')\n",
    "    print('hey')\n",
    "    print('hy i am with condition bye')\n",
    "#####################################################\n",
    "print('bye')\n",
    "print('hy i am without condition bye')"
   ]
  },
  {
   "cell_type": "code",
   "execution_count": null,
   "id": "b091821a-f157-4f03-b159-ceb8c8bb0f72",
   "metadata": {},
   "outputs": [],
   "source": [
    "if <con>:\n",
    "    print(write our code here>"
   ]
  },
  {
   "cell_type": "markdown",
   "id": "669d61e7-c13a-41eb-b58f-dc636885d3be",
   "metadata": {},
   "source": [
    "**case-2: if-else**"
   ]
  },
  {
   "cell_type": "markdown",
   "id": "a7df9d53-316a-4a6c-8307-a247a40c8e35",
   "metadata": {},
   "source": [
    "- if condition is True then if statement will execute\n",
    "- if condition is False then else statement will execute\n",
    "- one condition two outputs\n",
    "- if need condition but not else \n"
   ]
  },
  {
   "cell_type": "code",
   "execution_count": null,
   "id": "52385e33-612f-4cae-8c21-d23bf1c48a69",
   "metadata": {},
   "outputs": [],
   "source": [
    "#syntax \n",
    "if <condition>:\n",
    "    <write your code here>\n",
    "else:\n",
    "    <write yourcode here>"
   ]
  },
  {
   "cell_type": "code",
   "execution_count": 1,
   "id": "97e12e20-f086-4e9a-b356-f5c2200eb6e9",
   "metadata": {},
   "outputs": [
    {
     "name": "stdout",
     "output_type": "stream",
     "text": [
      "hello\n"
     ]
    }
   ],
   "source": [
    "print('hello')"
   ]
  },
  {
   "cell_type": "code",
   "execution_count": 2,
   "id": "6b776fd2-a751-4830-8ed6-d175d2694de6",
   "metadata": {},
   "outputs": [
    {
     "ename": "SyntaxError",
     "evalue": "invalid syntax (136164910.py, line 1)",
     "output_type": "error",
     "traceback": [
      "\u001b[1;36m  Cell \u001b[1;32mIn[2], line 1\u001b[1;36m\u001b[0m\n\u001b[1;33m    friend='yes':\u001b[0m\n\u001b[1;37m                ^\u001b[0m\n\u001b[1;31mSyntaxError\u001b[0m\u001b[1;31m:\u001b[0m invalid syntax\n"
     ]
    }
   ],
   "source": [
    "friend='yes':\n",
    "if friend=='yes':\n",
    "    print('hello')\n",
    "\n"
   ]
  },
  {
   "cell_type": "code",
   "execution_count": 3,
   "id": "bffb2f9e-e0af-42b1-aff3-ad077b036411",
   "metadata": {},
   "outputs": [
    {
     "name": "stdout",
     "output_type": "stream",
     "text": [
      "postive number\n"
     ]
    }
   ],
   "source": [
    "if 100>0:\n",
    "    print('postive number')\n",
    "else: \n",
    "    print('negtaive number')"
   ]
  },
  {
   "cell_type": "code",
   "execution_count": 4,
   "id": "3ab6207c-9b9f-464f-a6ca-6f8348ac3060",
   "metadata": {},
   "outputs": [
    {
     "name": "stdin",
     "output_type": "stream",
     "text": [
      "enter the number: 45\n"
     ]
    },
    {
     "name": "stdout",
     "output_type": "stream",
     "text": [
      "postive number\n"
     ]
    }
   ],
   "source": [
    "n=eval(input(\"enter the number:\"))\n",
    "if n>0:\n",
    "    print('postive number')\n",
    "else: \n",
    "    print('negtaive number')"
   ]
  },
  {
   "cell_type": "code",
   "execution_count": 5,
   "id": "16991c98-2714-44ca-9c0d-24042349a3e6",
   "metadata": {},
   "outputs": [
    {
     "name": "stdin",
     "output_type": "stream",
     "text": [
      "enter the number: -100\n"
     ]
    },
    {
     "name": "stdout",
     "output_type": "stream",
     "text": [
      "negtaive number\n"
     ]
    }
   ],
   "source": [
    "n=eval(input('enter the number:'))\n",
    "if n>0:\n",
    "    print('postive number')\n",
    "else: \n",
    "    print('negtaive number')"
   ]
  },
  {
   "cell_type": "code",
   "execution_count": 13,
   "id": "fb1cdb8a-1663-4355-ad8e-d40c6bf8d4a2",
   "metadata": {},
   "outputs": [
    {
     "name": "stdout",
     "output_type": "stream",
     "text": [
      " -49 is a negtaive number\n"
     ]
    }
   ],
   "source": [
    "import random \n",
    "n=random.randint(-100,200)\n",
    "if n>0:\n",
    "    print(f'{n} is a postive number')\n",
    "else: \n",
    "    print(f' {n} is a negtaive number')"
   ]
  },
  {
   "cell_type": "code",
   "execution_count": 1,
   "id": "b27dc0cd-e1e2-487f-8024-a4fae7adf564",
   "metadata": {},
   "outputs": [
    {
     "name": "stdout",
     "output_type": "stream",
     "text": [
      "postive number\n",
      "==========================================\n"
     ]
    },
    {
     "name": "stdin",
     "output_type": "stream",
     "text": [
      "enter the number: 45\n"
     ]
    },
    {
     "name": "stdout",
     "output_type": "stream",
     "text": [
      "postive number\n",
      "=============================================\n",
      "168 is a postive number\n"
     ]
    }
   ],
   "source": [
    "\n",
    "if 100>0:\n",
    "    print('postive number')\n",
    "else: \n",
    "    print('negtaive number')\n",
    "\n",
    "print(\"==========================================\")\n",
    "\n",
    "n=eval(input('enter the number:'))\n",
    "if n>0:\n",
    "    print('postive number')\n",
    "else: \n",
    "    print('negtaive number')\n",
    "\n",
    "print(\"=============================================\")\n",
    "import random \n",
    "n=random.randint(100,200)\n",
    "if n>0:\n",
    "    print(f'{n} is a postive number')\n",
    "else: \n",
    "    print(f' {n} is a negtaive number')"
   ]
  },
  {
   "cell_type": "code",
   "execution_count": 16,
   "id": "f221d3ca-d67b-48bf-ba2d-b70c01337213",
   "metadata": {},
   "outputs": [
    {
     "name": "stdout",
     "output_type": "stream",
     "text": [
      "hello\n",
      "postive number\n",
      "condition is True\n"
     ]
    }
   ],
   "source": [
    "print('hello')\n",
    "if 100>0:  # if condition is True\n",
    "    print('postive number')\n",
    "    print('condition is True')\n",
    "else:\n",
    "    print('negtaive number')\n",
    "    print('condition is False')"
   ]
  },
  {
   "cell_type": "code",
   "execution_count": 17,
   "id": "fec4e85f-4831-4b41-9060-31bc0e7cb0fc",
   "metadata": {},
   "outputs": [
    {
     "name": "stdout",
     "output_type": "stream",
     "text": [
      "hello\n",
      "negtaive number\n",
      "condition is False\n"
     ]
    }
   ],
   "source": [
    "print('hello')\n",
    "if 100<0:   # if condition  False\n",
    "    print('postive number')\n",
    "    print('condition is True')\n",
    "else:\n",
    "    print('negtaive number')\n",
    "    print('condition is False')"
   ]
  },
  {
   "cell_type": "code",
   "execution_count": 27,
   "id": "93657fe6-2209-4e42-8b3c-10f9d6b5fc0c",
   "metadata": {},
   "outputs": [
    {
     "name": "stdout",
     "output_type": "stream",
     "text": [
      "hello\n",
      "================================================\n",
      "postive number\n",
      "condition is True\n",
      "why you are in middile\n",
      "===============================================\n",
      "bye\n"
     ]
    }
   ],
   "source": [
    "print('hello')\n",
    "print(\"================================================\")\n",
    "if 100>0:\n",
    "    print('postive number')\n",
    "    print('condition is True')\n",
    "    print('why you are in middile')\n",
    "else:\n",
    "    print('negtaive number')\n",
    "    print('condition is False')\n",
    "print(\"===============================================\")\n",
    "print('bye')\n"
   ]
  },
  {
   "cell_type": "code",
   "execution_count": 28,
   "id": "3a238b13-6ce5-4bd7-b5f0-b63d4968022c",
   "metadata": {},
   "outputs": [
    {
     "ename": "SyntaxError",
     "evalue": "invalid syntax (3676834627.py, line 6)",
     "output_type": "error",
     "traceback": [
      "\u001b[1;36m  Cell \u001b[1;32mIn[28], line 6\u001b[1;36m\u001b[0m\n\u001b[1;33m    else:\u001b[0m\n\u001b[1;37m    ^\u001b[0m\n\u001b[1;31mSyntaxError\u001b[0m\u001b[1;31m:\u001b[0m invalid syntax\n"
     ]
    }
   ],
   "source": [
    "print('hello')\n",
    "if 100>0:\n",
    "    print('postive number')\n",
    "    print('condition is True')\n",
    "print('why you are in middile')  # starting line print is not line by line error are genreated\n",
    "else:\n",
    "    print('negtaive number')\n",
    "    print('condition is False')\n",
    "print('bye')\n",
    "\n",
    "# if-else  should come together "
   ]
  },
  {
   "cell_type": "code",
   "execution_count": 3,
   "id": "362b8ece-7fea-49a0-a24e-bb62752e0389",
   "metadata": {},
   "outputs": [
    {
     "name": "stdin",
     "output_type": "stream",
     "text": [
      "enter n1: 45\n",
      "enter n2: 56\n"
     ]
    },
    {
     "name": "stdout",
     "output_type": "stream",
     "text": [
      "45 is  the greatest number\n"
     ]
    }
   ],
   "source": [
    "#Q1) wap ask the user enter two numbers\n",
    "# find the greatest number\n",
    "\n",
    "# idea\n",
    "# n1= eval(input())\n",
    "# n2=eval(input())\n",
    "# if <cond>:\n",
    "#    print()\n",
    "# else:\n",
    "#   print()\n",
    "\n",
    "n1= eval(input('enter n1:'))\n",
    "n2=eval(input('enter n2:'))\n",
    "if n1<n2:\n",
    "    print(f\"{n1} is  the greatest number\")\n",
    "else:\n",
    "    print(f\"{n2} is the not greatest number\")\n"
   ]
  },
  {
   "cell_type": "code",
   "execution_count": 4,
   "id": "de5b716c-94b2-4224-8767-b932a3a616c5",
   "metadata": {},
   "outputs": [
    {
     "name": "stdout",
     "output_type": "stream",
     "text": [
      "n2:110 is the not greatest number\n"
     ]
    }
   ],
   "source": [
    "n1= random.randint(100,200)\n",
    "n2=random.randint(100,200)\n",
    "if n1<n2:\n",
    "    print(f'n1:{n1} is  the greatest number')\n",
    "else:\n",
    "    print(f'n2:{n2} is the not greatest number')"
   ]
  },
  {
   "cell_type": "code",
   "execution_count": 5,
   "id": "8a769a7e-36db-4894-b60a-3351d2b02c88",
   "metadata": {},
   "outputs": [
    {
     "name": "stdin",
     "output_type": "stream",
     "text": [
      "enter the distance: 45\n",
      "enter the charge par km: 10\n"
     ]
    },
    {
     "name": "stdout",
     "output_type": "stream",
     "text": [
      "the total charge is: 450\n"
     ]
    }
   ],
   "source": [
    "#Q2) wap ask the user enter distance\n",
    "# if distance greater than 25km \n",
    "# then ask the charge per km\n",
    "# then calculate total charge\n",
    "# otherwise print free ride\n",
    "\n",
    "# step-1: enter the distance\n",
    "# step-2: if distance>25\n",
    "# step-3:    ask the charge per km\n",
    "# step-4:    calculate the total charge\n",
    "# step-5: else\n",
    "# step-6:    free ride\n",
    "\n",
    "\n",
    "n=eval(input(\"enter the distance:\"))\n",
    "if n>25:\n",
    "    charge=eval(input(\"enter the charge par km:\"))\n",
    "    total_charge=n*charge\n",
    "    print(\"the total charge is:\",total_charge)\n",
    "else:\n",
    "    print(\"free ride\")"
   ]
  },
  {
   "cell_type": "code",
   "execution_count": 12,
   "id": "3a84c24b-16cc-4777-a675-334437bba2f6",
   "metadata": {},
   "outputs": [
    {
     "name": "stdin",
     "output_type": "stream",
     "text": [
      "enter the distance: 45\n",
      "enter the charge par km: 2\n"
     ]
    },
    {
     "name": "stdout",
     "output_type": "stream",
     "text": [
      "total charge is 90\n",
      "total charge is: 90\n"
     ]
    }
   ],
   "source": [
    "## Q2) wap ask the user enter distance\n",
    "# if distance greater than 25km \n",
    "# then ask the charge per km\n",
    "# then calculate total charge\n",
    "# otherwise print free ride\n",
    "import time\n",
    "distance=eval(input(\"enter the distance:\"))\n",
    "if  distance>25:\n",
    "    charge=eval(input(\"enter the charge par km:\"))\n",
    "    total_charge=distance*charge\n",
    "    print(f\"total charge is {total_charge}\")\n",
    "    time.sleep(4)\n",
    "    print(\"total charge is:\",total_charge)\n",
    "else:\n",
    "    print(\"free ride\")\n"
   ]
  },
  {
   "cell_type": "code",
   "execution_count": 2,
   "id": "65049e33-860f-41b5-8244-4ba0769ea515",
   "metadata": {},
   "outputs": [
    {
     "name": "stdin",
     "output_type": "stream",
     "text": [
      "enter the distance: 45\n",
      "enter the govt free distance in km: 25\n"
     ]
    },
    {
     "name": "stdout",
     "output_type": "stream",
     "text": [
      "the total charge is: 200\n",
      "the total charge is:200 INR\n"
     ]
    }
   ],
   "source": [
    "#Q3) wap ask the user enter distance : 50km\n",
    "#    enter the free_distance (assume that 25km)\n",
    "# if distance greater than free distance \n",
    "   # then ask the charge per km: 10rs\n",
    "   # distance_covered=distance-free_distance : 50-25=25km\n",
    "   # then calculate total charge \n",
    "# otherwise print free ride\n",
    "\n",
    "# step-1: enter the distance\n",
    "# step-2: enter the free_distance\n",
    "# step-3: if distance>free_distance\n",
    "# step-4:    ask the charge per km\n",
    "# step-5:    actual_distance= distance-free_distance\n",
    "# step-5:    calculate the total charge on actual distance\n",
    "# step-6: else\n",
    "# step-7:    free ride\n",
    "import time\n",
    "\n",
    "travel_distance=eval(input(\"enter the distance:\"))\n",
    "free_distance=eval(input(\"enter the govt free distance in km:\"))\n",
    "if travel_distance>free_distance:\n",
    "    charge=travel_distance-free_distance\n",
    "    total_charge=10*charge\n",
    "    print(\"the total charge is:\",total_charge)\n",
    "    time.sleep(4)\n",
    "    print(f\"the total charge is:{total_charge} INR\")\n",
    "else:\n",
    "    print(\"free ride\")"
   ]
  },
  {
   "cell_type": "code",
   "execution_count": 4,
   "id": "98388206-eb7a-4394-8cb9-6dd7f682abfa",
   "metadata": {},
   "outputs": [
    {
     "name": "stdout",
     "output_type": "stream",
     "text": [
      "2\n"
     ]
    },
    {
     "name": "stdin",
     "output_type": "stream",
     "text": [
      "enter the number between 1 to 10: 5\n"
     ]
    },
    {
     "name": "stdout",
     "output_type": "stream",
     "text": [
      "lucky lost : you lost better luck next time\n"
     ]
    }
   ],
   "source": [
    "#Q4) wap ask the user enter a number from keyboard n1\n",
    "# ask the user get a random number between 1,10  n2\n",
    "# if n1 equal to n2 print you won\n",
    "# otherwise print you lost\n",
    "\n",
    "# step-1:  n1=eval(input)\n",
    "# step-2: n2=random.randint\n",
    "# step-3: if n1==n2\n",
    "# step-4:    print lucky won\n",
    "# step-5: else:\n",
    "# step-6:   print double lucky lost\n",
    "\n",
    "import random\n",
    "n1=random.randint(1,10)\n",
    "print(n1)\n",
    "n2=eval(input(\"enter the number between 1 to 10:\"))\n",
    "if n1==n2:\n",
    "    print(\"lucky: you won\")\n",
    "\n",
    "else:\n",
    "    print(\"lucky lost : you lost better luck next time\")"
   ]
  },
  {
   "cell_type": "code",
   "execution_count": 30,
   "id": "834d78d6-e0f0-4d8d-a5eb-ed9c0154040c",
   "metadata": {},
   "outputs": [
    {
     "name": "stdin",
     "output_type": "stream",
     "text": [
      "enter the course name: Data Science\n",
      "enter the inst name: Naresh IT\n"
     ]
    },
    {
     "name": "stdout",
     "output_type": "stream",
     "text": [
      "you are safe place\n"
     ]
    }
   ],
   "source": [
    "# Q5)\n",
    "# Course name= Data science\n",
    "# Insti name = Naresh It\n",
    "\n",
    "# Ask the user enter course_name\n",
    "#         user enter inst_name\n",
    "# if course_name equal to data_science and inst_name naresh_it\n",
    "# then print you are at safe place\n",
    "# otherwise\n",
    "# print katam zindagi\n",
    "\n",
    "# step-1: course_name=input()\n",
    "# step-2: inst_name=input()\n",
    "# step-3: if course_name=='data_science' &(and) inst_name=='naresh_it':\n",
    "# step-4:    print('you are at safe place')\n",
    "# step-5: else:\n",
    "# step-6:   print('katam zindagi')\n",
    "\n",
    "course_name=input(\"enter the course name:\")\n",
    "inst_name=input(\"enter the inst name:\")\n",
    "if course_name=='Data Science' and inst_name=='Naresh IT':\n",
    "    print('you are safe place')\n",
    "\n",
    "else:\n",
    "    print('katam zindagi')"
   ]
  },
  {
   "cell_type": "code",
   "execution_count": 62,
   "id": "ce8d4259-982a-494a-9eae-f9ee83d521fd",
   "metadata": {},
   "outputs": [
    {
     "name": "stdin",
     "output_type": "stream",
     "text": [
      "enter the course name: Naresh IT\n",
      "enter the inst name: Abhay\n"
     ]
    },
    {
     "name": "stdout",
     "output_type": "stream",
     "text": [
      "katam zindagi\n"
     ]
    }
   ],
   "source": [
    "# Q5)\n",
    "# Course name= Data science\n",
    "# Insti name = Naresh It\n",
    "\n",
    "# Ask the user enter course_name\n",
    "#         user enter inst_name\n",
    "# if course_name equal to data_science and inst_name naresh_it\n",
    "# then print you are at safe place\n",
    "# otherwise\n",
    "# print katam zindagi\n",
    "\n",
    "course_name=input(\"enter the course name:\")\n",
    "inst_name=input(\"enter the inst name:\")\n",
    "if course_name=='Data Sicence' or inst_name=='Naresh IT':\n",
    "    print('you are safe place')\n",
    "\n",
    "else:\n",
    "    print('katam zindagi')"
   ]
  },
  {
   "cell_type": "code",
   "execution_count": 33,
   "id": "3d00b5a2-9da9-4605-a782-0a26e982a90f",
   "metadata": {},
   "outputs": [
    {
     "data": {
      "text/plain": [
       "2"
      ]
     },
     "execution_count": 33,
     "metadata": {},
     "output_type": "execute_result"
    }
   ],
   "source": [
    "11%3  #reminder"
   ]
  },
  {
   "cell_type": "code",
   "execution_count": 34,
   "id": "7c59daa9-99bc-4e54-baea-3aab3831239c",
   "metadata": {},
   "outputs": [
    {
     "data": {
      "text/plain": [
       "3.6666666666666665"
      ]
     },
     "execution_count": 34,
     "metadata": {},
     "output_type": "execute_result"
    }
   ],
   "source": [
    "11/3  # normal division"
   ]
  },
  {
   "cell_type": "code",
   "execution_count": 35,
   "id": "cc2ae9d0-f28f-4f4a-abdf-97775510b640",
   "metadata": {},
   "outputs": [
    {
     "data": {
      "text/plain": [
       "3"
      ]
     },
     "execution_count": 35,
     "metadata": {},
     "output_type": "execute_result"
    }
   ],
   "source": [
    "11//3 #advance "
   ]
  },
  {
   "cell_type": "code",
   "execution_count": 32,
   "id": "4bbc3ab8-e4c5-4b8e-a3c3-068c89fa3501",
   "metadata": {},
   "outputs": [
    {
     "name": "stdin",
     "output_type": "stream",
     "text": [
      "enter number : 4\n"
     ]
    },
    {
     "name": "stdout",
     "output_type": "stream",
     "text": [
      "4 is an even\n"
     ]
    }
   ],
   "source": [
    "# Q6) even-odd \n",
    "# ask the user enter a number\n",
    "# print if it is even number or odd number\n",
    "\n",
    "# idea: if any number divide by 2 then it gives \n",
    "# the reminder equal to zero then it is even number\n",
    "num=eval(input(\"enter number :\"))\n",
    "if num%2==0:\n",
    "    print(f\"{num} is an even\")\n",
    "\n",
    "else:\n",
    "    print(f\"{num} is an odd\")\n",
    " "
   ]
  },
  {
   "cell_type": "markdown",
   "id": "d69285d0-ad83-49a7-9fbc-bf53b8da000f",
   "metadata": {},
   "source": [
    "* **if-elif-else**"
   ]
  },
  {
   "cell_type": "markdown",
   "id": "4725c4d7-a860-462f-8818-b29ba0c6bdb3",
   "metadata": {},
   "source": [
    "**if-elif-else**\n",
    "\n",
    "- whenever we have multiple condition we will do **if-elif-else**\n",
    "- if single condition is there we willl go if-else\n",
    "  - two answers\n",
    " - if needs condition then else does not require any condition\n",
    "- if two condition are there we will go if-elif-else\n",
    "  - three answers\n",
    " - if and elif need condition else does not require any condition\n",
    " - if three condition are there we will go if-elif-else\n",
    "   - four answers\n",
    "  - if elif and elif need condition and else does not require any condition"
   ]
  },
  {
   "cell_type": "code",
   "execution_count": null,
   "id": "e0059e5b-6314-47f1-9d5f-f18f52870cc6",
   "metadata": {},
   "outputs": [],
   "source": [
    "if <condition>:\n",
    "    <write your code here>\n",
    "\n",
    "elif <condition>:\n",
    "    <write your code here>\n",
    "\n",
    "elif <condition>:else:\n",
    "        <write your code here>\n",
    "else:\n",
    "    <write your code here>\n",
    "\n",
    "    "
   ]
  },
  {
   "cell_type": "code",
   "execution_count": 3,
   "id": "03614c0e-6b83-49dd-988c-2961a5cb5ed9",
   "metadata": {},
   "outputs": [
    {
     "name": "stdin",
     "output_type": "stream",
     "text": [
      "enter the number: 1\n"
     ]
    },
    {
     "name": "stdout",
     "output_type": "stream",
     "text": [
      "one\n"
     ]
    }
   ],
   "source": [
    "# wap ask the user enter a number\n",
    "# if number equal to one then print one\n",
    "# if number equla to two then print two\n",
    "# if number equla to three then print three\n",
    "# otherwise print enter a valid number\n",
    "\n",
    "# step-1: num=eval()\n",
    "# step-2: if <>:\n",
    "# step-3:    print\n",
    "# step-4: elif <>\n",
    "\n",
    "\n",
    "num=eval(input(\"enter the number:\"))\n",
    "if num==1:\n",
    "    print(\"one\")\n",
    "elif num==2:\n",
    "    print(\"two\")\n",
    "elif num==3:\n",
    "    print(\"three\")\n",
    "else:\n",
    "    print(\" enter a valid number\")\n",
    "    "
   ]
  },
  {
   "cell_type": "code",
   "execution_count": 12,
   "id": "6c876319-a565-4ce5-b11b-64fcc09038fe",
   "metadata": {},
   "outputs": [
    {
     "name": "stdin",
     "output_type": "stream",
     "text": [
      "enter the number: 23\n"
     ]
    },
    {
     "name": "stdout",
     "output_type": "stream",
     "text": [
      "fail: try again exam\n"
     ]
    }
   ],
   "source": [
    "# wap ask the user enter percentage of marks\n",
    "# if marks gretaer tan 90 then print A grade\n",
    "# if marks between 70 to 90 then print B grade\n",
    "# if marks between 50 to 70 then print c grade\n",
    "# if marks between 35 to 50 then print D grade\n",
    "# otherwise print Fail\n",
    "\n",
    "# if marks between 70 to 90 then print B grade\n",
    "# marks should be greater than 70\n",
    "#  per>70\n",
    "# marks should be less than 90\n",
    "#  per<90\n",
    "\n",
    "# mistake-2:per>70 and 90\n",
    "\n",
    "# 70 to 90\n",
    "# 70<per<90\n",
    "\n",
    "marks=eval(input(\"enter the number:\"))\n",
    "if marks>90:\n",
    "    print(\"A gread\")\n",
    "elif marks>70 and marks<=90:  #70<marks<90:\n",
    "    print(\"B gread\")\n",
    "\n",
    "elif marks>50 and marks<=70:  #50<marks<70:\n",
    "    print(\"c gread\")\n",
    "elif marks>35 and marks<=50:  #35<marks<50:\n",
    "    print(\"D gread\")\n",
    "\n",
    "else:\n",
    "    print(\"fail: try again exam\")"
   ]
  },
  {
   "cell_type": "code",
   "execution_count": 22,
   "id": "8a982529-99ab-42be-8512-12ebe52ecd87",
   "metadata": {},
   "outputs": [
    {
     "name": "stdin",
     "output_type": "stream",
     "text": [
      "enter the percentage of marks: 45\n"
     ]
    },
    {
     "name": "stdout",
     "output_type": "stream",
     "text": [
      "D gread\n"
     ]
    }
   ],
   "source": [
    "per=eval(input(\"enter the percentage of marks:\"))\n",
    "if per>=90:\n",
    "    print(\"A gread\")\n",
    "elif per>=70:\n",
    "    print(\"B gread\")\n",
    "elif per>=50:\n",
    "    print(\"C gread\")\n",
    "elif per>=35:\n",
    "    print(\"D gread\")\n",
    "\n",
    "else:\n",
    "    print(\"fail: try again to exam 1 week letter\")"
   ]
  },
  {
   "cell_type": "code",
   "execution_count": 23,
   "id": "01c8ebb5-9846-42ba-a03f-92e778887c47",
   "metadata": {},
   "outputs": [
    {
     "name": "stdin",
     "output_type": "stream",
     "text": [
      "enter the age: 1\n"
     ]
    },
    {
     "name": "stdout",
     "output_type": "stream",
     "text": [
      "kid\n"
     ]
    }
   ],
   "source": [
    "# wap ask the user enter age\n",
    "# if age greater than 100 yaers unlucky\n",
    "# if age between 80 to 100 years old guy\n",
    "# if age between 60 to 80 print ss\n",
    "# if age between 40 to 60 print MA\n",
    "# if age between 20 to 40 print young\n",
    "# if age between 10 to 20 print teenage\n",
    "# otherwise print kid\n",
    "\n",
    "\n",
    "age=eval(input(\"enter the age:\"))\n",
    "if age>=100:\n",
    "    print(\"un lucky\")\n",
    "elif age>=80:\n",
    "    print(\"old guy\")\n",
    "elif age>=60:\n",
    "    print(\"ss\")\n",
    "elif age>=40:\n",
    "    print(\"ma\")\n",
    "elif age>=30:\n",
    "    print(\"young\")\n",
    "elif age>=10:\n",
    "    print(\"teenage\")\n",
    "\n",
    "else:\n",
    "    print(\"kid\")"
   ]
  },
  {
   "cell_type": "code",
   "execution_count": 5,
   "id": "994cf3ef-4c6b-4c43-98c9-1c79cab54bdd",
   "metadata": {},
   "outputs": [
    {
     "name": "stdin",
     "output_type": "stream",
     "text": [
      "enter the gender: polo\n"
     ]
    },
    {
     "name": "stdout",
     "output_type": "stream",
     "text": [
      "enter a valid gender\n"
     ]
    }
   ],
   "source": [
    "# wap ask the user enter gender\n",
    "# if gender equal to male\n",
    "#     ask the user enter age\n",
    "#     if age greater than 60 then print ss\n",
    "#     if age between 30 to 60 then print MA MAN\n",
    "#     if age between 15 to 30 then print young man\n",
    "#     otherwise print boy\n",
    "# if gender equal to female\n",
    "#     ask the user enter age\n",
    "#     if age greater than 60 then print ss\n",
    "#     if age between 30 to 60 then print MA woMAN\n",
    "#     if age between 15 to 30 then print young girl\n",
    "#     otherwise print girl\n",
    "# else:\n",
    "#    print enter a valid gender\n",
    "\n",
    "\n",
    "gender=input(\"enter the gender:\")\n",
    "if gender==\"male\":\n",
    "    age=eval(input(\"enter the age :\"))\n",
    "    if age>=60:\n",
    "        print(\"ss\")\n",
    "    elif age>=30:\n",
    "        print(\"ma man\")\n",
    "    elif age>=15:\n",
    "        print(\"young man\")\n",
    "    else:\n",
    "        print(\"boy\")\n",
    "\n",
    "elif gender==\"female\":\n",
    "    age=eval(input(\"enter the age :\"))\n",
    "    if age>=60:\n",
    "        print(\"ss\")\n",
    "    elif age>=30:\n",
    "        print(\"ma woman\")\n",
    "    elif age>=15:\n",
    "        print(\"young girl\")\n",
    "    else:\n",
    "        print(\"girl\")\n",
    "else:\n",
    "    \n",
    "    print(\"enter a valid gender\")"
   ]
  },
  {
   "cell_type": "code",
   "execution_count": 37,
   "id": "65c9d71f-55ec-411a-9cce-70043bf3f933",
   "metadata": {},
   "outputs": [
    {
     "name": "stdin",
     "output_type": "stream",
     "text": [
      "enter the gender: male\n"
     ]
    },
    {
     "name": "stdout",
     "output_type": "stream",
     "text": [
      "enter a valid gender\n"
     ]
    }
   ],
   "source": [
    "gender=input(\"enter the gender:\")\n",
    "if gender==\"female\":\n",
    "    age=eval(input(\"enter the age :\"))\n",
    "    if age>=60:\n",
    "        print(\"ss\")\n",
    "    elif age>=30:\n",
    "        print(\"ma woman\")\n",
    "    elif age>=15:\n",
    "        print(\"young girl\")\n",
    "    else:\n",
    "        print(\"girl\")\n",
    "else:\n",
    "    \n",
    "    print(\"enter a valid gender\")\n"
   ]
  },
  {
   "cell_type": "code",
   "execution_count": 6,
   "id": "d92b028e-ae7f-4938-bb02-72177c10a5b2",
   "metadata": {},
   "outputs": [
    {
     "name": "stdin",
     "output_type": "stream",
     "text": [
      "enter the number: -45\n"
     ]
    },
    {
     "name": "stdout",
     "output_type": "stream",
     "text": [
      "negative \n"
     ]
    }
   ],
   "source": [
    "# wap ask the user enter a number\n",
    "# if number greater than or equal to zero\n",
    "#     if number>zer0 then print postive\n",
    "#     otherwise print zero\n",
    "# else print negative number\n",
    "\n",
    "num=eval(input(\"enter the number:\"))\n",
    "if num>=0:\n",
    "    if num>0:\n",
    "        print(\"postive\")\n",
    "\n",
    "    else:\n",
    "        print(\"zero\")\n",
    "\n",
    "\n",
    "else:\n",
    "    print(\"negative \")\n",
    "    "
   ]
  },
  {
   "cell_type": "code",
   "execution_count": 2,
   "id": "4c80caa9-633f-4e16-b230-c9824e91c48e",
   "metadata": {},
   "outputs": [
    {
     "name": "stdin",
     "output_type": "stream",
     "text": [
      "enter number between 4\n",
      "enter number 23\n",
      "enter number  5\n"
     ]
    },
    {
     "name": "stdout",
     "output_type": "stream",
     "text": [
      "div num 4.6\n"
     ]
    }
   ],
   "source": [
    "# print some statements like below\n",
    "# enter 1 for addition\n",
    "# enter 2 for subtraction\n",
    "# enter 3 for mult\n",
    "# enter 4 for div\n",
    "\n",
    "# wap ask ther enter number between 1to4: operation\n",
    "# if operation==1\n",
    "#   n1=eval()\n",
    "#   n2= eval()\n",
    "#   add=n1+n2\n",
    "#   print(add)\n",
    "\n",
    "# elif oper==2\n",
    "#     subt\n",
    "# elif oper==3\n",
    "#    mul\n",
    "# elif oper=4\n",
    "#   div\n",
    "# else: enter a valid\n",
    "\n",
    "num=eval(input(\"enter number between\"))\n",
    "if num==1:\n",
    "    n1=eval(input(\"enter number\"))\n",
    "    n2=eval(input(\"enter number \"))\n",
    "    addition=n1+n2\n",
    "    print(\"addtion num\", addition)\n",
    "\n",
    "elif num==2:\n",
    "    n1=eval(input(\"enter number\"))\n",
    "    n2=eval(input(\"enter number \"))\n",
    "    subtraction=n1-n2\n",
    "    print(\"subtraction num\", subtraction)\n",
    "\n",
    "elif num==3:\n",
    "    n1=eval(input(\"enter number\"))\n",
    "    n2=eval(input(\"enter number \"))\n",
    "    mult=n1*n2\n",
    "    print(\"mult num\", mult)\n",
    "\n",
    "elif num==4:\n",
    "    n1=eval(input(\"enter number\"))\n",
    "    n2=eval(input(\"enter number \"))\n",
    "    div=n1/n2\n",
    "    print(\"div num\",div)\n",
    "\n",
    "else:\n",
    "    print(\"enter a vaild num\")\n",
    "    \n",
    "    \n"
   ]
  },
  {
   "cell_type": "code",
   "execution_count": 9,
   "id": "5f823ded-fd58-4104-991b-17ebe6d8abba",
   "metadata": {},
   "outputs": [
    {
     "name": "stdout",
     "output_type": "stream",
     "text": [
      "i is smaller than 15\n",
      "i is smaller than 12 too\n"
     ]
    }
   ],
   "source": [
    "i = 10\n",
    "if (i == 10):\n",
    "  \n",
    "    #  First if statement\n",
    "    if (i < 15):\n",
    "        print(\"i is smaller than 15\")\n",
    "        \n",
    "    # Nested - if statement\n",
    "    # Will only be executed if statement above\n",
    "    # it is true\n",
    "    if (i < 12):\n",
    "        print(\"i is smaller than 12 too\")\n",
    "    else:\n",
    "        print(\"i is greater than 15\")\n",
    "        \n",
    "else:\n",
    "  print(\"i is not equal to 10\")\n"
   ]
  },
  {
   "cell_type": "code",
   "execution_count": 10,
   "id": "5e11460a-54d7-4400-a030-b90fc37abaa1",
   "metadata": {},
   "outputs": [
    {
     "name": "stdout",
     "output_type": "stream",
     "text": [
      "i is not present\n"
     ]
    }
   ],
   "source": [
    "i = 25\n",
    "\n",
    " # Checking if i is equal to 10\n",
    "if (i == 10):\n",
    "    print(\"i is 10\")\n",
    " # Checking if i is equal to 15\n",
    "\n",
    "elif (i == 15):\n",
    "    print(\"i is 15\")\n",
    " # Checking if i is equal to 20\n",
    "\n",
    "elif (i == 20):\n",
    "    print(\"i is 20\")\n",
    "    \n",
    " # If none of the above conditions are true\n",
    "else:\n",
    "    print(\"i is not present\")"
   ]
  },
  {
   "cell_type": "code",
   "execution_count": null,
   "id": "206d9063-5e0c-4a31-99e6-3e500a920594",
   "metadata": {},
   "outputs": [],
   "source": []
  }
 ],
 "metadata": {
  "kernelspec": {
   "display_name": "Python 3 (ipykernel)",
   "language": "python",
   "name": "python3"
  },
  "language_info": {
   "codemirror_mode": {
    "name": "ipython",
    "version": 3
   },
   "file_extension": ".py",
   "mimetype": "text/x-python",
   "name": "python",
   "nbconvert_exporter": "python",
   "pygments_lexer": "ipython3",
   "version": "3.12.7"
  }
 },
 "nbformat": 4,
 "nbformat_minor": 5
}
