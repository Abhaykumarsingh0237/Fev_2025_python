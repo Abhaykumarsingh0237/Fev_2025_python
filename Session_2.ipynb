{
 "cells": [
  {
   "cell_type": "code",
   "execution_count": 7,
   "id": "141d3606-a040-4205-b722-c5fd50325beb",
   "metadata": {},
   "outputs": [
    {
     "data": {
      "text/plain": [
       "'C:\\\\Users\\\\singh\\\\Documents\\\\Naresh IT\\\\Python_sessions'"
      ]
     },
     "execution_count": 7,
     "metadata": {},
     "output_type": "execute_result"
    }
   ],
   "source": [
    "import os \n",
    "os.getcwd()\n",
    "#get current working directory"
   ]
  },
  {
   "cell_type": "code",
   "execution_count": 8,
   "id": "ca2a2e64-8926-4488-93b2-0eed350aa1e8",
   "metadata": {},
   "outputs": [],
   "source": [
    "number1= 100"
   ]
  },
  {
   "cell_type": "code",
   "execution_count": 9,
   "id": "590d4252-20ef-4711-a567-fd869fd679d2",
   "metadata": {},
   "outputs": [
    {
     "data": {
      "text/plain": [
       "100"
      ]
     },
     "execution_count": 9,
     "metadata": {},
     "output_type": "execute_result"
    }
   ],
   "source": [
    "number1"
   ]
  },
  {
   "cell_type": "code",
   "execution_count": 10,
   "id": "4c287e9c-3935-4982-908f-9fd54f5143ca",
   "metadata": {},
   "outputs": [
    {
     "data": {
      "text/plain": [
       "100"
      ]
     },
     "execution_count": 10,
     "metadata": {},
     "output_type": "execute_result"
    }
   ],
   "source": [
    "100"
   ]
  },
  {
   "cell_type": "code",
   "execution_count": 11,
   "id": "c4934f4e-75b6-4e4f-8106-e4339d10ea21",
   "metadata": {},
   "outputs": [],
   "source": [
    "name = \"abhay singh\""
   ]
  },
  {
   "cell_type": "code",
   "execution_count": null,
   "id": "f7bd34f5-b88b-4830-a8de-e1389d5403e5",
   "metadata": {},
   "outputs": [],
   "source": [
    "name"
   ]
  },
  {
   "cell_type": "markdown",
   "id": "21a0f19d-0707-4281-b24f-d216c3cdcd99",
   "metadata": {},
   "source": [
    "hello today im learning python\n",
    "\n",
    "square barcket is there : yes\n",
    "\n",
    "code mode is there : yes\n",
    "\n",
    "if these two are there which indicates this current cell used for to write code only\n",
    "\n",
    "if you write english i will throw error\n",
    "\n",
    "go to top code mode after a drop down symbol is there\n",
    "\n",
    "click on that\n",
    "\n",
    "we can see markdown option\n",
    "\n",
    "select it then we can not see any square bracket"
   ]
  },
  {
   "cell_type": "markdown",
   "id": "e5b1cf12-24cb-414c-a5aa-ce75e9bb3723",
   "metadata": {},
   "source": [
    "# Python "
   ]
  },
  {
   "cell_type": "markdown",
   "id": "5f970014-e9e2-414d-8277-f9a4d0db7acd",
   "metadata": {},
   "source": [
    "# Python` \n",
    "\n",
    "shift+enter\n",
    "\n",
    "- esc+m will change code mode to markdown mode\n",
    "\n",
    "- esc+y will change code mode to markdown mode \n",
    "\n",
    "- shift+enter"
   ]
  },
  {
   "cell_type": "markdown",
   "id": "5d758eeb-1fba-478f-9bea-9337a3538d38",
   "metadata": {},
   "source": [
    "# Python\n",
    "\n",
    "## Python\n",
    "\n",
    "### Python"
   ]
  },
  {
   "cell_type": "markdown",
   "id": "5e62fe2e-cdba-40eb-9f57-420e4a87da5c",
   "metadata": {},
   "source": [
    "- Hi Abhay\n",
    "\n",
    "- How are you\n",
    "\n",
    "- How do you do "
   ]
  },
  {
   "cell_type": "markdown",
   "id": "a1051f8a-748a-4774-9c92-868e491b4450",
   "metadata": {},
   "source": [
    "**now i will show how to upload image**\n",
    "\n",
    "- but this will works for only some people\n",
    "\n",
    "- dont worry"
   ]
  },
  {
   "cell_type": "markdown",
   "id": "57936825-3ae7-45de-bdab-3d5c9956c5e8",
   "metadata": {},
   "source": [
    "<img alt=\"Python Programming Images - Free Download on Freepik\" id=\"dimg_yHdzZ67uD6Xf1e8PkoG3UQ_7\" src=\"data:image/jpeg;base64,/9j/4AAQSkZJRgABAQAAAQABAAD/2wCEAAkGBwgHBgkIBwgKCgkLDRYPDQwMDRsUFRAWIB0iIiAdHx8kKDQsJCYxJx8fLT0tMTU3Ojo6Iys/RD84QzQ5OjcBCgoKDQwNGg8PGjclHyU3Nzc3Nzc3Nzc3Nzc3Nzc3Nzc3Nzc3Nzc3Nzc3Nzc3Nzc3Nzc3Nzc3Nzc3Nzc3Nzc3N//AABEIAIkA4QMBIgACEQEDEQH/xAAcAAABBQEBAQAAAAAAAAAAAAAEAAECAwUGBwj/xABQEAABAwIEAwQGBQUNBAsAAAABAgMRAAQFEiExE0FRBiIyYQcUcYGRoSNCUrHwFTOCwdEWJGJjcnODkqKywuHxNEPS4iY1REVGU1Z0k5TT/8QAGgEAAgMBAQAAAAAAAAAAAAAAAgMAAQQFBv/EACoRAAICAQMEAQMEAwAAAAAAAAABAhEDBBIhBTFBURMicYEyU2GhBiNS/9oADAMBAAIRAxEAPwDxZPj73hoxacNzy2XjqYkSD/rQmlF2LzzbwaZU2EuLCPpASEyRB25GoSMku46hZNSltS4KSCFJ1IkRHT/Tfaim3bNKUIcu7xhc9/vqkajfTynQfHQVahy+Lz9qtq3lpK0LQVExHdMDNuOvs12rRXadoLq9xB5rDmS5eJyrHETKAVQFJOafFpmNQuSvsUJvUWxU012guW2noUXAVLWkAqiCBKTqdNPFr5LD3TcWouB2hvEPNEkIcSrQlPe7xURsFe4bUSDjGC27DdxY4ctHGJ4EQSqFDvZSAqMqt5+6gm8bXY3GQ4c2yoKZLiG1lOZTYIGh6yM3lPWrBXBoOYyu4fbedx8oWp1AWlprulIKJiQcvM66GD1IrNvcWuWblhKHw+16u2XWFwpszCymOWaATGokidKxEJMRPKKklAV0jyq0gXITrinVqcc7y1qKlKO5Ud/nTU+WkBRgsVSFKPx76eKhBbLzQPZTK16/Gn1NIgDePjVkY0E8jXZ4XcuosLFhLpbbUylSuckFUGPxE1x4RG4HwrqrAFVvhwAJPq4095pkHzwKy8xNRq8xFxjJbulYU3lWgiBE7TOo1n40OUYiSR6u3oQDrsSJ69KJYU0hhLjabV5ZHeCrRZKdZ5af5VEoZUh4uIYbXnQAgWSpMJzGNdN9fITsabvaMzUfIMuzxTNl4DQMxq4ga/GhLr120WEXTbbJIJGZwEaRzBjmK1mWklwo9WsSkADMMLcUdzy61jOpZtLpRbdZukkEFRYJAOn1TA6/5TTYZJEWODGUbqJTwFjTwrHONPbr8quZtcTfTmbt2Yie88hOmvVX8E/CrG37EnMXrBqUwpsYcogyRvrrsI8pkcqpd/J7ULbctX3ObYs1ICYSqDuNzlBHv5asWSb7B/BjB37i4tnlNOpbC075YUNp3Bg0k3zumiNfKtBp6zQM7j1k4FrKg36kpUyQeZGXnvO3soVtmyWs8W/DYP1k26jE+Wla8eR+QXggV+vO9EfCnTiD7a8zYyrSZSpMgz1milWWGDfGE/8A1V+X6vuoZ22s0qUGrzMkbEsqGbug6e8ke6mvK3wFHDFEvyvfLXbpLqQhnuNjKO4nNMDrrrrWZj6iu7SpRzKKVSTpP0i5JHWrhAUknkRVGMELfaUnVJbME7/nF70trkfFJGZFKpxTVdFgkbedSaXwn0OEqTkWDmQYI15dDTH6vlTpGVzMNTOw1rzY01UJwZbAXcuYo26rid8BK0qPT569ZgxM1qrf7ONJKcOusZCnEhGRlRSq47+xmQN9I5g0LhOGYne2j1zaWdsWyy4OISUlyIBSEgwFajkNtT11hgXaVl7jFq0S62qFfTrnVSTsFTufbpHQVA1VGal7s27bIRdXOJuKySULcJLa8qpAMRAIR+No8Lsggg+sYq5Ch3ClIkTBJIExHv0qnFcFxKyatvXFsJSs8FAJywEpCpK1AJ1zfa1MxpFKw7PXN20y4m7s20rgd9S5BzERtlOqdwY1HUVYPJSRgja3Qg3jqBbrCFLIADuTu6ADQKI/zofEDbLv7ldmn978RRbjQZfKeW8TWmOzLuRtTmJYclRBMcU7d3n1OcwOcab0w7PMlKijHMJzJOVQL8CcubQ9NhO0z0ogXZimkMtE31si2ulNtPtvJSEHiCOaQqNCRImNCdqoy1YJHIj7X9mnCEmNTr1FTLZK0ttpKlqICUpEkk7AD31612R9GNvbsNXfaJJfulDMm0Qo5G+mYjxEfAba0RDyJAzLyJBKvsga/Cik4deK/wCx3Z9lur9lfRDdpaWDHDsbdq2a+wyhKB8hQl04TzPvNMjhbEyy0fPq7S4Z/OMPJ/lNkffXSWZhiw00DInfqa9FulqHP8e+sS8bbcUFuNoUobFSdR76fHTtOzPLU3wYDJS0gEpUsHdLbihsTvp+JqxBbUlTm0kEZrgjXJvMe0fKriTbuN5JDSPqojNvO5/GlXW18hAc9aReFxt0JWpDiYA5DrMZvKaGcGiL6yphQS6t3ipUnJOX19xPP7QHQ/LrWXdW6C+RZuMoQtOXLxc0DuzqRzKvkela7HHvkuNOMKeZlOVIfCFDu7HXp+zyEW8JLlw/b/kwqUgAkG7SnLJMSc2uqTtGg85qY3QUfRgu2BQmV3Vslf2c+ZXhzfVBGoEe00msPKrxq1XcMtl1wICy5KPEUzI2AjnRv5HvGXX0PW+YsRxPpUQJTIg5tdOnPSiXMBvUDMrD28qihKUi4QTKiABAV5j4+RrTvSfcaYCdTziJ2qwezlNHuW0ttuMWJQE5nFlTwVmTIO3Lp760l9n7peT1ezYTnSSkKvUKHLXcQdec1phkRFyYG+4qJFaSsFxFCnkqt2xwSAs8duJIBgHNr4htUv3P4mpIUlhsgxEXDZOu2mamPNjXkKKZkb7ULiGvA/mv8a6LeHDeUg6FJIIO4oW//wBx/Nf411YSA4pUqVQsEirbRtDl2wlzLw1uJSrMrKCkkTryHnVZrZtkYjbXFtcJtWlqtyAkuZFjuKJPP27GdN+deaGxjYJbpwoXbjb9y/wUlwNlKJznUI6xJyk6RE1svu9lmVtJdTibqEOOZ7Z10/RjONNcupGY6Hca9a01XeMqsnUpssOSrhP8Z5ZUAvKlIVl2yq0mSdTrKdKz2bvGULucWHqwU+px4lLfF7yVJJOYEkJ0GpUQPfVBPgEH7nLdKE3eHYkkLSlQXolS+6QcveAyE5SDqTrUWrvsygJUcJuFLKphSiUlObnCxrl+em2tK6vL66CXnL1sLADf0WUIgbAkGB4tNDtWW7vKXipcy4SkeKeRB19tEgNwYq8wxq6t3LXDBw0FCnA8pSiSD3oGYpgjqDuaGv3UXNznRnKQ02jMvxKKUJSTz3IPOh1GNc2lOkpOxqeSrHGoToBHIUtvq0405H2RSO8UZR2Horsmrvtoy46ARbMuXCdPrCEg+4qkeYFH+l7GMTT2hGHt3LzNo1boWlDSykOEzKjG+umvTlrQ3ofP/S13/wBiv++ivU8cwPC8dQhOK2aH+H4FSUqTqNARqPjv7KJLjgps5D0WYtfYhg121iD7twm2dCWnHVZlQRJSSekTvzjaBXTXKqutbKzwqyRaYdbpt2U+FLfMncnqfMydN6Eule34VqxKlyZMzt8GZdGsi5Nad0qsm4Na4mJ8Mzris9xhxu2UtTR4KnBkWUnXQ7Hajrg1lXTiuIpIUqB3gkkkUGX9I/C+6NrC20OpcUbdpR/J68qF2pczEKjugfW08XWg7lhabMqdsgEFJBUbFSMh20VtI22ofDn3EuKQ2XUqVACkLKMonUQNwdPhNVm8edeyurcWyVatF5WU8+vXWaVg+lsfFNE7m24rCEtMBBSe7w7dQK+s/KhFWVzbS4u2uGgk6rW2QE+8/fWizwYU4pLORBkNruVpKtNwQOsdKvebbdUfprUIJScirt1Wg3Go1mtLl5L3MwhA32jekYiQAOQitG6RasLWos2ziAEgJafcIJ56nXlr7dKHeftoC0YepsBUKl5RB0On6/dRrIn4CUgYwEgEgwT8fxz8qgTlUCnSNjEH21a++w4n6K3LTneP50q00jcctfjQ5CspVGgSFe6Yn503cmuRkbEVxI5EzptQ18Z4H80f76qmVVTdnRg/xR/vqqrCKNaVNTVVllRFFWy0OJW3dvONoQklsAaZvOB5n4nahoqWoXIKkkbFOse6vPNBKTiw19qwUc7a3nEpSSFnNxFHrtGXXyOvsp5w6Vi2tXnZTl7xnvFSYIjb62se6tG0YxTEF3VzYWmWxW4+6nMiUjRRy6c+QERMdaO/I2OF8OevWturilJSpa28qkLShJEiTJyqGvOhobaZjIs8qbd1zCLpQKC7AWRnSF5ZMhWk93lJPOrLlh65DKWMFLQzLyidSCoqCdkkwNNZjyFaOK4fcMr4l/j1kl9AJ+hbCVKBcC5ASAVd7vDoQdpmsxq5bceaHr9w22srLhS4QW0gmCANJgba+XWiAVFTeCX63GWUtN53TAzOJ0AIBzCZEZhTuYTetFlD/CZQ+R31rygHoZ10jlQQfeU3kW+4U805zGm2lbvZLCRjuIpTdFxdowMzuZXiJ2SOkwJPRNXGLbA3RCcK7E4ji1vxbN1ktGAHVkpbUJUDBgk6pGwjXetlPotuCJcxhlKuibYqHxzCu7Q+httKEAJSkQkJGgHIDoKkbnzrUsPszvN6OHa9Gl1brLjHaHhLIgqbtSDHSc+1SV2ExIb9p3v/AIl//pXZquvOh3Lnzo1hiBLPI449i71uc+PuLn+KVp7O/QznZG5Hixpw/wBB/wA1de9cTsaBee86bHBH0IlqJezFwrCV4U844q9cuM6YykEDeeupq99c1a8750A85NPjHaqEtuTspfVVnZzAF9pcZcsG7pFsUW5d4im88wUiIkfa+VCurrqvRST+6a4+iGUWSgXJM+NHd6fKsuum4YHJeDVpYXkSYc16LbhgqKcVYcCkxCrbLHzNcni3Y7GsEcQ7fWodt0mS/bOZkJ9ugKfeAK93JqJjLEAzodN/bXn8fU80XcuUdd6aDXB8+NrYcyBxxOcIkq9cCBvIiQeYHv1p0PM5XAu4QlYUoAm7AkSQOWvuj3V1PpK7MerXlteWDeW0USjhNIbQhle46b6n3R0FcSLN0uQ0lwhRVMcONNN5gfdXocOox58amjnzhsltZoOXqLPKoP58wnK1dpXHtIAOunwNBLxdSW3EsruULWSc3E1mCNdB5e75MrDAygcZi4zLUnLlebjKSB1JnxR00rJeW3nPBzZD4Mx199PgolqKNB3Gb7iuFi8uUNrVMZ9Y5TEAkADX7qFu8QuroAXVw88BtnWT+Nzr5nrQpVValU20GkOpVQuTKWB/FH++qoqVValFUTyEULkEiM09Rp6rcXQqm2kuLOi1oBleQa5edXAMJZYKu85nVxUgnw92Pf4vlRd+LVsfQ2igCJzLc17yRGxMjn8K4zZFG+Q9xjAMty7aetrSricJIStSEQJBPhUe6CTruOg1HWjC3krYwy0u0BxQClOtJJSCpvKSorhP1xICdFgGk1d3DNuULRaAZyZKApIKkFJGhyg5YERPXlQ7l9cKayvXQc0ICVJSsgECe8Z+yB+iPZVUXvBVLbDYQyxlQsSC73l78jA00jbrvVStd0j3Gim27u+LfDZccSgBtstoJjy05zJ9pqSMKxBzLFq4krVkSFjJmV3tBMSe6fhRIB2BhPKK9A7EJFrg6nAQC86pZHkO6B8vnXIu4Ne25+nQ2gEEhRcEQkAqO892RXU4IpLWFWzaVZglBObrJpuFJzE5bSOn9ZPWmN0etZIuD1pjcHrW1IyOzVVdHrVK7k8jWY7dBtKlOLCUpEqJMAVk3HaewbnvOOAc0JH64onOMSKEpdjoXLg9aEcf86549qrFWyX/AIJ/4qgrtLaHZD39UftoPmh7C+Cfo23XZoVxZ894rIVj9ofqPf1R+2pLxNju+LvJChtz99T58fstYJegxxVdd6IcznaLE1gAoatcqjOxKkwI/RPwrjLGzxXFnktYVhtw+o/WCDlHtV4R7zXsnYTsuOzGDqbfdS5fXCg5cOIGggaJT5Jk+0knnFcrqmsxrDtT7m7SYHvTZ000xNQJpiqvMPKddIzu0diMUwS8tClJLjR4WZIMLGqTB/hAV4Q1xUrUFMT3l5kqaQR49Rrpy/ZpX0NMmDtMV4He2weuAw8wnKiY4LjKVbxJ18zp1rudGzXGcH4pmLWQXDKXWM1sSWCAtAMBllMiPIyPx7KCt8PD5cDQfJbBmcggwcg1O0wD5TVS7a1W2pVpIO8uOIEaTtv7pqm5sXGQouu2yikAqCH0q92h1ruxmq4MaHu8OvLUKL7QTlCSe+k6KmNj5UCTSkAmAkADpUCdYp0ZBCKqgVUxNNVOQSFNPTUqHcWXqohp1C1/vmVSEoBIGVIAgEiNY00++qYpwD1rA4iVOjVaft1Yncu2eGpfaLrvDEApCYOU5VJI08UEeWlG+uXeRQYw20YbSFAQTAkICtEqGpyidIOYgzrWS3fXiVZg9mXJkrQFTIjnPImqnHHVTmddXPJSyfvqtjGfJGjaxDFMUbQ0XL5KC7xAUJZhKO+okTGuu0bae2se4vrt9SQ9ePOBBlP0iso9g5dNIgACocIfbSB06n40g2gnvqy+6ptAcr7Fa1Kcd4jqlKXtnUok/Hc10+DPThzIBmJSfia51LCIByuLBMAwRyrQwlzgurYIySZAJ58x91MxcSAnFtG/xj1pi950NnqJXWxMz7Sl6yvO0ON2OB2SoW+rMonwp3lR6gAExXt2AdjOz+AW6G7TDrd19KYVcvthbqzzMnaeg08q819FkH0guq1JThqyJ5d9A+417NmrzXVNRJZdt0dbSY47LJJQ2jwtoT7EgVLMKrKqiVVyZZjXsXomVVFTh6n47VUV1ArpDzP2HsXosUs6EmT7flUCqaqUuohVK+Vt3YxQpFpV5j41EmoFR6n4VAqNDvLSHublNqw5cuEBDKFLJPQCa+fS42dApwL3ibbXafZXqvpJxP1Xs49Ztd65vpZQlJSDk+udTtGmmverzHDXVvB9p1VwFNjP3UWpGX9IanUaAk716To0NuJzflnP1jTaQIXQGkcRTilEAgpWzBUIO+4EjrUrd4+sIUhakrzJ4agpiZ0gbab+XnVtwxbLb47SLuVMqKi4m2RGgOgB27xJMA7dKdLr1uG1r4qQCMpAtjrBMeyBzPtrtpoxVQ17+VuKjhOJztmUlbtvIUCFDUHkUgyentrCumOAIdcQXFKKShKgqBoZkac/lWg5evspTcOFYAcUGSlDM6Ap1ETzPl76m9jLSrZSG3bvOo6DhtJAAAjvBMzy/XVxm0WjCVpM8qY1bclkvOerBzgknh8Ugqj+EQAJ91Umm2GKlTUqlkNBKZpBNWIGk04TS1ExtkkIET+NqiUxRCAMngqLiY3pigDuJN2TjiAsiEnYqNQFulDhQ46EgAmR16USAlISSxPdG5HlsakHSCoQhCT0BPSg2SGpoihtlSJUp9ac4jIg7dZjfXrQLja+MFIC806TuOlafFS4FtquFxr4UgT8RPzoS5WhJzQ4T9VSjt8KkY8hOXFBbN4nw3Kg24JnNsfZRHEQRKVpPsM1ji5bT4bRo+atfvFUvXLjqchQ2E+SY/bTaYDSPQfRWU/u6fVP/dy/hnbr2LNXh/obUT2xeUTM2Dg/tt17Xmrx/WpbdTX8I7Ojj/qRYVVGSoSNdYqBVXK9u+yj/ahqzFtiSrNdsV/VJCwqN4I2iuXjcZzSnKv5NElS4OqVm+yfhVZz/ZV8K8nPonxf/wBQo+Dn7avc9FmKKCT+XmxlQE+Bese+tL0um/e/oD5Mn/J6cc/2T8Kj3+h6a15efRVig/8AECP6jn/FXJ9pcNxHspjCbA4h6ytTCHCpOgIUqIhX8ka0zF07Fllthlv8Ay1E4d4nvhzJmdI61gYv2xwPDGXVLvEXL7KCosW6wtWkbxoncbxXhy7K5XbocU+ypCwnRbyFHvGNiZ5ins7dbFw4h9Scy2iRlcTGpH1jMb8tf19HH0SF3OV/YTLWN9kaGPdqnMZv3rq5WgyYZaWwhYbR9mT756nXTag0Ym24yhDqklWYaJtWjBnSDvyHw56ySu5CApXHuAo6SbpBCoMHTL5HnUL19YaYuE3nfQ4lYIeQ6UgkfUgaju+3Ly5deNQShFcIxybbtgLq8OcfSV3FyWwAMyWU6AaCYI5AftpFrBgVfvq7IBGot06+yVffQDzjjrinHV5lr8RqGtOoEIuDbAI9ULx8WbjADmYiD0ifOqJpppqNcEETSppqJNSyyVKozT1dlmygDLFTAFMgVKKOKOe2WpjJUD3quQBkHnUVCNqaUS0KEwFHSdT5UwQobCff5VKElKQgKMD9VPw1DcxUoJMhqlfi+NU3KUcQqUpU5RHd57b1eQpAkKSk+Rqu5QhIQrMok+KefvqkuQrBCUH6pP8AKVNVKI6J+E/fNXKI+wf0lH9UVWpyNkpT+iD98mnbQkdh6Ing32uIJguWbiUwBqcyDHwB+Fe0ZzXzfg+J3OFYpbYlbSpy3Xmy8lJ2KdOoJFe/YVi1ljFki8w94OtHQ695CuaVDka8d/kWmnHMsq7UdrQTThtZp5qbPVOfbUa1FS4rzVnQ2l+euR9InbB7stbWibNlp27uirKp2ShtKcsyAQSe8I1+4T0+esTtV2asu01gi3u1LacaJLD6B3kE6EewxqOem1aNLLFHNF5uyF5YNwe3uYfo87e3faK+dw7FGGU3AaLrTrIKQqCAUkSdRMg+3SuR9MZB7XNEb+pN8/4SzXZYB2awfsCzcYtfX5cc4fDU64nKAnfKlI1JMDmT7Na8o7TYwvHcbusScTk4pAbR/wCWgCEj2wNfOa7+hx45aqWTCqjX4swZ7jiUZdzLB5x3uZrXZcUXllBe4jbeZRSECEQCogHzOlY9GyDiLWUTJRIQNzHSu6nTMK5Nxm4LoCkKuUvu5VJn1eIKYMSAZjloToTPLFuWG0W6VIcVqAteZSCVBUbaz0+dE2gcQEBaXSl14DKlLagpQJMSo7af6itRxq6xS1Hq1u6vv5k5kMgSJHNW09Qd+UCQlB3YRzbyrEq+ibuEt5h4lAmNJ/XQ0jrWw9Z4bZoSm+GIouAopXwiytMgAkDWdlDnWbcG0ibUvnvH86lI00jY77z7o3q1MqiimpSKafOj3IoRpqlFRqyxUqVKoQ3kirMhAB61FFSPgTWiJzWwlEZEjNoOUVBQFOj/AA0xpiBbHSB9XN+j7qcNq8xV1v8Aj4iqV1dBpkCkjmke/wDZT3SWRkzLVBBPdHKPOqFVJf5tv2VK5QaYMcv2PiZ+ERVSnSnYJT+iP2TT3P5kUVYU5BIC+l0UUrVGv0g7po2xxbEMFvDeYXdLZUvfLGVyNwpMQRMxpt0oK8/2iqFfmh+OdKzY4T+mStD4txdpnoeH+ld9CQnFMMQ6R/vbZzL/AGTP31rt+lPBFeK2xJP9Gg/4q8gVUDXCydH0k3e2vsboazN7PYHfSlgiDCLbEHP6JA/xVmYl6UX8iRh2GNoK0Ahy5cKon+CI++vL1eGjn/Ax/NJ+6kQ6XpoP9Jc9ZmruE4xjeI41cB7E7lT5HhSdEIHQJEAfDWs01KomuhjjGP0xVIytuTtsW1EYiqbqdtAdVEkUMaGe8Lf8j9ZoiRNW2xJ1pgsFi3ebOQS40nMAklQAMbEkzvIrQZt3uFavW7GZRQQtGRMZSdTrGuke6sS8/wBsX/Mp/uiibj/qm09jn3ChthHTIsFuw4q2dQ+SsLVwmkiUqGm/eEiTO06TuKr9z1Fp91dupJSrh9+1bjOpKikGD5fKK4gfsq9Hi/oh+ql0Ro7BKbh5DL9pbkqUjiIHqzKUqG4nXUT5VnYjf4qhoG8t7RsBQAVwGiQSmeh5K+flXNK8SvbVre/6Io4FUTUZXJ1PM9ajT0xpxQqVKlUIf//Z\" data-csiid=\"yHdzZ67uD6Xf1e8PkoG3UQ_11\" data-atf=\"1\">"
   ]
  },
  {
   "cell_type": "markdown",
   "id": "9c3b13a7-8b33-4389-a987-3512b5ffd341",
   "metadata": {},
   "source": [
    "<div jsname=\"figiqf\" class=\"p7sI2 PUxBg\" jsaction=\"trigger.sJdTQd\" data-ved=\"0CBAQ5OoBahcKEwjQleDg5eyKAxUAAAAAHQAAAAAQCQ\"><a data-ved=\"0CBEQjRxqFwoTCNCV4ODl7IoDFQAAAAAdAAAAABAJ\" rel=\"noopener\" target=\"_blank\" href=\"https://www.google.com/url?sa=i&amp;url=https%3A%2F%2Fwww.tripadvisor.in%2FShowUserReviews-g297586-d320668-r129148077-Charminar-Hyderabad_Hyderabad_District_Telangana.html&amp;psig=AOvVaw2C-i9CfDfTS3mFbT050gsk&amp;ust=1736654864616000&amp;source=images&amp;cd=vfe&amp;opi=89978449&amp;ved=0CBEQjRxqFwoTCNCV4ODl7IoDFQAAAAAdAAAAABAJ\" jsaction=\"focus:trigger.HTIQtd;mousedown:trigger.HTIQtd;touchstart:trigger.HTIQtd;;\" class=\"YsLeY\" role=\"link\" tabindex=\"0\" aria-label=\"Visit Tripadvisor\" rlhc=\"1\"><img src=\"https://media-cdn.tripadvisor.com/media/photo-s/11/f4/ff/11/charminar.jpg\" jsaction=\"\" class=\"sFlh5c FyHeAf iPVvYb\" style=\"max-width: 550px; height: 263px; margin: 0px; width: 351px;\" alt=\"Charminar, Hyderabad - Reviews, Photos - Charminar - Tripadvisor\" jsname=\"kn3ccd\" aria-hidden=\"false\"><img src=\"https://encrypted-tbn0.gstatic.com/images?q=tbn:ANd9GcRDMi0WMqal__y-OI-eKRFRi2LZp0MJ4BmAHw&amp;s\" class=\"sFlh5c FyHeAf\" alt=\"Charminar, Hyderabad - Reviews, Photos - Charminar - Tripadvisor\" jsname=\"JuXqh\" style=\"max-width: 550px; width: 550px; height: 412px; margin: 0px; position: absolute; visibility: hidden;\" data-ilt=\"1736568494724\"><span class=\"UWuvyf\">550 × 412</span></a><div class=\"PkzWF\" jsname=\"KxWeif\" style=\"display: none;\"></div><div jscontroller=\"NcDcif\" jsaction=\"gcdX7e:kMj2mf;FOsrc:pa6P2b;hZqevf:NW8dX\" jsname=\"BfZkPe\" class=\"XqE7Pc\"></div></div>"
   ]
  },
  {
   "cell_type": "code",
   "execution_count": null,
   "id": "dd2cd396-6be4-45ca-8cb7-0bba834c34e7",
   "metadata": {},
   "outputs": [],
   "source": []
  }
 ],
 "metadata": {
  "kernelspec": {
   "display_name": "Python 3 (ipykernel)",
   "language": "python",
   "name": "python3"
  },
  "language_info": {
   "codemirror_mode": {
    "name": "ipython",
    "version": 3
   },
   "file_extension": ".py",
   "mimetype": "text/x-python",
   "name": "python",
   "nbconvert_exporter": "python",
   "pygments_lexer": "ipython3",
   "version": "3.12.7"
  }
 },
 "nbformat": 4,
 "nbformat_minor": 5
}
