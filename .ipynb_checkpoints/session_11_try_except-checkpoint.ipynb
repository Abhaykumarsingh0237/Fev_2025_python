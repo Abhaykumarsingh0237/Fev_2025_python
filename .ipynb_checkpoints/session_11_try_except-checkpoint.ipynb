{
 "cells": [
  {
   "cell_type": "markdown",
   "id": "c417ad3f-7214-4f59-a9c9-e0a7eefbedae",
   "metadata": {},
   "source": [
    "**try-except**\n",
    "\n",
    "\n",
    "- try and except is a concept of exception handling\n",
    "\n",
    "- there are two block\n",
    "\n",
    "     - 1. try block\n",
    "     - 2. except block\n",
    "\n",
    "- original code willl run under try block\n",
    "- if any error occures in try block, the error will catch by except block\n",
    "\n",
    "- usecase-1: The code should catch the error automatically\n",
    "\n",
    "- usecase-2: The code should continue eventhough we got the error\n",
    "\n",
    "- abhay kumar singh do not change code"
   ]
  },
  {
   "cell_type": "code",
   "execution_count": 3,
   "id": "8466a20e-92c3-4c09-b6cf-7e4e687bf8d0",
   "metadata": {},
   "outputs": [
    {
     "name": "stdout",
     "output_type": "stream",
     "text": [
      "error coming in try block\n",
      "zero division error\n"
     ]
    }
   ],
   "source": [
    "try:\n",
    "    a=10\n",
    "    b=0\n",
    "    c=a/b   # we will get error\n",
    "except:\n",
    "    print('error coming in try block')\n",
    "    print('zero division error')\n",
    "    "
   ]
  },
  {
   "cell_type": "code",
   "execution_count": 2,
   "id": "77e5550f-beb5-4d86-9d32-df6a260c05d3",
   "metadata": {},
   "outputs": [
    {
     "name": "stdout",
     "output_type": "stream",
     "text": [
      "2.5\n"
     ]
    }
   ],
   "source": [
    "try:\n",
    "    a=10\n",
    "    b=4\n",
    "    c=a/b   \n",
    "    print(c)\n",
    "except:\n",
    "    print('error coming in try block')\n",
    "    print('zero division error')\n",
    "    "
   ]
  },
  {
   "cell_type": "markdown",
   "id": "3767991e-bf69-42f2-8eba-cbde862169ae",
   "metadata": {},
   "source": [
    "**Note**: \n",
    "- except block will run when we got the error in try block\n",
    "\n",
    "- if code is correct only try block executed"
   ]
  },
  {
   "cell_type": "markdown",
   "id": "a5877620-6630-42cf-9af2-941cd6f87dcf",
   "metadata": {},
   "source": [
    "- Synatx error\n",
    "    \n",
    "- Attribute error\n",
    "\n",
    "- Name error \n",
    "\n",
    "- Type error\n",
    "\n",
    "- Indentation error\n",
    "\n",
    "- Module not found error\n",
    "             \n",
    "- Zero division error\n",
    "\n",
    "- Object not allowed"
   ]
  },
  {
   "cell_type": "code",
   "execution_count": 4,
   "id": "0b1fd3c9-da26-46b8-a6ca-423f93c3ef0b",
   "metadata": {},
   "outputs": [
    {
     "ename": "IndentationError",
     "evalue": "unexpected indent (3573684992.py, line 2)",
     "output_type": "error",
     "traceback": [
      "\u001b[1;36m  Cell \u001b[1;32mIn[4], line 2\u001b[1;36m\u001b[0m\n\u001b[1;33m    print('10')\u001b[0m\n\u001b[1;37m    ^\u001b[0m\n\u001b[1;31mIndentationError\u001b[0m\u001b[1;31m:\u001b[0m unexpected indent\n"
     ]
    }
   ],
   "source": [
    "# indentation error\n",
    " print('10'"
   ]
  },
  {
   "cell_type": "code",
   "execution_count": 6,
   "id": "94842a04-58b5-4cfa-aece-3dc2fd05260e",
   "metadata": {},
   "outputs": [
    {
     "ename": "AttributeError",
     "evalue": "module 'random' has no attribute 'pushpa'",
     "output_type": "error",
     "traceback": [
      "\u001b[1;31m---------------------------------------------------------------------------\u001b[0m",
      "\u001b[1;31mAttributeError\u001b[0m                            Traceback (most recent call last)",
      "Cell \u001b[1;32mIn[6], line 3\u001b[0m\n\u001b[0;32m      1\u001b[0m \u001b[38;5;66;03m#Attribute error\u001b[39;00m\n\u001b[0;32m      2\u001b[0m \u001b[38;5;28;01mimport\u001b[39;00m \u001b[38;5;21;01mrandom\u001b[39;00m\n\u001b[1;32m----> 3\u001b[0m random\u001b[38;5;241m.\u001b[39mpushpa\n",
      "\u001b[1;31mAttributeError\u001b[0m: module 'random' has no attribute 'pushpa'"
     ]
    }
   ],
   "source": [
    "#Attribute error\n",
    "import random\n",
    "random.pushpa\n"
   ]
  },
  {
   "cell_type": "code",
   "execution_count": 7,
   "id": "76094e60-dd72-47e7-b437-3cfe8a837f00",
   "metadata": {},
   "outputs": [
    {
     "ename": "NameError",
     "evalue": "name 'num1' is not defined",
     "output_type": "error",
     "traceback": [
      "\u001b[1;31m---------------------------------------------------------------------------\u001b[0m",
      "\u001b[1;31mNameError\u001b[0m                                 Traceback (most recent call last)",
      "Cell \u001b[1;32mIn[7], line 2\u001b[0m\n\u001b[0;32m      1\u001b[0m \u001b[38;5;66;03m#Name error\u001b[39;00m\n\u001b[1;32m----> 2\u001b[0m c\u001b[38;5;241m=\u001b[39mnum1\u001b[38;5;241m+\u001b[39mnum2\n",
      "\u001b[1;31mNameError\u001b[0m: name 'num1' is not defined"
     ]
    }
   ],
   "source": [
    "#Name error\n",
    "c=num1+num2"
   ]
  },
  {
   "cell_type": "code",
   "execution_count": 8,
   "id": "eb12a57a-855a-48ed-b2c8-60d2bdb2afd9",
   "metadata": {},
   "outputs": [
    {
     "ename": "TypeError",
     "evalue": "can't multiply sequence by non-int of type 'str'",
     "output_type": "error",
     "traceback": [
      "\u001b[1;31m---------------------------------------------------------------------------\u001b[0m",
      "\u001b[1;31mTypeError\u001b[0m                                 Traceback (most recent call last)",
      "Cell \u001b[1;32mIn[8], line 2\u001b[0m\n\u001b[0;32m      1\u001b[0m \u001b[38;5;66;03m#Type error\u001b[39;00m\n\u001b[1;32m----> 2\u001b[0m \u001b[38;5;28mprint\u001b[39m(\u001b[38;5;124m'\u001b[39m\u001b[38;5;124m10\u001b[39m\u001b[38;5;124m'\u001b[39m\u001b[38;5;241m*\u001b[39m\u001b[38;5;124m'\u001b[39m\u001b[38;5;124m10\u001b[39m\u001b[38;5;124m'\u001b[39m)\n",
      "\u001b[1;31mTypeError\u001b[0m: can't multiply sequence by non-int of type 'str'"
     ]
    }
   ],
   "source": [
    "#Type error\n",
    "print('10'*'10')"
   ]
  },
  {
   "cell_type": "code",
   "execution_count": 10,
   "id": "498a334b-dfc9-43b2-b946-e40ace6c7ff5",
   "metadata": {},
   "outputs": [
    {
     "ename": "SyntaxError",
     "evalue": "expected ':' (2401358368.py, line 2)",
     "output_type": "error",
     "traceback": [
      "\u001b[1;36m  Cell \u001b[1;32mIn[10], line 2\u001b[1;36m\u001b[0m\n\u001b[1;33m    if True\u001b[0m\n\u001b[1;37m           ^\u001b[0m\n\u001b[1;31mSyntaxError\u001b[0m\u001b[1;31m:\u001b[0m expected ':'\n"
     ]
    }
   ],
   "source": [
    "#syntax error \n",
    "if True\n",
    "    a=10"
   ]
  },
  {
   "cell_type": "code",
   "execution_count": 11,
   "id": "25059eb9-4eb5-4e92-bc23-4df2afc076b0",
   "metadata": {},
   "outputs": [
    {
     "ename": "TypeError",
     "evalue": "'module' object is not callable. Did you mean: 'random.random(...)'?",
     "output_type": "error",
     "traceback": [
      "\u001b[1;31m---------------------------------------------------------------------------\u001b[0m",
      "\u001b[1;31mTypeError\u001b[0m                                 Traceback (most recent call last)",
      "Cell \u001b[1;32mIn[11], line 1\u001b[0m\n\u001b[1;32m----> 1\u001b[0m random()\n",
      "\u001b[1;31mTypeError\u001b[0m: 'module' object is not callable. Did you mean: 'random.random(...)'?"
     ]
    }
   ],
   "source": [
    "random()"
   ]
  },
  {
   "cell_type": "code",
   "execution_count": 14,
   "id": "76be19df-eaae-4aef-a546-686580593993",
   "metadata": {},
   "outputs": [
    {
     "name": "stdin",
     "output_type": "stream",
     "text": [
      "enter the number: 5\n",
      "enter the number: 5\n"
     ]
    },
    {
     "name": "stdout",
     "output_type": "stream",
     "text": [
      "the div is: 1.0\n"
     ]
    }
   ],
   "source": [
    "n1=eval(input(\"enter the number:\"))\n",
    "n3=eval(input(\"enter the number:\"))\n",
    "div=n1/n3\n",
    "print(\"the div is:\", div)"
   ]
  },
  {
   "cell_type": "code",
   "execution_count": 5,
   "id": "35221cda-691e-4265-9553-655e6d415fd5",
   "metadata": {},
   "outputs": [
    {
     "name": "stdin",
     "output_type": "stream",
     "text": [
      "enter the number: 45\n",
      "enter the number: 3\n"
     ]
    },
    {
     "name": "stdout",
     "output_type": "stream",
     "text": [
      "the div is: 15.0\n"
     ]
    }
   ],
   "source": [
    "try:\n",
    "    n1=eval(input(\"enter the number:\"))\n",
    "    n3=eval(input(\"enter the number:\"))\n",
    "    div=n1/n3\n",
    "    print(\"the div is:\", div)\n",
    "\n",
    "except:\n",
    "    print(\"the div not zero\")"
   ]
  },
  {
   "cell_type": "code",
   "execution_count": 17,
   "id": "671120d4-c18e-4aa3-a185-5dec2f5ad754",
   "metadata": {},
   "outputs": [
    {
     "name": "stdin",
     "output_type": "stream",
     "text": [
      "enter the number: 45\n",
      "enter the number: 0\n"
     ]
    },
    {
     "name": "stdout",
     "output_type": "stream",
     "text": [
      "division by zero\n"
     ]
    }
   ],
   "source": [
    "try:\n",
    "    n1=eval(input(\"enter the number:\"))\n",
    "    n3=eval(input(\"enter the number:\"))\n",
    "    div=n1/n3\n",
    "    print(\"the div is:\", div)\n",
    "\n",
    "except Exception as e:\n",
    "    print(e)"
   ]
  },
  {
   "cell_type": "code",
   "execution_count": 18,
   "id": "127df361-18df-4e8d-b125-127785fb9e2d",
   "metadata": {},
   "outputs": [
    {
     "name": "stdout",
     "output_type": "stream",
     "text": [
      "No module named 'nareshit'\n"
     ]
    }
   ],
   "source": [
    "try:\n",
    "    import nareshit \n",
    "except Exception as e:\n",
    "    print(e)"
   ]
  },
  {
   "cell_type": "code",
   "execution_count": 19,
   "id": "6ca73de7-69cb-4477-9804-b96937a7675a",
   "metadata": {},
   "outputs": [
    {
     "name": "stdout",
     "output_type": "stream",
     "text": [
      "module 'random' has no attribute 'pushpa'\n"
     ]
    }
   ],
   "source": [
    "try:\n",
    "    import random\n",
    "    random.pushpa\n",
    "\n",
    "except Exception as e:\n",
    "    print(e)"
   ]
  },
  {
   "cell_type": "code",
   "execution_count": 20,
   "id": "37b7622c-7247-4410-bbce-95e2286105a3",
   "metadata": {},
   "outputs": [
    {
     "name": "stdin",
     "output_type": "stream",
     "text": [
      "enter the number: hello\n"
     ]
    },
    {
     "ename": "NameError",
     "evalue": "name 'hello' is not defined",
     "output_type": "error",
     "traceback": [
      "\u001b[1;31m---------------------------------------------------------------------------\u001b[0m",
      "\u001b[1;31mNameError\u001b[0m                                 Traceback (most recent call last)",
      "Cell \u001b[1;32mIn[20], line 1\u001b[0m\n\u001b[1;32m----> 1\u001b[0m n1\u001b[38;5;241m=\u001b[39m\u001b[38;5;28meval\u001b[39m(\u001b[38;5;28minput\u001b[39m(\u001b[38;5;124m\"\u001b[39m\u001b[38;5;124menter the number:\u001b[39m\u001b[38;5;124m\"\u001b[39m))\n",
      "File \u001b[1;32m<string>:1\u001b[0m\n",
      "\u001b[1;31mNameError\u001b[0m: name 'hello' is not defined"
     ]
    }
   ],
   "source": [
    "n1=eval(input(\"enter the number:\"))"
   ]
  },
  {
   "cell_type": "markdown",
   "id": "a598262a-5b5c-458c-a2ad-627d82594c5c",
   "metadata": {},
   "source": [
    "- step-1: are you able to write the code with out silly mistakes\n",
    ".\n",
    "- step-2: are you able to understand the logic\n",
    "\n",
    "- step-3: are you able to implement the logic (single day)\n"
   ]
  },
  {
   "cell_type": "code",
   "execution_count": 27,
   "id": "8feb1188-6cee-4472-a015-1464b0695602",
   "metadata": {},
   "outputs": [
    {
     "name": "stdin",
     "output_type": "stream",
     "text": [
      "enter the number: 56\n"
     ]
    },
    {
     "name": "stdout",
     "output_type": "stream",
     "text": [
      "56 is an even\n"
     ]
    }
   ],
   "source": [
    "try:\n",
    "    n1=eval(input(\"enter the number:\"))\n",
    "    if n1%2==0:\n",
    "        print(f\"{n1} is an even\")\n",
    "    else:\n",
    "        print(f\"{n1} is an odd\")\n",
    "\n",
    "except Exception as e:\n",
    "    print(e)\n",
    "    a=10\n",
    "    b=20\n",
    "    print(\"a+b:\",a+b)\n",
    "    "
   ]
  },
  {
   "cell_type": "code",
   "execution_count": 25,
   "id": "e7ce9aa7-781b-4a65-bd1e-b386cb1e2266",
   "metadata": {},
   "outputs": [
    {
     "name": "stdin",
     "output_type": "stream",
     "text": [
      "enter the number: 45\n"
     ]
    },
    {
     "name": "stdout",
     "output_type": "stream",
     "text": [
      "name 'n12' is not defined\n",
      "a+b: 30\n"
     ]
    }
   ],
   "source": [
    "try:\n",
    "    n1=eval(input(\"enter the number:\"))\n",
    "    if n1%2==0:\n",
    "        print(f\"{n12} is an even\")\n",
    "    else:\n",
    "        print(f\"{n12} is an odd\")\n",
    "\n",
    "except Exception as e:\n",
    "    print(e)\n",
    "    a=10\n",
    "    b=20\n",
    "    print(\"a+b:\",a+b)\n",
    "    "
   ]
  },
  {
   "cell_type": "code",
   "execution_count": null,
   "id": "49dedc4d-a629-4089-afa7-43e2342f5dfb",
   "metadata": {},
   "outputs": [],
   "source": []
  },
  {
   "cell_type": "code",
   "execution_count": null,
   "id": "e5defee2-ea5f-4f90-9fba-e1ef6b490021",
   "metadata": {},
   "outputs": [],
   "source": []
  },
  {
   "cell_type": "code",
   "execution_count": null,
   "id": "54128847-9389-47ce-a387-b57a00a332ef",
   "metadata": {},
   "outputs": [],
   "source": []
  },
  {
   "cell_type": "code",
   "execution_count": null,
   "id": "2446a086-df9c-4f7f-a2fe-7b5849bcfbf3",
   "metadata": {},
   "outputs": [],
   "source": []
  },
  {
   "cell_type": "code",
   "execution_count": null,
   "id": "ef065547-346e-4841-b694-2c477fcaa3aa",
   "metadata": {},
   "outputs": [],
   "source": []
  },
  {
   "cell_type": "code",
   "execution_count": null,
   "id": "da1f14a7-3373-46b4-bd5a-0e13cf7c9751",
   "metadata": {},
   "outputs": [],
   "source": []
  },
  {
   "cell_type": "code",
   "execution_count": null,
   "id": "ca610dec-5c28-44ce-8e41-31921be322fa",
   "metadata": {},
   "outputs": [],
   "source": []
  },
  {
   "cell_type": "code",
   "execution_count": null,
   "id": "c9e41c3c-3238-44f8-82c1-484bb99fb713",
   "metadata": {},
   "outputs": [],
   "source": []
  }
 ],
 "metadata": {
  "kernelspec": {
   "display_name": "Python 3 (ipykernel)",
   "language": "python",
   "name": "python3"
  },
  "language_info": {
   "codemirror_mode": {
    "name": "ipython",
    "version": 3
   },
   "file_extension": ".py",
   "mimetype": "text/x-python",
   "name": "python",
   "nbconvert_exporter": "python",
   "pygments_lexer": "ipython3",
   "version": "3.12.7"
  }
 },
 "nbformat": 4,
 "nbformat_minor": 5
}
