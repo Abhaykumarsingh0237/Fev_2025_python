{
 "cells": [
  {
   "cell_type": "code",
   "execution_count": 1,
   "id": "159c39e0-0dc5-4750-b981-343760fe13f4",
   "metadata": {},
   "outputs": [
    {
     "name": "stdout",
     "output_type": "stream",
     "text": [
      "10\n",
      "20\n"
     ]
    }
   ],
   "source": [
    "a = 10\n",
    "b = 20\n",
    "print(a) \n",
    "print(b)"
   ]
  },
  {
   "cell_type": "code",
   "execution_count": 6,
   "id": "db87a750-a330-42ed-bed1-9f63728ae901",
   "metadata": {},
   "outputs": [
    {
     "name": "stdout",
     "output_type": "stream",
     "text": [
      "10\n",
      "20\n"
     ]
    }
   ],
   "source": [
    "print(10)\n",
    "print(20)"
   ]
  },
  {
   "cell_type": "code",
   "execution_count": 3,
   "id": "151e98fb-3bf2-43cf-967a-735aecf47f87",
   "metadata": {},
   "outputs": [
    {
     "name": "stdout",
     "output_type": "stream",
     "text": [
      "20\n"
     ]
    }
   ],
   "source": [
    "print(20)"
   ]
  },
  {
   "cell_type": "code",
   "execution_count": 2,
   "id": "a9dfd882-32d9-438a-a973-f799fcdbf20d",
   "metadata": {},
   "outputs": [
    {
     "name": "stdout",
     "output_type": "stream",
     "text": [
      "10\n",
      "20\n"
     ]
    },
    {
     "data": {
      "text/plain": [
       "(None, None)"
      ]
     },
     "execution_count": 2,
     "metadata": {},
     "output_type": "execute_result"
    }
   ],
   "source": [
    "print(10), print(20)"
   ]
  },
  {
   "cell_type": "code",
   "execution_count": 5,
   "id": "59074f7d-cf6b-4ca8-b35f-21f062033bcd",
   "metadata": {},
   "outputs": [
    {
     "data": {
      "text/plain": [
       "(10, 20)"
      ]
     },
     "execution_count": 5,
     "metadata": {},
     "output_type": "execute_result"
    }
   ],
   "source": [
    "10 , 20"
   ]
  },
  {
   "cell_type": "code",
   "execution_count": 7,
   "id": "1cd02588-664d-4d69-838a-37c57761d96b",
   "metadata": {},
   "outputs": [
    {
     "name": "stdout",
     "output_type": "stream",
     "text": [
      "10 20\n"
     ]
    }
   ],
   "source": [
    "print(a,b)"
   ]
  },
  {
   "cell_type": "code",
   "execution_count": 4,
   "id": "c19c05ca-e261-487f-82c2-10681666a1cc",
   "metadata": {},
   "outputs": [
    {
     "name": "stdout",
     "output_type": "stream",
     "text": [
      "22 abhay hyd\n"
     ]
    }
   ],
   "source": [
    "print(22,\"abhay\",\"hyd\")"
   ]
  },
  {
   "cell_type": "code",
   "execution_count": 3,
   "id": "4425b044-9012-4c22-9d15-95438161f9bf",
   "metadata": {},
   "outputs": [
    {
     "name": "stdout",
     "output_type": "stream",
     "text": [
      "30 naresh it hyd\n"
     ]
    }
   ],
   "source": [
    "print(30, 'naresh it','hyd')\n",
    "\n",
    "#3values"
   ]
  },
  {
   "cell_type": "code",
   "execution_count": 13,
   "id": "8ae4fe30-e63d-44fc-8830-f7fff15a115b",
   "metadata": {},
   "outputs": [
    {
     "name": "stdout",
     "output_type": "stream",
     "text": [
      "the addition of 100 and 200 is 300\n",
      "the addition of num1 and num2 is 300\n",
      "the addition of  100 and 200 is 300\n"
     ]
    }
   ],
   "source": [
    "num1 =100\n",
    "num2 =200\n",
    "add=num1+num2\n",
    "# the addition of 100 and 200 is 300\n",
    "print(\"the addition of 100 and 200 is 300\")\n",
    "print(\"the addition of num1 and num2 is 300\")\n",
    "print(\"the addition of \",num1, \"and\",num2,\"is\",add)"
   ]
  },
  {
   "cell_type": "code",
   "execution_count": 3,
   "id": "d5ce5584-e81d-470b-af57-752020d3f351",
   "metadata": {},
   "outputs": [
    {
     "name": "stdout",
     "output_type": "stream",
     "text": [
      "the addition of 1000 and 2000 is 3000\n"
     ]
    }
   ],
   "source": [
    "num1 = 1000\n",
    "num2 = 2000\n",
    "add = num1+num2\n",
    "print(\"the addition of\", num1, \"and\", num2, \"is\" ,add)"
   ]
  },
  {
   "cell_type": "code",
   "execution_count": 17,
   "id": "bfd5c267-0c81-4639-ae09-1850c1cd4ef4",
   "metadata": {},
   "outputs": [
    {
     "name": "stdout",
     "output_type": "stream",
     "text": [
      "my name is python im age 10 year old come from hyd\n",
      "my name is name im age year old come from city\n"
     ]
    }
   ],
   "source": [
    "name =\"python\"\n",
    "age=10\n",
    "city=\"hyd\"\n",
    "#my name is python im age 10 year old come from hyd\n",
    "print(\"my name is python im age 10 year old come from hyd\")\n",
    "print(\"my name is name im age year old come from city\")"
   ]
  },
  {
   "cell_type": "markdown",
   "id": "41172b2d-05fa-4614-9c15-9511659ce452",
   "metadata": {},
   "source": [
    "**format**"
   ]
  },
  {
   "cell_type": "code",
   "execution_count": 4,
   "id": "c4241781-a848-4f2f-baa3-d9923890de5b",
   "metadata": {},
   "outputs": [
    {
     "name": "stdout",
     "output_type": "stream",
     "text": [
      "my name is python im 10 yeras old and come from hyd\n"
     ]
    }
   ],
   "source": [
    "name =\"python\"\n",
    "age=10\n",
    "city=\"hyd\"\n",
    "print(\"my name is {} im {} yeras old and come from {}\".format(name, age, city))"
   ]
  },
  {
   "cell_type": "code",
   "execution_count": 5,
   "id": "fc3dd1be-15c2-4b8f-9fff-b59769fc03b2",
   "metadata": {},
   "outputs": [
    {
     "name": "stdout",
     "output_type": "stream",
     "text": [
      "my name is hyd im Abhay yeras old and come from 10\n"
     ]
    }
   ],
   "source": [
    "name =\"Abhay\"\n",
    "age=10\n",
    "city=\"hyd\"\n",
    "print(\"my name is {} im {} yeras old and come from {}\". format(city, name, age))"
   ]
  },
  {
   "cell_type": "code",
   "execution_count": 2,
   "id": "f8298358-2f0c-48b8-8159-f0382494a7b1",
   "metadata": {},
   "outputs": [
    {
     "name": "stdout",
     "output_type": "stream",
     "text": [
      "the addition of number 3000 and 6000 is :9000\n",
      "the addition of number 3000 and 6000 is :9000\n"
     ]
    }
   ],
   "source": [
    "num1=3000\n",
    "num2=6000\n",
    "total=num1+num2\n",
    "print(\"the addition of number {} and {} is :{}\".format(num1,num2,total))\n",
    "print(\"the addition of number 3000 and 6000 is :9000\")"
   ]
  },
  {
   "cell_type": "code",
   "execution_count": 21,
   "id": "5d939bf5-cddb-472e-83b1-b895b22d6e8a",
   "metadata": {},
   "outputs": [
    {
     "name": "stdout",
     "output_type": "stream",
     "text": [
      "the addition of 1000 and 2000 is 3000\n",
      "the addition of 1000 and 2000 is 3000\n"
     ]
    }
   ],
   "source": [
    "num1 =1000\n",
    "num2=2000\n",
    "add=num1+num2\n",
    "#the addition of 1000 and 2000 is 3000\n",
    "print(\"the addition of 1000 and 2000 is 3000\")\n",
    "print(\"the addition of {} and {} is {}\".format(num1, num2, add))"
   ]
  },
  {
   "cell_type": "code",
   "execution_count": 4,
   "id": "45d07c52-a3fc-4e27-a742-c9fed797aad1",
   "metadata": {},
   "outputs": [
    {
     "name": "stdout",
     "output_type": "stream",
     "text": [
      "sub number : -100\n",
      "mul number : 20000\n",
      "div number : 0.5\n"
     ]
    }
   ],
   "source": [
    "# wap take two numbers perform the\n",
    "# subtraction\n",
    "# multiplication\n",
    "# print the statements as follows\n",
    "\n",
    "# the subtraction of 100 and 200 is -100\n",
    "# the multiplication of 100 and 200 is 20000\n",
    "# the division of 100 and 200 is 0.5\n",
    "\n",
    "num1=100\n",
    "num2=200\n",
    "sub=num1-num2\n",
    "print(\"sub number :\",sub)\n",
    "mul=num1*num2\n",
    "print(\"mul number :\",mul)\n",
    "div=num1/num2\n",
    "print(\"div number :\",div)"
   ]
  },
  {
   "cell_type": "code",
   "execution_count": null,
   "id": "96312477-7afd-4e05-8f02-e141371dc1e9",
   "metadata": {},
   "outputs": [],
   "source": [
    "# Wap take three number perform the avearage\n",
    "# a,b,c\n",
    "# avg = (a+b+c)/3\n",
    "# print the statement\n",
    "# the avge of a,b,c is : avg"
   ]
  },
  {
   "cell_type": "code",
   "execution_count": 24,
   "id": "b293fa49-247f-42a8-9033-563fa52d2a9b",
   "metadata": {},
   "outputs": [
    {
     "name": "stdout",
     "output_type": "stream",
     "text": [
      "the avg of 10,20,30 is :20.0\n"
     ]
    }
   ],
   "source": [
    "# Wap take three number perform the avearage\n",
    "a,b,c = 10,20,30\n",
    "avg= (a+b+c)/3\n",
    "print(\"the avg of {},{},{} is :{}\".format(a,b,c, avg))"
   ]
  },
  {
   "cell_type": "code",
   "execution_count": 8,
   "id": "a386ea16-b31d-4c40-8aa2-4315146a5d0d",
   "metadata": {},
   "outputs": [
    {
     "name": "stdout",
     "output_type": "stream",
     "text": [
      "the avg of 1,2,3 is :2.0\n"
     ]
    }
   ],
   "source": [
    "# Wap take three number perform the avearage\n",
    "a,b,c = 1,2,3\n",
    "avg= (a+b+c)/3\n",
    "print(\"the avg of {},{},{} is :{}\".format(a,b,c, avg))"
   ]
  },
  {
   "cell_type": "code",
   "execution_count": 5,
   "id": "1c0a3cf4-a3dd-484b-b0e4-9bcf637d2ab0",
   "metadata": {},
   "outputs": [
    {
     "name": "stdout",
     "output_type": "stream",
     "text": [
      "the add of num1 and num2 is add\n",
      "the add of 100 and 200 is 300\n",
      "===================================================================\n",
      "the sub of num1 and num2 is sub\n",
      "the sub of 100 and 200 is -100\n",
      "====================================================================\n",
      "the multiplication of num1 and num2 is mul\n",
      "the multiplication of 100 and 200 is 20000\n",
      "=====================================================================\n",
      "the div of num1 and num2 is div\n",
      "the div of 100 and 200 is 0.5\n",
      "========================================================================\n",
      "the avg of num1 and num2 is avg\n",
      "the avg of 100 and 200 is 150.0\n"
     ]
    }
   ],
   "source": [
    "num1=100\n",
    "num2=200\n",
    "add=num1+num2\n",
    "print(\"the add of num1 and num2 is add\")\n",
    "print(\"the add of {} and {} is {}\".format(num1,num2,add))\n",
    "\n",
    "print(\"===================================================================\")\n",
    "\n",
    "\n",
    "\n",
    "num1=100\n",
    "num2=200\n",
    "sub=num1-num2\n",
    "print(\"the sub of num1 and num2 is sub\")\n",
    "print(\"the sub of {} and {} is {}\".format(num1,num2,sub))\n",
    "\n",
    "print(\"====================================================================\")\n",
    "num1=100\n",
    "num2=200\n",
    "mul=num1*num2\n",
    "print(\"the multiplication of num1 and num2 is mul\")\n",
    "print(\"the multiplication of {} and {} is {}\".format(num1,num2,mul))\n",
    "\n",
    "print(\"=====================================================================\")\n",
    "\n",
    "num1=100\n",
    "num2=200\n",
    "div=num1/num2\n",
    "print(\"the div of num1 and num2 is div\")\n",
    "print(\"the div of {} and {} is {}\".format(num1,num2,div))\n",
    "\n",
    "print(\"========================================================================\")\n",
    "\n",
    "num1=100\n",
    "num2=200\n",
    "avg=(num1+num2)/2\n",
    "print(\"the avg of num1 and num2 is avg\")\n",
    "print(\"the avg of {} and {} is {}\".format(num1,num2,avg))\n",
    "\n"
   ]
  },
  {
   "cell_type": "markdown",
   "id": "64e159cf-03e1-4f19-be05-fbad382ad157",
   "metadata": {},
   "source": [
    "**F string**"
   ]
  },
  {
   "cell_type": "code",
   "execution_count": 40,
   "id": "879c6e4e-1cba-4562-9624-8062738ab6ee",
   "metadata": {},
   "outputs": [
    {
     "name": "stdout",
     "output_type": "stream",
     "text": [
      "the addition of 100 and 200 is 300\n",
      "the addition of 100 and 200 is 300\n",
      "the addition of 100 and 200 is 300\n",
      "the sub of 100 and 200 is -100\n",
      "the mul of 100 and 200 is 20000\n",
      "the div of 100 and 200 is 0.5\n"
     ]
    }
   ],
   "source": [
    "num1= 100\n",
    "num2=200\n",
    "add=num1+num2\n",
    "sub=num1-num2\n",
    "mul=num1*num2\n",
    "div=num1/num2\n",
    "\n",
    "print(\"the addition of 100 and 200 is 300\")\n",
    "print(\"the addition of {} and {} is {}\". format(num1,num2,add))\n",
    "print(f\"the addition of {num1} and {num2} is {add}\")\n",
    "print(f\"the sub of {num1} and {num2} is {sub}\")\n",
    "print(f\"the mul of {num1} and {num2} is {mul}\")\n",
    "print(f\"the div of {num1} and {num2} is {div}\")"
   ]
  },
  {
   "cell_type": "markdown",
   "id": "fb6f1f4f-a203-420b-a50f-c416897b44d8",
   "metadata": {},
   "source": [
    "**round**"
   ]
  },
  {
   "cell_type": "code",
   "execution_count": 6,
   "id": "a40fea5f-7d4d-427c-87f1-a1ffd30d79c1",
   "metadata": {},
   "outputs": [],
   "source": [
    "# print()\n",
    "# type()\n",
    "# int()\n",
    "# float()\n",
    "# str()\n",
    "# bool()\n",
    "# round()"
   ]
  },
  {
   "cell_type": "code",
   "execution_count": 7,
   "id": "82d24814-d3af-4387-8e9f-380cb60b3dab",
   "metadata": {},
   "outputs": [
    {
     "data": {
      "text/plain": [
       "11"
      ]
     },
     "execution_count": 7,
     "metadata": {},
     "output_type": "execute_result"
    }
   ],
   "source": [
    "round(10.999)"
   ]
  },
  {
   "cell_type": "code",
   "execution_count": 8,
   "id": "52ba1bea-8f8f-4fb0-81c5-2df74e7b12ac",
   "metadata": {},
   "outputs": [
    {
     "data": {
      "text/plain": [
       "20.3"
      ]
     },
     "execution_count": 8,
     "metadata": {},
     "output_type": "execute_result"
    }
   ],
   "source": [
    "20.3"
   ]
  },
  {
   "cell_type": "code",
   "execution_count": 9,
   "id": "74dfffe2-bcc0-476a-a6e8-681d9f24a7b7",
   "metadata": {},
   "outputs": [
    {
     "data": {
      "text/plain": [
       "20"
      ]
     },
     "execution_count": 9,
     "metadata": {},
     "output_type": "execute_result"
    }
   ],
   "source": [
    "round(20.3333333333333333)"
   ]
  },
  {
   "cell_type": "code",
   "execution_count": 10,
   "id": "c48f6921-1812-402b-98a2-20ca196bebe4",
   "metadata": {},
   "outputs": [
    {
     "data": {
      "text/plain": [
       "20.33"
      ]
     },
     "execution_count": 10,
     "metadata": {},
     "output_type": "execute_result"
    }
   ],
   "source": [
    "round(20.333,2)"
   ]
  },
  {
   "cell_type": "code",
   "execution_count": 47,
   "id": "b5fc2509-0cca-46e8-b3ed-6af5b3fbd010",
   "metadata": {},
   "outputs": [
    {
     "data": {
      "text/plain": [
       "10.6667"
      ]
     },
     "execution_count": 47,
     "metadata": {},
     "output_type": "execute_result"
    }
   ],
   "source": [
    "round(10.66666,4)"
   ]
  },
  {
   "cell_type": "code",
   "execution_count": 48,
   "id": "da354b3c-9fc0-4993-bdd1-b60b46926f2e",
   "metadata": {},
   "outputs": [
    {
     "name": "stdout",
     "output_type": "stream",
     "text": [
      "11\n",
      "10.78\n",
      "10.778\n",
      "10.77777\n"
     ]
    }
   ],
   "source": [
    "print(round(10.77777))\n",
    "print(round(10.77777,2))\n",
    "print(round(10.77777,3))\n",
    "print(round(10.77777,5))"
   ]
  },
  {
   "cell_type": "code",
   "execution_count": 57,
   "id": "29b76e77-2ebf-416a-bfef-add863852a45",
   "metadata": {},
   "outputs": [
    {
     "name": "stdout",
     "output_type": "stream",
     "text": [
      "20.33\n",
      "20.33\n"
     ]
    }
   ],
   "source": [
    "a=11\n",
    "b=20\n",
    "c=30\n",
    "avg=(a+b+c)/3\n",
    "avg1=round(avg,2)\n",
    "print(avg1)\n",
    "print(round(avg,2))"
   ]
  },
  {
   "cell_type": "markdown",
   "id": "53eed5ab-7814-4a34-8ca7-db4485829413",
   "metadata": {},
   "source": [
    "**I have multiple print statement but i want to show in single line**"
   ]
  },
  {
   "cell_type": "code",
   "execution_count": null,
   "id": "669f98e7-c072-456d-9ffa-0228b1bc58a7",
   "metadata": {},
   "outputs": [],
   "source": []
  },
  {
   "cell_type": "markdown",
   "id": "1002787f-7080-4818-b02b-fc12dbe17b37",
   "metadata": {},
   "source": [
    "**END Operator**"
   ]
  },
  {
   "cell_type": "code",
   "execution_count": 52,
   "id": "b12101fc-8558-4250-b15a-320da8ea6f99",
   "metadata": {},
   "outputs": [
    {
     "name": "stdout",
     "output_type": "stream",
     "text": [
      "10   20\n"
     ]
    }
   ],
   "source": [
    "print(10,end=\"   \")\n",
    "print(20)"
   ]
  },
  {
   "cell_type": "code",
   "execution_count": 53,
   "id": "bb50a117-9d47-4466-afea-fdeea73924ad",
   "metadata": {},
   "outputs": [
    {
     "name": "stdout",
     "output_type": "stream",
     "text": [
      "10 20 30\n"
     ]
    }
   ],
   "source": [
    "print(10,end=\" \")\n",
    "print(20,end=\" \")\n",
    "print(30)"
   ]
  },
  {
   "cell_type": "code",
   "execution_count": 59,
   "id": "8f03a064-1460-45f4-85b0-8bc035f41650",
   "metadata": {},
   "outputs": [
    {
     "name": "stdout",
     "output_type": "stream",
     "text": [
      "hello how are you\n"
     ]
    }
   ],
   "source": [
    "print('hello',end=' ')\n",
    "print('how',end=' ')\n",
    "print('are',end=' ')\n",
    "print('you')"
   ]
  },
  {
   "cell_type": "code",
   "execution_count": 60,
   "id": "45dec2b1-fbaa-4d57-8720-fc06713dacf7",
   "metadata": {},
   "outputs": [
    {
     "name": "stdout",
     "output_type": "stream",
     "text": [
      "hello how are you\n"
     ]
    }
   ],
   "source": [
    "print('hello how are you')"
   ]
  },
  {
   "cell_type": "markdown",
   "id": "0bc33490-7ad8-47f0-9075-264aa74f4643",
   "metadata": {},
   "source": [
    "**I have multiple values in a single print statement**\n",
    "\n",
    "**I want print them with some seperation**"
   ]
  },
  {
   "cell_type": "code",
   "execution_count": 61,
   "id": "69fd95cb-cd01-41b9-9dbf-7a400bdca512",
   "metadata": {},
   "outputs": [
    {
     "name": "stdout",
     "output_type": "stream",
     "text": [
      "10 20 30\n"
     ]
    }
   ],
   "source": [
    "print(10,20,30)"
   ]
  },
  {
   "cell_type": "markdown",
   "id": "6cec59d7-8283-42d1-9076-320e73a27817",
   "metadata": {},
   "source": [
    "**Sep**"
   ]
  },
  {
   "cell_type": "code",
   "execution_count": 62,
   "id": "29d4f319-ea83-46f4-8995-a3bf9aad576e",
   "metadata": {},
   "outputs": [
    {
     "name": "stdout",
     "output_type": "stream",
     "text": [
      "10   20   30\n"
     ]
    }
   ],
   "source": [
    "print(10,20,30,sep='   ')"
   ]
  },
  {
   "cell_type": "code",
   "execution_count": 63,
   "id": "e92269e0-45bb-4dfc-8b16-ce897dc85815",
   "metadata": {},
   "outputs": [
    {
     "name": "stdout",
     "output_type": "stream",
     "text": [
      "10=======>20=======>30\n"
     ]
    }
   ],
   "source": [
    "print(10,20,30,sep='=======>')"
   ]
  },
  {
   "cell_type": "markdown",
   "id": "db8209ff-9eeb-4017-9b55-06e0b8b0562d",
   "metadata": {},
   "source": [
    "- Basic print statement\n",
    "\n",
    "- We learn format method\n",
    "\n",
    "- We learn f string \n",
    "\n",
    "- We learn round\n",
    "\n",
    "- We learn end operator\n",
    "\n",
    "- We learn sep operator"
   ]
  },
  {
   "cell_type": "code",
   "execution_count": 16,
   "id": "1d83808e-e2fb-4724-8216-b88d127a0caa",
   "metadata": {},
   "outputs": [
    {
     "name": "stdin",
     "output_type": "stream",
     "text": [
      "enter the number: 7\n"
     ]
    },
    {
     "name": "stdout",
     "output_type": "stream",
     "text": [
      "area of the circle 7 is: 153.86\n",
      "====================================================\n"
     ]
    },
    {
     "name": "stdin",
     "output_type": "stream",
     "text": [
      "enter the number: 4\n",
      "enter the number: 6\n"
     ]
    },
    {
     "name": "stdout",
     "output_type": "stream",
     "text": [
      "the breadth 4 and height 6 is: 12.0\n",
      "===========================================================\n"
     ]
    },
    {
     "name": "stdin",
     "output_type": "stream",
     "text": [
      "enter the number: 400\n",
      "enter the number : 50\n"
     ]
    },
    {
     "name": "stdout",
     "output_type": "stream",
     "text": [
      " paying the bill amount 400 and tip amount 50 is : 450 \n",
      "============================================================================================\n"
     ]
    },
    {
     "name": "stdin",
     "output_type": "stream",
     "text": [
      "enter the number: 4\n",
      "enter the number: 6\n"
     ]
    },
    {
     "name": "stdout",
     "output_type": "stream",
     "text": [
      "the length 4 and breadth 8 is : 24 \n"
     ]
    }
   ],
   "source": [
    "# wap take the radidus of a circle calculate area of the circle\n",
    "# var: radidus var:= 3.14\n",
    "#formuale: pi*radius*radius\n",
    "#print the answer using f string and format\n",
    "\n",
    "radius=int(input(\"enter the number:\"))\n",
    "pi=3.14\n",
    "area=pi*radius*radius\n",
    "print(f\"area of the circle {radius} is: {area}\")\n",
    "\n",
    "print(\"====================================================\")\n",
    "#wap take the breadth and height of a right angle triangle\n",
    "#calculate the area\n",
    "#var1: bredath var2:height\n",
    "#formuale: 0.5*bredath*height\n",
    "\n",
    "breadth=int(input(\"enter the number:\"))\n",
    "height=int(input(\"enter the number:\"))\n",
    "area=0.5*breadth*height\n",
    "print(f\"the breadth {breadth} and height {height} is: {area}\")\n",
    "\n",
    "print(\"===========================================================\")\n",
    "#wap take the bill amount and tip amount\n",
    "#calculate total bill\n",
    "#var1: bill amount var2: tip amount\n",
    "# formuale\n",
    "bill_amount=int(input(\"enter the number:\"))\n",
    "tip_amount=int(input(\"enter the number :\"))\n",
    "total_amount=bill_amount+tip_amount\n",
    "print(f\" paying the bill amount {bill_amount} and tip amount {tip_amount} is : {total_amount} \")\n",
    "\n",
    "print(\"============================================================================================\")\n",
    "#wap take the length and breadth a rectangle calculate area\n",
    "#var1: length var2: breadth\n",
    "#formulae: length*breadth\n",
    "\n",
    "length=int(input(\"enter the number:\"))\n",
    "breadth=int(input(\"enter the number:\"))\n",
    "area=length*breadth\n",
    "print(f\"the length {4} and breadth {8} is : {area} \")"
   ]
  },
  {
   "cell_type": "code",
   "execution_count": 1,
   "id": "81431ed3-3fac-4462-9e07-c68ce8b2f7e7",
   "metadata": {},
   "outputs": [
    {
     "name": "stdin",
     "output_type": "stream",
     "text": [
      "Enter Radius: 2\n"
     ]
    },
    {
     "name": "stdout",
     "output_type": "stream",
     "text": [
      "Area of a circle of 2 and 3.14 is: 12.56\n",
      "Area of a circle of 2,and,3.14, is: 12.56\n"
     ]
    }
   ],
   "source": [
    "# wap take the radidus of a circle calculate area of the circle\n",
    "# var: radidus var:= 3.14\n",
    "#formuale: pi*radius*radius\n",
    "#print the answer using f string and format\n",
    "\n",
    "var = int(input(\"Enter Radius:\"))\n",
    "pi = 3.14\n",
    "area =pi*var*var\n",
    "print(\"Area of a circle of {} and {} is: {}\".format(var,pi,area))\n",
    "print(f\"Area of a circle of {var},and,{pi}, is: {area}\")"
   ]
  },
  {
   "cell_type": "code",
   "execution_count": 2,
   "id": "e56eb6ee-3210-49ac-98a0-83c2aa2eb921",
   "metadata": {},
   "outputs": [
    {
     "name": "stdin",
     "output_type": "stream",
     "text": [
      "Enter Breath: 8\n",
      "Enter Height: 12\n"
     ]
    },
    {
     "name": "stdout",
     "output_type": "stream",
     "text": [
      "Are of a triangle of breath 8 and height 12  is :48.0\n",
      "Are of a triangle of breath 8 and height 12  is :48.0\n"
     ]
    }
   ],
   "source": [
    "#wap take the breadth and height of a right angle triangle\n",
    "#calculate the area\n",
    "#var1: bredath var2:height\n",
    "#formuale: 0.5*bredath*height\n",
    "\n",
    "\n",
    "\n",
    "var1=int(input(\"Enter Breath:\"))\n",
    "var2=int(input(\"Enter Height:\"))\n",
    "area=0.5*var1*var2\n",
    "print(\"Area of a triangle of breath {} and height {}  is :{}\".format(var1,var2,area))\n",
    "print(f\"Area of a triangle of breath {var1} and height {var2}  is :{area}\")"
   ]
  },
  {
   "cell_type": "code",
   "execution_count": 3,
   "id": "d98f599b-2c46-4b96-9856-fd7056e72f79",
   "metadata": {},
   "outputs": [
    {
     "name": "stdin",
     "output_type": "stream",
     "text": [
      "Enter Bill_amount: 552\n",
      "Enter Tip_amount: 48\n"
     ]
    },
    {
     "name": "stdout",
     "output_type": "stream",
     "text": [
      "Total Bill by paying Bill amount552 and tip48 is:600\n",
      "Total Bill by paying Bill amount552 and tip48 is:600\n"
     ]
    }
   ],
   "source": [
    "#wap take the bill amount and tip amount\n",
    "#calculate total bill\n",
    "#var1: bill amount var2: tip amount\n",
    "# formuale\n",
    "\n",
    "\n",
    "var1=int(input(\"Enter Bill_amount:\"))\n",
    "var2=int(input(\"Enter Tip_amount:\"))\n",
    "Total_bill=var1+var2\n",
    "print(\"Total Bill by paying Bill amount{} and tip{} is:{}\".format(var1,var2,Total_bill))\n",
    "print(f\"Total Bill by paying Bill amount{var1} and tip{var2} is:{Total_bill}\")\n"
   ]
  },
  {
   "cell_type": "code",
   "execution_count": 6,
   "id": "72685e0c-93d6-464c-a686-cb43bd457f95",
   "metadata": {},
   "outputs": [
    {
     "name": "stdin",
     "output_type": "stream",
     "text": [
      "Enter length: 5\n",
      "Enter Breath: 8\n"
     ]
    },
    {
     "name": "stdout",
     "output_type": "stream",
     "text": [
      "Area of Reactangle of length 5 and height 8 is: 40\n",
      "Area of Reactangle of length 5 and height 8 is: 40\n"
     ]
    }
   ],
   "source": [
    "#wap take the length and breadth a rectangle calculate area\n",
    "#var1: length var2: breadth\n",
    "#formulae: length*breadth\n",
    "\n",
    "var1=int(input(\"Enter length:\"))\n",
    "var2=int(input(\"Enter Breath:\"))\n",
    "area=var1*var2\n",
    "print(\"Area of Reactangle of length {} and height {} is: {}\".format(var1,var2,area))\n",
    "print(f\"Area of Reactangle of length {var1} and height {var2} is: {area}\")\n"
   ]
  },
  {
   "cell_type": "code",
   "execution_count": 1,
   "id": "b5ae0f74-9807-4c83-a2d6-830cc369d641",
   "metadata": {},
   "outputs": [
    {
     "data": {
      "text/plain": [
       "<bound method Kernel.raw_input of <ipykernel.ipkernel.IPythonKernel object at 0x0000019886C13920>>"
      ]
     },
     "execution_count": 1,
     "metadata": {},
     "output_type": "execute_result"
    }
   ],
   "source": [
    "input"
   ]
  }
 ],
 "metadata": {
  "kernelspec": {
   "display_name": "Python 3 (ipykernel)",
   "language": "python",
   "name": "python3"
  },
  "language_info": {
   "codemirror_mode": {
    "name": "ipython",
    "version": 3
   },
   "file_extension": ".py",
   "mimetype": "text/x-python",
   "name": "python",
   "nbconvert_exporter": "python",
   "pygments_lexer": "ipython3",
   "version": "3.12.7"
  }
 },
 "nbformat": 4,
 "nbformat_minor": 5
}
