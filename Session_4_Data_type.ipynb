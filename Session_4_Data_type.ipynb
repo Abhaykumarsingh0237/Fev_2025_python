{
 "cells": [
  {
   "cell_type": "markdown",
   "id": "d8c7dc21-78ff-4087-9024-ce446f9345dd",
   "metadata": {},
   "source": [
    "## Data type"
   ]
  },
  {
   "cell_type": "markdown",
   "id": "ad1c0ab9-c262-4ebc-82a1-7032e1720616",
   "metadata": {},
   "source": [
    "- integer : int\n",
    "\n",
    "- float \n",
    "\n",
    "- string\n",
    "\n",
    "- list\n",
    "\n",
    "- tuple\n",
    "\n",
    "- set\n",
    "\n",
    "- frozen set\n",
    "\n",
    "- dictionary\n",
    "\n",
    "- boolen\n",
    "\n",
    "- complex\n",
    "\n",
    "- range\n",
    "\n",
    "- byte\n",
    "\n",
    "- byte array\n",
    "\n",
    "- memory view\n",
    "\n",
    "- None type"
   ]
  },
  {
   "cell_type": "markdown",
   "id": "b182d3a4-e1e6-47ae-b0a9-ded80e0320cb",
   "metadata": {},
   "source": [
    "$integer$"
   ]
  },
  {
   "cell_type": "markdown",
   "id": "78bdf52d-68f8-4b76-a16e-8100c03fdd27",
   "metadata": {},
   "source": [
    "<abhay>"
   ]
  },
  {
   "cell_type": "markdown",
   "id": "66abae9a-2503-4ad5-8b06-cd67317d332a",
   "metadata": {},
   "source": [
    "<i>**integer**<i>"
   ]
  },
  {
   "cell_type": "code",
   "execution_count": 3,
   "id": "3a247d88-0033-446f-96b6-0ee3509d98fa",
   "metadata": {},
   "outputs": [
    {
     "data": {
      "text/plain": [
       "100"
      ]
     },
     "execution_count": 3,
     "metadata": {},
     "output_type": "execute_result"
    }
   ],
   "source": [
    "number=100\n",
    "number"
   ]
  },
  {
   "cell_type": "code",
   "execution_count": 4,
   "id": "91ddf8b0-f46d-4b77-861b-abaa049ee7b9",
   "metadata": {},
   "outputs": [
    {
     "data": {
      "text/plain": [
       "int"
      ]
     },
     "execution_count": 4,
     "metadata": {},
     "output_type": "execute_result"
    }
   ],
   "source": [
    "type(number)"
   ]
  },
  {
   "cell_type": "markdown",
   "id": "90917d7c-82f6-45f3-8809-9c9e4bf92f7d",
   "metadata": {},
   "source": [
    "**number system**\n",
    "- Binary number system\n",
    "- Decimal number system\n",
    "- Octa number system\n",
    "- Hexa number system"
   ]
  },
  {
   "cell_type": "markdown",
   "id": "f3ba1cee-9c4f-465f-940b-e32aedbf601f",
   "metadata": {},
   "source": [
    "**Binary number system**\n",
    "\n",
    "- it is denoted with **0b** or **0B**\n",
    "- Binary means two\n",
    "- we have generally 0 to 9 digits available\n",
    "- binary means only two digits allowed : 0 and 1\n",
    "- ex : 0b101 0b111 0b000 0B001\n",
    "- not valid : 0b23 0B1000012"
   ]
  },
  {
   "cell_type": "code",
   "execution_count": 8,
   "id": "64d03044-a9ae-45af-bbed-98cd206a6b6b",
   "metadata": {},
   "outputs": [
    {
     "data": {
      "text/plain": [
       "7"
      ]
     },
     "execution_count": 8,
     "metadata": {},
     "output_type": "execute_result"
    }
   ],
   "source": [
    "0b111"
   ]
  },
  {
   "cell_type": "code",
   "execution_count": 9,
   "id": "e4aa5f86-fe7e-4aa3-aa39-ad71b24aadff",
   "metadata": {},
   "outputs": [
    {
     "ename": "NameError",
     "evalue": "name 'ob111' is not defined",
     "output_type": "error",
     "traceback": [
      "\u001b[1;31m---------------------------------------------------------------------------\u001b[0m",
      "\u001b[1;31mNameError\u001b[0m                                 Traceback (most recent call last)",
      "Cell \u001b[1;32mIn[9], line 1\u001b[0m\n\u001b[1;32m----> 1\u001b[0m ob111\n",
      "\u001b[1;31mNameError\u001b[0m: name 'ob111' is not defined"
     ]
    }
   ],
   "source": [
    "ob111 #o not used  only zero excuted"
   ]
  },
  {
   "cell_type": "code",
   "execution_count": 10,
   "id": "5919cbf0-ddfe-4f1d-bc15-1edbe753008c",
   "metadata": {},
   "outputs": [
    {
     "data": {
      "text/plain": [
       "14"
      ]
     },
     "execution_count": 10,
     "metadata": {},
     "output_type": "execute_result"
    }
   ],
   "source": [
    "0b1110"
   ]
  },
  {
   "cell_type": "code",
   "execution_count": 11,
   "id": "1bb9fdfe-9f4a-40b1-a08f-dcc259b0f0ce",
   "metadata": {},
   "outputs": [
    {
     "data": {
      "text/plain": [
       "45"
      ]
     },
     "execution_count": 11,
     "metadata": {},
     "output_type": "execute_result"
    }
   ],
   "source": [
    "0b101101"
   ]
  },
  {
   "cell_type": "code",
   "execution_count": 12,
   "id": "019b6829-f7fa-4e36-ba95-fd153e5e0e17",
   "metadata": {},
   "outputs": [
    {
     "ename": "SyntaxError",
     "evalue": "invalid syntax (1069325704.py, line 1)",
     "output_type": "error",
     "traceback": [
      "\u001b[1;36m  Cell \u001b[1;32mIn[12], line 1\u001b[1;36m\u001b[0m\n\u001b[1;33m    2^2  2^1 2^0\u001b[0m\n\u001b[1;37m         ^\u001b[0m\n\u001b[1;31mSyntaxError\u001b[0m\u001b[1;31m:\u001b[0m invalid syntax\n"
     ]
    }
   ],
   "source": [
    "2^2  2^1  2^0\n",
    "4     2    1\n",
    "######################\n",
    "0     0    0     0\n",
    "0     0    1     1\n",
    "0     1    0     2\n",
    "0     1    1     3\n",
    "1     0    0     4\n",
    "1     0    1     5\n",
    "1     1    0     6  \n",
    "1     1    1     7\n"
   ]
  },
  {
   "cell_type": "code",
   "execution_count": null,
   "id": "cd48e226-0b70-4f68-8429-5a5b3a431774",
   "metadata": {},
   "outputs": [],
   "source": [
    "8   4    2    1\n",
    "##############################\n",
    "0   0    0    0       0\n",
    "0   0    0    1       1\n",
    "0   0    1    0       2\n",
    "0   0    1    1       3\n",
    "0   1    0    0       4\n",
    "0   1    0    1       5\n",
    "0   1    1    0       6\n",
    "0   1    1    1       7\n",
    "1   0    0    0       8\n",
    "1   0    0    1       9\n",
    "1   0    1    0       10\n",
    "1   0    1    1       11\n",
    "1   1    0    0       12\n",
    "1   1    0    1       13\n",
    "1   1    1    0       14\n",
    "1   1    1    1       15\n"
   ]
  },
  {
   "cell_type": "code",
   "execution_count": null,
   "id": "6267b4b1-1a95-45e8-aa16-f2a9a6a9969d",
   "metadata": {},
   "outputs": [],
   "source": [
    "**Octa number system**\n",
    "\n",
    "- it is denoted with **0o** or **0o**\n",
    "- Binary means 8\n",
    "- we have generally 0 to 9 digits available\n",
    "- binary means only two digits allowed : 0 1 2 3 4 5 6 7\n",
    "- ex : 0o101, 0o111, 0o000, 0o001\n",
    "- not valid : 0o239 ,0o10000128"
   ]
  },
  {
   "cell_type": "code",
   "execution_count": 16,
   "id": "3b6abcba-3316-443f-b95b-ff75e5a27854",
   "metadata": {},
   "outputs": [
    {
     "ename": "SyntaxError",
     "evalue": "invalid octal literal (2885019620.py, line 1)",
     "output_type": "error",
     "traceback": [
      "\u001b[1;36m  Cell \u001b[1;32mIn[16], line 1\u001b[1;36m\u001b[0m\n\u001b[1;33m    0o12A\u001b[0m\n\u001b[1;37m       ^\u001b[0m\n\u001b[1;31mSyntaxError\u001b[0m\u001b[1;31m:\u001b[0m invalid octal literal\n"
     ]
    }
   ],
   "source": []
  },
  {
   "cell_type": "code",
   "execution_count": 13,
   "id": "fcddf7c2-07d6-42ae-a0f3-39d32016da80",
   "metadata": {},
   "outputs": [
    {
     "data": {
      "text/plain": [
       "262154"
      ]
     },
     "execution_count": 13,
     "metadata": {},
     "output_type": "execute_result"
    }
   ],
   "source": [
    "0o1000012"
   ]
  },
  {
   "cell_type": "code",
   "execution_count": 13,
   "id": "078fe2cb-41d3-4b76-8ff3-201fe3257825",
   "metadata": {},
   "outputs": [
    {
     "data": {
      "text/plain": [
       "83"
      ]
     },
     "execution_count": 13,
     "metadata": {},
     "output_type": "execute_result"
    }
   ],
   "source": [
    "0o123"
   ]
  },
  {
   "cell_type": "code",
   "execution_count": 14,
   "id": "13b7bd58-ad46-454a-94bf-295187b444bf",
   "metadata": {},
   "outputs": [
    {
     "data": {
      "text/plain": [
       "81"
      ]
     },
     "execution_count": 14,
     "metadata": {},
     "output_type": "execute_result"
    }
   ],
   "source": [
    "0o121"
   ]
  },
  {
   "cell_type": "markdown",
   "id": "91fe42d0-f2c7-4168-812b-ee56cde84906",
   "metadata": {},
   "source": [
    "**Octa**\n",
    "- 1  2   3\n",
    "- 8^2 8^1 8^0\n",
    "- 64 + 16  + 3\n",
    "- 83"
   ]
  },
  {
   "cell_type": "code",
   "execution_count": null,
   "id": "76920651-fd15-4e43-9e00-a38f234bc847",
   "metadata": {},
   "outputs": [],
   "source": [
    "**hexa number system**\n",
    "\n",
    "- it is denoted with **0x** or **oX**\n",
    "- Binary means 16\n",
    "- we have generally 0 to 9 digits available\n",
    "- binary means only two digits allowed : 0 to 9 A to F\n",
    "- A:10 B:11 C:12 D:13 E:14 F:15\n",
    "- ex : 0xabc  0XA1\n",
    "- not valid : 0xefg"
   ]
  },
  {
   "cell_type": "code",
   "execution_count": 15,
   "id": "9e77a102-4c74-4905-85fa-c08adc78cace",
   "metadata": {},
   "outputs": [
    {
     "data": {
      "text/plain": [
       "2748"
      ]
     },
     "execution_count": 15,
     "metadata": {},
     "output_type": "execute_result"
    }
   ],
   "source": [
    "0xabc"
   ]
  },
  {
   "cell_type": "code",
   "execution_count": 16,
   "id": "05bc89d9-a65b-4396-8821-2e83cc15257a",
   "metadata": {},
   "outputs": [
    {
     "data": {
      "text/plain": [
       "3295"
      ]
     },
     "execution_count": 16,
     "metadata": {},
     "output_type": "execute_result"
    }
   ],
   "source": [
    "0Xcdf"
   ]
  },
  {
   "cell_type": "code",
   "execution_count": 17,
   "id": "98701ac7-0e30-46b5-a8c4-87d60a984f22",
   "metadata": {},
   "outputs": [
    {
     "data": {
      "text/plain": [
       "3295"
      ]
     },
     "execution_count": 17,
     "metadata": {},
     "output_type": "execute_result"
    }
   ],
   "source": [
    "0xcdf"
   ]
  },
  {
   "cell_type": "code",
   "execution_count": 18,
   "id": "80e9d2f1-c38d-4977-acf8-79eb8c35d743",
   "metadata": {},
   "outputs": [
    {
     "data": {
      "text/plain": [
       "2025"
      ]
     },
     "execution_count": 18,
     "metadata": {},
     "output_type": "execute_result"
    }
   ],
   "source": [
    "0b11111101001"
   ]
  },
  {
   "cell_type": "code",
   "execution_count": 19,
   "id": "f836e957-9eb8-4515-b928-0e91eaea92a5",
   "metadata": {},
   "outputs": [
    {
     "data": {
      "text/plain": [
       "33321"
      ]
     },
     "execution_count": 19,
     "metadata": {},
     "output_type": "execute_result"
    }
   ],
   "source": [
    "0x8229"
   ]
  },
  {
   "cell_type": "code",
   "execution_count": 20,
   "id": "afe65b51-9535-4a3c-9c90-49d54ad9cedf",
   "metadata": {},
   "outputs": [
    {
     "data": {
      "text/plain": [
       "2025"
      ]
     },
     "execution_count": 20,
     "metadata": {},
     "output_type": "execute_result"
    }
   ],
   "source": [
    "0x7E9"
   ]
  },
  {
   "cell_type": "markdown",
   "id": "af90aa1a-cbd0-4d62-99ab-8ab6f6980242",
   "metadata": {},
   "source": [
    "**float**"
   ]
  },
  {
   "cell_type": "code",
   "execution_count": 22,
   "id": "efa105cf-71ca-40e5-9520-10676ec96424",
   "metadata": {},
   "outputs": [
    {
     "data": {
      "text/plain": [
       "float"
      ]
     },
     "execution_count": 22,
     "metadata": {},
     "output_type": "execute_result"
    }
   ],
   "source": [
    "number= 10.5\n",
    "type(number)"
   ]
  },
  {
   "cell_type": "markdown",
   "id": "e2c945b0-db71-4ae9-acb5-d80268f08cef",
   "metadata": {},
   "source": [
    "**e represntation**"
   ]
  },
  {
   "cell_type": "code",
   "execution_count": null,
   "id": "ab9f6f9f-15c1-4ea3-85db-49490da27b81",
   "metadata": {},
   "outputs": [],
   "source": [
    "+  - \n",
    "*  /\n",
    "there are rule :\n"
   ]
  },
  {
   "cell_type": "code",
   "execution_count": 17,
   "id": "96c0f953-5435-4b0b-8b35-c4c994f1887f",
   "metadata": {},
   "outputs": [
    {
     "data": {
      "text/plain": [
       "10.0"
      ]
     },
     "execution_count": 17,
     "metadata": {},
     "output_type": "execute_result"
    }
   ],
   "source": [
    "1e1"
   ]
  },
  {
   "cell_type": "code",
   "execution_count": 18,
   "id": "5fedd26d-5e65-4fda-9202-f56b71085bc7",
   "metadata": {},
   "outputs": [
    {
     "data": {
      "text/plain": [
       "100.0"
      ]
     },
     "execution_count": 18,
     "metadata": {},
     "output_type": "execute_result"
    }
   ],
   "source": [
    "1e2"
   ]
  },
  {
   "cell_type": "code",
   "execution_count": 19,
   "id": "08d891f1-eb6a-4a3c-b198-48b1446e4491",
   "metadata": {},
   "outputs": [
    {
     "data": {
      "text/plain": [
       "1000.0"
      ]
     },
     "execution_count": 19,
     "metadata": {},
     "output_type": "execute_result"
    }
   ],
   "source": [
    "1e3"
   ]
  },
  {
   "cell_type": "code",
   "execution_count": 23,
   "id": "ffedc7b2-0734-4635-aa31-7b0074bf9afa",
   "metadata": {},
   "outputs": [
    {
     "data": {
      "text/plain": [
       "20000.0"
      ]
     },
     "execution_count": 23,
     "metadata": {},
     "output_type": "execute_result"
    }
   ],
   "source": [
    "2e4  # 2* 10000"
   ]
  },
  {
   "cell_type": "code",
   "execution_count": 28,
   "id": "c04e1202-8682-4c16-9bad-27b09f11a308",
   "metadata": {},
   "outputs": [
    {
     "data": {
      "text/plain": [
       "40000.0"
      ]
     },
     "execution_count": 28,
     "metadata": {},
     "output_type": "execute_result"
    }
   ],
   "source": [
    "1e1   #1*10= 10\n",
    "1e2   # 1*100 = 100\n",
    "2e3   # 2*1000= 2000\n",
    "4e4   # 4*10000=40000"
   ]
  },
  {
   "cell_type": "code",
   "execution_count": 31,
   "id": "140fd2c1-cab4-4f2f-8dd7-9e754efa3821",
   "metadata": {},
   "outputs": [
    {
     "name": "stdout",
     "output_type": "stream",
     "text": [
      "10.0\n",
      "100.0\n",
      "2000.0\n",
      "40000.0\n"
     ]
    }
   ],
   "source": [
    "print(1e+1)  #1*10= 10\n",
    "print(1e+2)  # 1*100 = 100\n",
    "print(2e+3)  # 2*1000= 2000\n",
    "print(4e+4)  # 4*10000=40000"
   ]
  },
  {
   "cell_type": "code",
   "execution_count": 29,
   "id": "d7cfb519-167e-48dd-8ae0-642706779055",
   "metadata": {},
   "outputs": [
    {
     "name": "stdout",
     "output_type": "stream",
     "text": [
      "0.1\n",
      "0.01\n",
      "0.002\n",
      "0.0004\n"
     ]
    }
   ],
   "source": [
    "print(1e-1)  #1/10= 0.1\n",
    "print(1e-2)  # 1/100 = 0.01\n",
    "print(2e-3)  # 2/1000= 0.002\n",
    "print(4e-4)  #4/10000=0.0004"
   ]
  },
  {
   "cell_type": "code",
   "execution_count": 1,
   "id": "933bd095-9b17-4744-9853-4247677447b6",
   "metadata": {},
   "outputs": [
    {
     "data": {
      "text/plain": [
       "30.0"
      ]
     },
     "execution_count": 1,
     "metadata": {},
     "output_type": "execute_result"
    }
   ],
   "source": [
    "3e1"
   ]
  },
  {
   "cell_type": "code",
   "execution_count": 2,
   "id": "0746a97a-5ab3-473b-9fe5-09ac606bcdb4",
   "metadata": {},
   "outputs": [
    {
     "data": {
      "text/plain": [
       "3000.0"
      ]
     },
     "execution_count": 2,
     "metadata": {},
     "output_type": "execute_result"
    }
   ],
   "source": [
    "3e3"
   ]
  },
  {
   "cell_type": "code",
   "execution_count": 3,
   "id": "a90004c5-da89-4542-b838-13ae0bb2ae85",
   "metadata": {},
   "outputs": [
    {
     "data": {
      "text/plain": [
       "2000.0"
      ]
     },
     "execution_count": 3,
     "metadata": {},
     "output_type": "execute_result"
    }
   ],
   "source": [
    "2e3"
   ]
  },
  {
   "cell_type": "markdown",
   "id": "126a4817-c666-4077-af70-b0e4cdc18e10",
   "metadata": {},
   "source": [
    "**boolean**"
   ]
  },
  {
   "cell_type": "code",
   "execution_count": null,
   "id": "0cfc0bb9-a6c3-4bc5-992b-4612977842fa",
   "metadata": {},
   "outputs": [],
   "source": [
    "True \n",
    "False "
   ]
  },
  {
   "cell_type": "code",
   "execution_count": 4,
   "id": "c28ca46c-027a-440a-8e4e-212b68cceb87",
   "metadata": {},
   "outputs": [
    {
     "data": {
      "text/plain": [
       "True"
      ]
     },
     "execution_count": 4,
     "metadata": {},
     "output_type": "execute_result"
    }
   ],
   "source": [
    "val= True\n",
    "val"
   ]
  },
  {
   "cell_type": "code",
   "execution_count": 6,
   "id": "0e333338-ffc3-482c-8ac8-0e459affc8f0",
   "metadata": {},
   "outputs": [
    {
     "data": {
      "text/plain": [
       "bool"
      ]
     },
     "execution_count": 6,
     "metadata": {},
     "output_type": "execute_result"
    }
   ],
   "source": [
    "type(val)"
   ]
  },
  {
   "cell_type": "code",
   "execution_count": 2,
   "id": "81232341-6caf-42da-ab93-46955f738597",
   "metadata": {},
   "outputs": [
    {
     "data": {
      "text/plain": [
       "False"
      ]
     },
     "execution_count": 2,
     "metadata": {},
     "output_type": "execute_result"
    }
   ],
   "source": [
    "val1=False\n",
    "val1"
   ]
  },
  {
   "cell_type": "code",
   "execution_count": 4,
   "id": "1a36c06d-6335-4522-bec4-f87557c952c4",
   "metadata": {},
   "outputs": [
    {
     "data": {
      "text/plain": [
       "bool"
      ]
     },
     "execution_count": 4,
     "metadata": {},
     "output_type": "execute_result"
    }
   ],
   "source": [
    "type(val1)"
   ]
  },
  {
   "cell_type": "markdown",
   "id": "4b5046d4-5326-46f2-90c9-59e5243ea7e6",
   "metadata": {},
   "source": [
    "**strings**"
   ]
  },
  {
   "cell_type": "markdown",
   "id": "f0038be9-a005-44d3-b520-4859de01b9a2",
   "metadata": {},
   "source": [
    "- English format representation\n",
    "- strings represent with quotes\n",
    "- we can use single quotes , double quotes, also triple quotes"
   ]
  },
  {
   "cell_type": "code",
   "execution_count": 17,
   "id": "17b2c947-1279-4a61-8b72-7d7680ad6b03",
   "metadata": {},
   "outputs": [
    {
     "data": {
      "text/plain": [
       "'python'"
      ]
     },
     "execution_count": 17,
     "metadata": {},
     "output_type": "execute_result"
    }
   ],
   "source": [
    "name = 'python'\n",
    "name"
   ]
  },
  {
   "cell_type": "code",
   "execution_count": 14,
   "id": "32c6276c-a767-4b84-ab2c-8217944d45be",
   "metadata": {},
   "outputs": [
    {
     "name": "stdout",
     "output_type": "stream",
     "text": [
      "python\n"
     ]
    }
   ],
   "source": [
    "print(name)"
   ]
  },
  {
   "cell_type": "code",
   "execution_count": 21,
   "id": "00aefa60-0c3d-4b1f-8bc1-f949cf801be8",
   "metadata": {},
   "outputs": [
    {
     "data": {
      "text/plain": [
       "'naresh it'"
      ]
     },
     "execution_count": 21,
     "metadata": {},
     "output_type": "execute_result"
    }
   ],
   "source": [
    "name=\"naresh it\"\n",
    "name\n",
    "#but the output displayed as single quotes"
   ]
  },
  {
   "cell_type": "code",
   "execution_count": 5,
   "id": "195a20ce-5744-4692-8119-3f55ff0c40b7",
   "metadata": {},
   "outputs": [
    {
     "data": {
      "text/plain": [
       "str"
      ]
     },
     "execution_count": 5,
     "metadata": {},
     "output_type": "execute_result"
    }
   ],
   "source": [
    "type(\"name\")"
   ]
  },
  {
   "cell_type": "code",
   "execution_count": 24,
   "id": "201195c4-8cfc-4b76-b463-471f365a7115",
   "metadata": {},
   "outputs": [
    {
     "name": "stdout",
     "output_type": "stream",
     "text": [
      "naresh it\n"
     ]
    }
   ],
   "source": [
    "print(name)"
   ]
  },
  {
   "cell_type": "code",
   "execution_count": 25,
   "id": "ed4aa505-ca51-48c5-a66e-1abfeeae717a",
   "metadata": {},
   "outputs": [
    {
     "data": {
      "text/plain": [
       "'i love python'"
      ]
     },
     "execution_count": 25,
     "metadata": {},
     "output_type": "execute_result"
    }
   ],
   "source": [
    "str1=\"i love python\"\n",
    "str1"
   ]
  },
  {
   "cell_type": "code",
   "execution_count": 26,
   "id": "20509511-82af-44d5-8bd1-9e8ef7ac1bc8",
   "metadata": {},
   "outputs": [
    {
     "data": {
      "text/plain": [
       "'i love \"python\"'"
      ]
     },
     "execution_count": 26,
     "metadata": {},
     "output_type": "execute_result"
    }
   ],
   "source": [
    "str1= 'i love \"python\"'\n",
    "str1"
   ]
  },
  {
   "cell_type": "code",
   "execution_count": 27,
   "id": "0e54d66a-7e6d-4283-bcb3-0a5401083aaa",
   "metadata": {},
   "outputs": [
    {
     "name": "stdout",
     "output_type": "stream",
     "text": [
      "i love \"python\"\n"
     ]
    }
   ],
   "source": [
    "str1= 'i love \"python\"'\n",
    "print(str1)"
   ]
  },
  {
   "cell_type": "markdown",
   "id": "cb0f16a5-1e37-41ea-87d3-bd6a193f56e1",
   "metadata": {},
   "source": [
    "- keep entire string in double quotes then highlite the word with single quote value versa"
   ]
  },
  {
   "cell_type": "markdown",
   "id": "82fce3d1-7868-4440-b7c7-e23501046ee8",
   "metadata": {},
   "source": [
    "**triple quotes**\n",
    "\n",
    "- triple quotes can not use inn coding part\n",
    "\n",
    "- triple quotes mens conveying the inforamtion\n",
    "\n",
    "- this is process is called as **Doc string**\n",
    "\n",
    "- in jupyter notebook we have markdown option\n",
    "\n",
    "- but in vscode or pycharm there is no markdown option\n",
    "\n",
    "- so user will convey the information by providing triple quotes"
   ]
  },
  {
   "cell_type": "code",
   "execution_count": null,
   "id": "73f8e1ec-2bb2-4aec-b256-c3cba259f096",
   "metadata": {},
   "outputs": [],
   "source": [
    "\"\"\" hai\n",
    "today im learning python\n",
    "its easy\"\"\""
   ]
  },
  {
   "cell_type": "code",
   "execution_count": 23,
   "id": "a77fca55-4be6-46f4-ba3a-aa3f72f9cf99",
   "metadata": {},
   "outputs": [
    {
     "ename": "SyntaxError",
     "evalue": "cannot assign to True (3034583466.py, line 5)",
     "output_type": "error",
     "traceback": [
      "\u001b[1;36m  Cell \u001b[1;32mIn[23], line 5\u001b[1;36m\u001b[0m\n\u001b[1;33m    True=True   #fall\u001b[0m\n\u001b[1;37m    ^\u001b[0m\n\u001b[1;31mSyntaxError\u001b[0m\u001b[1;31m:\u001b[0m cannot assign to True\n"
     ]
    }
   ],
   "source": [
    "true=True   #works\n",
    "true='True' #works\n",
    "true=10.5   #works\n",
    "True=10     #fall  \n",
    "True=True   #fall"
   ]
  },
  {
   "cell_type": "code",
   "execution_count": null,
   "id": "378690ba-20da-448d-ac6d-528dbaac1067",
   "metadata": {},
   "outputs": [],
   "source": []
  }
 ],
 "metadata": {
  "kernelspec": {
   "display_name": "Python 3 (ipykernel)",
   "language": "python",
   "name": "python3"
  },
  "language_info": {
   "codemirror_mode": {
    "name": "ipython",
    "version": 3
   },
   "file_extension": ".py",
   "mimetype": "text/x-python",
   "name": "python",
   "nbconvert_exporter": "python",
   "pygments_lexer": "ipython3",
   "version": "3.12.7"
  }
 },
 "nbformat": 4,
 "nbformat_minor": 5
}
