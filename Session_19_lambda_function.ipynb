{
 "cells": [
  {
   "cell_type": "markdown",
   "id": "c75b65f3-1297-4ec3-8cc8-7c6471014b5a",
   "metadata": {},
   "source": [
    "**List Comprehension 4 methods**\n",
    "\n",
    "- method1: [output forloop]\n",
    "\n",
    "- method2: [output forloop if condition]\n",
    "\n",
    "- method3 : [if output if condition  else else output for loop]\n",
    "\n",
    "- method4 : [ifout ifcond else elifout elifcond else elseout for loop]"
   ]
  },
  {
   "cell_type": "markdown",
   "id": "4e7b29d8-dc09-406c-a696-29ffa086ed74",
   "metadata": {},
   "source": [
    "**Lambda function**\n",
    "\n",
    "- lambda functions represents function in a single line\n",
    "- it is similar analogy to list comprehension\n",
    "- to reduce the time complexity will go for lambda function"
   ]
  },
  {
   "cell_type": "markdown",
   "id": "6faed1db-3551-4ea8-b23d-cfb06e4af2be",
   "metadata": {},
   "source": [
    "$pattern$-1 : function with one argument"
   ]
  },
  {
   "cell_type": "code",
   "execution_count": 5,
   "id": "c15cfeb1-e53e-4cdd-a43b-446f6047361b",
   "metadata": {},
   "outputs": [
    {
     "data": {
      "text/plain": [
       "400"
      ]
     },
     "execution_count": 5,
     "metadata": {},
     "output_type": "execute_result"
    }
   ],
   "source": [
    "def mul(a):\n",
    "    return (a*a)\n",
    "\n",
    "ans=mul(20)\n",
    "ans"
   ]
  },
  {
   "cell_type": "code",
   "execution_count": null,
   "id": "0766fa1c-4fa1-440d-a9f1-97eae4cb06ad",
   "metadata": {},
   "outputs": [],
   "source": [
    "# syntax\n",
    "# function_name= lambda <argument> : <return output>\n",
    "# in the above\n",
    "# function_name= mul\n",
    "# argument name= a\n",
    "#return output = a*a\n",
    "\n"
   ]
  },
  {
   "cell_type": "code",
   "execution_count": 6,
   "id": "d286d156-a10d-497b-a479-57868711deba",
   "metadata": {},
   "outputs": [
    {
     "data": {
      "text/plain": [
       "<function __main__.<lambda>(a)>"
      ]
     },
     "execution_count": 6,
     "metadata": {},
     "output_type": "execute_result"
    }
   ],
   "source": [
    "mul= lambda a: a*a\n",
    "mul"
   ]
  },
  {
   "cell_type": "code",
   "execution_count": 7,
   "id": "15795967-bad2-4b1d-a53b-f9e5c9d79213",
   "metadata": {},
   "outputs": [
    {
     "data": {
      "text/plain": [
       "400"
      ]
     },
     "execution_count": 7,
     "metadata": {},
     "output_type": "execute_result"
    }
   ],
   "source": [
    "mul= lambda a: a*a\n",
    "mul(20)"
   ]
  },
  {
   "cell_type": "code",
   "execution_count": 10,
   "id": "5535d80e-d450-4201-9f35-db6dff1cae5e",
   "metadata": {},
   "outputs": [
    {
     "data": {
      "text/plain": [
       "1000"
      ]
     },
     "execution_count": 10,
     "metadata": {},
     "output_type": "execute_result"
    }
   ],
   "source": [
    "def cube(a):\n",
    "    return (a*a*a)\n",
    "\n",
    "cube(10)"
   ]
  },
  {
   "cell_type": "code",
   "execution_count": 12,
   "id": "8507aa2a-e6cd-472e-84b1-9880760e6f77",
   "metadata": {},
   "outputs": [
    {
     "data": {
      "text/plain": [
       "8000"
      ]
     },
     "execution_count": 12,
     "metadata": {},
     "output_type": "execute_result"
    }
   ],
   "source": [
    "cube=lambda a:(a*a*a)\n",
    "cube(20)"
   ]
  },
  {
   "cell_type": "markdown",
   "id": "d130f92a-f210-42eb-a096-9ae93ebf43bb",
   "metadata": {},
   "source": [
    "$pattern-2$ : **function with two arguments**"
   ]
  },
  {
   "cell_type": "code",
   "execution_count": 16,
   "id": "9522608a-f0f0-477f-8a14-5506f2581d8f",
   "metadata": {},
   "outputs": [
    {
     "data": {
      "text/plain": [
       "30"
      ]
     },
     "execution_count": 16,
     "metadata": {},
     "output_type": "execute_result"
    }
   ],
   "source": [
    "def add(a,b):\n",
    "    return (a+b)\n",
    "\n",
    "add(10,20)\n"
   ]
  },
  {
   "cell_type": "code",
   "execution_count": 20,
   "id": "78824b05-c33c-48c5-859d-a006e08a4134",
   "metadata": {},
   "outputs": [
    {
     "data": {
      "text/plain": [
       "80"
      ]
     },
     "execution_count": 20,
     "metadata": {},
     "output_type": "execute_result"
    }
   ],
   "source": [
    "def sub(a,b):\n",
    "    return (a-b)\n",
    "\n",
    "sub(100,20)"
   ]
  },
  {
   "cell_type": "code",
   "execution_count": 4,
   "id": "d12e2a60-e07c-429a-815e-684b8f04347e",
   "metadata": {},
   "outputs": [
    {
     "data": {
      "text/plain": [
       "200"
      ]
     },
     "execution_count": 4,
     "metadata": {},
     "output_type": "execute_result"
    }
   ],
   "source": [
    "def mul(a,b):\n",
    "    return (a*b)\n",
    "\n",
    "mul(10,20)\n"
   ]
  },
  {
   "cell_type": "code",
   "execution_count": 6,
   "id": "a30478d9-04e3-4e5a-ad29-2539ea94f01d",
   "metadata": {},
   "outputs": [
    {
     "data": {
      "text/plain": [
       "5.0"
      ]
     },
     "execution_count": 6,
     "metadata": {},
     "output_type": "execute_result"
    }
   ],
   "source": [
    "def div(a,b):\n",
    "    return (a/b)\n",
    "\n",
    "div(100,20)"
   ]
  },
  {
   "cell_type": "code",
   "execution_count": null,
   "id": "9ef06b31-9123-4228-888f-2cdd76ac23bd",
   "metadata": {},
   "outputs": [],
   "source": [
    "# syntax \n",
    "# function name = lambda arg1,arg2 : return_statement"
   ]
  },
  {
   "cell_type": "code",
   "execution_count": 8,
   "id": "fb5373d0-3a53-4ebf-b3b4-0ac9ed3908e6",
   "metadata": {},
   "outputs": [
    {
     "data": {
      "text/plain": [
       "120"
      ]
     },
     "execution_count": 8,
     "metadata": {},
     "output_type": "execute_result"
    }
   ],
   "source": [
    "add=lambda a,b :a+b\n",
    "add(10,110)"
   ]
  },
  {
   "cell_type": "code",
   "execution_count": 12,
   "id": "6197ad99-8c33-4449-868f-99c2478d5a3e",
   "metadata": {},
   "outputs": [
    {
     "data": {
      "text/plain": [
       "80"
      ]
     },
     "execution_count": 12,
     "metadata": {},
     "output_type": "execute_result"
    }
   ],
   "source": [
    "sub = lambda a,b:(a-b)\n",
    "sub(100,20)"
   ]
  },
  {
   "cell_type": "code",
   "execution_count": 13,
   "id": "590cedf6-cb13-4392-90ab-dad9a1b91ad4",
   "metadata": {},
   "outputs": [
    {
     "data": {
      "text/plain": [
       "200"
      ]
     },
     "execution_count": 13,
     "metadata": {},
     "output_type": "execute_result"
    }
   ],
   "source": [
    "mul =lambda a,b : (a*b)\n",
    "mul(10,20)"
   ]
  },
  {
   "cell_type": "markdown",
   "id": "1a16a98d-bff8-40b1-9ab5-95d9dd7fe1c4",
   "metadata": {},
   "source": [
    "$pattern -3$ : **Three arguments**"
   ]
  },
  {
   "cell_type": "code",
   "execution_count": 12,
   "id": "3956579e-f740-438f-9d40-19397c22c329",
   "metadata": {},
   "outputs": [
    {
     "data": {
      "text/plain": [
       "(18, 2)"
      ]
     },
     "execution_count": 12,
     "metadata": {},
     "output_type": "execute_result"
    }
   ],
   "source": [
    "def avg(a,b,c):\n",
    "    return (round((a+b+c)/3),2)\n",
    "\n",
    "avg(9,23,21)"
   ]
  },
  {
   "cell_type": "code",
   "execution_count": 13,
   "id": "322dfc3d-9b9c-449f-9e6d-1f7f864e53d2",
   "metadata": {},
   "outputs": [
    {
     "data": {
      "text/plain": [
       "150.67"
      ]
     },
     "execution_count": 13,
     "metadata": {},
     "output_type": "execute_result"
    }
   ],
   "source": [
    "avg= lambda a,b,c : round ((a+b+c)/3,2)\n",
    "avg(199,232,21)"
   ]
  },
  {
   "cell_type": "markdown",
   "id": "d985a915-b595-4370-8f26-94c033b4327a",
   "metadata": {},
   "source": [
    "$pattern-4$ : **default arguments**"
   ]
  },
  {
   "cell_type": "code",
   "execution_count": 14,
   "id": "a0052453-4c10-4a03-b9c7-d41336446e18",
   "metadata": {},
   "outputs": [
    {
     "data": {
      "text/plain": [
       "150.67"
      ]
     },
     "execution_count": 14,
     "metadata": {},
     "output_type": "execute_result"
    }
   ],
   "source": [
    "avg= lambda a,b,c=21 : round ((a+b+c)/3,2)\n",
    "avg(199,232)"
   ]
  },
  {
   "cell_type": "code",
   "execution_count": 22,
   "id": "1bde63d5-b799-4801-8db8-1007d3bb0218",
   "metadata": {},
   "outputs": [
    {
     "data": {
      "text/plain": [
       "150.67"
      ]
     },
     "execution_count": 22,
     "metadata": {},
     "output_type": "execute_result"
    }
   ],
   "source": [
    "avg= lambda a,b=232,c=21 : round ((a+b+c)/3,2)\n",
    "avg(199)"
   ]
  },
  {
   "cell_type": "code",
   "execution_count": 23,
   "id": "4218c93c-e7fc-4910-a83f-d427437efcc5",
   "metadata": {},
   "outputs": [
    {
     "data": {
      "text/plain": [
       "150.67"
      ]
     },
     "execution_count": 23,
     "metadata": {},
     "output_type": "execute_result"
    }
   ],
   "source": [
    "avg= lambda a=199,b=232,c=21 : round ((a+b+c)/3,2)\n",
    "avg()"
   ]
  },
  {
   "cell_type": "code",
   "execution_count": 19,
   "id": "9307ed71-64e2-466c-91dd-666d9bff25ad",
   "metadata": {},
   "outputs": [
    {
     "ename": "SyntaxError",
     "evalue": "parameter without a default follows parameter with a default (3258346645.py, line 1)",
     "output_type": "error",
     "traceback": [
      "\u001b[1;36m  Cell \u001b[1;32mIn[19], line 1\u001b[1;36m\u001b[0m\n\u001b[1;33m    avg= lambda a=199,b=231 ,c: round ((a+b+c)/3,2)\u001b[0m\n\u001b[1;37m                             ^\u001b[0m\n\u001b[1;31mSyntaxError\u001b[0m\u001b[1;31m:\u001b[0m parameter without a default follows parameter with a default\n"
     ]
    }
   ],
   "source": [
    "avg= lambda a=199,b=231 ,c: round ((a+b+c)/3,2)\n",
    "avg(231)"
   ]
  },
  {
   "cell_type": "markdown",
   "id": "5c5281ca-b264-42f6-9758-728a6e6f203e",
   "metadata": {},
   "source": [
    "$pattren-5$: **List cases**"
   ]
  },
  {
   "cell_type": "code",
   "execution_count": 29,
   "id": "681e8583-2e6d-4cfe-94fa-ca7c48927c21",
   "metadata": {},
   "outputs": [
    {
     "data": {
      "text/plain": [
       "['Hyd', 'Benguluru', 'Mumbai', 'Pune']"
      ]
     },
     "execution_count": 29,
     "metadata": {},
     "output_type": "execute_result"
    }
   ],
   "source": [
    "input=['hyd','benguluru','mumbai','pune']\n",
    "output=[]\n",
    "for i in input:\n",
    "    output.append(i.capitalize())\n",
    "\n",
    "output\n",
    "\n",
    "# output=[i.capitalize() for i in input]"
   ]
  },
  {
   "cell_type": "code",
   "execution_count": 30,
   "id": "e4b10561-e3d4-4696-8903-5d8d1128f312",
   "metadata": {},
   "outputs": [],
   "source": [
    "output=[i.capitalize() for i in input]"
   ]
  },
  {
   "cell_type": "code",
   "execution_count": null,
   "id": "8ad06eea-3d30-466b-ab01-f8b1af686069",
   "metadata": {},
   "outputs": [],
   "source": [
    "#step-1=lambda <variable>:<output>\n",
    "\n",
    "lambda i : i.capitalize()\n",
    "#step-2=lambda <variable>:<output> ,<iterator>\n",
    "\n",
    "lambda i : i.capitalize(), input\n",
    "#step-3=map(lambda <variable>:<output> ,<iterator>)\n",
    "\n",
    "map(lambda i : i.capitalize(),input)\n",
    "#step-4=list(map(lambda <variable>:<output> ,<iterator>\n",
    "\n",
    "list(map(lambda i : i.capitalize(),input))"
   ]
  },
  {
   "cell_type": "code",
   "execution_count": 31,
   "id": "5f586b98-aa3b-485b-aaff-cf3cbbb75470",
   "metadata": {},
   "outputs": [
    {
     "data": {
      "text/plain": [
       "<function __main__.<lambda>(i)>"
      ]
     },
     "execution_count": 31,
     "metadata": {},
     "output_type": "execute_result"
    }
   ],
   "source": [
    "#step-1=lambda <variable>:<output>\n",
    "\n",
    "lambda i : i.capitalize()"
   ]
  },
  {
   "cell_type": "code",
   "execution_count": 32,
   "id": "444fdb91-8aa6-4c41-8095-f9a22b5eb39f",
   "metadata": {},
   "outputs": [
    {
     "data": {
      "text/plain": [
       "(<function __main__.<lambda>(i)>, ['hyd', 'benguluru', 'mumbai', 'pune'])"
      ]
     },
     "execution_count": 32,
     "metadata": {},
     "output_type": "execute_result"
    }
   ],
   "source": [
    "#step-2=lambda <variable>:<output> ,<iterator>\n",
    "\n",
    "lambda i : i.capitalize(), input"
   ]
  },
  {
   "cell_type": "code",
   "execution_count": 34,
   "id": "c315174f-b431-4115-9c03-725994be1e0b",
   "metadata": {},
   "outputs": [
    {
     "data": {
      "text/plain": [
       "<map at 0x224b8369660>"
      ]
     },
     "execution_count": 34,
     "metadata": {},
     "output_type": "execute_result"
    }
   ],
   "source": [
    "#step-3=map(lambda <variable>:<output> ,<iterator>)\n",
    "map(lambda i : i.capitalize(),input)\n",
    "\n"
   ]
  },
  {
   "cell_type": "code",
   "execution_count": 35,
   "id": "daf36f5e-93ad-4cf4-b5d0-8ff973c158d1",
   "metadata": {},
   "outputs": [
    {
     "data": {
      "text/plain": [
       "['Hyd', 'Benguluru', 'Mumbai', 'Pune']"
      ]
     },
     "execution_count": 35,
     "metadata": {},
     "output_type": "execute_result"
    }
   ],
   "source": [
    "#step-4=list(map(lambda <variable>:<output> ,<iterator>\n",
    "\n",
    "list(map(lambda i : i.capitalize(),input))"
   ]
  },
  {
   "cell_type": "code",
   "execution_count": 36,
   "id": "98a6041e-21c3-419d-bcb8-05edec6e3e4f",
   "metadata": {},
   "outputs": [
    {
     "data": {
      "text/plain": [
       "['HYD', 'BENGULURU', 'MUMBAI', 'PUNE']"
      ]
     },
     "execution_count": 36,
     "metadata": {},
     "output_type": "execute_result"
    }
   ],
   "source": [
    "list(map(lambda i : i.upper(),input))"
   ]
  },
  {
   "cell_type": "code",
   "execution_count": 44,
   "id": "ca3486fb-b1b9-4acc-9799-6ac2f0de5356",
   "metadata": {},
   "outputs": [
    {
     "data": {
      "text/plain": [
       "[0, 1, 2, 3]"
      ]
     },
     "execution_count": 44,
     "metadata": {},
     "output_type": "execute_result"
    }
   ],
   "source": [
    "list(map(lambda i : input.index(i),input))"
   ]
  },
  {
   "cell_type": "code",
   "execution_count": 53,
   "id": "d73e0732-aac1-42d5-aa25-fa3e63dc5845",
   "metadata": {},
   "outputs": [
    {
     "data": {
      "text/plain": [
       "['Hyd', 'Benguluru', 'Mumbai', 'Pune']"
      ]
     },
     "execution_count": 53,
     "metadata": {},
     "output_type": "execute_result"
    }
   ],
   "source": [
    "input='hyd benguluru mumbai pune'\n",
    "d=list(map(lambda i : i.capitalize(),input.split()))\n",
    "d"
   ]
  },
  {
   "cell_type": "code",
   "execution_count": 59,
   "id": "233d8a94-1910-4ab0-a350-cf6257e04616",
   "metadata": {},
   "outputs": [
    {
     "data": {
      "text/plain": [
       "[False, True, False, True]"
      ]
     },
     "execution_count": 59,
     "metadata": {},
     "output_type": "execute_result"
    }
   ],
   "source": [
    "input=['hyd','ben#guluru','mumbai','pu#ne']\n",
    "d=list(map(lambda i : \"#\" in i,input))\n",
    "d"
   ]
  },
  {
   "cell_type": "code",
   "execution_count": 62,
   "id": "cc92fe0f-de0e-4d9d-9125-f22d2984ce35",
   "metadata": {},
   "outputs": [
    {
     "data": {
      "text/plain": [
       "[False, True, False, True]"
      ]
     },
     "execution_count": 62,
     "metadata": {},
     "output_type": "execute_result"
    }
   ],
   "source": [
    "# lambda arg : condition, iterator\n",
    "input=['hyd','ben#guluru','mumbai','pu#ne']\n",
    "list(map(lambda i : '#' in i,input))"
   ]
  },
  {
   "cell_type": "markdown",
   "id": "96602edc-c7fa-4f3d-8415-eaf90a6cec66",
   "metadata": {},
   "source": [
    "**filter**\n",
    "\n",
    "- filter is apply on lambda functions to retrive the True output\n",
    "- map will just map the function and iterator\n",
    "- when we apply condition map will give True False\n",
    "- filter will use instead of map"
   ]
  },
  {
   "cell_type": "code",
   "execution_count": 64,
   "id": "b10b2e20-21a3-40c7-adb2-567dcf4eff96",
   "metadata": {},
   "outputs": [
    {
     "data": {
      "text/plain": [
       "['hyd', 'mumbai']"
      ]
     },
     "execution_count": 64,
     "metadata": {},
     "output_type": "execute_result"
    }
   ],
   "source": [
    "input=['hyd','ben#guluru','mumbai','pu#ne']\n",
    "list(filter(lambda i : '#' not in i,input))"
   ]
  },
  {
   "cell_type": "code",
   "execution_count": 65,
   "id": "69f11349-a9c2-4b9e-9c8e-e63df1117d1e",
   "metadata": {},
   "outputs": [
    {
     "data": {
      "text/plain": [
       "['ben#guluru', 'pu#ne']"
      ]
     },
     "execution_count": 65,
     "metadata": {},
     "output_type": "execute_result"
    }
   ],
   "source": [
    "input=['hyd','ben#guluru','mumbai','pu#ne']\n",
    "list(filter(lambda i : '#'  in i,input))"
   ]
  },
  {
   "cell_type": "markdown",
   "id": "0e1602c4-0ac9-4376-894b-5d7322767ab6",
   "metadata": {},
   "source": [
    "**reduce**\n",
    "\n",
    "- reduce will helpful to perform math operation using lambda function\n",
    "- it is a method under a package called : **functools**"
   ]
  },
  {
   "cell_type": "code",
   "execution_count": 68,
   "id": "ced61521-e27d-40d9-a1bc-aba9896c2b6b",
   "metadata": {},
   "outputs": [
    {
     "data": {
      "text/plain": [
       "21"
      ]
     },
     "execution_count": 68,
     "metadata": {},
     "output_type": "execute_result"
    }
   ],
   "source": [
    "list1=[1,2,3,4,5,6]\n",
    "sum(list1)\n"
   ]
  },
  {
   "cell_type": "code",
   "execution_count": 69,
   "id": "7014ed7e-e191-49b0-9d47-fa5bc5b625d4",
   "metadata": {},
   "outputs": [
    {
     "name": "stdout",
     "output_type": "stream",
     "text": [
      "21\n"
     ]
    }
   ],
   "source": [
    "list1=[1,2,3,4,5,6]\n",
    "\n",
    "sum=0\n",
    "for i in list1:\n",
    "    sum=sum+i\n",
    "\n",
    "print(sum)\n",
    "\n",
    "\n",
    "\n",
    "\n",
    "\n",
    "########################################\n",
    "\n",
    "sum=0\n"
   ]
  },
  {
   "cell_type": "code",
   "execution_count": null,
   "id": "33ffb6ed-2e46-4461-9fe8-87d547508912",
   "metadata": {},
   "outputs": [],
   "source": [
    "import  functools\n",
    "functools.reduce()\n",
    "#######################\n",
    "from functools import reduce\n",
    "#################################\n",
    "import functools as ft\n",
    "ft.reduce()"
   ]
  },
  {
   "cell_type": "code",
   "execution_count": 75,
   "id": "8e2d588e-7135-4167-91e9-51ea45c92531",
   "metadata": {},
   "outputs": [
    {
     "data": {
      "text/plain": [
       "21"
      ]
     },
     "execution_count": 75,
     "metadata": {},
     "output_type": "execute_result"
    }
   ],
   "source": [
    "from functools import reduce\n",
    "lambda sum,i:sum+i\n",
    "lambda sum,i: sum+i,list1\n",
    "reduce(lambda sum,i : sum+i, list1)\n",
    "\n",
    "# by dfault sum=0"
   ]
  },
  {
   "cell_type": "code",
   "execution_count": 74,
   "id": "e2e1abf0-258b-477b-b147-45d72b32e59b",
   "metadata": {},
   "outputs": [
    {
     "data": {
      "text/plain": [
       "<function __main__.<lambda>(sum, i)>"
      ]
     },
     "execution_count": 74,
     "metadata": {},
     "output_type": "execute_result"
    }
   ],
   "source": [
    "from functools import reduce\n",
    "lambda sum,i:sum+i\n"
   ]
  },
  {
   "cell_type": "code",
   "execution_count": 71,
   "id": "23abc8a7-9d1e-4879-8f10-70077e812862",
   "metadata": {},
   "outputs": [
    {
     "data": {
      "text/plain": [
       "(<function __main__.<lambda>(sum, i)>, [1, 2, 3, 4, 5, 6])"
      ]
     },
     "execution_count": 71,
     "metadata": {},
     "output_type": "execute_result"
    }
   ],
   "source": [
    "lambda sum,i: sum+i,list1"
   ]
  },
  {
   "cell_type": "code",
   "execution_count": 72,
   "id": "72603c23-3097-479c-8f33-f64066156f5f",
   "metadata": {},
   "outputs": [
    {
     "data": {
      "text/plain": [
       "21"
      ]
     },
     "execution_count": 72,
     "metadata": {},
     "output_type": "execute_result"
    }
   ],
   "source": [
    "reduce(lambda sum,i : sum+i, list1)"
   ]
  },
  {
   "cell_type": "code",
   "execution_count": null,
   "id": "433be0fd-0353-4bc7-b6a5-6c62a10bf554",
   "metadata": {},
   "outputs": [],
   "source": [
    "from functools import reduce\n",
    "lambda sum,i:sum+i\n",
    "lambda sum,i: sum+i,list1 # by default 0\n",
    "reduce(lambda sum,i : sum+i, list1,200\n"
   ]
  }
 ],
 "metadata": {
  "kernelspec": {
   "display_name": "Python 3 (ipykernel)",
   "language": "python",
   "name": "python3"
  },
  "language_info": {
   "codemirror_mode": {
    "name": "ipython",
    "version": 3
   },
   "file_extension": ".py",
   "mimetype": "text/x-python",
   "name": "python",
   "nbconvert_exporter": "python",
   "pygments_lexer": "ipython3",
   "version": "3.12.7"
  }
 },
 "nbformat": 4,
 "nbformat_minor": 5
}
